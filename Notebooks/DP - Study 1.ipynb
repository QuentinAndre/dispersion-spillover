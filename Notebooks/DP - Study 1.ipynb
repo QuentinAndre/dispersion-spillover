{
 "cells": [
  {
   "cell_type": "markdown",
   "metadata": {},
   "source": [
    "This notebook pre-processes the data of Study 1 of the paper.\n",
    "\n",
    "Click the \"Show Code\" buttons to see the code associated with each output."
   ]
  },
  {
   "cell_type": "code",
   "execution_count": 1,
   "metadata": {},
   "outputs": [],
   "source": [
    "import pandas as pd\n",
    "import numpy as np\n",
    "import janitor\n",
    "from datetime import datetime\n",
    "import pytz\n",
    "\n",
    "STUDY_NAME = \"Study 1\"\n",
    "\n",
    "def cet_to_utc(dt):\n",
    "    local_tz = pytz.timezone('CET')\n",
    "    target_tz = pytz.timezone('UTC')\n",
    "    dt = datetime.strptime(dt, \"%d/%m/%Y %H:%M\")\n",
    "    return target_tz.normalize(local_tz.localize(dt))\n",
    "\n",
    "def print_collection_information(df):\n",
    "    starttime = df.sort_values(\"StartDate\").StartDate.iloc[0]\n",
    "    endtime = df.sort_values(\"EndDate\").EndDate.iloc[-1]\n",
    "    startstring = cet_to_utc(starttime).strftime(\"%B %d, %Y at %H:%M %p\")\n",
    "    endstring = cet_to_utc(endtime).strftime(\"%B %d, %Y at %H:%M %p\")\n",
    "    return f\"{STUDY_NAME} was started on {startstring} and ended on {endstring}.\"\n",
    "\n",
    "df = pd.read_csv(f\"../Data/{STUDY_NAME}/RawData.csv\")"
   ]
  },
  {
   "cell_type": "markdown",
   "metadata": {},
   "source": [
    "Data collection information:"
   ]
  },
  {
   "cell_type": "code",
   "execution_count": 2,
   "metadata": {},
   "outputs": [
    {
     "data": {
      "text/plain": [
       "'Study 1 was started on March 13, 2019 at 20:45 PM and ended on March 14, 2019 at 01:01 AM.'"
      ]
     },
     "execution_count": 2,
     "metadata": {},
     "output_type": "execute_result"
    }
   ],
   "source": [
    "print_collection_information(df)"
   ]
  },
  {
   "cell_type": "markdown",
   "metadata": {},
   "source": [
    "Number of participants in raw Qualtrics Export:"
   ]
  },
  {
   "cell_type": "code",
   "execution_count": 3,
   "metadata": {},
   "outputs": [
    {
     "data": {
      "text/plain": [
       "300"
      ]
     },
     "execution_count": 3,
     "metadata": {},
     "output_type": "execute_result"
    }
   ],
   "source": [
    "df.shape[0]"
   ]
  },
  {
   "cell_type": "markdown",
   "metadata": {},
   "source": [
    "Number of valid participants (for which the difference between Maximum and Minimum price is greater than 0):"
   ]
  },
  {
   "cell_type": "code",
   "execution_count": 4,
   "metadata": {},
   "outputs": [
    {
     "data": {
      "text/plain": [
       "293"
      ]
     },
     "execution_count": 4,
     "metadata": {},
     "output_type": "execute_result"
    }
   ],
   "source": [
    "df[\"Range_White\"] = df[\"Priciest_White\"] - df[\"Cheapest_White\"]\n",
    "df[\"Range_Red\"] = df[\"Priciest_Red\"] - df[\"Cheapest_Red\"]\n",
    "\n",
    "df[\"Name_Manipulated\"] = df.condid.map(\n",
    "    {0: \"White\", 1: \"White\", 2: \"White\", 3: \"Red\", 4: \"Red\", 5: \"Red\"}\n",
    ")\n",
    "df[\"SD_Manipulated\"] = df.condid.map(\n",
    "    {0: \"Low\", 1: \"High\", 2: \"Med\", 3: \"Low\", 4: \"High\", 5: \"Med\"}\n",
    ")\n",
    "df[\"SD_Manipulated_Label\"] = df[\"SD_Manipulated\"].map(\n",
    "    {\"Low\": \"Low (SD = 1.1)\", \"Med\": \"Med (SD = 4.5)\", \"High\": \"High (SD = 7.5)\"}\n",
    ")\n",
    "df[\"Valid_Response\"] = (df.Range_Red >= 0) & (df.Range_White >= 0)\n",
    "df[df.Valid_Response == 1].shape[0]"
   ]
  },
  {
   "cell_type": "code",
   "execution_count": 5,
   "metadata": {},
   "outputs": [],
   "source": [
    "# Each participant reported two sets of responses (white and red wine), pivoting the data in long form.\n",
    "df_long = (\n",
    "    pd.wide_to_long(\n",
    "        df,\n",
    "        i=[\n",
    "            \"turkid\",\n",
    "            \"condid\",\n",
    "            \"Name_Manipulated\",\n",
    "            \"SD_Manipulated\",\n",
    "            \"SD_Manipulated_Label\",\n",
    "        ],\n",
    "        stubnames=[\"Priciest\", \"Cheapest\", \"Range\", \"Unpredictable\", \"Inconsistent\"],\n",
    "        j=\"Target\",\n",
    "        sep=\"_\",\n",
    "        suffix=\"(White|Red)\",\n",
    "    )\n",
    "    .reset_index()\n",
    "    .rename_columns(\n",
    "        {\n",
    "            \"Priciest\": \"Memory_Max\",\n",
    "            \"Cheapest\": \"Memory_Min\",\n",
    "            \"Range\": \"Memory_Range\",\n",
    "            \"turkid\": \"TurkID\",\n",
    "        }\n",
    "    )\n",
    ")\n",
    "\n",
    "df_long[\"Unpredictable\"] = (\n",
    "    df_long.Unpredictable - 32\n",
    ")  # Qualtrics quirk: responses were coded from 33...\n",
    "df_long[\"Inconsistent\"] = df_long.Inconsistent - 32\n",
    "df_long[\"Is_Manipulated\"] = df_long.Target == df_long.Name_Manipulated\n",
    "\n",
    "cols = [\n",
    "    \"TurkID\",\n",
    "    \"Name_Manipulated\",\n",
    "    \"SD_Manipulated\",\n",
    "    \"Is_Manipulated\",\n",
    "    \"SD_Manipulated_Label\",\n",
    "    \"Target\",\n",
    "    \"Memory_Max\",\n",
    "    \"Memory_Min\",\n",
    "    \"Memory_Range\",\n",
    "    \"Unpredictable\",\n",
    "    \"Inconsistent\",\n",
    "    \"Valid_Response\",\n",
    "]\n",
    "\n",
    "df_long = df_long[cols].clean_names()\n",
    "df_long.to_csv(f\"../Data/{STUDY_NAME}/LongData.csv\", index=None)"
   ]
  }
 ],
 "metadata": {
  "kernelspec": {
   "display_name": "Python 3",
   "language": "python",
   "name": "python3"
  },
  "language_info": {
   "codemirror_mode": {
    "name": "ipython",
    "version": 3
   },
   "file_extension": ".py",
   "mimetype": "text/x-python",
   "name": "python",
   "nbconvert_exporter": "python",
   "pygments_lexer": "ipython3",
   "version": "3.6.10"
  }
 },
 "nbformat": 4,
 "nbformat_minor": 4
}
