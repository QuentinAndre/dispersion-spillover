{
 "cells": [
  {
   "cell_type": "markdown",
   "metadata": {},
   "source": [
    "This notebook presents all the analysis reported in Study 4 of the paper.\n",
    "\n",
    "Click the \"Show Code\" buttons to see the code associated with each output."
   ]
  },
  {
   "cell_type": "markdown",
   "metadata": {},
   "source": [
    "# Preamble"
   ]
  },
  {
   "cell_type": "markdown",
   "metadata": {},
   "source": [
    "## Imports"
   ]
  },
  {
   "cell_type": "code",
   "execution_count": 1,
   "metadata": {
    "pycharm": {
     "is_executing": false
    }
   },
   "outputs": [],
   "source": [
    "# Misc\n",
    "import warnings\n",
    "\n",
    "warnings.filterwarnings(\"ignore\")\n",
    "from IPython.display import Markdown\n",
    "\n",
    "# Data libraries\n",
    "import pandas as pd\n",
    "import numpy as np\n",
    "\n",
    "# Plotting\n",
    "import matplotlib as mpl\n",
    "import matplotlib.pyplot as plt\n",
    "from matplotlib.patches import Patch\n",
    "from matplotlib.lines import Line2D\n",
    "import seaborn as sns\n",
    "\n",
    "sns.set_context(\"notebook\")\n",
    "\n",
    "# Statistics\n",
    "import statsmodels.formula.api as smf\n",
    "import scipy.stats as stats\n",
    "from scipy.stats.mstats import zscore\n",
    "from statsmodels.stats.proportion import proportions_chisquare\n",
    "\n",
    "STUDY_NAME = \"Study 4\""
   ]
  },
  {
   "cell_type": "markdown",
   "metadata": {},
   "source": [
    "## Functions"
   ]
  },
  {
   "cell_type": "code",
   "execution_count": 2,
   "metadata": {
    "pycharm": {
     "is_executing": false
    }
   },
   "outputs": [],
   "source": [
    "def plot_design(save=False, show=True, grayscale=False, figname=f\"{STUDY_NAME} - Design\"):\n",
    "    # fmt: off\n",
    "    prices_low_dispersion = np.array([240,260,260,280,280,280,300,300,300,\n",
    "                                      300,320,320,320,320,320,340,340,340,\n",
    "                                      340,360,360,360,380,380,400])   \n",
    "    prices_high_dispersion = np.array([140,160,180,200,220,240,260,280,280,\n",
    "                                       300,300,320,320,320,340,340,360,360,\n",
    "                                       380,400,420,440,460,480,500])\n",
    "    # fmt: on\n",
    "\n",
    "    if grayscale:\n",
    "        pal = sns.color_palette(\"Greys\")[2::3]\n",
    "        pathname = \"Grayscale\"\n",
    "    else:\n",
    "        pal = sns.color_palette()[0:2]\n",
    "        pathname = \"Color\"\n",
    "\n",
    "    if show:\n",
    "        sns.set_context(\"notebook\")\n",
    "    else:\n",
    "        sns.set_context(\"paper\")\n",
    "\n",
    "    sns.set_style(\"ticks\")\n",
    "    fig, ax = plt.subplots(1, figsize=(6.38, 4))\n",
    "    ax.hist(\n",
    "        prices_low_dispersion,\n",
    "        bins=np.arange(120, 530, 20),\n",
    "        histtype=\"bar\",\n",
    "        label=\"Equal dispersion\",\n",
    "        lw=0,\n",
    "        align=\"left\",\n",
    "        rwidth=0.7,\n",
    "        color=pal[0],\n",
    "    )\n",
    "    ax.hist(\n",
    "        prices_high_dispersion,\n",
    "        bins=np.arange(120, 530, 20),\n",
    "        histtype=\"bar\",\n",
    "        label=\"Higher dispersion\",\n",
    "        lw=0,\n",
    "        align=\"left\",\n",
    "        rwidth=0.3,\n",
    "        color=pal[1],\n",
    "    )\n",
    "    sns.despine()\n",
    "    ax.set_xlabel(\"Price Tag\")\n",
    "    ax.set_ylabel(\"Number of Flights Shown\")\n",
    "    ax.set_xticks(np.arange(120, 540, 40))\n",
    "    ax.set_xticklabels(np.arange(120, 540, 40))\n",
    "\n",
    "    ax.set_xticklabels([f\"${x}\" for x in np.arange(120, 540, 40)])\n",
    "\n",
    "    plt.legend(frameon=False)\n",
    "    sns.despine()\n",
    "    plt.tight_layout()\n",
    "\n",
    "    if save:\n",
    "        plt.savefig(\n",
    "            f\"../Figures/{pathname}/{figname}.png\", dpi=100, bbox_inches=\"tight\"\n",
    "        )\n",
    "    if show:\n",
    "        plt.show()\n",
    "    else:\n",
    "        plt.close()\n",
    "\n",
    "\n",
    "def plot_minprice_cdf(\n",
    "    data,\n",
    "    save=False,\n",
    "    show=True,\n",
    "    grayscale=False,\n",
    "    figname=f\"Fig 5 - {STUDY_NAME} - CDF Min Price\",\n",
    "):\n",
    "    if grayscale:\n",
    "        pal = sns.color_palette(\"Greys\")[2::3]\n",
    "        pathname = \"Grayscale\"\n",
    "    else:\n",
    "        pal = sns.color_palette()[0:2]\n",
    "        pathname = \"Color\"\n",
    "\n",
    "    if show:\n",
    "        sns.set_context(\"notebook\")\n",
    "    else:\n",
    "        sns.set_context(\"paper\")\n",
    "\n",
    "    sns.set_style(\"ticks\")\n",
    "    kw = {\"color\": [pal[0], pal[1]]}\n",
    "    g = sns.FacetGrid(\n",
    "        hue=\"condition\",\n",
    "        data=data,\n",
    "        aspect=1.5,\n",
    "        height=6.38 / 1.5,\n",
    "        hue_kws=kw,\n",
    "        hue_order=[\"Equal dispersion\", \"Higher dispersion\"],\n",
    "    )\n",
    "    g.map(\n",
    "        plt.hist,\n",
    "        \"memory_min\",\n",
    "        histtype=\"step\",\n",
    "        align=\"mid\",\n",
    "        cumulative=True,\n",
    "        density=True,\n",
    "        bins=np.arange(0, 600, 10),\n",
    "        lw=2,\n",
    "    )\n",
    "    g.set_xlabels(\"Cheapest Flight Reported\")\n",
    "    g.set_ylabels(\"Cumulative Proportion of Participants\")\n",
    "\n",
    "    g.ax.axvline(240, lw=1, color=\"grey\", ls=\"-\")\n",
    "    g.ax.axvline(240, lw=1, color=pal[0], ls=\"--\")\n",
    "    g.ax.axvline(140, lw=1, color=pal[1], ls=\"--\")\n",
    "    g.ax.set_ylim(0, 1.1)\n",
    "    g.ax.set_xlim(0, 500)\n",
    "    g.ax.set_xticks(np.arange(0, 520, 40))\n",
    "    g.ax.set_xticklabels([f\"${i}\" for i in np.arange(0, 520, 40)])\n",
    "\n",
    "    legend_elements = [\n",
    "        Line2D([0], [0], color=\"grey\", ls=\"--\", lw=2, label=f\"True Min of Manipulated\"),\n",
    "        Line2D([0], [0], color=pal[0], lw=4, label=\"Equal (SD = 40)\"),\n",
    "        Line2D([0], [0], color=\"grey\", ls=\"-\", lw=1, label=f\"True Min of Common\"),\n",
    "        Line2D([0], [0], color=pal[1], lw=4, label=\"Higher (SD = 90)\"),\n",
    "    ]\n",
    "\n",
    "    g.ax.legend(\n",
    "        handles=legend_elements,\n",
    "        loc=\"center\",\n",
    "        ncol=2,\n",
    "        frameon=True,\n",
    "        bbox_to_anchor=(0.5, -0.25),\n",
    "    )\n",
    "    if save:\n",
    "        plt.savefig(\n",
    "            f\"../Figures/{pathname}/{figname}.png\", dpi=100, bbox_inches=\"tight\"\n",
    "        )\n",
    "    if show:\n",
    "        plt.show()\n",
    "    else:\n",
    "        plt.close()\n",
    "\n",
    "\n",
    "def plot_lta_offer(\n",
    "    data,\n",
    "    save=False,\n",
    "    show=True,\n",
    "    grayscale=False,\n",
    "    figname=f\"Fig 6 - {STUDY_NAME} - Likelihood To Accept\",\n",
    "):\n",
    "    if grayscale:\n",
    "        pal = sns.color_palette(\"Greys\")[2::3]\n",
    "        pathname = \"Grayscale\"\n",
    "    else:\n",
    "        pal = sns.color_palette()[0:2]\n",
    "        pathname = \"Color\"\n",
    "\n",
    "    if show:\n",
    "        sns.set_context(\"notebook\")\n",
    "    else:\n",
    "        sns.set_context(\"paper\")\n",
    "\n",
    "    g = sns.catplot(\n",
    "        x=\"offer\",\n",
    "        y=\"LTA\",\n",
    "        hue=\"condition\",\n",
    "        data=data,\n",
    "        kind=\"point\",\n",
    "        units=\"turkid\",\n",
    "        order=[280, 260, 240, 220, 200],\n",
    "        legend=False,\n",
    "        height=6.38 / 1.5,\n",
    "        aspect=1.5,\n",
    "        markers=[\"o\", \"x\"],\n",
    "        linestyles=[\"-\", \"--\"],\n",
    "        hue_order=[\"Equal dispersion\", \"Higher dispersion\"],\n",
    "        palette=pal,\n",
    "    )\n",
    "    g.set_ylabels(\"Stated Likelihood to Accept (-3 to +3)\")\n",
    "    g.ax.set_xticklabels([\"$280\", \"$260\", \"$240\\n(True Min.)\", \"$220\", \"$200\"])\n",
    "    g.ax.set_xlabel(\"\\nPrice Offered\")\n",
    "    g.ax.legend(\n",
    "        title=\"Manipulated category had...\",\n",
    "        bbox_to_anchor=(0.22, 0.96),\n",
    "        loc=\"upper center\",\n",
    "        frameon=False,\n",
    "    )\n",
    "    if save:\n",
    "        plt.savefig(\n",
    "            f\"../Figures/{pathname}/{figname}.png\", dpi=100, bbox_inches=\"tight\"\n",
    "        )\n",
    "    if show:\n",
    "        plt.show()\n",
    "    else:\n",
    "        plt.close()\n",
    "\n",
    "\n",
    "def format_pvals(p):\n",
    "    if p < 0.001:\n",
    "        return \"p < .001\"\n",
    "    else:\n",
    "        return f\"p = {p:.3f}\""
   ]
  },
  {
   "cell_type": "markdown",
   "metadata": {},
   "source": [
    "## Data processing"
   ]
  },
  {
   "cell_type": "code",
   "execution_count": 3,
   "metadata": {
    "pycharm": {
     "is_executing": false
    }
   },
   "outputs": [],
   "source": [
    "df = pd.read_csv(f\"../Data/{STUDY_NAME}/CleanData.csv\")\n",
    "df_long = pd.read_csv(f\"../Data/{STUDY_NAME}/LongData.csv\")"
   ]
  },
  {
   "cell_type": "markdown",
   "metadata": {},
   "source": [
    "# Design"
   ]
  },
  {
   "cell_type": "markdown",
   "metadata": {},
   "source": [
    "## Characteristics and distributions"
   ]
  },
  {
   "cell_type": "markdown",
   "metadata": {},
   "source": [
    "We present participants with prices for two different types of flights:\n",
    "* Flights to Colorado\n",
    "* Flights to Florida\n",
    "\n",
    "As in previous studies, we show 25 flights of each type, presented in a random order, for 1.2 seconds each.\n",
    "\n",
    "We manipulate between-subjects the variance of the distributions:\n",
    "* For half of the participants, the two types of flights have the same, small amount of price variance.\n",
    "* For the other half, one type of flights has a large amount of price variance and the other has a small amount of price variance.\n",
    "\n",
    "When the two distributions do not have the same amount of price variance, we counterbalance the \"high price variance\" distribution to be assigned to the \"Colorado\" or \"Florida\" flights."
   ]
  },
  {
   "cell_type": "code",
   "execution_count": 4,
   "metadata": {
    "pycharm": {
     "is_executing": false
    }
   },
   "outputs": [
    {
     "data": {
      "image/png": "[encoded data removed]",
      "text/plain": [
       "<Figure size 459.36x288 with 1 Axes>"
      ]
     },
     "metadata": {},
     "output_type": "display_data"
    }
   ],
   "source": [
    "plot_design(save=False)"
   ]
  },
  {
   "cell_type": "markdown",
   "metadata": {
    "toc-hr-collapsed": false
   },
   "source": [
    "# Dependent Variables and Analysis"
   ]
  },
  {
   "cell_type": "markdown",
   "metadata": {},
   "source": [
    "After they learn the distribution of prices, we instruct participants to focus on the prices of one type of flight (e.g. \"flights to Florida\") and to ignore the others (e.g. \"flights to Colorado\").\n",
    "* If the participant saw two distributions with an equal amount of price variance, the distribution to ignore is chosen at random.\n",
    "* If the participant saw two distributions with a different amount of price variance, the distribution to ignore is the one that had a large amount of price variance.\n",
    "\n",
    "As such, regardless of the experimental condition they were assigned to, all the participants have to answer questions about a distribution that had a small amount of price variance. Normatively, the responses that they give should not differ between conditions: any significant deviation would be explained by an extraneous influence of the other distribution that they concurrently learned."
   ]
  },
  {
   "cell_type": "markdown",
   "metadata": {},
   "source": [
    "## Perception of the minimum value"
   ]
  },
  {
   "cell_type": "markdown",
   "metadata": {},
   "source": [
    "We first ask participants to report the minimum value that they saw."
   ]
  },
  {
   "cell_type": "code",
   "execution_count": 5,
   "metadata": {
    "pycharm": {
     "is_executing": false
    }
   },
   "outputs": [
    {
     "data": {
      "image/png": "[encoded data removed]",
      "text/plain": [
       "<Figure size 459.36x306.24 with 1 Axes>"
      ]
     },
     "metadata": {},
     "output_type": "display_data"
    }
   ],
   "source": [
    "plot_minprice_cdf(df, grayscale=True, save=True, show=False)\n",
    "plot_minprice_cdf(df, save=True)"
   ]
  },
  {
   "cell_type": "code",
   "execution_count": 6,
   "metadata": {
    "pycharm": {
     "is_executing": false
    }
   },
   "outputs": [
    {
     "data": {
      "text/html": [
       "<table class=\"simpletable\">\n",
       "<caption>OLS Regression Results</caption>\n",
       "<tr>\n",
       "  <th>Dep. Variable:</th>    <td>Reported Min. Price</td> <th>  R-squared:         </th> <td>   0.145</td>\n",
       "</tr>\n",
       "<tr>\n",
       "  <th>Model:</th>                    <td>OLS</td>         <th>  Adj. R-squared:    </th> <td>   0.142</td>\n",
       "</tr>\n",
       "<tr>\n",
       "  <th>Method:</th>              <td>Least Squares</td>    <th>  F-statistic:       </th> <td>   50.81</td>\n",
       "</tr>\n",
       "<tr>\n",
       "  <th>Date:</th>              <td>Tue, 05 May 2020</td>   <th>  Prob (F-statistic):</th> <td>7.66e-12</td>\n",
       "</tr>\n",
       "<tr>\n",
       "  <th>Time:</th>                  <td>14:40:19</td>       <th>  Log-Likelihood:    </th> <td> -1593.4</td>\n",
       "</tr>\n",
       "<tr>\n",
       "  <th>No. Observations:</th>       <td>   301</td>        <th>  AIC:               </th> <td>   3191.</td>\n",
       "</tr>\n",
       "<tr>\n",
       "  <th>Df Residuals:</th>           <td>   299</td>        <th>  BIC:               </th> <td>   3198.</td>\n",
       "</tr>\n",
       "<tr>\n",
       "  <th>Df Model:</th>               <td>     1</td>        <th>                     </th>     <td> </td>   \n",
       "</tr>\n",
       "<tr>\n",
       "  <th>Covariance Type:</th>       <td>nonrobust</td>      <th>                     </th>     <td> </td>   \n",
       "</tr>\n",
       "</table>\n",
       "<table class=\"simpletable\">\n",
       "<tr>\n",
       "          <td></td>             <th>coef</th>     <th>std err</th>      <th>t</th>      <th>P>|t|</th>  <th>[0.025</th>    <th>0.975]</th>  \n",
       "</tr>\n",
       "<tr>\n",
       "  <th>Intercept</th>         <td>  250.3800</td> <td>    3.946</td> <td>   63.445</td> <td> 0.000</td> <td>  242.614</td> <td>  258.146</td>\n",
       "</tr>\n",
       "<tr>\n",
       "  <th>Higher dispersion</th> <td>  -39.7177</td> <td>    5.572</td> <td>   -7.128</td> <td> 0.000</td> <td>  -50.683</td> <td>  -28.753</td>\n",
       "</tr>\n",
       "</table>\n",
       "<table class=\"simpletable\">\n",
       "<tr>\n",
       "  <th>Omnibus:</th>       <td>36.845</td> <th>  Durbin-Watson:     </th> <td>   1.800</td>\n",
       "</tr>\n",
       "<tr>\n",
       "  <th>Prob(Omnibus):</th> <td> 0.000</td> <th>  Jarque-Bera (JB):  </th> <td> 234.581</td>\n",
       "</tr>\n",
       "<tr>\n",
       "  <th>Skew:</th>          <td> 0.092</td> <th>  Prob(JB):          </th> <td>1.15e-51</td>\n",
       "</tr>\n",
       "<tr>\n",
       "  <th>Kurtosis:</th>      <td> 7.321</td> <th>  Cond. No.          </th> <td>    2.62</td>\n",
       "</tr>\n",
       "</table><br/><br/>Warnings:<br/>[1] Standard Errors assume that the covariance matrix of the errors is correctly specified."
      ],
      "text/plain": [
       "<class 'statsmodels.iolib.summary.Summary'>\n",
       "\"\"\"\n",
       "                             OLS Regression Results                            \n",
       "===============================================================================\n",
       "Dep. Variable:     Reported Min. Price   R-squared:                       0.145\n",
       "Model:                             OLS   Adj. R-squared:                  0.142\n",
       "Method:                  Least Squares   F-statistic:                     50.81\n",
       "Date:                 Tue, 05 May 2020   Prob (F-statistic):           7.66e-12\n",
       "Time:                         14:40:19   Log-Likelihood:                -1593.4\n",
       "No. Observations:                  301   AIC:                             3191.\n",
       "Df Residuals:                      299   BIC:                             3198.\n",
       "Df Model:                            1                                         \n",
       "Covariance Type:             nonrobust                                         \n",
       "=====================================================================================\n",
       "                        coef    std err          t      P>|t|      [0.025      0.975]\n",
       "-------------------------------------------------------------------------------------\n",
       "Intercept           250.3800      3.946     63.445      0.000     242.614     258.146\n",
       "Higher dispersion   -39.7177      5.572     -7.128      0.000     -50.683     -28.753\n",
       "==============================================================================\n",
       "Omnibus:                       36.845   Durbin-Watson:                   1.800\n",
       "Prob(Omnibus):                  0.000   Jarque-Bera (JB):              234.581\n",
       "Skew:                           0.092   Prob(JB):                     1.15e-51\n",
       "Kurtosis:                       7.321   Cond. No.                         2.62\n",
       "==============================================================================\n",
       "\n",
       "Warnings:\n",
       "[1] Standard Errors assume that the covariance matrix of the errors is correctly specified.\n",
       "\"\"\""
      ]
     },
     "execution_count": 6,
     "metadata": {},
     "output_type": "execute_result"
    }
   ],
   "source": [
    "results = smf.ols(\"memory_min ~ condition\", data=df).fit()\n",
    "results.summary(yname=\"Reported Min. Price\", xname=[\"Intercept\", \"Higher dispersion\"])"
   ]
  },
  {
   "cell_type": "markdown",
   "metadata": {},
   "source": [
    "Standardized betas:"
   ]
  },
  {
   "cell_type": "code",
   "execution_count": 7,
   "metadata": {
    "pycharm": {
     "is_executing": false
    }
   },
   "outputs": [
    {
     "data": {
      "text/html": [
       "<style  type=\"text/css\" >\n",
       "</style><table id=\"T_944ad5da_8ecd_11ea_b600_448a5b2f88e1\" ><thead>    <tr>        <th class=\"blank level0\" ></th>        <th class=\"col_heading level0 col0\" >Standardized Betas</th>    </tr></thead><tbody>\n",
       "                <tr>\n",
       "                        <th id=\"T_944ad5da_8ecd_11ea_b600_448a5b2f88e1level0_row0\" class=\"row_heading level0 row0\" >Intercept</th>\n",
       "                        <td id=\"T_944ad5da_8ecd_11ea_b600_448a5b2f88e1row0_col0\" class=\"data row0 col0\" >4.80</td>\n",
       "            </tr>\n",
       "            <tr>\n",
       "                        <th id=\"T_944ad5da_8ecd_11ea_b600_448a5b2f88e1level0_row1\" class=\"row_heading level0 row1\" >Higher dispersion</th>\n",
       "                        <td id=\"T_944ad5da_8ecd_11ea_b600_448a5b2f88e1row1_col0\" class=\"data row1 col0\" >-0.76</td>\n",
       "            </tr>\n",
       "    </tbody></table>"
      ],
      "text/plain": [
       "<pandas.io.formats.style.Styler at 0x215b1787470>"
      ]
     },
     "execution_count": 7,
     "metadata": {},
     "output_type": "execute_result"
    }
   ],
   "source": [
    "stdbetas = results.params / df.memory_min.std(ddof=1)\n",
    "stdbetas.index = [\"Intercept\", \"Higher dispersion\"]\n",
    "table = pd.DataFrame(stdbetas, columns=[\"Standardized Betas\"])\n",
    "table.style.format(\"{:.2f}\")"
   ]
  },
  {
   "cell_type": "markdown",
   "metadata": {},
   "source": [
    "## Proportion of responses below true min"
   ]
  },
  {
   "cell_type": "markdown",
   "metadata": {},
   "source": [
    "Looking at the CDF of responses, we find a very different pattern between conditions:\n",
    "* In the \"Equal dispersion\" condition, the likelihood of reporting a price below the true minimum price ($240) is extremely low.\n",
    "* In the \"Higher dispersion\" condition, this likelihood is significantly higher, and only drops at the true minimum price of the other distribution."
   ]
  },
  {
   "cell_type": "code",
   "execution_count": 8,
   "metadata": {
    "pycharm": {
     "is_executing": false
    }
   },
   "outputs": [
    {
     "data": {
      "text/markdown": [
       "Proportion below actual min: 10% vs. 58%: $\\chi$(1) = 77.92, p < .001; \n"
      ],
      "text/plain": [
       "<IPython.core.display.Markdown object>"
      ]
     },
     "execution_count": 8,
     "metadata": {},
     "output_type": "execute_result"
    }
   ],
   "source": [
    "nobs = df.groupby(\"condition\").below_true_min.count()\n",
    "nsuc = df.groupby(\"condition\").below_true_min.sum()\n",
    "props = nsuc / nobs * 100\n",
    "chi, p = proportions_chisquare(nsuc[[0, 1]], nobs[[0, 1]])[0:2]\n",
    "Markdown(\n",
    "    f\"\"\"Proportion below actual min: {props[0]:.0f}% vs. {props[1]:.0f}%: $\\chi$(1) = {chi:.2f}, {format_pvals(p)}; \n",
    "\"\"\"\n",
    ")"
   ]
  },
  {
   "cell_type": "markdown",
   "metadata": {},
   "source": [
    "## Likelihood to accept offers"
   ]
  },
  {
   "cell_type": "markdown",
   "metadata": {},
   "source": [
    "After asking this question, we investigate the downstream consequences of those perceptions on consumers' likelihood to search for a better price.\n",
    "\n",
    "We asked respondents to imagine seeing a flight costing \\\\$280, and to indicate their likelihood to accept this price on a scale from -3 (definitely search for a better price) to +3 (definitely accept the deal). \n",
    "\n",
    "We repeated this question for four other prices: \\\\$260, \\\\$240 (the true minimum price), \\\\$220 and \\\\$200."
   ]
  },
  {
   "cell_type": "code",
   "execution_count": 9,
   "metadata": {
    "pycharm": {
     "is_executing": false
    }
   },
   "outputs": [
    {
     "data": {
      "image/png": "[encoded data removed]",
      "text/plain": [
       "<Figure size 459.36x306.24 with 1 Axes>"
      ]
     },
     "metadata": {},
     "output_type": "display_data"
    }
   ],
   "source": [
    "plot_lta_offer(df_long, save=True, grayscale=True, show=False)\n",
    "plot_lta_offer(df_long, save=True, show=True)"
   ]
  },
  {
   "cell_type": "markdown",
   "metadata": {},
   "source": [
    "This reveals a significant impact of the variance of the other distribution: across the board, participants are more likely to accept the offer when they concurrently learned another distribution that had more extreme prices."
   ]
  },
  {
   "cell_type": "code",
   "execution_count": 10,
   "metadata": {
    "pycharm": {
     "is_executing": false
    }
   },
   "outputs": [
    {
     "data": {
      "text/html": [
       "<table class=\"simpletable\">\n",
       "<tr>\n",
       "       <td>Model:</td>       <td>MixedLM</td> <td>Dependent Variable:</td> <td>Likelihood to Accept</td>\n",
       "</tr>\n",
       "<tr>\n",
       "  <td>No. Observations:</td>  <td>1505</td>         <td>Method:</td>               <td>REML</td>        \n",
       "</tr>\n",
       "<tr>\n",
       "     <td>No. Groups:</td>      <td>301</td>         <td>Scale:</td>               <td>1.1738</td>       \n",
       "</tr>\n",
       "<tr>\n",
       "  <td>Min. group size:</td>     <td>5</td>      <td>Log-Likelihood:</td>        <td>-2575.6218</td>     \n",
       "</tr>\n",
       "<tr>\n",
       "  <td>Max. group size:</td>     <td>5</td>        <td>Converged:</td>               <td>Yes</td>        \n",
       "</tr>\n",
       "<tr>\n",
       "  <td>Mean group size:</td>    <td>5.0</td>            <td></td>                     <td></td>          \n",
       "</tr>\n",
       "</table>\n",
       "<table class=\"simpletable\">\n",
       "<tr>\n",
       "                     <td></td>                     <th>Coef.</th> <th>Std.Err.</th>    <th>z</th>   <th>P>|z|</th> <th>[0.025</th> <th>0.975]</th>\n",
       "</tr>\n",
       "<tr>\n",
       "  <th>Intercept</th>                               <td>1.876</td>   <td>0.114</td>  <td>16.485</td> <td>0.000</td>  <td>1.653</td>  <td>2.099</td>\n",
       "</tr>\n",
       "<tr>\n",
       "  <th>Condition: More variance (dummy-coded)</th> <td>-0.912</td>   <td>0.161</td>  <td>-5.675</td> <td>0.000</td> <td>-1.227</td> <td>-0.597</td>\n",
       "</tr>\n",
       "<tr>\n",
       "  <th>Participants Random Effect</th>              <td>1.708</td>   <td>0.164</td>     <td></td>      <td></td>       <td></td>       <td></td>   \n",
       "</tr>\n",
       "</table>"
      ],
      "text/plain": [
       "<class 'statsmodels.iolib.summary2.Summary'>\n",
       "\"\"\"\n",
       "                      Mixed Linear Model Regression Results\n",
       "=================================================================================\n",
       "Model:                 MixedLM      Dependent Variable:      Likelihood to Accept\n",
       "No. Observations:      1505         Method:                  REML                \n",
       "No. Groups:            301          Scale:                   1.1738              \n",
       "Min. group size:       5            Log-Likelihood:          -2575.6218          \n",
       "Max. group size:       5            Converged:               Yes                 \n",
       "Mean group size:       5.0                                                       \n",
       "---------------------------------------------------------------------------------\n",
       "                                       Coef.  Std.Err.   z    P>|z| [0.025 0.975]\n",
       "---------------------------------------------------------------------------------\n",
       "Intercept                               1.876    0.114 16.485 0.000  1.653  2.099\n",
       "Condition: More variance (dummy-coded) -0.912    0.161 -5.675 0.000 -1.227 -0.597\n",
       "Participants Random Effect              1.708    0.164                           \n",
       "=================================================================================\n",
       "\n",
       "\"\"\""
      ]
     },
     "execution_count": 10,
     "metadata": {},
     "output_type": "execute_result"
    }
   ],
   "source": [
    "model_lta = smf.mixedlm(\n",
    "    \"LTA ~ C(condition)\", data=df_long, groups=df_long.turkid, eval_env=2\n",
    ").fit()\n",
    "model_lta.summary(\n",
    "    yname=\"Likelihood to Accept\",\n",
    "    xname_fe=[\"Intercept\", \"Condition: More variance (dummy-coded)\"],\n",
    "    xname_re=[\"Participants Random Effect\"],\n",
    ")"
   ]
  },
  {
   "cell_type": "markdown",
   "metadata": {},
   "source": [
    "Standardized betas:"
   ]
  },
  {
   "cell_type": "code",
   "execution_count": 11,
   "metadata": {
    "pycharm": {
     "is_executing": false
    }
   },
   "outputs": [
    {
     "data": {
      "text/html": [
       "<style  type=\"text/css\" >\n",
       "</style><table id=\"T_a1c73d4a_8ecd_11ea_908c_448a5b2f88e1\" ><thead>    <tr>        <th class=\"blank level0\" ></th>        <th class=\"col_heading level0 col0\" >Standardized Betas</th>    </tr></thead><tbody>\n",
       "                <tr>\n",
       "                        <th id=\"T_a1c73d4a_8ecd_11ea_908c_448a5b2f88e1level0_row0\" class=\"row_heading level0 row0\" >Intercept</th>\n",
       "                        <td id=\"T_a1c73d4a_8ecd_11ea_908c_448a5b2f88e1row0_col0\" class=\"data row0 col0\" >1.07</td>\n",
       "            </tr>\n",
       "            <tr>\n",
       "                        <th id=\"T_a1c73d4a_8ecd_11ea_908c_448a5b2f88e1level0_row1\" class=\"row_heading level0 row1\" >Condition: More variance (dummy-coded)</th>\n",
       "                        <td id=\"T_a1c73d4a_8ecd_11ea_908c_448a5b2f88e1row1_col0\" class=\"data row1 col0\" >-0.52</td>\n",
       "            </tr>\n",
       "            <tr>\n",
       "                        <th id=\"T_a1c73d4a_8ecd_11ea_908c_448a5b2f88e1level0_row2\" class=\"row_heading level0 row2\" >Participants Random Effect</th>\n",
       "                        <td id=\"T_a1c73d4a_8ecd_11ea_908c_448a5b2f88e1row2_col0\" class=\"data row2 col0\" >0.83</td>\n",
       "            </tr>\n",
       "    </tbody></table>"
      ],
      "text/plain": [
       "<pandas.io.formats.style.Styler at 0x215b1ff3a58>"
      ]
     },
     "execution_count": 11,
     "metadata": {},
     "output_type": "execute_result"
    }
   ],
   "source": [
    "stdbetas = model_lta.params / df_long.LTA.std(ddof=1)\n",
    "stdbetas.index = [\n",
    "    \"Intercept\",\n",
    "    \"Condition: More variance (dummy-coded)\",\n",
    "    \"Participants Random Effect\",\n",
    "]\n",
    "table = pd.DataFrame(stdbetas, columns=[\"Standardized Betas\"])\n",
    "table.style.format(\"{:.2f}\")"
   ]
  },
  {
   "cell_type": "markdown",
   "metadata": {},
   "source": [
    "We also notice an interaction effect, consistent with participants' perception of the minimum price:\n",
    "* In the \"As much variance\" condition, any decrease below the true minimum price has a small effect on participants' willingness to accept the deal (as the majority of people are already certain to accept the deal)\n",
    "* In the \"More variance\" condition, we do not observe this attenuation (as the offer might not be below the minimum price that they perceive)."
   ]
  },
  {
   "cell_type": "code",
   "execution_count": 12,
   "metadata": {
    "pycharm": {
     "is_executing": false
    }
   },
   "outputs": [
    {
     "data": {
      "text/html": [
       "<table class=\"simpletable\">\n",
       "<tr>\n",
       "       <td>Model:</td>       <td>MixedLM</td> <td>Dependent Variable:</td> <td>Likelihood to Accept</td>\n",
       "</tr>\n",
       "<tr>\n",
       "  <td>No. Observations:</td>  <td>1505</td>         <td>Method:</td>               <td>REML</td>        \n",
       "</tr>\n",
       "<tr>\n",
       "     <td>No. Groups:</td>      <td>301</td>         <td>Scale:</td>               <td>0.6946</td>       \n",
       "</tr>\n",
       "<tr>\n",
       "  <td>Min. group size:</td>     <td>5</td>      <td>Log-Likelihood:</td>        <td>-2267.5572</td>     \n",
       "</tr>\n",
       "<tr>\n",
       "  <td>Max. group size:</td>     <td>5</td>        <td>Converged:</td>               <td>Yes</td>        \n",
       "</tr>\n",
       "<tr>\n",
       "  <td>Mean group size:</td>    <td>5.0</td>            <td></td>                     <td></td>          \n",
       "</tr>\n",
       "</table>\n",
       "<table class=\"simpletable\">\n",
       "<tr>\n",
       "                     <td></td>                      <th>Coef.</th> <th>Std.Err.</th>    <th>z</th>   <th>P>|z|</th> <th>[0.025</th> <th>0.975]</th>\n",
       "</tr>\n",
       "<tr>\n",
       "  <th>Intercept</th>                                <td>0.663</td>   <td>0.126</td>   <td>5.263</td> <td>0.000</td>  <td>0.416</td>  <td>0.910</td>\n",
       "</tr>\n",
       "<tr>\n",
       "  <th>Condition: Higher dispersion</th>            <td>-0.370</td>   <td>0.178</td>  <td>-2.078</td> <td>0.038</td> <td>-0.718</td> <td>-0.021</td>\n",
       "</tr>\n",
       "<tr>\n",
       "  <th>Discount: -$20</th>                           <td>0.790</td>   <td>0.048</td>  <td>16.419</td> <td>0.000</td>  <td>0.696</td>  <td>0.884</td>\n",
       "</tr>\n",
       "<tr>\n",
       "  <th>Condition ⨯ Discount</th>                    <td>-0.479</td>   <td>0.068</td>  <td>-7.047</td> <td>0.000</td> <td>-0.612</td> <td>-0.346</td>\n",
       "</tr>\n",
       "<tr>\n",
       "  <th>Below Min. Price</th>                         <td>1.263</td>   <td>0.346</td>   <td>3.653</td> <td>0.000</td>  <td>0.585</td>  <td>1.941</td>\n",
       "</tr>\n",
       "<tr>\n",
       "  <th>Condition ⨯ Below Min. Price</th>            <td>-1.630</td>   <td>0.488</td>  <td>-3.338</td> <td>0.001</td> <td>-2.587</td> <td>-0.673</td>\n",
       "</tr>\n",
       "<tr>\n",
       "  <th>Discount ⨯ Below Min. Price</th>             <td>-0.623</td>   <td>0.108</td>  <td>-5.794</td> <td>0.000</td> <td>-0.834</td> <td>-0.412</td>\n",
       "</tr>\n",
       "<tr>\n",
       "  <th>Condition ⨯ Discount ⨯ Below Min. Price</th>  <td>0.762</td>   <td>0.152</td>   <td>5.019</td> <td>0.000</td>  <td>0.465</td>  <td>1.060</td>\n",
       "</tr>\n",
       "<tr>\n",
       "  <th>Participants Random Effect</th>               <td>1.804</td>   <td>0.213</td>     <td></td>      <td></td>       <td></td>       <td></td>   \n",
       "</tr>\n",
       "</table>"
      ],
      "text/plain": [
       "<class 'statsmodels.iolib.summary2.Summary'>\n",
       "\"\"\"\n",
       "                      Mixed Linear Model Regression Results\n",
       "==================================================================================\n",
       "Model:                  MixedLM      Dependent Variable:      Likelihood to Accept\n",
       "No. Observations:       1505         Method:                  REML                \n",
       "No. Groups:             301          Scale:                   0.6946              \n",
       "Min. group size:        5            Log-Likelihood:          -2267.5572          \n",
       "Max. group size:        5            Converged:               Yes                 \n",
       "Mean group size:        5.0                                                       \n",
       "----------------------------------------------------------------------------------\n",
       "                                        Coef.  Std.Err.   z    P>|z| [0.025 0.975]\n",
       "----------------------------------------------------------------------------------\n",
       "Intercept                                0.663    0.126  5.263 0.000  0.416  0.910\n",
       "Condition: Higher dispersion            -0.370    0.178 -2.078 0.038 -0.718 -0.021\n",
       "Discount: -$20                           0.790    0.048 16.419 0.000  0.696  0.884\n",
       "Condition ⨯ Discount                    -0.479    0.068 -7.047 0.000 -0.612 -0.346\n",
       "Below Min. Price                         1.263    0.346  3.653 0.000  0.585  1.941\n",
       "Condition ⨯ Below Min. Price            -1.630    0.488 -3.338 0.001 -2.587 -0.673\n",
       "Discount ⨯ Below Min. Price             -0.623    0.108 -5.794 0.000 -0.834 -0.412\n",
       "Condition ⨯ Discount ⨯ Below Min. Price  0.762    0.152  5.019 0.000  0.465  1.060\n",
       "Participants Random Effect               1.804    0.213                           \n",
       "==================================================================================\n",
       "\n",
       "\"\"\""
      ]
     },
     "execution_count": 12,
     "metadata": {},
     "output_type": "execute_result"
    }
   ],
   "source": [
    "df_long[\"discount\"] = (df_long.offer.max() - df_long.offer) / 20\n",
    "df_long[\"offer_lower_than_min\"] = (df_long.offer < 240) * 1\n",
    "model_3way = smf.mixedlm(\n",
    "    \"LTA ~ condition*discount*offer_lower_than_min\", data=df_long, groups=df_long.turkid\n",
    ").fit()\n",
    "xname_fe = [\n",
    "    \"Intercept\",\n",
    "    \"Condition: Higher dispersion\",\n",
    "    \"Discount: -$20\",\n",
    "    \"Condition \\u2a2f Discount\",\n",
    "    \"Below Min. Price\",\n",
    "    \"Condition \\u2a2f Below Min. Price\",\n",
    "    \"Discount \\u2a2f Below Min. Price\",\n",
    "    \"Condition \\u2a2f Discount \\u2a2f Below Min. Price\",\n",
    "]\n",
    "model_3way.summary(\n",
    "    xname_fe=xname_fe,\n",
    "    xname_re=[\"Participants Random Effect\"],\n",
    "    yname=\"Likelihood to Accept\",\n",
    ")"
   ]
  },
  {
   "cell_type": "code",
   "execution_count": 13,
   "metadata": {
    "pycharm": {
     "is_executing": false
    }
   },
   "outputs": [
    {
     "data": {
      "text/html": [
       "<style  type=\"text/css\" >\n",
       "</style><table id=\"T_a280a264_8ecd_11ea_81f8_448a5b2f88e1\" ><thead>    <tr>        <th class=\"blank level0\" ></th>        <th class=\"col_heading level0 col0\" >Standardized Betas</th>    </tr></thead><tbody>\n",
       "                <tr>\n",
       "                        <th id=\"T_a280a264_8ecd_11ea_81f8_448a5b2f88e1level0_row0\" class=\"row_heading level0 row0\" >Intercept</th>\n",
       "                        <td id=\"T_a280a264_8ecd_11ea_81f8_448a5b2f88e1row0_col0\" class=\"data row0 col0\" >0.38</td>\n",
       "            </tr>\n",
       "            <tr>\n",
       "                        <th id=\"T_a280a264_8ecd_11ea_81f8_448a5b2f88e1level0_row1\" class=\"row_heading level0 row1\" >Condition: Higher dispersion</th>\n",
       "                        <td id=\"T_a280a264_8ecd_11ea_81f8_448a5b2f88e1row1_col0\" class=\"data row1 col0\" >-0.21</td>\n",
       "            </tr>\n",
       "            <tr>\n",
       "                        <th id=\"T_a280a264_8ecd_11ea_81f8_448a5b2f88e1level0_row2\" class=\"row_heading level0 row2\" >Discount: -$20</th>\n",
       "                        <td id=\"T_a280a264_8ecd_11ea_81f8_448a5b2f88e1row2_col0\" class=\"data row2 col0\" >0.45</td>\n",
       "            </tr>\n",
       "            <tr>\n",
       "                        <th id=\"T_a280a264_8ecd_11ea_81f8_448a5b2f88e1level0_row3\" class=\"row_heading level0 row3\" >Condition ⨯ Discount</th>\n",
       "                        <td id=\"T_a280a264_8ecd_11ea_81f8_448a5b2f88e1row3_col0\" class=\"data row3 col0\" >-0.27</td>\n",
       "            </tr>\n",
       "            <tr>\n",
       "                        <th id=\"T_a280a264_8ecd_11ea_81f8_448a5b2f88e1level0_row4\" class=\"row_heading level0 row4\" >Below Min. Price</th>\n",
       "                        <td id=\"T_a280a264_8ecd_11ea_81f8_448a5b2f88e1row4_col0\" class=\"data row4 col0\" >0.72</td>\n",
       "            </tr>\n",
       "            <tr>\n",
       "                        <th id=\"T_a280a264_8ecd_11ea_81f8_448a5b2f88e1level0_row5\" class=\"row_heading level0 row5\" >Condition ⨯ Below Min. Price</th>\n",
       "                        <td id=\"T_a280a264_8ecd_11ea_81f8_448a5b2f88e1row5_col0\" class=\"data row5 col0\" >-0.93</td>\n",
       "            </tr>\n",
       "            <tr>\n",
       "                        <th id=\"T_a280a264_8ecd_11ea_81f8_448a5b2f88e1level0_row6\" class=\"row_heading level0 row6\" >Discount ⨯ Below Min. Price</th>\n",
       "                        <td id=\"T_a280a264_8ecd_11ea_81f8_448a5b2f88e1row6_col0\" class=\"data row6 col0\" >-0.36</td>\n",
       "            </tr>\n",
       "            <tr>\n",
       "                        <th id=\"T_a280a264_8ecd_11ea_81f8_448a5b2f88e1level0_row7\" class=\"row_heading level0 row7\" >Condition ⨯ Discount ⨯ Below Min. Price</th>\n",
       "                        <td id=\"T_a280a264_8ecd_11ea_81f8_448a5b2f88e1row7_col0\" class=\"data row7 col0\" >0.43</td>\n",
       "            </tr>\n",
       "            <tr>\n",
       "                        <th id=\"T_a280a264_8ecd_11ea_81f8_448a5b2f88e1level0_row8\" class=\"row_heading level0 row8\" >Participants Random Effect</th>\n",
       "                        <td id=\"T_a280a264_8ecd_11ea_81f8_448a5b2f88e1row8_col0\" class=\"data row8 col0\" >1.48</td>\n",
       "            </tr>\n",
       "    </tbody></table>"
      ],
      "text/plain": [
       "<pandas.io.formats.style.Styler at 0x215b1ff3240>"
      ]
     },
     "execution_count": 13,
     "metadata": {},
     "output_type": "execute_result"
    }
   ],
   "source": [
    "stdbetas = model_3way.params / df_long.LTA.std(ddof=1)\n",
    "stdbetas.index = xname_fe + [\"Participants Random Effect\"]\n",
    "table = pd.DataFrame(stdbetas, columns=[\"Standardized Betas\"])\n",
    "table.style.format(\"{:.2f}\")"
   ]
  },
  {
   "cell_type": "code",
   "execution_count": 14,
   "metadata": {
    "pycharm": {
     "is_executing": false
    }
   },
   "outputs": [
    {
     "data": {
      "text/html": [
       "<div>\n",
       "<style scoped>\n",
       "    .dataframe tbody tr th:only-of-type {\n",
       "        vertical-align: middle;\n",
       "    }\n",
       "\n",
       "    .dataframe tbody tr th {\n",
       "        vertical-align: top;\n",
       "    }\n",
       "\n",
       "    .dataframe thead th {\n",
       "        text-align: right;\n",
       "    }\n",
       "</style>\n",
       "<table border=\"1\" class=\"dataframe\">\n",
       "  <thead>\n",
       "    <tr style=\"text-align: right;\">\n",
       "      <th></th>\n",
       "      <th>b</th>\n",
       "      <th>SE</th>\n",
       "      <th>z-score</th>\n",
       "      <th>p-values</th>\n",
       "      <th>Std b</th>\n",
       "    </tr>\n",
       "    <tr>\n",
       "      <th>Effect</th>\n",
       "      <th></th>\n",
       "      <th></th>\n",
       "      <th></th>\n",
       "      <th></th>\n",
       "      <th></th>\n",
       "    </tr>\n",
       "  </thead>\n",
       "  <tbody>\n",
       "    <tr>\n",
       "      <th>Equal dispersion, Above min. price</th>\n",
       "      <td>0.790000</td>\n",
       "      <td>0.048116</td>\n",
       "      <td>16.418501</td>\n",
       "      <td>0.0000</td>\n",
       "      <td>0.450243</td>\n",
       "    </tr>\n",
       "    <tr>\n",
       "      <th>Equal dispersion, Below min. price</th>\n",
       "      <td>0.166667</td>\n",
       "      <td>0.096233</td>\n",
       "      <td>1.731909</td>\n",
       "      <td>0.0833</td>\n",
       "      <td>0.094988</td>\n",
       "    </tr>\n",
       "    <tr>\n",
       "      <th>Equal dispersion: Interaction</th>\n",
       "      <td>-0.623333</td>\n",
       "      <td>0.107592</td>\n",
       "      <td>-5.793510</td>\n",
       "      <td>0.0000</td>\n",
       "      <td>-0.355255</td>\n",
       "    </tr>\n",
       "    <tr>\n",
       "      <th>Higher dispersion, Above min. price</th>\n",
       "      <td>0.311258</td>\n",
       "      <td>0.047957</td>\n",
       "      <td>6.490381</td>\n",
       "      <td>0.0000</td>\n",
       "      <td>0.177395</td>\n",
       "    </tr>\n",
       "    <tr>\n",
       "      <th>Higher dispersion, Below min. price</th>\n",
       "      <td>0.450331</td>\n",
       "      <td>0.095914</td>\n",
       "      <td>4.695169</td>\n",
       "      <td>0.0000</td>\n",
       "      <td>0.256657</td>\n",
       "    </tr>\n",
       "    <tr>\n",
       "      <th>Higher disperison: Above vs. Below</th>\n",
       "      <td>0.139073</td>\n",
       "      <td>0.107235</td>\n",
       "      <td>1.296900</td>\n",
       "      <td>0.1947</td>\n",
       "      <td>0.079262</td>\n",
       "    </tr>\n",
       "  </tbody>\n",
       "</table>\n",
       "</div>"
      ],
      "text/plain": [
       "                                            b        SE    z-score p-values  \\\n",
       "Effect                                                                        \n",
       "Equal dispersion, Above min. price   0.790000  0.048116  16.418501   0.0000   \n",
       "Equal dispersion, Below min. price   0.166667  0.096233   1.731909   0.0833   \n",
       "Equal dispersion: Interaction       -0.623333  0.107592  -5.793510   0.0000   \n",
       "Higher dispersion, Above min. price  0.311258  0.047957   6.490381   0.0000   \n",
       "Higher dispersion, Below min. price  0.450331  0.095914   4.695169   0.0000   \n",
       "Higher disperison: Above vs. Below   0.139073  0.107235   1.296900   0.1947   \n",
       "\n",
       "                                        Std b  \n",
       "Effect                                         \n",
       "Equal dispersion, Above min. price   0.450243  \n",
       "Equal dispersion, Below min. price   0.094988  \n",
       "Equal dispersion: Interaction       -0.355255  \n",
       "Higher dispersion, Above min. price  0.177395  \n",
       "Higher dispersion, Below min. price  0.256657  \n",
       "Higher disperison: Above vs. Below   0.079262  "
      ]
     },
     "execution_count": 14,
     "metadata": {},
     "output_type": "execute_result"
    }
   ],
   "source": [
    "varnames = model_3way.params.index.values[2:8]\n",
    "betas = model_3way.params.values[2:8]\n",
    "vcv = model_3way.cov_params().values[2:8, 2:8]\n",
    "grads = np.array(\n",
    "    [  # Matrix of values to obtain the conditional effects of the discount:\n",
    "        [1, 0, 0, 0, 0, 0],  # Discount \"Equal dispersion\" condition above min. price\n",
    "        [\n",
    "            1,\n",
    "            0,\n",
    "            0,\n",
    "            0,\n",
    "            1,\n",
    "            0,\n",
    "        ],  # Discount in \"Equal dispersion\" condition below true min. price\n",
    "        [0, 0, 0, 0, 1, 0],  # Value of interaction in \"Equal dispersion\"\n",
    "        [\n",
    "            1,\n",
    "            1,\n",
    "            0,\n",
    "            0,\n",
    "            0,\n",
    "            0,\n",
    "        ],  # Discount in \"Higher dispersion\" condition above true min. price\n",
    "        [\n",
    "            1,\n",
    "            1,\n",
    "            0,\n",
    "            0,\n",
    "            1,\n",
    "            1,\n",
    "        ],  # Discount in \"Higher dispersion\" condition below true min. price\n",
    "        [0, 0, 0, 0, 1, 1],  # Value of interaction in \"Higher dispersion\"\n",
    "    ]\n",
    ")\n",
    "b = []\n",
    "se = []\n",
    "for g in grads:\n",
    "    b.append(betas @ g)  # Conditional effects\n",
    "    se.append(g @ vcv @ g)\n",
    "se = np.sqrt(se)  # SE of conditional effects\n",
    "z = b / se  # z-scores of conditional effects\n",
    "pvals = [\n",
    "    f\"{i:.4f}\" for i in stats.norm.sf(np.abs(z)) * 2\n",
    "]  # p-values of conditional effects\n",
    "standardb = np.array(b) / df_long.LTA.std(ddof=1)\n",
    "result_table = pd.DataFrame(\n",
    "    {\n",
    "        \"Effect\": [\n",
    "            \"Equal dispersion, Above min. price\",\n",
    "            \"Equal dispersion, Below min. price\",\n",
    "            \"Equal dispersion: Interaction\",\n",
    "            \"Higher dispersion, Above min. price\",\n",
    "            \"Higher dispersion, Below min. price\",\n",
    "            \"Higher disperison: Above vs. Below\",\n",
    "        ],\n",
    "        \"b\": b,\n",
    "        \"SE\": se,\n",
    "        \"z-score\": z,\n",
    "        \"p-values\": pvals,\n",
    "        \"Std b\": standardb,\n",
    "    }\n",
    ")\n",
    "result_table.set_index(\"Effect\")"
   ]
  },
  {
   "cell_type": "markdown",
   "metadata": {},
   "source": [
    "An alternative specification, considering all choices, yields the same conclusion:"
   ]
  },
  {
   "cell_type": "code",
   "execution_count": 15,
   "metadata": {
    "pycharm": {
     "is_executing": false
    }
   },
   "outputs": [
    {
     "data": {
      "text/html": [
       "<table class=\"simpletable\">\n",
       "<tr>\n",
       "       <td>Model:</td>       <td>MixedLM</td> <td>Dependent Variable:</td> <td>Likelihood to Accept</td>\n",
       "</tr>\n",
       "<tr>\n",
       "  <td>No. Observations:</td>  <td>1505</td>         <td>Method:</td>               <td>REML</td>        \n",
       "</tr>\n",
       "<tr>\n",
       "     <td>No. Groups:</td>      <td>301</td>         <td>Scale:</td>               <td>0.6950</td>       \n",
       "</tr>\n",
       "<tr>\n",
       "  <td>Min. group size:</td>     <td>5</td>      <td>Log-Likelihood:</td>        <td>-2268.7101</td>     \n",
       "</tr>\n",
       "<tr>\n",
       "  <td>Max. group size:</td>     <td>5</td>        <td>Converged:</td>               <td>Yes</td>        \n",
       "</tr>\n",
       "<tr>\n",
       "  <td>Mean group size:</td>    <td>5.0</td>            <td></td>                     <td></td>          \n",
       "</tr>\n",
       "</table>\n",
       "<table class=\"simpletable\">\n",
       "<tr>\n",
       "                     <td></td>                     <th>Coef.</th> <th>Std.Err.</th>    <th>z</th>   <th>P>|z|</th> <th>[0.025</th> <th>0.975]</th>\n",
       "</tr>\n",
       "<tr>\n",
       "  <th>Intercept</th>                               <td>1.876</td>   <td>0.114</td>  <td>16.485</td> <td>0.000</td>  <td>1.653</td>  <td>2.099</td>\n",
       "</tr>\n",
       "<tr>\n",
       "  <th>Condition: More variance (dummy-coded)</th> <td>-0.912</td>   <td>0.161</td>  <td>-5.675</td> <td>0.000</td> <td>-1.227</td> <td>-0.597</td>\n",
       "</tr>\n",
       "<tr>\n",
       "  <th>Price: 260 vs. 280</th>                      <td>0.880</td>   <td>0.096</td>   <td>9.141</td> <td>0.000</td>  <td>0.691</td>  <td>1.069</td>\n",
       "</tr>\n",
       "<tr>\n",
       "  <th>Price: 240 vs. 260</th>                      <td>0.700</td>   <td>0.096</td>   <td>7.272</td> <td>0.000</td>  <td>0.511</td>  <td>0.889</td>\n",
       "</tr>\n",
       "<tr>\n",
       "  <th>Price: 220 vs. 240</th>                      <td>0.213</td>   <td>0.096</td>   <td>2.216</td> <td>0.027</td>  <td>0.025</td>  <td>0.402</td>\n",
       "</tr>\n",
       "<tr>\n",
       "  <th>Condition ⨯ Price: 260 vs. 280</th>          <td>0.167</td>   <td>0.096</td>   <td>1.731</td> <td>0.083</td> <td>-0.022</td>  <td>0.355</td>\n",
       "</tr>\n",
       "<tr>\n",
       "  <th>Condition ⨯ Price: 200 vs. 220</th>         <td>-0.582</td>   <td>0.136</td>  <td>-4.282</td> <td>0.000</td> <td>-0.848</td> <td>-0.316</td>\n",
       "</tr>\n",
       "<tr>\n",
       "  <th>Condition ⨯ Price: 240 vs. 260</th>         <td>-0.375</td>   <td>0.136</td>  <td>-2.763</td> <td>0.006</td> <td>-0.642</td> <td>-0.109</td>\n",
       "</tr>\n",
       "<tr>\n",
       "  <th>Condition ⨯ Price: 220 vs. 240</th>          <td>0.144</td>   <td>0.136</td>   <td>1.062</td> <td>0.288</td> <td>-0.122</td>  <td>0.411</td>\n",
       "</tr>\n",
       "<tr>\n",
       "  <th>Condition ⨯ Price: 200 vs. 220</th>          <td>0.284</td>   <td>0.136</td>   <td>2.087</td> <td>0.037</td>  <td>0.017</td>  <td>0.550</td>\n",
       "</tr>\n",
       "<tr>\n",
       "  <th>Group Var</th>                               <td>1.804</td>   <td>0.213</td>     <td></td>      <td></td>       <td></td>       <td></td>   \n",
       "</tr>\n",
       "</table>"
      ],
      "text/plain": [
       "<class 'statsmodels.iolib.summary2.Summary'>\n",
       "\"\"\"\n",
       "                      Mixed Linear Model Regression Results\n",
       "=================================================================================\n",
       "Model:                 MixedLM      Dependent Variable:      Likelihood to Accept\n",
       "No. Observations:      1505         Method:                  REML                \n",
       "No. Groups:            301          Scale:                   0.6950              \n",
       "Min. group size:       5            Log-Likelihood:          -2268.7101          \n",
       "Max. group size:       5            Converged:               Yes                 \n",
       "Mean group size:       5.0                                                       \n",
       "---------------------------------------------------------------------------------\n",
       "                                       Coef.  Std.Err.   z    P>|z| [0.025 0.975]\n",
       "---------------------------------------------------------------------------------\n",
       "Intercept                               1.876    0.114 16.485 0.000  1.653  2.099\n",
       "Condition: More variance (dummy-coded) -0.912    0.161 -5.675 0.000 -1.227 -0.597\n",
       "Price: 260 vs. 280                      0.880    0.096  9.141 0.000  0.691  1.069\n",
       "Price: 240 vs. 260                      0.700    0.096  7.272 0.000  0.511  0.889\n",
       "Price: 220 vs. 240                      0.213    0.096  2.216 0.027  0.025  0.402\n",
       "Condition ⨯ Price: 260 vs. 280          0.167    0.096  1.731 0.083 -0.022  0.355\n",
       "Condition ⨯ Price: 200 vs. 220         -0.582    0.136 -4.282 0.000 -0.848 -0.316\n",
       "Condition ⨯ Price: 240 vs. 260         -0.375    0.136 -2.763 0.006 -0.642 -0.109\n",
       "Condition ⨯ Price: 220 vs. 240          0.144    0.136  1.062 0.288 -0.122  0.411\n",
       "Condition ⨯ Price: 200 vs. 220          0.284    0.136  2.087 0.037  0.017  0.550\n",
       "Group Var                               1.804    0.213                           \n",
       "=================================================================================\n",
       "\n",
       "\"\"\""
      ]
     },
     "execution_count": 15,
     "metadata": {},
     "output_type": "execute_result"
    }
   ],
   "source": [
    "l = np.arange(200, 300, 20)\n",
    "l = l[::-1]\n",
    "model = smf.mixedlm(\n",
    "    \"LTA ~ C(condition)*C(offer, Diff, levels=l)\",\n",
    "    data=df_long,\n",
    "    groups=df_long.turkid,\n",
    "    eval_env=2,\n",
    ").fit()\n",
    "xname_fe = [\n",
    "    \"Intercept\",\n",
    "    \"Condition: More variance (dummy-coded)\",\n",
    "    \"Price: 260 vs. 280\",\n",
    "    \"Price: 240 vs. 260\",\n",
    "    \"Price: 220 vs. 240\",\n",
    "    \"Condition \\u2a2f Price: 260 vs. 280\",\n",
    "    \"Condition \\u2a2f Price: 200 vs. 220\",\n",
    "    \"Condition \\u2a2f Price: 240 vs. 260\",\n",
    "    \"Condition \\u2a2f Price: 220 vs. 240\",\n",
    "    \"Condition \\u2a2f Price: 200 vs. 220\",\n",
    "]\n",
    "model.summary(xname_fe=xname_fe, yname=\"Likelihood to Accept\")"
   ]
  },
  {
   "cell_type": "code",
   "execution_count": 16,
   "metadata": {
    "pycharm": {
     "is_executing": false
    }
   },
   "outputs": [
    {
     "data": {
      "text/html": [
       "<div>\n",
       "<style scoped>\n",
       "    .dataframe tbody tr th:only-of-type {\n",
       "        vertical-align: middle;\n",
       "    }\n",
       "\n",
       "    .dataframe tbody tr th {\n",
       "        vertical-align: top;\n",
       "    }\n",
       "\n",
       "    .dataframe thead th {\n",
       "        text-align: right;\n",
       "    }\n",
       "</style>\n",
       "<table border=\"1\" class=\"dataframe\">\n",
       "  <thead>\n",
       "    <tr style=\"text-align: right;\">\n",
       "      <th></th>\n",
       "      <th>$\\beta$</th>\n",
       "      <th>SE</th>\n",
       "      <th>z-score</th>\n",
       "      <th>p-values</th>\n",
       "      <th>Std $\\beta$</th>\n",
       "    </tr>\n",
       "    <tr>\n",
       "      <th>Effect</th>\n",
       "      <th></th>\n",
       "      <th></th>\n",
       "      <th></th>\n",
       "      <th></th>\n",
       "      <th></th>\n",
       "    </tr>\n",
       "  </thead>\n",
       "  <tbody>\n",
       "    <tr>\n",
       "      <th>Equal dispersion: \\$260 vs. \\$280</th>\n",
       "      <td>0.880000</td>\n",
       "      <td>0.096265</td>\n",
       "      <td>9.141393</td>\n",
       "      <td>0.0000</td>\n",
       "      <td>0.501537</td>\n",
       "    </tr>\n",
       "    <tr>\n",
       "      <th>Equal dispersion: \\$240 vs. \\$260</th>\n",
       "      <td>0.700000</td>\n",
       "      <td>0.096265</td>\n",
       "      <td>7.271563</td>\n",
       "      <td>0.0000</td>\n",
       "      <td>0.398950</td>\n",
       "    </tr>\n",
       "    <tr>\n",
       "      <th>Equal dispersion: \\$220 vs. \\$240</th>\n",
       "      <td>0.213333</td>\n",
       "      <td>0.096265</td>\n",
       "      <td>2.216095</td>\n",
       "      <td>0.0267</td>\n",
       "      <td>0.121585</td>\n",
       "    </tr>\n",
       "    <tr>\n",
       "      <th>Equal dispersion: \\$200 vs. \\$220</th>\n",
       "      <td>0.166667</td>\n",
       "      <td>0.096265</td>\n",
       "      <td>1.731324</td>\n",
       "      <td>0.0834</td>\n",
       "      <td>0.094988</td>\n",
       "    </tr>\n",
       "    <tr>\n",
       "      <th>Higher dispersion: \\$260 vs. \\$280</th>\n",
       "      <td>0.298013</td>\n",
       "      <td>0.095946</td>\n",
       "      <td>3.106048</td>\n",
       "      <td>0.0019</td>\n",
       "      <td>0.169846</td>\n",
       "    </tr>\n",
       "    <tr>\n",
       "      <th>Higher dispersion: \\$240 vs. \\$260</th>\n",
       "      <td>0.324503</td>\n",
       "      <td>0.095946</td>\n",
       "      <td>3.382141</td>\n",
       "      <td>0.0007</td>\n",
       "      <td>0.184944</td>\n",
       "    </tr>\n",
       "    <tr>\n",
       "      <th>Higher dispersion: \\$220 vs. \\$240</th>\n",
       "      <td>0.357616</td>\n",
       "      <td>0.095946</td>\n",
       "      <td>3.727257</td>\n",
       "      <td>0.0002</td>\n",
       "      <td>0.203815</td>\n",
       "    </tr>\n",
       "    <tr>\n",
       "      <th>Higher dispersion: \\$200 vs. \\$220</th>\n",
       "      <td>0.450331</td>\n",
       "      <td>0.095946</td>\n",
       "      <td>4.693583</td>\n",
       "      <td>0.0000</td>\n",
       "      <td>0.256657</td>\n",
       "    </tr>\n",
       "  </tbody>\n",
       "</table>\n",
       "</div>"
      ],
      "text/plain": [
       "                                     $\\beta$        SE   z-score p-values  \\\n",
       "Effect                                                                      \n",
       "Equal dispersion: \\$260 vs. \\$280   0.880000  0.096265  9.141393   0.0000   \n",
       "Equal dispersion: \\$240 vs. \\$260   0.700000  0.096265  7.271563   0.0000   \n",
       "Equal dispersion: \\$220 vs. \\$240   0.213333  0.096265  2.216095   0.0267   \n",
       "Equal dispersion: \\$200 vs. \\$220   0.166667  0.096265  1.731324   0.0834   \n",
       "Higher dispersion: \\$260 vs. \\$280  0.298013  0.095946  3.106048   0.0019   \n",
       "Higher dispersion: \\$240 vs. \\$260  0.324503  0.095946  3.382141   0.0007   \n",
       "Higher dispersion: \\$220 vs. \\$240  0.357616  0.095946  3.727257   0.0002   \n",
       "Higher dispersion: \\$200 vs. \\$220  0.450331  0.095946  4.693583   0.0000   \n",
       "\n",
       "                                    Std $\\beta$  \n",
       "Effect                                           \n",
       "Equal dispersion: \\$260 vs. \\$280      0.501537  \n",
       "Equal dispersion: \\$240 vs. \\$260      0.398950  \n",
       "Equal dispersion: \\$220 vs. \\$240      0.121585  \n",
       "Equal dispersion: \\$200 vs. \\$220      0.094988  \n",
       "Higher dispersion: \\$260 vs. \\$280     0.169846  \n",
       "Higher dispersion: \\$240 vs. \\$260     0.184944  \n",
       "Higher dispersion: \\$220 vs. \\$240     0.203815  \n",
       "Higher dispersion: \\$200 vs. \\$220     0.256657  "
      ]
     },
     "execution_count": 16,
     "metadata": {},
     "output_type": "execute_result"
    }
   ],
   "source": [
    "varnames = model.params.index.values\n",
    "betas = model.params.values\n",
    "vcv = model.cov_params().values\n",
    "b = [betas[2], betas[3], betas[4], betas[5]]\n",
    "se = [vcv[2, 2], vcv[3, 3], vcv[4, 4], vcv[5, 5]]\n",
    "for v in [\"280\", \"260\", \"240\", \"220\"]:\n",
    "    grad = [1 if v in x else 0 for x in varnames]\n",
    "    b.append(betas @ grad)\n",
    "    se.append(grad @ vcv @ grad)\n",
    "se = np.sqrt(se)  # SE of conditional effects\n",
    "z = b / se  # z-scores of conditional effects\n",
    "pvals = [\n",
    "    f\"{i:.4f}\" for i in stats.norm.sf(np.abs(z)) * 2\n",
    "]  # p-values of conditional effects\n",
    "standardb = np.array(b) / df_long.LTA.std(ddof=1)\n",
    "result_table = pd.DataFrame(\n",
    "    {\n",
    "        \"Effect\": [\n",
    "            \"Equal dispersion: \\$260 vs. \\$280\",\n",
    "            \"Equal dispersion: \\$240 vs. \\$260\",\n",
    "            \"Equal dispersion: \\$220 vs. \\$240\",\n",
    "            \"Equal dispersion: \\$200 vs. \\$220\",\n",
    "            \"Higher dispersion: \\$260 vs. \\$280\",\n",
    "            \"Higher dispersion: \\$240 vs. \\$260\",\n",
    "            \"Higher dispersion: \\$220 vs. \\$240\",\n",
    "            \"Higher dispersion: \\$200 vs. \\$220\",\n",
    "        ],\n",
    "        \"$\\\\beta$\": b,\n",
    "        \"SE\": se,\n",
    "        \"z-score\": z,\n",
    "        \"p-values\": pvals,\n",
    "        \"Std $\\\\beta$\": standardb,\n",
    "    }\n",
    ")\n",
    "result_table.set_index(\"Effect\")"
   ]
  },
  {
   "cell_type": "markdown",
   "metadata": {},
   "source": [
    "# Robustness Checks: Consistent participants only"
   ]
  },
  {
   "cell_type": "markdown",
   "metadata": {},
   "source": [
    "Participants' likelihood to accept the price should be increasing as the prices offered decrease. Is it always the case?"
   ]
  },
  {
   "cell_type": "code",
   "execution_count": 17,
   "metadata": {
    "pycharm": {
     "is_executing": false
    }
   },
   "outputs": [
    {
     "data": {
      "text/markdown": [
       "\n",
       "No, 51 participants (out of 301) have at least one linearity violation. Excluding those participants give identical results:\n"
      ],
      "text/plain": [
       "<IPython.core.display.Markdown object>"
      ]
     },
     "execution_count": 17,
     "metadata": {},
     "output_type": "execute_result"
    }
   ],
   "source": [
    "df_long_clean = df_long[df_long.has_consistent_prefs]\n",
    "excluded = int(df_long.shape[0] / 5 - df_long_clean.shape[0] / 5)\n",
    "total = int(df_long.shape[0] / 5)\n",
    "Markdown(\n",
    "    f\"\"\"\n",
    "No, {excluded} participants (out of {total}) have at least one linearity violation. Excluding those participants give identical results:\n",
    "\"\"\"\n",
    ")"
   ]
  },
  {
   "cell_type": "code",
   "execution_count": 18,
   "metadata": {
    "pycharm": {
     "is_executing": false
    }
   },
   "outputs": [
    {
     "data": {
      "image/png": "[encoded data removed]",
      "text/plain": [
       "<Figure size 845.225x360 with 1 Axes>"
      ]
     },
     "metadata": {},
     "output_type": "display_data"
    }
   ],
   "source": [
    "g = sns.catplot(\n",
    "    x=\"offer\",\n",
    "    y=\"LTA\",\n",
    "    hue=\"condition\",\n",
    "    data=df_long_clean,\n",
    "    kind=\"point\",\n",
    "    units=\"turkid\",\n",
    "    order=[280, 260, 240, 220, 200],\n",
    "    legend=False,\n",
    "    markers=[\"o\", \"x\"],\n",
    "    linestyles=[\"-\", \"--\"],\n",
    "    hue_order=[\"Equal dispersion\", \"Higher dispersion\"],\n",
    "    aspect=2,\n",
    ")\n",
    "g.ax.set_xticklabels([\"$280\", \"260\", \"$240\\n(True Min.)\", \"$220\", \"$200\"])\n",
    "g.ax.set_xlabel(\"Price Offered\")\n",
    "g.set_ylabels(\"Likelihood to Accept (-3 to +3)\")\n",
    "g.add_legend(title=\"Other distribution had...\");"
   ]
  },
  {
   "cell_type": "code",
   "execution_count": 19,
   "metadata": {
    "pycharm": {
     "is_executing": false
    }
   },
   "outputs": [
    {
     "data": {
      "text/html": [
       "<table class=\"simpletable\">\n",
       "<tr>\n",
       "       <td>Model:</td>       <td>MixedLM</td> <td>Dependent Variable:</td> <td>Likelihood to Accept</td>\n",
       "</tr>\n",
       "<tr>\n",
       "  <td>No. Observations:</td>  <td>1250</td>         <td>Method:</td>               <td>REML</td>        \n",
       "</tr>\n",
       "<tr>\n",
       "     <td>No. Groups:</td>      <td>250</td>         <td>Scale:</td>               <td>1.1688</td>       \n",
       "</tr>\n",
       "<tr>\n",
       "  <td>Min. group size:</td>     <td>5</td>      <td>Log-Likelihood:</td>        <td>-2133.0043</td>     \n",
       "</tr>\n",
       "<tr>\n",
       "  <td>Max. group size:</td>     <td>5</td>        <td>Converged:</td>               <td>Yes</td>        \n",
       "</tr>\n",
       "<tr>\n",
       "  <td>Mean group size:</td>    <td>5.0</td>            <td></td>                     <td></td>          \n",
       "</tr>\n",
       "</table>\n",
       "<table class=\"simpletable\">\n",
       "<tr>\n",
       "                     <td></td>                     <th>Coef.</th> <th>Std.Err.</th>    <th>z</th>   <th>P>|z|</th> <th>[0.025</th> <th>0.975]</th>\n",
       "</tr>\n",
       "<tr>\n",
       "  <th>Intercept</th>                               <td>1.962</td>   <td>0.120</td>  <td>16.318</td> <td>0.000</td>  <td>1.726</td>  <td>2.197</td>\n",
       "</tr>\n",
       "<tr>\n",
       "  <th>Condition: More variance (dummy-coded)</th> <td>-0.965</td>   <td>0.174</td>  <td>-5.561</td> <td>0.000</td> <td>-1.305</td> <td>-0.625</td>\n",
       "</tr>\n",
       "<tr>\n",
       "  <th>Participants Random Effect</th>              <td>1.645</td>   <td>0.174</td>     <td></td>      <td></td>       <td></td>       <td></td>   \n",
       "</tr>\n",
       "</table>"
      ],
      "text/plain": [
       "<class 'statsmodels.iolib.summary2.Summary'>\n",
       "\"\"\"\n",
       "                      Mixed Linear Model Regression Results\n",
       "=================================================================================\n",
       "Model:                 MixedLM      Dependent Variable:      Likelihood to Accept\n",
       "No. Observations:      1250         Method:                  REML                \n",
       "No. Groups:            250          Scale:                   1.1688              \n",
       "Min. group size:       5            Log-Likelihood:          -2133.0043          \n",
       "Max. group size:       5            Converged:               Yes                 \n",
       "Mean group size:       5.0                                                       \n",
       "---------------------------------------------------------------------------------\n",
       "                                       Coef.  Std.Err.   z    P>|z| [0.025 0.975]\n",
       "---------------------------------------------------------------------------------\n",
       "Intercept                               1.962    0.120 16.318 0.000  1.726  2.197\n",
       "Condition: More variance (dummy-coded) -0.965    0.174 -5.561 0.000 -1.305 -0.625\n",
       "Participants Random Effect              1.645    0.174                           \n",
       "=================================================================================\n",
       "\n",
       "\"\"\""
      ]
     },
     "execution_count": 19,
     "metadata": {},
     "output_type": "execute_result"
    }
   ],
   "source": [
    "model = smf.mixedlm(\n",
    "    \"LTA ~ condition\", data=df_long_clean, groups=df_long_clean.turkid, eval_env=2\n",
    ").fit()\n",
    "model.summary(\n",
    "    yname=\"Likelihood to Accept\",\n",
    "    xname_fe=[\"Intercept\", \"Condition: More variance (dummy-coded)\"],\n",
    "    xname_re=[\"Participants Random Effect\"],\n",
    ")"
   ]
  },
  {
   "cell_type": "code",
   "execution_count": 20,
   "metadata": {
    "pycharm": {
     "is_executing": false
    }
   },
   "outputs": [
    {
     "data": {
      "text/html": [
       "<table class=\"simpletable\">\n",
       "<tr>\n",
       "       <td>Model:</td>       <td>MixedLM</td> <td>Dependent Variable:</td> <td>Likelihood to Accept</td>\n",
       "</tr>\n",
       "<tr>\n",
       "  <td>No. Observations:</td>  <td>1250</td>         <td>Method:</td>               <td>REML</td>        \n",
       "</tr>\n",
       "<tr>\n",
       "     <td>No. Groups:</td>      <td>250</td>         <td>Scale:</td>               <td>0.5422</td>       \n",
       "</tr>\n",
       "<tr>\n",
       "  <td>Min. group size:</td>     <td>5</td>      <td>Log-Likelihood:</td>        <td>-1756.9418</td>     \n",
       "</tr>\n",
       "<tr>\n",
       "  <td>Max. group size:</td>     <td>5</td>        <td>Converged:</td>               <td>Yes</td>        \n",
       "</tr>\n",
       "<tr>\n",
       "  <td>Mean group size:</td>    <td>5.0</td>            <td></td>                     <td></td>          \n",
       "</tr>\n",
       "</table>\n",
       "<table class=\"simpletable\">\n",
       "<tr>\n",
       "                     <td></td>                      <th>Coef.</th> <th>Std.Err.</th>    <th>z</th>   <th>P>|z|</th> <th>[0.025</th> <th>0.975]</th>\n",
       "</tr>\n",
       "<tr>\n",
       "  <th>Intercept</th>                                <td>0.599</td>   <td>0.131</td>   <td>4.580</td> <td>0.000</td>  <td>0.342</td>  <td>0.855</td>\n",
       "</tr>\n",
       "<tr>\n",
       "  <th>Condition: Higher dispersion</th>            <td>-0.460</td>   <td>0.189</td>  <td>-2.437</td> <td>0.015</td> <td>-0.830</td> <td>-0.090</td>\n",
       "</tr>\n",
       "<tr>\n",
       "  <th>Discount: -$20</th>                           <td>0.912</td>   <td>0.046</td>  <td>19.961</td> <td>0.000</td>  <td>0.822</td>  <td>1.001</td>\n",
       "</tr>\n",
       "<tr>\n",
       "  <th>Condition ⨯ Discount</th>                    <td>-0.462</td>   <td>0.066</td>  <td>-7.002</td> <td>0.000</td> <td>-0.591</td> <td>-0.332</td>\n",
       "</tr>\n",
       "<tr>\n",
       "  <th>Below Min. Price</th>                         <td>1.609</td>   <td>0.328</td>   <td>4.902</td> <td>0.000</td>  <td>0.966</td>  <td>2.252</td>\n",
       "</tr>\n",
       "<tr>\n",
       "  <th>Condition ⨯ Below Min. Price</th>            <td>-1.948</td>   <td>0.474</td>  <td>-4.111</td> <td>0.000</td> <td>-2.876</td> <td>-1.019</td>\n",
       "</tr>\n",
       "<tr>\n",
       "  <th>Discount ⨯ Below Min. Price</th>             <td>-0.788</td>   <td>0.102</td>  <td>-7.722</td> <td>0.000</td> <td>-0.989</td> <td>-0.588</td>\n",
       "</tr>\n",
       "<tr>\n",
       "  <th>Condition ⨯ Discount ⨯ Below Min. Price</th>  <td>0.855</td>   <td>0.147</td>   <td>5.802</td> <td>0.000</td>  <td>0.566</td>  <td>1.144</td>\n",
       "</tr>\n",
       "<tr>\n",
       "  <th>Participants Random Effect</th>               <td>1.770</td>   <td>0.256</td>     <td></td>      <td></td>       <td></td>       <td></td>   \n",
       "</tr>\n",
       "</table>"
      ],
      "text/plain": [
       "<class 'statsmodels.iolib.summary2.Summary'>\n",
       "\"\"\"\n",
       "                      Mixed Linear Model Regression Results\n",
       "==================================================================================\n",
       "Model:                  MixedLM      Dependent Variable:      Likelihood to Accept\n",
       "No. Observations:       1250         Method:                  REML                \n",
       "No. Groups:             250          Scale:                   0.5422              \n",
       "Min. group size:        5            Log-Likelihood:          -1756.9418          \n",
       "Max. group size:        5            Converged:               Yes                 \n",
       "Mean group size:        5.0                                                       \n",
       "----------------------------------------------------------------------------------\n",
       "                                        Coef.  Std.Err.   z    P>|z| [0.025 0.975]\n",
       "----------------------------------------------------------------------------------\n",
       "Intercept                                0.599    0.131  4.580 0.000  0.342  0.855\n",
       "Condition: Higher dispersion            -0.460    0.189 -2.437 0.015 -0.830 -0.090\n",
       "Discount: -$20                           0.912    0.046 19.961 0.000  0.822  1.001\n",
       "Condition ⨯ Discount                    -0.462    0.066 -7.002 0.000 -0.591 -0.332\n",
       "Below Min. Price                         1.609    0.328  4.902 0.000  0.966  2.252\n",
       "Condition ⨯ Below Min. Price            -1.948    0.474 -4.111 0.000 -2.876 -1.019\n",
       "Discount ⨯ Below Min. Price             -0.788    0.102 -7.722 0.000 -0.989 -0.588\n",
       "Condition ⨯ Discount ⨯ Below Min. Price  0.855    0.147  5.802 0.000  0.566  1.144\n",
       "Participants Random Effect               1.770    0.256                           \n",
       "==================================================================================\n",
       "\n",
       "\"\"\""
      ]
     },
     "execution_count": 20,
     "metadata": {},
     "output_type": "execute_result"
    }
   ],
   "source": [
    "model_3way = smf.mixedlm(\n",
    "    \"LTA ~ condition*discount*offer_lower_than_min\",\n",
    "    data=df_long_clean,\n",
    "    groups=df_long_clean.turkid,\n",
    ").fit()\n",
    "xname_fe = [\n",
    "    \"Intercept\",\n",
    "    \"Condition: Higher dispersion\",\n",
    "    \"Discount: -$20\",\n",
    "    \"Condition \\u2a2f Discount\",\n",
    "    \"Below Min. Price\",\n",
    "    \"Condition \\u2a2f Below Min. Price\",\n",
    "    \"Discount \\u2a2f Below Min. Price\",\n",
    "    \"Condition \\u2a2f Discount \\u2a2f Below Min. Price\",\n",
    "]\n",
    "model_3way.summary(\n",
    "    xname_fe=xname_fe,\n",
    "    xname_re=[\"Participants Random Effect\"],\n",
    "    yname=\"Likelihood to Accept\",\n",
    ")"
   ]
  },
  {
   "cell_type": "markdown",
   "metadata": {},
   "source": [
    "All the conclusions are unchanged when considering this subset of participants."
   ]
  }
 ],
 "metadata": {
  "kernelspec": {
   "display_name": "Python 3",
   "language": "python",
   "name": "python3"
  },
  "language_info": {
   "codemirror_mode": {
    "name": "ipython",
    "version": 3
   },
   "file_extension": ".py",
   "mimetype": "text/x-python",
   "name": "python",
   "nbconvert_exporter": "python",
   "pygments_lexer": "ipython3",
   "version": "3.6.10"
  },
  "pycharm": {
   "stem_cell": {
    "cell_type": "raw",
    "metadata": {
     "collapsed": false
    },
    "source": []
   }
  },
  "toc-showtags": false
 },
 "nbformat": 4,
 "nbformat_minor": 4
}
