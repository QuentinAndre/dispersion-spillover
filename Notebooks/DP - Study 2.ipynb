{
 "cells": [
  {
   "cell_type": "markdown",
   "metadata": {},
   "source": [
    "This notebook pre-processes the data of Study 2 of the paper.\n",
    "\n",
    "Click the \"Show Code\" buttons to see the code associated with each output."
   ]
  },
  {
   "cell_type": "code",
   "execution_count": 1,
   "metadata": {},
   "outputs": [],
   "source": [
    "import pandas as pd\n",
    "import numpy as np\n",
    "\n",
    "STUDY_NAME = \"Study 2\"\n",
    "\n",
    "def print_collection_information(df):\n",
    "    startstring = df.sort_values(\"startdate\").startdate.iloc[0].strftime(\"%B %d, %Y at %H:%M %p\")\n",
    "    endstring = df.sort_values(\"enddate\").enddate.iloc[-1].strftime(\"%B %d, %Y at %H:%M %p\")\n",
    "    return f\"{STUDY_NAME} was started on {startstring} and ended on {endstring}.\"\n",
    "\n",
    "\n",
    "df = pd.read_pickle(f\"../Data/{STUDY_NAME}/RawData.pickle\")"
   ]
  },
  {
   "cell_type": "markdown",
   "metadata": {},
   "source": [
    "Data collection information:"
   ]
  },
  {
   "cell_type": "code",
   "execution_count": 2,
   "metadata": {},
   "outputs": [
    {
     "data": {
      "text/plain": [
       "'Study 2 was started on August 05, 2019 at 22:16 PM and ended on August 06, 2019 at 01:07 AM.'"
      ]
     },
     "execution_count": 2,
     "metadata": {},
     "output_type": "execute_result"
    }
   ],
   "source": [
    "print_collection_information(df)"
   ]
  },
  {
   "cell_type": "markdown",
   "metadata": {},
   "source": [
    "Number of participants in database:"
   ]
  },
  {
   "cell_type": "code",
   "execution_count": 3,
   "metadata": {},
   "outputs": [
    {
     "data": {
      "text/plain": [
       "299"
      ]
     },
     "execution_count": 3,
     "metadata": {},
     "output_type": "execute_result"
    }
   ],
   "source": [
    "df.shape[0]"
   ]
  },
  {
   "cell_type": "markdown",
   "metadata": {},
   "source": [
    "Number of valid participants:"
   ]
  },
  {
   "cell_type": "code",
   "execution_count": 4,
   "metadata": {},
   "outputs": [
    {
     "name": "stdout",
     "output_type": "stream",
     "text": [
      "296\n"
     ]
    }
   ],
   "source": [
    "def has_both_allocations(x):\n",
    "    \"\"\"\n",
    "    Check if both allocations were correctly recorded.\n",
    "    \"\"\"\n",
    "    alloc1_recorded = (len(x.alloc_item_one) == 25)\n",
    "    alloc2_recorded = (len(x.alloc_item_two) == 25)\n",
    "    return alloc1_recorded & alloc2_recorded\n",
    "df_clean = df[df.apply(has_both_allocations, axis=1)].copy()\n",
    "print(df_clean.shape [0])\n",
    "df_clean[\"total_learning_time\"] = df_clean.clicks.apply(lambda x: np.diff(x)/1000).apply(lambda x: x.mean())*52\n",
    "df_clean[\"avg_learning_time\"] = df_clean.clicks.apply(lambda x: np.diff(x)/1000).apply(lambda x: x.mean())"
   ]
  },
  {
   "cell_type": "code",
   "execution_count": 5,
   "metadata": {},
   "outputs": [],
   "source": [
    "def convert_allocation_to_distribution(allocation, buckets, isstr=False):\n",
    "    \"\"\"\n",
    "    Takes an allocation of balls to buckets, and a list of buckets.\n",
    "    Return the corresponding distribution of values.\n",
    "    \n",
    "    Example: \n",
    "        buckets = [1, 2, 3, 4, 5]\n",
    "        x = \"0, 3, 1, 2, 1\"\n",
    "        dist = convert_allocation_to_distribution(x, buckets)\n",
    "        print(dist) -> (2, 2, 2, 3, 4, 4, 5)\n",
    "    \"\"\"\n",
    "    if isstr:\n",
    "        arr = allocation.split(\",\")\n",
    "    else:\n",
    "        arr = allocation\n",
    "    if len(arr) != len(buckets):\n",
    "        raise ValueError(\"The number of buckets should match the length of the allocations.\")\n",
    "    values = np.repeat(buckets, arr)\n",
    "    return values\n",
    "\n",
    "# Converting the allocations into distributions, and storing them in respective columns, before dropping the \"allocation\" columns\n",
    "df_clean[\"dist_item_one\"] = df_clean.alloc_item_one.apply(convert_allocation_to_distribution, buckets=np.arange(1, 51, 2))\n",
    "df_clean[\"dist_item_two\"] = df_clean.alloc_item_two.apply(convert_allocation_to_distribution, buckets=np.arange(1, 51, 2))\n",
    "df_clean.drop(columns=[\"alloc_item_one\", \"alloc_item_two\"], inplace=True)"
   ]
  },
  {
   "cell_type": "code",
   "execution_count": 6,
   "metadata": {},
   "outputs": [
    {
     "name": "stdout",
     "output_type": "stream",
     "text": [
      "592\n"
     ]
    }
   ],
   "source": [
    "# Each participant reported two distributions (item_one and item_two), pivoting the data in long form.\n",
    "df_long = pd.wide_to_long(df_clean, stubnames=[\"name\", \"history\", \"dist\"], i=\"pid\", j=\"value\", suffix=\"?(item_one|item_two)\", sep=\"_\").reset_index()\n",
    "\n",
    "# Coding if the reported distribution was for the focal distribution or the distractor\n",
    "df_long[\"is_distractor\"] = (df_long.name_distractor == df_long.name)\n",
    "\n",
    "#Number of participants times two distributions:\n",
    "print(df_long.shape[0])\n",
    "df_long.to_pickle(f\"../Data/{STUDY_NAME}/CleanData.pickle\")"
   ]
  },
  {
   "cell_type": "code",
   "execution_count": 7,
   "metadata": {},
   "outputs": [
    {
     "name": "stdout",
     "output_type": "stream",
     "text": [
      "15392\n"
     ]
    }
   ],
   "source": [
    "# Pivoting the distributions in long form: one line per value per distribution per participant.\n",
    "df_dist = df_long.set_index(['turkid', 'avg_learning_time', 'total_learning_time', \n",
    "                             'name_distractor', 'is_distractor', 'name', 'sd_distractor'])['dist'].apply(pd.Series).stack().reset_index()\n",
    "df_dist.columns = ['turkid', 'avg_learning_time', 'total_learning_time', \n",
    "                   'name_manipulated', 'is_manipulated', 'name', 'sd_manipulated',\n",
    "                   \"value_id\", \"value\"]\n",
    "print(df_dist.shape[0])\n",
    "df_dist.to_csv(f\"../Data/{STUDY_NAME}/LongData.csv\", index=None)"
   ]
  },
  {
   "cell_type": "code",
   "execution_count": 8,
   "metadata": {},
   "outputs": [],
   "source": [
    "df_long[\"true_sd\"] = df_long.apply(lambda x: 4.5 if ((x.is_distractor == False) or (x.sd_distractor == \"Med\")) else 1.1 if x.sd_distractor == \"Low\" else 7.5, axis=1)\n",
    "df_long[\"est_sd\"] = df_long.history.apply(lambda x: np.std(np.repeat(np.arange(1, 51, 2), x[-1].split(\",\"))))\n",
    "df_long[\"diff_sd\"] = df_long[\"true_sd\"] - df_long[\"est_sd\"]\n",
    "df_long[\"diff_m\"] = df_long.history.apply(lambda x: np.mean(np.repeat(np.arange(1, 51, 2), x[-1].split(\",\")))) - 25\n",
    "\n",
    "# Pivoting the distributions in long form: one line per allocation state per item per participant.\n",
    "df_hist = df_long.set_index(['pid', 'is_distractor', 'sd_distractor', \"diff_sd\", \"diff_m\"])['history'].apply(pd.Series).stack().reset_index()\n",
    "df_hist.columns = ['pid', 'is_distractor', 'sd_distractor', \"diff_sd\", \"diff_m\", 'timestamp', 'value']\n",
    "\n",
    "# Converting the allocation to distributions\n",
    "allocs = df_hist.value.apply(lambda x: x.split(\",\")) # All allocations\n",
    "dists = allocs.apply(convert_allocation_to_distribution, buckets = np.arange(1, 51, 2)) # Converted to distributions\n",
    "df_hist[\"distribution\"] = dists\n",
    "df_hist.columns = ['pid', 'is_manipulated', 'sd_manipulated', 'diff_sd', 'diff_m', 'timestamp', 'value', 'distribution']\n",
    "df_hist.to_pickle(f\"../Data/{STUDY_NAME}/HistoryData.pickle\")"
   ]
  }
 ],
 "metadata": {
  "anaconda-cloud": {},
  "kernelspec": {
   "display_name": "Python 3",
   "language": "python",
   "name": "python3"
  },
  "language_info": {
   "codemirror_mode": {
    "name": "ipython",
    "version": 3
   },
   "file_extension": ".py",
   "mimetype": "text/x-python",
   "name": "python",
   "nbconvert_exporter": "python",
   "pygments_lexer": "ipython3",
   "version": "3.6.10"
  },
  "toc": {
   "toc_cell": false,
   "toc_number_sections": false,
   "toc_section_display": "block",
   "toc_threshold": 6,
   "toc_window_display": true
  },
  "toc_position": {
   "height": "378px",
   "left": "1662.38px",
   "right": "10.6167px",
   "top": "120px",
   "width": "247px"
  }
 },
 "nbformat": 4,
 "nbformat_minor": 4
}
