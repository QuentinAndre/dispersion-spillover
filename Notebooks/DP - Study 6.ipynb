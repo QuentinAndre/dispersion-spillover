{
 "cells": [
  {
   "cell_type": "markdown",
   "metadata": {},
   "source": [
    "This notebook pre-processes the data of Study 6 of the paper.\n",
    "\n",
    "Click the \"Show Code\" buttons to see the code associated with each output."
   ]
  },
  {
   "cell_type": "code",
   "execution_count": 1,
   "metadata": {
    "pycharm": {
     "is_executing": false
    }
   },
   "outputs": [],
   "source": [
    "import pandas as pd\n",
    "import numpy as np\n",
    "import janitor\n",
    "from datetime import datetime\n",
    "import pytz\n",
    "\n",
    "STUDY_NAME = \"Study 6\"\n",
    "\n",
    "\n",
    "def print_prereg_time_utc(dt):\n",
    "    local_tz = pytz.timezone(\"US/Pacific\")\n",
    "    target_tz = pytz.timezone(\"UTC\")\n",
    "    dt = datetime.strptime(dt, \"%m/%d/%Y %H:%M %p\")\n",
    "    preregstring = target_tz.normalize(local_tz.localize(dt)).strftime(\n",
    "        \"%B %d, %Y at %H:%M %p\"\n",
    "    )\n",
    "    return f\"{STUDY_NAME} was preregistered on {preregstring}.\"\n",
    "\n",
    "\n",
    "def cet_to_utc(dt):\n",
    "    local_tz = pytz.timezone(\"CET\")\n",
    "    target_tz = pytz.timezone(\"UTC\")\n",
    "    dt = datetime.strptime(dt, \"%d/%m/%Y %H:%M\")\n",
    "    return target_tz.normalize(local_tz.localize(dt))\n",
    "\n",
    "\n",
    "def print_collection_information(df):\n",
    "    starttime = df.sort_values(\"StartDate\").StartDate.iloc[0]\n",
    "    endtime = df.sort_values(\"EndDate\").EndDate.iloc[-1]\n",
    "    startstring = cet_to_utc(starttime).strftime(\"%B %d, %Y at %H:%M %p\")\n",
    "    endstring = cet_to_utc(endtime).strftime(\"%B %d, %Y at %H:%M %p\")\n",
    "    return f\"{STUDY_NAME} was started on {startstring} and ended on {endstring}.\"\n",
    "\n",
    "\n",
    "df = pd.read_csv(f\"../Data/{STUDY_NAME}/RawData.csv\")"
   ]
  },
  {
   "cell_type": "markdown",
   "metadata": {},
   "source": [
    "Pre-registration information:"
   ]
  },
  {
   "cell_type": "code",
   "execution_count": 2,
   "metadata": {},
   "outputs": [
    {
     "data": {
      "text/plain": [
       "'Study 6 was preregistered on July 16, 2019 at 19:05 PM.'"
      ]
     },
     "execution_count": 2,
     "metadata": {},
     "output_type": "execute_result"
    }
   ],
   "source": [
    "print_prereg_time_utc(\"07/16/2019 12:05 PM\")"
   ]
  },
  {
   "cell_type": "markdown",
   "metadata": {},
   "source": [
    "Data collection information:"
   ]
  },
  {
   "cell_type": "code",
   "execution_count": 3,
   "metadata": {},
   "outputs": [
    {
     "data": {
      "text/plain": [
       "'Study 6 was started on July 16, 2019 at 19:47 PM and ended on July 17, 2019 at 01:29 AM.'"
      ]
     },
     "execution_count": 3,
     "metadata": {},
     "output_type": "execute_result"
    }
   ],
   "source": [
    "print_collection_information(df)"
   ]
  },
  {
   "cell_type": "markdown",
   "metadata": {},
   "source": [
    "Number of participants in raw Qualtrics Export:"
   ]
  },
  {
   "cell_type": "code",
   "execution_count": 4,
   "metadata": {},
   "outputs": [
    {
     "data": {
      "text/plain": [
       "502"
      ]
     },
     "execution_count": 4,
     "metadata": {},
     "output_type": "execute_result"
    }
   ],
   "source": [
    "df.shape[0]"
   ]
  },
  {
   "cell_type": "code",
   "execution_count": 5,
   "metadata": {},
   "outputs": [],
   "source": [
    "bonus_to_box = {\"30¢\": 1, \"38¢\": 2, \"26¢\": 3, \"20¢\": 4, \"32¢\": 5}\n",
    "\n",
    "\n",
    "df[\"Box_Opened\"] = df.BonusAmount.map(bonus_to_box)  # Mapping the box opened.\n",
    "\n",
    "df[\"BonusAmountNumeric\"] = df.BonusAmount.apply(lambda x: x[:-1]).astype(float)  #\n",
    "\n",
    "df[\"Memory_Max\"] = (\n",
    "    df[[\"MaxVal_Blue\", \"MaxVal_Red\"]].fillna(0).sum(axis=1)\n",
    ")  # Memory for maximum bonus\n",
    "df[\"Memory_Max_Recoded\"] = df.Memory_Max.apply(\n",
    "    lambda x: x * 100 if x < 1 else x\n",
    ")  # Some people entered the maximum in cents (rather than dollars)\n",
    "\n",
    "\n",
    "df[\"Condition\"] = df.dispersion.map(\n",
    "    {\"same\": \"Equal dispersion\", \"higher\": \"Higher dispersion\"}\n",
    ")\n",
    "df[\"Label_Category\"] = df.manipulated.map({\"red\": \"Blue\", \"blue\": \"Red\"})\n",
    "df[\"Excluded\"] = (df.Memory_Max < 32).map({False: \"No\", True: \"Yes\"})\n",
    "df[\"Excluded_If_Recoded\"] = (df.Memory_Max_Recoded < 32).map({False: \"No\", True: \"Yes\"})\n",
    "cols = [\n",
    "    \"StartDate\",\n",
    "    \"EndDate\",\n",
    "    \"BonusAmount\",\n",
    "    \"workerId\",\n",
    "    \"Box_Opened\",\n",
    "    \"BonusAmountNumeric\",\n",
    "    \"Memory_Max\",\n",
    "    \"Memory_Max_Recoded\",\n",
    "    \"Condition\",\n",
    "    \"Label_Category\",\n",
    "    \"Excluded\",\n",
    "    \"Excluded_If_Recoded\",\n",
    "]\n",
    "df_clean = df[cols].clean_names()\n",
    "df_clean.to_csv(f\"../Data/{STUDY_NAME}/CleanData.csv\", index=None, encoding=\"utf-8\")"
   ]
  }
 ],
 "metadata": {
  "kernelspec": {
   "display_name": "Python 3",
   "language": "python",
   "name": "python3"
  },
  "language_info": {
   "codemirror_mode": {
    "name": "ipython",
    "version": 3
   },
   "file_extension": ".py",
   "mimetype": "text/x-python",
   "name": "python",
   "nbconvert_exporter": "python",
   "pygments_lexer": "ipython3",
   "version": "3.6.10"
  }
 },
 "nbformat": 4,
 "nbformat_minor": 4
}
