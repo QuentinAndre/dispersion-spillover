{
 "cells": [
  {
   "cell_type": "code",
   "execution_count": 1,
   "metadata": {},
   "outputs": [],
   "source": [
    "\n",
    "import pandas as pd\n",
    "import numpy as np\n",
    "import seaborn as sns\n",
    "import statsmodels.formula.api as smf\n",
    "from patsy.categorical import C\n",
    "from patsy.contrasts import Sum\n",
    "from statsmodels.regression.mixed_linear_model import MixedLM\n",
    "import matplotlib as mpl\n",
    "import matplotlib.pyplot as plt\n",
    "from scipy.stats import kurtosis"
   ]
  },
  {
   "cell_type": "markdown",
   "metadata": {},
   "source": [
    "# Keeping Range Constant"
   ]
  },
  {
   "cell_type": "markdown",
   "metadata": {},
   "source": [
    "## Design"
   ]
  },
  {
   "cell_type": "markdown",
   "metadata": {},
   "source": [
    "Participants saw two distributions:\n",
    "\n",
    "* Focal: Normal Distribution SD, $\\sigma = 3.1$\n",
    "* Manipulated: Normal Distribution, $\\sigma = 3.1$ or Uniform, $\\sigma = 4.6$, same range."
   ]
  },
  {
   "cell_type": "code",
   "execution_count": 2,
   "metadata": {},
   "outputs": [
    {
     "data": {
      "image/png": "[encoded data removed]",
      "text/plain": [
       "<Figure size 864x432 with 1 Axes>"
      ]
     },
     "metadata": {},
     "output_type": "display_data"
    }
   ],
   "source": [
    "sns.set_style(\"ticks\")\n",
    "fig, ax = plt.subplots(1, figsize=(12, 6))\n",
    "plt.hist(dist_normal, bins = np.arange(15, 35, 2), histtype=\"bar\", alpha=0.5, label=\"Normal\", rwidth=.8);\n",
    "plt.hist(dist_uniform, bins = np.arange(15, 35, 2), histtype=\"bar\", alpha=0.5, label=\"Uniform\", rwidth=.8);\n",
    "sns.despine()\n",
    "ax.set_xlabel(\"Price Tag\")\n",
    "ax.set_ylabel(\"Number of Prices Shown\")\n",
    "ax.set_xticks(np.arange(16, 36, 2))\n",
    "ax.set_xticklabels([f\"${i}\" for i in np.arange(16, 36, 2)]);\n",
    "ax.set_xlim(15, 35)\n",
    "plt.legend(frameon=False);"
   ]
  },
  {
   "cell_type": "markdown",
   "metadata": {},
   "source": [
    "## Analysis"
   ]
  },
  {
   "cell_type": "markdown",
   "metadata": {},
   "source": [
    "### Descriptive statistics"
   ]
  },
  {
   "cell_type": "markdown",
   "metadata": {},
   "source": [
    "Number of participants:"
   ]
  },
  {
   "cell_type": "code",
   "execution_count": 3,
   "metadata": {},
   "outputs": [
    {
     "ename": "NameError",
     "evalue": "name 'df_dist' is not defined",
     "output_type": "error",
     "traceback": [
      "\u001b[1;31m---------------------------------------------------------------------------\u001b[0m",
      "\u001b[1;31mNameError\u001b[0m                                 Traceback (most recent call last)",
      "\u001b[1;32m<ipython-input-3-101bc09e1ef1>\u001b[0m in \u001b[0;36m<module>\u001b[1;34m\u001b[0m\n\u001b[1;32m----> 1\u001b[1;33m df_std = (df_dist\n\u001b[0m\u001b[0;32m      2\u001b[0m           \u001b[1;33m.\u001b[0m\u001b[0mgroupby\u001b[0m\u001b[1;33m(\u001b[0m\u001b[1;33m[\u001b[0m\u001b[1;34m\"pid\"\u001b[0m\u001b[1;33m,\u001b[0m \u001b[1;34m\"turkid\"\u001b[0m\u001b[1;33m,\u001b[0m \u001b[1;34m\"wine\"\u001b[0m\u001b[1;33m,\u001b[0m \u001b[1;34m\"is_manipulated\"\u001b[0m\u001b[1;33m,\u001b[0m \u001b[1;34m\"shape_manipulated\"\u001b[0m\u001b[1;33m,\u001b[0m \u001b[1;34m\"name_manipulated\"\u001b[0m\u001b[1;33m]\u001b[0m\u001b[1;33m)\u001b[0m\u001b[1;33m\u001b[0m\u001b[1;33m\u001b[0m\u001b[0m\n\u001b[0;32m      3\u001b[0m           .agg({\"value\":{\n\u001b[0;32m      4\u001b[0m               \u001b[1;34m\"mean\"\u001b[0m\u001b[1;33m:\u001b[0m \u001b[0mnp\u001b[0m\u001b[1;33m.\u001b[0m\u001b[0mmean\u001b[0m\u001b[1;33m,\u001b[0m\u001b[1;33m\u001b[0m\u001b[1;33m\u001b[0m\u001b[0m\n\u001b[0;32m      5\u001b[0m               \u001b[1;34m\"sd\"\u001b[0m\u001b[1;33m:\u001b[0m\u001b[0mnp\u001b[0m\u001b[1;33m.\u001b[0m\u001b[0mstd\u001b[0m\u001b[1;33m,\u001b[0m\u001b[1;33m\u001b[0m\u001b[1;33m\u001b[0m\u001b[0m\n",
      "\u001b[1;31mNameError\u001b[0m: name 'df_dist' is not defined"
     ]
    }
   ],
   "source": [
    "df_std = (df_dist\n",
    "          .groupby([\"pid\", \"turkid\", \"wine\", \"is_manipulated\", \"shape_manipulated\", \"name_manipulated\"])\n",
    "          .agg({\"value\":{\n",
    "              \"mean\": np.mean, \n",
    "              \"sd\":np.std, \n",
    "              \"var\": lambda x: np.std(x)**2, \n",
    "              \"range\":lambda x: np.max(x) - np.min(x), \n",
    "              \"min\": np.min, \n",
    "              \"max\":np.max,\n",
    "              \"kurtosis\": lambda x: kurtosis(x, fisher=False)}})\n",
    "          .reset_index())\n",
    "df_std.columns = ['_'.join(col).strip(\"_\") for col in df_std.columns.values]\n",
    "df_std[\"legend_manipulated\"] = df_std.is_manipulated.map({False: \"Common\", True:\"Manipulated\"})\n",
    "df_std[\"shape_manipulated\"] = df_std.shape_manipulated.map({\"Same\": \"Normal\", \"Uniform\": \"Uniform\"})\n",
    "df_std.shape[0]"
   ]
  },
  {
   "cell_type": "markdown",
   "metadata": {},
   "source": [
    "### SD of reported distributions"
   ]
  },
  {
   "cell_type": "code",
   "execution_count": 73,
   "metadata": {},
   "outputs": [
    {
     "data": {
      "image/png": "[encoded data removed]",
      "text/plain": [
       "<Figure size 459.36x306.24 with 1 Axes>"
      ]
     },
     "metadata": {},
     "output_type": "display_data"
    },
    {
     "data": {
      "text/html": [
       "<table class=\"simpletable\">\n",
       "<tr>\n",
       "       <td>Model:</td>       <td>MixedLM</td> <td>Dependent Variable:</td> <td>SD of Reported Distribution</td>\n",
       "</tr>\n",
       "<tr>\n",
       "  <td>No. Observations:</td>   <td>790</td>         <td>Method:</td>                  <td>REML</td>            \n",
       "</tr>\n",
       "<tr>\n",
       "     <td>No. Groups:</td>      <td>395</td>         <td>Scale:</td>                  <td>0.6644</td>           \n",
       "</tr>\n",
       "<tr>\n",
       "  <td>Min. group size:</td>     <td>2</td>        <td>Likelihood:</td>             <td>-1353.7385</td>         \n",
       "</tr>\n",
       "<tr>\n",
       "  <td>Max. group size:</td>     <td>2</td>        <td>Converged:</td>                  <td>Yes</td>            \n",
       "</tr>\n",
       "<tr>\n",
       "  <td>Mean group size:</td>    <td>2.0</td>            <td></td>                        <td></td>              \n",
       "</tr>\n",
       "</table>\n",
       "<table class=\"simpletable\">\n",
       "<tr>\n",
       "               <td></td>               <th>Coef.</th> <th>Std.Err.</th>    <th>z</th>   <th>P>|z|</th> <th>[0.025</th> <th>0.975]</th>\n",
       "</tr>\n",
       "<tr>\n",
       "  <th>Intercept</th>                   <td>3.767</td>   <td>0.111</td>  <td>33.955</td> <td>0.000</td>  <td>3.549</td>  <td>3.984</td>\n",
       "</tr>\n",
       "<tr>\n",
       "  <th>Uniform (vs. Normal)</th>        <td>0.594</td>   <td>0.156</td>   <td>3.809</td> <td>0.000</td>  <td>0.288</td>  <td>0.899</td>\n",
       "</tr>\n",
       "<tr>\n",
       "  <th>Manipulated (vs. Common)</th>   <td>-0.146</td>   <td>0.083</td>  <td>-1.774</td> <td>0.076</td> <td>-0.308</td>  <td>0.015</td>\n",
       "</tr>\n",
       "<tr>\n",
       "  <th>Interaction</th>                 <td>0.292</td>   <td>0.116</td>   <td>2.520</td> <td>0.012</td>  <td>0.065</td>  <td>0.520</td>\n",
       "</tr>\n",
       "<tr>\n",
       "  <th>Participant Random Effects</th>  <td>2.068</td>   <td>0.297</td>     <td></td>      <td></td>       <td></td>       <td></td>   \n",
       "</tr>\n",
       "</table>"
      ],
      "text/plain": [
       "<class 'statsmodels.iolib.summary2.Summary'>\n",
       "\"\"\"\n",
       "                  Mixed Linear Model Regression Results\n",
       "=========================================================================\n",
       "Model:            MixedLM Dependent Variable: SD of Reported Distribution\n",
       "No. Observations: 790     Method:             REML                       \n",
       "No. Groups:       395     Scale:              0.6644                     \n",
       "Min. group size:  2       Likelihood:         -1353.7385                 \n",
       "Max. group size:  2       Converged:          Yes                        \n",
       "Mean group size:  2.0                                                    \n",
       "-------------------------------------------------------------------------\n",
       "                               Coef.  Std.Err.   z    P>|z| [0.025 0.975]\n",
       "-------------------------------------------------------------------------\n",
       "Intercept                       3.767    0.111 33.955 0.000  3.549  3.984\n",
       "Uniform (vs. Normal)            0.594    0.156  3.809 0.000  0.288  0.899\n",
       "Manipulated (vs. Common)       -0.146    0.083 -1.774 0.076 -0.308  0.015\n",
       "Interaction                     0.292    0.116  2.520 0.012  0.065  0.520\n",
       "Participant Random Effects      2.068    0.297                           \n",
       "=========================================================================\n",
       "\n",
       "\"\"\""
      ]
     },
     "execution_count": 73,
     "metadata": {},
     "output_type": "execute_result"
    }
   ],
   "source": [
    "g = sns.catplot(x=\"shape_manipulated\", y=\"value_sd\",data=df_std, hue=\"legend_manipulated\",\n",
    "                hue_order=['Common', 'Manipulated'], legend=False, kind=\"bar\", aspect=1.5, \n",
    "                height=6.38/1.5)\n",
    "g.set_xlabels(\"\")\n",
    "g.ax.legend(title=\"\", frameon=False, loc=\"upper left\")\n",
    "g.ax.set_ylim(3, 5)\n",
    "g.set_ylabels(\"SD of Reported Dist\")\n",
    "plt.show()\n",
    "model = smf.mixedlm(\"value_sd ~ C(shape_manipulated)\\\n",
    "                    *C(is_manipulated, Diff, levels=[False, True])\", \n",
    "                    data=df_std, groups=df_std.turkid).fit()\n",
    "model.summary(xname_fe=['Intercept',\n",
    "                       'Uniform (vs. Normal)',\n",
    "                       'Manipulated (vs. Common)',\n",
    "                       'Interaction'],\n",
    "             yname=\"SD of Reported Distribution\",\n",
    "             xname_re=[\"Participant Random Effects\"])"
   ]
  },
  {
   "cell_type": "markdown",
   "metadata": {},
   "source": [
    "Exposure to another distribution with more weight on the tail inflated people's perception of dispersion."
   ]
  },
  {
   "cell_type": "markdown",
   "metadata": {},
   "source": [
    "### Kurtosis of reported distributions"
   ]
  },
  {
   "cell_type": "code",
   "execution_count": 78,
   "metadata": {},
   "outputs": [
    {
     "data": {
      "image/png": "[encoded data removed]",
      "text/plain": [
       "<Figure size 459.36x306.24 with 1 Axes>"
      ]
     },
     "metadata": {},
     "output_type": "display_data"
    },
    {
     "data": {
      "text/html": [
       "<table class=\"simpletable\">\n",
       "<tr>\n",
       "       <td>Model:</td>       <td>MixedLM</td> <td>Dependent Variable:</td> <td>SD of Reported Distribution</td>\n",
       "</tr>\n",
       "<tr>\n",
       "  <td>No. Observations:</td>   <td>790</td>         <td>Method:</td>                  <td>REML</td>            \n",
       "</tr>\n",
       "<tr>\n",
       "     <td>No. Groups:</td>      <td>395</td>         <td>Scale:</td>                  <td>0.3055</td>           \n",
       "</tr>\n",
       "<tr>\n",
       "  <td>Min. group size:</td>     <td>2</td>        <td>Likelihood:</td>              <td>-798.1751</td>         \n",
       "</tr>\n",
       "<tr>\n",
       "  <td>Max. group size:</td>     <td>2</td>        <td>Converged:</td>                  <td>Yes</td>            \n",
       "</tr>\n",
       "<tr>\n",
       "  <td>Mean group size:</td>    <td>2.0</td>            <td></td>                        <td></td>              \n",
       "</tr>\n",
       "</table>\n",
       "<table class=\"simpletable\">\n",
       "<tr>\n",
       "               <td></td>               <th>Coef.</th> <th>Std.Err.</th>    <th>z</th>   <th>P>|z|</th> <th>[0.025</th> <th>0.975]</th>\n",
       "</tr>\n",
       "<tr>\n",
       "  <th>Intercept</th>                   <td>2.477</td>   <td>0.040</td>  <td>62.249</td> <td>0.000</td>  <td>2.399</td>  <td>2.555</td>\n",
       "</tr>\n",
       "<tr>\n",
       "  <th>Uniform (vs. Normal)</th>       <td>-0.267</td>   <td>0.056</td>  <td>-4.769</td> <td>0.000</td> <td>-0.376</td> <td>-0.157</td>\n",
       "</tr>\n",
       "<tr>\n",
       "  <th>Manipulated (vs. Common)</th>    <td>0.049</td>   <td>0.056</td>   <td>0.867</td> <td>0.386</td> <td>-0.061</td>  <td>0.158</td>\n",
       "</tr>\n",
       "<tr>\n",
       "  <th>Interaction</th>                <td>-0.085</td>   <td>0.079</td>  <td>-1.086</td> <td>0.277</td> <td>-0.240</td>  <td>0.069</td>\n",
       "</tr>\n",
       "<tr>\n",
       "  <th>Participant Random Effects</th>  <td>0.156</td>   <td>0.056</td>     <td></td>      <td></td>       <td></td>       <td></td>   \n",
       "</tr>\n",
       "</table>"
      ],
      "text/plain": [
       "<class 'statsmodels.iolib.summary2.Summary'>\n",
       "\"\"\"\n",
       "                  Mixed Linear Model Regression Results\n",
       "=========================================================================\n",
       "Model:            MixedLM Dependent Variable: SD of Reported Distribution\n",
       "No. Observations: 790     Method:             REML                       \n",
       "No. Groups:       395     Scale:              0.3055                     \n",
       "Min. group size:  2       Likelihood:         -798.1751                  \n",
       "Max. group size:  2       Converged:          Yes                        \n",
       "Mean group size:  2.0                                                    \n",
       "-------------------------------------------------------------------------\n",
       "                               Coef.  Std.Err.   z    P>|z| [0.025 0.975]\n",
       "-------------------------------------------------------------------------\n",
       "Intercept                       2.477    0.040 62.249 0.000  2.399  2.555\n",
       "Uniform (vs. Normal)           -0.267    0.056 -4.769 0.000 -0.376 -0.157\n",
       "Manipulated (vs. Common)        0.049    0.056  0.867 0.386 -0.061  0.158\n",
       "Interaction                    -0.085    0.079 -1.086 0.277 -0.240  0.069\n",
       "Participant Random Effects      0.156    0.056                           \n",
       "=========================================================================\n",
       "\n",
       "\"\"\""
      ]
     },
     "execution_count": 78,
     "metadata": {},
     "output_type": "execute_result"
    }
   ],
   "source": [
    "g = sns.catplot(x=\"shape_manipulated\", y=\"value_kurtosis\",data=df_std, hue=\"legend_manipulated\",\n",
    "                hue_order=['Common', 'Manipulated'], legend=False, kind=\"bar\", aspect=1.5, \n",
    "                height=6.38/1.5)\n",
    "g.set_xlabels(\"\")\n",
    "g.ax.legend(title=\"\", frameon=False, loc=\"upper right\")\n",
    "g.ax.set_ylim(2, 2.8)\n",
    "g.set_ylabels(\"Kurtosis of Reported Dist\")\n",
    "plt.show();\n",
    "model = smf.mixedlm(\"value_kurtosis ~ C(shape_manipulated)\\\n",
    "                    *C(is_manipulated, Diff, levels=[False, True])\", \n",
    "                    data=df_std, groups=df_std.turkid).fit()\n",
    "model.summary(xname_fe=['Intercept',\n",
    "                       'Uniform (vs. Normal)',\n",
    "                       'Manipulated (vs. Common)',\n",
    "                       'Interaction'],\n",
    "             yname=\"SD of Reported Distribution\",\n",
    "             xname_re=[\"Participant Random Effects\"])"
   ]
  },
  {
   "cell_type": "markdown",
   "metadata": {},
   "source": [
    "This effect is driven by a lower kurtosis: People put more weight on the tails of the distributions after learning a uniform (vs. normal) distribution."
   ]
  },
  {
   "cell_type": "markdown",
   "metadata": {},
   "source": [
    "### Min of reported distributions"
   ]
  },
  {
   "cell_type": "code",
   "execution_count": 86,
   "metadata": {},
   "outputs": [
    {
     "data": {
      "image/png": "[encoded data removed]",
      "text/plain": [
       "<Figure size 459.36x306.24 with 1 Axes>"
      ]
     },
     "metadata": {},
     "output_type": "display_data"
    },
    {
     "data": {
      "text/html": [
       "<table class=\"simpletable\">\n",
       "<tr>\n",
       "       <td>Model:</td>       <td>MixedLM</td> <td>Dependent Variable:</td> <td>SD of Reported Distribution</td>\n",
       "</tr>\n",
       "<tr>\n",
       "  <td>No. Observations:</td>   <td>790</td>         <td>Method:</td>                  <td>REML</td>            \n",
       "</tr>\n",
       "<tr>\n",
       "     <td>No. Groups:</td>      <td>395</td>         <td>Scale:</td>                  <td>4.5343</td>           \n",
       "</tr>\n",
       "<tr>\n",
       "  <td>Min. group size:</td>     <td>2</td>        <td>Likelihood:</td>             <td>-2033.4298</td>         \n",
       "</tr>\n",
       "<tr>\n",
       "  <td>Max. group size:</td>     <td>2</td>        <td>Converged:</td>                  <td>Yes</td>            \n",
       "</tr>\n",
       "<tr>\n",
       "  <td>Mean group size:</td>    <td>2.0</td>            <td></td>                        <td></td>              \n",
       "</tr>\n",
       "</table>\n",
       "<table class=\"simpletable\">\n",
       "<tr>\n",
       "               <td></td>               <th>Coef.</th> <th>Std.Err.</th>    <th>z</th>   <th>P>|z|</th> <th>[0.025</th> <th>0.975]</th>\n",
       "</tr>\n",
       "<tr>\n",
       "  <th>Intercept</th>                  <td>18.564</td>   <td>0.239</td>  <td>77.540</td> <td>0.000</td> <td>18.095</td> <td>19.033</td>\n",
       "</tr>\n",
       "<tr>\n",
       "  <th>Uniform (vs. Normal)</th>       <td>-0.529</td>   <td>0.336</td>  <td>-1.573</td> <td>0.116</td> <td>-1.189</td>  <td>0.130</td>\n",
       "</tr>\n",
       "<tr>\n",
       "  <th>Manipulated (vs. Common)</th>    <td>0.021</td>   <td>0.216</td>   <td>0.095</td> <td>0.924</td> <td>-0.402</td>  <td>0.443</td>\n",
       "</tr>\n",
       "<tr>\n",
       "  <th>Interaction</th>                <td>-0.031</td>   <td>0.303</td>  <td>-0.101</td> <td>0.920</td> <td>-0.625</td>  <td>0.563</td>\n",
       "</tr>\n",
       "<tr>\n",
       "  <th>Participant Random Effects</th>  <td>8.910</td>   <td>0.530</td>     <td></td>      <td></td>       <td></td>       <td></td>   \n",
       "</tr>\n",
       "</table>"
      ],
      "text/plain": [
       "<class 'statsmodels.iolib.summary2.Summary'>\n",
       "\"\"\"\n",
       "                  Mixed Linear Model Regression Results\n",
       "=========================================================================\n",
       "Model:            MixedLM Dependent Variable: SD of Reported Distribution\n",
       "No. Observations: 790     Method:             REML                       \n",
       "No. Groups:       395     Scale:              4.5343                     \n",
       "Min. group size:  2       Likelihood:         -2033.4298                 \n",
       "Max. group size:  2       Converged:          Yes                        \n",
       "Mean group size:  2.0                                                    \n",
       "-------------------------------------------------------------------------\n",
       "                               Coef.  Std.Err.   z    P>|z| [0.025 0.975]\n",
       "-------------------------------------------------------------------------\n",
       "Intercept                      18.564    0.239 77.540 0.000 18.095 19.033\n",
       "Uniform (vs. Normal)           -0.529    0.336 -1.573 0.116 -1.189  0.130\n",
       "Manipulated (vs. Common)        0.021    0.216  0.095 0.924 -0.402  0.443\n",
       "Interaction                    -0.031    0.303 -0.101 0.920 -0.625  0.563\n",
       "Participant Random Effects      8.910    0.530                           \n",
       "=========================================================================\n",
       "\n",
       "\"\"\""
      ]
     },
     "execution_count": 86,
     "metadata": {},
     "output_type": "execute_result"
    }
   ],
   "source": [
    "g = sns.catplot(x=\"shape_manipulated\", y=\"value_min\",data=df_std, hue=\"legend_manipulated\",\n",
    "                hue_order=['Common', 'Manipulated'], legend=False, kind=\"bar\", aspect=1.5, \n",
    "                height=6.38/1.5)\n",
    "g.set_xlabels(\"\")\n",
    "g.ax.legend(title=\"\", frameon=False, loc=\"upper right\")\n",
    "g.ax.set_ylim(17, 20)\n",
    "g.set_ylabels(\"Range of Reported Dist\")\n",
    "plt.show();\n",
    "model = smf.mixedlm(\"value_min ~ C(shape_manipulated)\\\n",
    "                    *C(is_manipulated, Diff, levels=[False, True])\", \n",
    "                    data=df_std, groups=df_std.turkid).fit()\n",
    "model.summary(xname_fe=['Intercept',\n",
    "                       'Uniform (vs. Normal)',\n",
    "                       'Manipulated (vs. Common)',\n",
    "                       'Interaction'],\n",
    "             yname=\"SD of Reported Distribution\",\n",
    "             xname_re=[\"Participant Random Effects\"])"
   ]
  },
  {
   "cell_type": "markdown",
   "metadata": {},
   "source": [
    "In contrast, we do not observe a similar effect on the minimum price reported."
   ]
  },
  {
   "cell_type": "code",
   "execution_count": 9,
   "metadata": {},
   "outputs": [
    {
     "name": "stdout",
     "output_type": "stream",
     "text": [
      "                               Mixed Linear Model Regression Results\n",
      "====================================================================================================\n",
      "Model:                            MixedLM               Dependent Variable:               value_sd  \n",
      "No. Observations:                 790                   Method:                           REML      \n",
      "No. Groups:                       395                   Scale:                            0.6644    \n",
      "Min. group size:                  2                     Likelihood:                       -1353.7385\n",
      "Max. group size:                  2                     Converged:                        Yes       \n",
      "Mean group size:                  2.0                                                               \n",
      "----------------------------------------------------------------------------------------------------\n",
      "                                                          Coef.  Std.Err.   z    P>|z| [0.025 0.975]\n",
      "----------------------------------------------------------------------------------------------------\n",
      "Intercept                                                  3.840    0.118 32.442 0.000  3.608  4.072\n",
      "C(shape_manipulated)[T.Uniform]                            0.448    0.166  2.691 0.007  0.122  0.774\n",
      "C(is_manipulated)[T.True]                                 -0.146    0.083 -1.774 0.076 -0.308  0.015\n",
      "C(shape_manipulated)[T.Uniform]:C(is_manipulated)[T.True]  0.292    0.116  2.520 0.012  0.065  0.520\n",
      "Group Var                                                  2.068    0.297                           \n",
      "====================================================================================================\n",
      "\n",
      "                                Mixed Linear Model Regression Results\n",
      "=====================================================================================================\n",
      "Model:                           MixedLM                Dependent Variable:                value_var \n",
      "No. Observations:                790                    Method:                            REML      \n",
      "No. Groups:                      395                    Scale:                             129.6011  \n",
      "Min. group size:                 2                      Likelihood:                        -3425.6362\n",
      "Max. group size:                 2                      Converged:                         Yes       \n",
      "Mean group size:                 2.0                                                                 \n",
      "-----------------------------------------------------------------------------------------------------\n",
      "                                                           Coef.  Std.Err.   z    P>|z| [0.025 0.975]\n",
      "-----------------------------------------------------------------------------------------------------\n",
      "Intercept                                                  16.436    1.651  9.953 0.000 13.199 19.672\n",
      "C(shape_manipulated)[T.Uniform]                             4.113    2.321  1.772 0.076 -0.435  8.661\n",
      "C(is_manipulated)[T.True]                                  -1.415    1.153 -1.228 0.220 -3.675  0.844\n",
      "C(shape_manipulated)[T.Uniform]:C(is_manipulated)[T.True]   2.919    1.620  1.801 0.072 -0.257  6.094\n",
      "Group Var                                                 402.094    4.138                           \n",
      "=====================================================================================================\n",
      "\n",
      "                               Mixed Linear Model Regression Results\n",
      "====================================================================================================\n",
      "Model:                           MixedLM               Dependent Variable:               value_range\n",
      "No. Observations:                790                   Method:                           REML       \n",
      "No. Groups:                      395                   Scale:                            6.4978     \n",
      "Min. group size:                 2                     Likelihood:                       -2253.8213 \n",
      "Max. group size:                 2                     Converged:                        Yes        \n",
      "Mean group size:                 2.0                                                                \n",
      "----------------------------------------------------------------------------------------------------\n",
      "                                                          Coef.  Std.Err.   z    P>|z| [0.025 0.975]\n",
      "----------------------------------------------------------------------------------------------------\n",
      "Intercept                                                 13.426    0.373 35.953 0.000 12.694 14.158\n",
      "C(shape_manipulated)[T.Uniform]                            0.784    0.525  1.495 0.135 -0.244  1.813\n",
      "C(is_manipulated)[T.True]                                 -0.492    0.258 -1.907 0.057 -0.998  0.014\n",
      "C(shape_manipulated)[T.Uniform]:C(is_manipulated)[T.True]  0.752    0.363  2.074 0.038  0.041  1.463\n",
      "Group Var                                                 20.694    0.948                           \n",
      "====================================================================================================\n",
      "\n",
      "                               Mixed Linear Model Regression Results\n",
      "====================================================================================================\n",
      "Model:                            MixedLM               Dependent Variable:               value_min \n",
      "No. Observations:                 790                   Method:                           REML      \n",
      "No. Groups:                       395                   Scale:                            4.5343    \n",
      "Min. group size:                  2                     Likelihood:                       -2033.4298\n",
      "Max. group size:                  2                     Converged:                        Yes       \n",
      "Mean group size:                  2.0                                                               \n",
      "----------------------------------------------------------------------------------------------------\n",
      "                                                          Coef.  Std.Err.   z    P>|z| [0.025 0.975]\n",
      "----------------------------------------------------------------------------------------------------\n",
      "Intercept                                                 18.554    0.263 70.661 0.000 18.039 19.068\n",
      "C(shape_manipulated)[T.Uniform]                           -0.514    0.369 -1.393 0.164 -1.237  0.209\n",
      "C(is_manipulated)[T.True]                                  0.021    0.216  0.095 0.924 -0.402  0.443\n",
      "C(shape_manipulated)[T.Uniform]:C(is_manipulated)[T.True] -0.031    0.303 -0.101 0.920 -0.625  0.563\n",
      "Group Var                                                  8.910    0.530                           \n",
      "====================================================================================================\n",
      "\n",
      "                                Mixed Linear Model Regression Results\n",
      "=====================================================================================================\n",
      "Model:                           MixedLM                Dependent Variable:                value_max \n",
      "No. Observations:                790                    Method:                            REML      \n",
      "No. Groups:                      395                    Scale:                             4.2800    \n",
      "Min. group size:                 2                      Likelihood:                        -2077.5832\n",
      "Max. group size:                 2                      Converged:                         Yes       \n",
      "Mean group size:                 2.0                                                                 \n",
      "-----------------------------------------------------------------------------------------------------\n",
      "                                                          Coef.  Std.Err.    z    P>|z| [0.025 0.975]\n",
      "-----------------------------------------------------------------------------------------------------\n",
      "Intercept                                                 31.979    0.295 108.422 0.000 31.401 32.558\n",
      "C(shape_manipulated)[T.Uniform]                            0.271    0.415   0.653 0.514 -0.542  1.083\n",
      "C(is_manipulated)[T.True]                                 -0.472    0.210  -2.252 0.024 -0.882 -0.061\n",
      "C(shape_manipulated)[T.Uniform]:C(is_manipulated)[T.True]  0.722    0.294   2.451 0.014  0.145  1.299\n",
      "Group Var                                                 12.685    0.723                            \n",
      "=====================================================================================================\n",
      "\n"
     ]
    }
   ],
   "source": [
    "for stats in [\"sd\", \"var\", \"range\", \"min\", \"max\"]:\n",
    "    print(smf.mixedlm(f\"value_{stats} ~ C(shape_manipulated)*C(is_manipulated)\", data=df_std, groups=df_std.pid).fit().summary())"
   ]
  },
  {
   "cell_type": "code",
   "execution_count": 148,
   "metadata": {},
   "outputs": [
    {
     "data": {
      "text/html": [
       "<table class=\"simpletable\">\n",
       "<tr>\n",
       "       <td>Model:</td>       <td>MixedLM</td> <td>Dependent Variable:</td> <td>is_phantom_sum</td>\n",
       "</tr>\n",
       "<tr>\n",
       "  <td>No. Observations:</td>   <td>790</td>         <td>Method:</td>            <td>REML</td>     \n",
       "</tr>\n",
       "<tr>\n",
       "     <td>No. Groups:</td>      <td>395</td>         <td>Scale:</td>            <td>3.1049</td>    \n",
       "</tr>\n",
       "<tr>\n",
       "  <td>Min. group size:</td>     <td>2</td>        <td>Likelihood:</td>       <td>-2009.0002</td>  \n",
       "</tr>\n",
       "<tr>\n",
       "  <td>Max. group size:</td>     <td>2</td>        <td>Converged:</td>            <td>Yes</td>     \n",
       "</tr>\n",
       "<tr>\n",
       "  <td>Mean group size:</td>    <td>2.0</td>            <td></td>                  <td></td>       \n",
       "</tr>\n",
       "</table>\n",
       "<table class=\"simpletable\">\n",
       "<tr>\n",
       "                              <td></td>                               <th>Coef.</th> <th>Std.Err.</th>    <th>z</th>   <th>P>|z|</th> <th>[0.025</th> <th>0.975]</th>\n",
       "</tr>\n",
       "<tr>\n",
       "  <th>Intercept</th>                                                  <td>1.554</td>   <td>0.286</td>   <td>5.430</td> <td>0.000</td>  <td>0.993</td>  <td>2.115</td>\n",
       "</tr>\n",
       "<tr>\n",
       "  <th>C(is_manipulated)[T.True]</th>                                  <td>0.128</td>   <td>0.178</td>   <td>0.718</td> <td>0.472</td> <td>-0.222</td>  <td>0.478</td>\n",
       "</tr>\n",
       "<tr>\n",
       "  <th>C(shape_manipulated)[T.Uniform]</th>                            <td>0.431</td>   <td>0.402</td>   <td>1.072</td> <td>0.284</td> <td>-0.357</td>  <td>1.219</td>\n",
       "</tr>\n",
       "<tr>\n",
       "  <th>C(is_manipulated)[T.True]:C(shape_manipulated)[T.Uniform]</th> <td>-0.258</td>   <td>0.251</td>  <td>-1.030</td> <td>0.303</td> <td>-0.750</td>  <td>0.233</td>\n",
       "</tr>\n",
       "<tr>\n",
       "  <th>Group Var</th>                                                 <td>12.862</td>   <td>0.825</td>     <td></td>      <td></td>       <td></td>       <td></td>   \n",
       "</tr>\n",
       "</table>"
      ],
      "text/plain": [
       "<class 'statsmodels.iolib.summary2.Summary'>\n",
       "\"\"\"\n",
       "                               Mixed Linear Model Regression Results\n",
       "====================================================================================================\n",
       "Model:                          MixedLM              Dependent Variable:              is_phantom_sum\n",
       "No. Observations:               790                  Method:                          REML          \n",
       "No. Groups:                     395                  Scale:                           3.1049        \n",
       "Min. group size:                2                    Likelihood:                      -2009.0002    \n",
       "Max. group size:                2                    Converged:                       Yes           \n",
       "Mean group size:                2.0                                                                 \n",
       "----------------------------------------------------------------------------------------------------\n",
       "                                                          Coef.  Std.Err.   z    P>|z| [0.025 0.975]\n",
       "----------------------------------------------------------------------------------------------------\n",
       "Intercept                                                  1.554    0.286  5.430 0.000  0.993  2.115\n",
       "C(is_manipulated)[T.True]                                  0.128    0.178  0.718 0.472 -0.222  0.478\n",
       "C(shape_manipulated)[T.Uniform]                            0.431    0.402  1.072 0.284 -0.357  1.219\n",
       "C(is_manipulated)[T.True]:C(shape_manipulated)[T.Uniform] -0.258    0.251 -1.030 0.303 -0.750  0.233\n",
       "Group Var                                                 12.862    0.825                           \n",
       "====================================================================================================\n",
       "\n",
       "\"\"\""
      ]
     },
     "execution_count": 148,
     "metadata": {},
     "output_type": "execute_result"
    }
   ],
   "source": [
    "model_std = smf.mixedlm(\"is_phantom_sum ~ C(is_manipulated)*C(shape_manipulated)\", data=df_std, groups=df_std.pid).fit()\n",
    "model_std.summary()"
   ]
  },
  {
   "cell_type": "markdown",
   "metadata": {},
   "source": [
    "The reported standard deviation is significantly influenced by the shape of the manipulated distribution, and participants perceive a distinction between the two distributions."
   ]
  },
  {
   "cell_type": "markdown",
   "metadata": {},
   "source": [
    "### Range of reported distributions"
   ]
  },
  {
   "cell_type": "code",
   "execution_count": 7,
   "metadata": {},
   "outputs": [
    {
     "data": {
      "image/png": "[encoded data removed]",
      "text/plain": [
       "<Figure size 459.36x306.24 with 1 Axes>"
      ]
     },
     "metadata": {},
     "output_type": "display_data"
    }
   ],
   "source": [
    "df_range = df_dist.groupby([\"pid\", \"turkid\", \"wine\", \"WineManipulated\", \"DistLabel\", \"ManipShape\"]).value.apply(\n",
    "    lambda x: np.max(x) - np.min(x)\n",
    ").reset_index()\n",
    "g = sns.catplot(x=\"ManipShape\", y=\"value\",data=df_range, hue=\"DistLabel\",\n",
    "                legend=False, kind=\"point\", aspect=1.5, height=6.38/1.5, legend_out=False, estimator=np.mean)\n",
    "g.set_xlabels(\"\")\n",
    "g.add_legend(title=\"\")\n",
    "g.set_ylabels(\"Range of Reported Dist\");"
   ]
  },
  {
   "cell_type": "code",
   "execution_count": 7,
   "metadata": {},
   "outputs": [
    {
     "data": {
      "image/png": "[encoded data removed]",
      "text/plain": [
       "<Figure size 459.36x306.24 with 1 Axes>"
      ]
     },
     "metadata": {},
     "output_type": "display_data"
    }
   ],
   "source": [
    "df_range = df_dist.groupby([\"pid\", \"turkid\", \"wine\", \"WineManipulated\", \"DistLabel\", \"ManipShape\"]).value.apply(\n",
    "    lambda x: np.max(x) - np.min(x)\n",
    ").reset_index()\n",
    "g = sns.catplot(x=\"ManipShape\", y=\"value\",data=df_range, hue=\"DistLabel\",\n",
    "                legend=False, kind=\"point\", aspect=1.5, height=6.38/1.5, legend_out=False, estimator=np.mean)\n",
    "g.set_xlabels(\"\")\n",
    "g.add_legend(title=\"\")\n",
    "g.set_ylabels(\"Range of Reported Dist\");"
   ]
  },
  {
   "cell_type": "code",
   "execution_count": 9,
   "metadata": {},
   "outputs": [
    {
     "data": {
      "text/html": [
       "<table class=\"simpletable\">\n",
       "<tr>\n",
       "       <td>Model:</td>       <td>MixedLM</td> <td>Dependent Variable:</td>    <td>value</td>  \n",
       "</tr>\n",
       "<tr>\n",
       "  <td>No. Observations:</td>   <td>790</td>         <td>Method:</td>          <td>REML</td>   \n",
       "</tr>\n",
       "<tr>\n",
       "     <td>No. Groups:</td>      <td>395</td>         <td>Scale:</td>          <td>6.4978</td>  \n",
       "</tr>\n",
       "<tr>\n",
       "  <td>Min. group size:</td>     <td>2</td>        <td>Likelihood:</td>     <td>-2253.8213</td>\n",
       "</tr>\n",
       "<tr>\n",
       "  <td>Max. group size:</td>     <td>2</td>        <td>Converged:</td>          <td>Yes</td>   \n",
       "</tr>\n",
       "<tr>\n",
       "  <td>Mean group size:</td>    <td>2.0</td>            <td></td>                <td></td>     \n",
       "</tr>\n",
       "</table>\n",
       "<table class=\"simpletable\">\n",
       "<tr>\n",
       "                            <td></td>                            <th>Coef.</th> <th>Std.Err.</th>    <th>z</th>   <th>P>|z|</th> <th>[0.025</th> <th>0.975]</th>\n",
       "</tr>\n",
       "<tr>\n",
       "  <th>Intercept</th>                                            <td>13.426</td>   <td>0.373</td>  <td>35.953</td> <td>0.000</td> <td>12.694</td> <td>14.158</td>\n",
       "</tr>\n",
       "<tr>\n",
       "  <th>C(ManipShape)[T.Uniform]</th>                              <td>0.784</td>   <td>0.525</td>   <td>1.495</td> <td>0.135</td> <td>-0.244</td>  <td>1.813</td>\n",
       "</tr>\n",
       "<tr>\n",
       "  <th>C(DistLabel)[T.Manipulated]</th>                          <td>-0.492</td>   <td>0.258</td>  <td>-1.907</td> <td>0.057</td> <td>-0.998</td>  <td>0.014</td>\n",
       "</tr>\n",
       "<tr>\n",
       "  <th>C(ManipShape)[T.Uniform]:C(DistLabel)[T.Manipulated]</th>  <td>0.752</td>   <td>0.363</td>   <td>2.074</td> <td>0.038</td>  <td>0.041</td>  <td>1.463</td>\n",
       "</tr>\n",
       "<tr>\n",
       "  <th>Group Var</th>                                            <td>20.694</td>   <td>0.948</td>     <td></td>      <td></td>       <td></td>       <td></td>   \n",
       "</tr>\n",
       "</table>"
      ],
      "text/plain": [
       "<class 'statsmodels.iolib.summary2.Summary'>\n",
       "\"\"\"\n",
       "                             Mixed Linear Model Regression Results\n",
       "===============================================================================================\n",
       "Model:                         MixedLM              Dependent Variable:              value     \n",
       "No. Observations:              790                  Method:                          REML      \n",
       "No. Groups:                    395                  Scale:                           6.4978    \n",
       "Min. group size:               2                    Likelihood:                      -2253.8213\n",
       "Max. group size:               2                    Converged:                       Yes       \n",
       "Mean group size:               2.0                                                             \n",
       "-----------------------------------------------------------------------------------------------\n",
       "                                                     Coef.  Std.Err.   z    P>|z| [0.025 0.975]\n",
       "-----------------------------------------------------------------------------------------------\n",
       "Intercept                                            13.426    0.373 35.953 0.000 12.694 14.158\n",
       "C(ManipShape)[T.Uniform]                              0.784    0.525  1.495 0.135 -0.244  1.813\n",
       "C(DistLabel)[T.Manipulated]                          -0.492    0.258 -1.907 0.057 -0.998  0.014\n",
       "C(ManipShape)[T.Uniform]:C(DistLabel)[T.Manipulated]  0.752    0.363  2.074 0.038  0.041  1.463\n",
       "Group Var                                            20.694    0.948                           \n",
       "===============================================================================================\n",
       "\n",
       "\"\"\""
      ]
     },
     "execution_count": 9,
     "metadata": {},
     "output_type": "execute_result"
    }
   ],
   "source": [
    "model_range = smf.mixedlm(\"value ~ C(ManipShape)*C(DistLabel)\", data=df_range, groups=df_range.pid).fit()\n",
    "model_range.summary()#yname=\"Range\", xname_fe=[\"Intercept\", \"Shape: Uniform\", \"Target: Manipulated\", \"Interaction\"])"
   ]
  },
  {
   "cell_type": "markdown",
   "metadata": {},
   "source": [
    "The reported range is significantly influenced by the shape of the manipulated distribution, and participants perceive a distinction between the two distributions. This speaks to the idea that the perceived dispersion of the distribution is not uniquely influence by the bounds of the distribution."
   ]
  },
  {
   "cell_type": "code",
   "execution_count": 112,
   "metadata": {},
   "outputs": [
    {
     "data": {
      "image/png": "[encoded data removed]",
      "text/plain": [
       "<Figure size 459.36x306.24 with 1 Axes>"
      ]
     },
     "metadata": {},
     "output_type": "display_data"
    }
   ],
   "source": [
    "df_kurt = df_dist.groupby([\"pid\", \"turkid\", \"wine\", \"WineManipulated\", \"DistLabel\", \"ManipShape\"]).value.apply(\n",
    "    lambda x: kurtosis(x)\n",
    ").reset_index()\n",
    "g = sns.catplot(x=\"ManipShape\", y=\"value\",data=df_kurt, hue=\"DistLabel\",\n",
    "                legend=False, kind=\"point\", aspect=1.5, height=6.38/1.5, legend_out=False, estimator=np.mean)\n",
    "g.set_xlabels(\"\")\n",
    "g.add_legend(title=\"\")\n",
    "g.set_ylabels(\"Kurtosis of Reported Dist\");"
   ]
  },
  {
   "cell_type": "code",
   "execution_count": 113,
   "metadata": {},
   "outputs": [
    {
     "data": {
      "text/html": [
       "<table class=\"simpletable\">\n",
       "<tr>\n",
       "       <td>Model:</td>       <td>MixedLM</td> <td>Dependent Variable:</td> <td>Kurtosis</td> \n",
       "</tr>\n",
       "<tr>\n",
       "  <td>No. Observations:</td>   <td>790</td>         <td>Method:</td>         <td>REML</td>   \n",
       "</tr>\n",
       "<tr>\n",
       "     <td>No. Groups:</td>      <td>395</td>         <td>Scale:</td>         <td>0.3055</td>  \n",
       "</tr>\n",
       "<tr>\n",
       "  <td>Min. group size:</td>     <td>2</td>        <td>Likelihood:</td>     <td>-798.1751</td>\n",
       "</tr>\n",
       "<tr>\n",
       "  <td>Max. group size:</td>     <td>2</td>        <td>Converged:</td>         <td>Yes</td>   \n",
       "</tr>\n",
       "<tr>\n",
       "  <td>Mean group size:</td>    <td>2.0</td>            <td></td>               <td></td>     \n",
       "</tr>\n",
       "</table>\n",
       "<table class=\"simpletable\">\n",
       "<tr>\n",
       "           <td></td>            <th>Coef.</th> <th>Std.Err.</th>    <th>z</th>    <th>P>|z|</th> <th>[0.025</th> <th>0.975]</th>\n",
       "</tr>\n",
       "<tr>\n",
       "  <th>Intercept</th>           <td>-0.547</td>   <td>0.049</td>  <td>-11.244</td> <td>0.000</td> <td>-0.642</td> <td>-0.452</td>\n",
       "</tr>\n",
       "<tr>\n",
       "  <th>Shape: Uniform</th>      <td>-0.224</td>   <td>0.068</td>  <td>-3.276</td>  <td>0.001</td> <td>-0.358</td> <td>-0.090</td>\n",
       "</tr>\n",
       "<tr>\n",
       "  <th>Target: Manipulated</th>  <td>0.049</td>   <td>0.056</td>   <td>0.867</td>  <td>0.386</td> <td>-0.061</td>  <td>0.158</td>\n",
       "</tr>\n",
       "<tr>\n",
       "  <th>Interaction</th>         <td>-0.085</td>   <td>0.079</td>  <td>-1.086</td>  <td>0.277</td> <td>-0.240</td>  <td>0.069</td>\n",
       "</tr>\n",
       "<tr>\n",
       "  <th>Group Var</th>            <td>0.156</td>   <td>0.056</td>     <td></td>       <td></td>       <td></td>       <td></td>   \n",
       "</tr>\n",
       "</table>"
      ],
      "text/plain": [
       "<class 'statsmodels.iolib.summary2.Summary'>\n",
       "\"\"\"\n",
       "             Mixed Linear Model Regression Results\n",
       "===============================================================\n",
       "Model:                MixedLM   Dependent Variable:   Kurtosis \n",
       "No. Observations:     790       Method:               REML     \n",
       "No. Groups:           395       Scale:                0.3055   \n",
       "Min. group size:      2         Likelihood:           -798.1751\n",
       "Max. group size:      2         Converged:            Yes      \n",
       "Mean group size:      2.0                                      \n",
       "---------------------------------------------------------------\n",
       "                    Coef.  Std.Err.    z    P>|z| [0.025 0.975]\n",
       "---------------------------------------------------------------\n",
       "Intercept           -0.547    0.049 -11.244 0.000 -0.642 -0.452\n",
       "Shape: Uniform      -0.224    0.068  -3.276 0.001 -0.358 -0.090\n",
       "Target: Manipulated  0.049    0.056   0.867 0.386 -0.061  0.158\n",
       "Interaction         -0.085    0.079  -1.086 0.277 -0.240  0.069\n",
       "Group Var            0.156    0.056                            \n",
       "===============================================================\n",
       "\n",
       "\"\"\""
      ]
     },
     "execution_count": 113,
     "metadata": {},
     "output_type": "execute_result"
    }
   ],
   "source": [
    "model_kurt = smf.mixedlm(\"value ~ C(ManipShape)*C(DistLabel)\", data=df_kurt, groups=df_kurt.pid).fit()\n",
    "model_kurt.summary(yname=\"Kurtosis\", xname_fe=[\"Intercept\", \"Shape: Uniform\", \"Target: Manipulated\", \"Interaction\"])"
   ]
  },
  {
   "cell_type": "code",
   "execution_count": 114,
   "metadata": {},
   "outputs": [
    {
     "data": {
      "image/png": "[encoded data removed]",
      "text/plain": [
       "<Figure size 360x360 with 1 Axes>"
      ]
     },
     "metadata": {},
     "output_type": "display_data"
    }
   ],
   "source": [
    "df_diff = df_kurt.groupby([\"pid\", \"ManipShape\", \"WineManipulated\"]).apply(\n",
    "    lambda x: x[x.DistLabel == \"Manipulated\"].value.iloc[0] - x[x.DistLabel == \"Common\"].value.iloc[0]\n",
    ").reset_index()\n",
    "df_diff.columns = [\"pid\", \"ManipShape\", \"WineManipulated\", \"diff\"]\n",
    "g = sns.catplot(data=df_diff, x=\"ManipShape\", y=\"diff\", order=[\"Normal\", \"Uniform\"], kind=\"point\", estimator=np.mean)\n",
    "g.set_ylabels(\"Difference in Kurtosis between Focal and Distractor\")\n",
    "g.set_xlabels(\"\");\n",
    "g.ax.axhline(0);"
   ]
  },
  {
   "cell_type": "code",
   "execution_count": 115,
   "metadata": {},
   "outputs": [
    {
     "data": {
      "text/html": [
       "<table class=\"simpletable\">\n",
       "<caption>OLS Regression Results</caption>\n",
       "<tr>\n",
       "  <th>Dep. Variable:</th>    <td>Difference in Kurtosis</td> <th>  R-squared:         </th> <td>   0.003</td>\n",
       "</tr>\n",
       "<tr>\n",
       "  <th>Model:</th>                      <td>OLS</td>          <th>  Adj. R-squared:    </th> <td>   0.000</td>\n",
       "</tr>\n",
       "<tr>\n",
       "  <th>Method:</th>                <td>Least Squares</td>     <th>  F-statistic:       </th> <td>   1.180</td>\n",
       "</tr>\n",
       "<tr>\n",
       "  <th>Date:</th>                <td>Fri, 09 Aug 2019</td>    <th>  Prob (F-statistic):</th>  <td> 0.278</td> \n",
       "</tr>\n",
       "<tr>\n",
       "  <th>Time:</th>                    <td>23:32:32</td>        <th>  Log-Likelihood:    </th> <td> -462.20</td>\n",
       "</tr>\n",
       "<tr>\n",
       "  <th>No. Observations:</th>         <td>   395</td>         <th>  AIC:               </th> <td>   928.4</td>\n",
       "</tr>\n",
       "<tr>\n",
       "  <th>Df Residuals:</th>             <td>   393</td>         <th>  BIC:               </th> <td>   936.4</td>\n",
       "</tr>\n",
       "<tr>\n",
       "  <th>Df Model:</th>                 <td>     1</td>         <th>                     </th>     <td> </td>   \n",
       "</tr>\n",
       "<tr>\n",
       "  <th>Covariance Type:</th>         <td>nonrobust</td>       <th>                     </th>     <td> </td>   \n",
       "</tr>\n",
       "</table>\n",
       "<table class=\"simpletable\">\n",
       "<tr>\n",
       "     <td></td>        <th>coef</th>     <th>std err</th>      <th>t</th>      <th>P>|t|</th>  <th>[0.025</th>    <th>0.975]</th>  \n",
       "</tr>\n",
       "<tr>\n",
       "  <th>Normal</th>  <td>    0.0486</td> <td>    0.056</td> <td>    0.867</td> <td> 0.386</td> <td>   -0.061</td> <td>    0.159</td>\n",
       "</tr>\n",
       "<tr>\n",
       "  <th>Uniform</th> <td>   -0.0369</td> <td>    0.055</td> <td>   -0.667</td> <td> 0.505</td> <td>   -0.146</td> <td>    0.072</td>\n",
       "</tr>\n",
       "</table>\n",
       "<table class=\"simpletable\">\n",
       "<tr>\n",
       "  <th>Omnibus:</th>       <td>399.482</td> <th>  Durbin-Watson:     </th> <td>   2.213</td> \n",
       "</tr>\n",
       "<tr>\n",
       "  <th>Prob(Omnibus):</th> <td> 0.000</td>  <th>  Jarque-Bera (JB):  </th> <td>39806.357</td>\n",
       "</tr>\n",
       "<tr>\n",
       "  <th>Skew:</th>          <td> 3.964</td>  <th>  Prob(JB):          </th> <td>    0.00</td> \n",
       "</tr>\n",
       "<tr>\n",
       "  <th>Kurtosis:</th>      <td>51.536</td>  <th>  Cond. No.          </th> <td>    1.01</td> \n",
       "</tr>\n",
       "</table><br/><br/>Warnings:<br/>[1] Standard Errors assume that the covariance matrix of the errors is correctly specified."
      ],
      "text/plain": [
       "<class 'statsmodels.iolib.summary.Summary'>\n",
       "\"\"\"\n",
       "                              OLS Regression Results                              \n",
       "==================================================================================\n",
       "Dep. Variable:     Difference in Kurtosis   R-squared:                       0.003\n",
       "Model:                                OLS   Adj. R-squared:                  0.000\n",
       "Method:                     Least Squares   F-statistic:                     1.180\n",
       "Date:                    Fri, 09 Aug 2019   Prob (F-statistic):              0.278\n",
       "Time:                            23:32:32   Log-Likelihood:                -462.20\n",
       "No. Observations:                     395   AIC:                             928.4\n",
       "Df Residuals:                         393   BIC:                             936.4\n",
       "Df Model:                               1                                         \n",
       "Covariance Type:                nonrobust                                         \n",
       "==============================================================================\n",
       "                 coef    std err          t      P>|t|      [0.025      0.975]\n",
       "------------------------------------------------------------------------------\n",
       "Normal         0.0486      0.056      0.867      0.386      -0.061       0.159\n",
       "Uniform       -0.0369      0.055     -0.667      0.505      -0.146       0.072\n",
       "==============================================================================\n",
       "Omnibus:                      399.482   Durbin-Watson:                   2.213\n",
       "Prob(Omnibus):                  0.000   Jarque-Bera (JB):            39806.357\n",
       "Skew:                           3.964   Prob(JB):                         0.00\n",
       "Kurtosis:                      51.536   Cond. No.                         1.01\n",
       "==============================================================================\n",
       "\n",
       "Warnings:\n",
       "[1] Standard Errors assume that the covariance matrix of the errors is correctly specified.\n",
       "\"\"\""
      ]
     },
     "execution_count": 115,
     "metadata": {},
     "output_type": "execute_result"
    }
   ],
   "source": [
    "smf.ols(\"diff ~ C(ManipShape)-1\", data=df_diff).fit().summary(yname=\"Difference in Kurtosis\", xname=[\"Normal\", \"Uniform\"])"
   ]
  },
  {
   "cell_type": "markdown",
   "metadata": {},
   "source": [
    "The reported kurtosis is significantly influenced by the shape of the manipulated distribution, but participants do not perceive any difference in kurtosis between the two distributions."
   ]
  }
 ],
 "metadata": {
  "kernelspec": {
   "display_name": "Python 3",
   "language": "python",
   "name": "python3"
  },
  "language_info": {
   "codemirror_mode": {
    "name": "ipython",
    "version": 3
   },
   "file_extension": ".py",
   "mimetype": "text/x-python",
   "name": "python",
   "nbconvert_exporter": "python",
   "pygments_lexer": "ipython3",
   "version": "3.6.10"
  }
 },
 "nbformat": 4,
 "nbformat_minor": 4
}
