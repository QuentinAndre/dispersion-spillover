{
 "cells": [
  {
   "cell_type": "code",
   "execution_count": 1,
   "metadata": {},
   "outputs": [],
   "source": [
    "import pandas as pd\n",
    "import numpy as np\n",
    "df = pd.read_pickle(\"../Data/Study 4/RawData.pickle\")"
   ]
  },
  {
   "cell_type": "markdown",
   "metadata": {},
   "source": [
    "Number of participants in database:"
   ]
  },
  {
   "cell_type": "code",
   "execution_count": 2,
   "metadata": {},
   "outputs": [
    {
     "data": {
      "text/plain": [
       "304"
      ]
     },
     "execution_count": 2,
     "metadata": {},
     "output_type": "execute_result"
    }
   ],
   "source": [
    "df.shape[0]"
   ]
  },
  {
   "cell_type": "markdown",
   "metadata": {},
   "source": [
    "Data collection started on:"
   ]
  },
  {
   "cell_type": "code",
   "execution_count": 3,
   "metadata": {},
   "outputs": [
    {
     "data": {
      "text/plain": [
       "'07-08-17 21:56'"
      ]
     },
     "execution_count": 3,
     "metadata": {},
     "output_type": "execute_result"
    }
   ],
   "source": [
    "df.startdate[0].strftime(\"%d-%m-%y %H:%M\")"
   ]
  },
  {
   "cell_type": "code",
   "execution_count": 4,
   "metadata": {},
   "outputs": [],
   "source": [
    "def has_both_allocations(x):\n",
    "    \"\"\"\n",
    "    Check if both allocations were correctly recorded.\n",
    "    \"\"\"\n",
    "    allocone_recorded = (len(x.alloc_item_one) == 25) if x.alloc_item_one else False\n",
    "    alloctwo_recorded = (len(x.alloc_item_two) == 25) if x.alloc_item_two else False\n",
    "    return allocone_recorded & alloctwo_recorded"
   ]
  },
  {
   "cell_type": "markdown",
   "metadata": {},
   "source": [
    "Number of valid participants:"
   ]
  },
  {
   "cell_type": "code",
   "execution_count": 5,
   "metadata": {},
   "outputs": [
    {
     "name": "stdout",
     "output_type": "stream",
     "text": [
      "301\n"
     ]
    }
   ],
   "source": [
    "df_clean = df[df.apply(has_both_allocations, axis=1)].copy()\n",
    "print(df_clean.shape [0])"
   ]
  },
  {
   "cell_type": "code",
   "execution_count": 6,
   "metadata": {},
   "outputs": [],
   "source": [
    "def convert_allocation_to_distribution(allocation, buckets, isstr=False):\n",
    "    \"\"\"\n",
    "    Takes an allocation of balls to buckets, and a list of buckets.\n",
    "    Return the corresponding distribution of values.\n",
    "    \n",
    "    Example: \n",
    "        buckets = [1, 2, 3, 4, 5]\n",
    "        x = \"0, 3, 1, 2, 1\"\n",
    "        dist = convert_allocation_to_distribution(x, buckets)\n",
    "        print(dist) -> (2, 2, 2, 3, 4, 4, 5)\n",
    "    \"\"\"\n",
    "    if isstr:\n",
    "        arr = allocation.split(\",\")\n",
    "    else:\n",
    "        arr = allocation\n",
    "    if len(arr) != len(buckets):\n",
    "        raise ValueError(\"The number of buckets should match the length of the allocations.\")\n",
    "    values = np.repeat(buckets, arr)\n",
    "    return values\n",
    "\n",
    "# Converting the allocations into distributions, and storing them in respective columns, before dropping the \"allocation\" columns\n",
    "df_clean[\"dist_item_one\"] = df_clean.alloc_item_one.apply(convert_allocation_to_distribution, buckets=np.arange(1, 51, 2))\n",
    "df_clean[\"dist_item_two\"] = df_clean.alloc_item_two.apply(convert_allocation_to_distribution, buckets=np.arange(1, 51, 2))\n",
    "df_clean.drop(columns=[\"alloc_item_one\", \"alloc_item_two\", \"dist_order\"], inplace=True)"
   ]
  },
  {
   "cell_type": "code",
   "execution_count": 7,
   "metadata": {},
   "outputs": [],
   "source": [
    "def get_shown_dist(x, itemone):\n",
    "    shown_all = x[\"value_prices\"]\n",
    "    type_all = x[\"label_prices\"]\n",
    "    test = (itemone == True)*1\n",
    "    values = [str(v) for v, t in zip(shown_all, type_all) if t == test]\n",
    "    return \",\".join(values)\n",
    "\n",
    "df_clean[\"showndist_item_one\"] = df_clean.apply(get_shown_dist, axis=1, args=[True])\n",
    "df_clean[\"showndist_item_one\"]  = df_clean[\"showndist_item_one\"].apply(lambda x: [float(i) for i in x.split(\",\")])\n",
    "df_clean[\"showndist_item_two\"] = df_clean.apply(get_shown_dist, axis=1, args=[False])\n",
    "df_clean[\"showndist_item_two\"]  = df_clean[\"showndist_item_two\"].apply(lambda x: [float(i) for i in x.split(\",\")])"
   ]
  },
  {
   "cell_type": "code",
   "execution_count": 8,
   "metadata": {},
   "outputs": [],
   "source": [
    "df_clean[\"variance_item_one\"] = df_clean[\"showndist_item_one\"].apply(lambda x: \"Low\" if np.std(x) < 3 else \"High\")\n",
    "df_clean[\"variance_item_two\"] = df_clean[\"showndist_item_two\"].apply(lambda x: \"Low\" if np.std(x) < 3 else \"High\")\n",
    "df_clean[\"mean_item_one\"] = df_clean[\"showndist_item_one\"].apply(lambda x: np.mean(x))\n",
    "df_clean[\"mean_item_two\"] = df_clean[\"showndist_item_two\"].apply(lambda x: np.mean(x))"
   ]
  },
  {
   "cell_type": "code",
   "execution_count": 9,
   "metadata": {},
   "outputs": [],
   "source": [
    "# Each participant reported two distributions (item_one and item_two), pivoting the data in long form.\n",
    "df_long = pd.wide_to_long(df_clean, stubnames=[\"dist\", \"showndist\"], i=\"pid\", j=\"item\", suffix=\"\\\\D+\", sep=\"_\").reset_index()"
   ]
  },
  {
   "cell_type": "code",
   "execution_count": 10,
   "metadata": {},
   "outputs": [],
   "source": [
    "df_long[\"sd_focal\"] = df_long.apply(lambda x: x.variance_item_one if (x[\"item\"] == \"item_one\") else x.variance_item_two, axis=1)\n",
    "df_long[\"sd_other\"] = df_long.apply(lambda x: x.variance_item_one if (x[\"item\"] != \"item_one\") else x.variance_item_two, axis=1)\n",
    "df_long[\"mean_focal\"] = df_long.apply(lambda x: x.mean_item_one if (x[\"item\"] == \"item_one\") else x.mean_item_two, axis=1)\n",
    "df_long[\"mean_other\"] = df_long.apply(lambda x: x.mean_item_one if (x[\"item\"] != \"item_one\") else x.mean_item_two, axis=1)"
   ]
  },
  {
   "cell_type": "code",
   "execution_count": 11,
   "metadata": {},
   "outputs": [
    {
     "name": "stdout",
     "output_type": "stream",
     "text": [
      "602\n"
     ]
    }
   ],
   "source": [
    "#Number of participants times two distributions:\n",
    "print(df_long.shape[0])\n",
    "df_long.to_pickle(\"../Data/Study 4/CleanData.pickle\")"
   ]
  },
  {
   "cell_type": "code",
   "execution_count": 12,
   "metadata": {},
   "outputs": [
    {
     "name": "stdout",
     "output_type": "stream",
     "text": [
      "15652\n"
     ]
    }
   ],
   "source": [
    "# Pivoting the distributions in long form: one line per value per distribution per participant.\n",
    "df_dist = df_long.set_index(['pid', 'turkid', 'item', \"variance_item_one\", \"variance_item_two\", \n",
    "                             \"mean_item_one\", \"mean_item_two\", \"sd_focal\", \n",
    "                             \"sd_other\", \"mean_focal\", \"mean_other\"])['dist'].apply(pd.Series).stack().reset_index()\n",
    "df_dist.columns = ['pid', 'turkid', 'item', \"sd_item_one\", \"sd_item_two\", \n",
    "                   \"mean_item_one\", \"mean_item_two\", \"sd_focal\", \"sd_other\", \n",
    "                   \"mean_focal\", \"mean_other\", \"value_id\", \"value\"]\n",
    "print(df_dist.shape[0])\n",
    "df_dist.to_csv(\"../Data/Study 4/LongData.csv\", index=None)"
   ]
  }
 ],
 "metadata": {
  "kernelspec": {
   "display_name": "Python 3",
   "language": "python",
   "name": "python3"
  },
  "language_info": {
   "codemirror_mode": {
    "name": "ipython",
    "version": 3
   },
   "file_extension": ".py",
   "mimetype": "text/x-python",
   "name": "python",
   "nbconvert_exporter": "python",
   "pygments_lexer": "ipython3",
   "version": "3.6.9"
  }
 },
 "nbformat": 4,
 "nbformat_minor": 4
}
