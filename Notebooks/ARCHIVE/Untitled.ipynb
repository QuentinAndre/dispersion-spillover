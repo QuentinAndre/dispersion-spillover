{
 "cells": [
  {
   "cell_type": "code",
   "execution_count": 84,
   "metadata": {},
   "outputs": [],
   "source": [
    "import numpy as np\n",
    "import pandas as pd\n",
    "import seaborn as sns\n",
    "import matplotlib.pyplot as plt"
   ]
  },
  {
   "cell_type": "code",
   "execution_count": 85,
   "metadata": {},
   "outputs": [],
   "source": [
    "ARRAYS_VAR = {\n",
    "    'Med': np.array([17, 18, 19, 20, 21, 22, 22, 23, 23, 24, 24, 25, 25, \n",
    "                     26, 26, 27, 27, 28, 28, 29, 29, 30, 31, 32, 33, 34]),\n",
    "    'High': np.array([13, 14, 15, 16, 17, 18, 19, 20, 21, 22, 23, 24, 25, \n",
    "                      26, 27, 28, 29, 30, 31, 32, 33, 34, 35, 36, 37, 38]),\n",
    "    'Low': np.array([23, 24, 24, 24, 25, 25, 25, 25, 25, 25, 25, 25, 25, \n",
    "                     26, 26, 26, 26, 26, 26, 26, 26, 26, 27, 27, 27, 28])\n",
    "}"
   ]
  },
  {
   "cell_type": "code",
   "execution_count": 1,
   "metadata": {},
   "outputs": [
    {
     "ename": "NameError",
     "evalue": "name 'ARRAYS_VAR' is not defined",
     "output_type": "error",
     "traceback": [
      "\u001b[1;31m---------------------------------------------------------------------------\u001b[0m",
      "\u001b[1;31mNameError\u001b[0m                                 Traceback (most recent call last)",
      "\u001b[1;32m<ipython-input-1-fff1aadd77ff>\u001b[0m in \u001b[0;36m<module>\u001b[1;34m\u001b[0m\n\u001b[1;32m----> 1\u001b[1;33m \u001b[1;32mdef\u001b[0m \u001b[0msimulate_response\u001b[0m\u001b[1;33m(\u001b[0m\u001b[0marrays\u001b[0m\u001b[1;33m=\u001b[0m\u001b[0mARRAYS_VAR\u001b[0m\u001b[1;33m,\u001b[0m \u001b[0mfocal\u001b[0m\u001b[1;33m=\u001b[0m\u001b[1;34m\"Med\"\u001b[0m\u001b[1;33m,\u001b[0m \u001b[0mother\u001b[0m\u001b[1;33m=\u001b[0m\u001b[1;34m\"High\"\u001b[0m\u001b[1;33m,\u001b[0m \u001b[0mn_confused\u001b[0m\u001b[1;33m=\u001b[0m\u001b[1;36m0\u001b[0m\u001b[1;33m)\u001b[0m\u001b[1;33m:\u001b[0m\u001b[1;33m\u001b[0m\u001b[1;33m\u001b[0m\u001b[0m\n\u001b[0m\u001b[0;32m      2\u001b[0m     \u001b[0mn_accur\u001b[0m \u001b[1;33m=\u001b[0m \u001b[1;36m26\u001b[0m\u001b[1;33m-\u001b[0m\u001b[0mn_confused\u001b[0m\u001b[1;33m\u001b[0m\u001b[1;33m\u001b[0m\u001b[0m\n\u001b[0;32m      3\u001b[0m     \u001b[0mperceived\u001b[0m \u001b[1;33m=\u001b[0m \u001b[0mnp\u001b[0m\u001b[1;33m.\u001b[0m\u001b[0mconcatenate\u001b[0m\u001b[1;33m(\u001b[0m\u001b[1;33m[\u001b[0m\u001b[0mnp\u001b[0m\u001b[1;33m.\u001b[0m\u001b[0mrandom\u001b[0m\u001b[1;33m.\u001b[0m\u001b[0mchoice\u001b[0m\u001b[1;33m(\u001b[0m\u001b[0marrays\u001b[0m\u001b[1;33m[\u001b[0m\u001b[0mfocal\u001b[0m\u001b[1;33m]\u001b[0m\u001b[1;33m,\u001b[0m \u001b[0mn_accur\u001b[0m\u001b[1;33m,\u001b[0m \u001b[0mreplace\u001b[0m\u001b[1;33m=\u001b[0m\u001b[1;32mTrue\u001b[0m\u001b[1;33m)\u001b[0m\u001b[1;33m,\u001b[0m \u001b[0mnp\u001b[0m\u001b[1;33m.\u001b[0m\u001b[0mrandom\u001b[0m\u001b[1;33m.\u001b[0m\u001b[0mchoice\u001b[0m\u001b[1;33m(\u001b[0m\u001b[0marrays\u001b[0m\u001b[1;33m[\u001b[0m\u001b[0mother\u001b[0m\u001b[1;33m]\u001b[0m\u001b[1;33m,\u001b[0m \u001b[0mn_confused\u001b[0m\u001b[1;33m,\u001b[0m \u001b[0mreplace\u001b[0m\u001b[1;33m=\u001b[0m\u001b[1;32mTrue\u001b[0m\u001b[1;33m)\u001b[0m\u001b[1;33m]\u001b[0m\u001b[1;33m)\u001b[0m\u001b[1;33m\u001b[0m\u001b[1;33m\u001b[0m\u001b[0m\n\u001b[0;32m      4\u001b[0m     \u001b[1;32mreturn\u001b[0m \u001b[0mnp\u001b[0m\u001b[1;33m.\u001b[0m\u001b[0mstd\u001b[0m\u001b[1;33m(\u001b[0m\u001b[0mperceived\u001b[0m\u001b[1;33m)\u001b[0m\u001b[1;33m\u001b[0m\u001b[1;33m\u001b[0m\u001b[0m\n",
      "\u001b[1;31mNameError\u001b[0m: name 'ARRAYS_VAR' is not defined"
     ]
    }
   ],
   "source": [
    "def simulate_response(arrays=ARRAYS_VAR, focal=\"Med\", other=\"High\", n_confused=0):\n",
    "    n_accur = 26-n_confused\n",
    "    perceived = np.concatenate([np.random.choice(arrays[focal], n_accur, replace=True), np.random.choice(arrays[other], n_confused, replace=True)])\n",
    "    return np.std(perceived)"
   ]
  },
  {
   "cell_type": "code",
   "execution_count": 87,
   "metadata": {},
   "outputs": [],
   "source": [
    "sim_resps = [simulate_response(n_confused=13) for i in range(1000)]"
   ]
  },
  {
   "cell_type": "code",
   "execution_count": 88,
   "metadata": {},
   "outputs": [
    {
     "data": {
      "text/plain": [
       "1.317764705882353"
      ]
     },
     "execution_count": 88,
     "metadata": {},
     "output_type": "execute_result"
    }
   ],
   "source": [
    "np.array(sim_resps).mean()/17"
   ]
  },
  {
   "cell_type": "code",
   "execution_count": 89,
   "metadata": {},
   "outputs": [
    {
     "data": {
      "text/plain": [
       "17"
      ]
     },
     "execution_count": 89,
     "metadata": {},
     "output_type": "execute_result"
    }
   ],
   "source": [
    "np.max(ARRAYS_VAR[\"Med\"])-np.min(ARRAYS_VAR[\"Med\"])"
   ]
  },
  {
   "cell_type": "code",
   "execution_count": 90,
   "metadata": {},
   "outputs": [],
   "source": [
    "ARRAYS_MEAN = {\"Low\": [6, 7, 9, 9, 10, 11, 12, 12, 13, 13, 14, 14, 15, 16, \n",
    "              16, 17, 17, 18, 18, 19, 20, 21, 21, 23, 24],\n",
    "    \"Med\": [16, 17, 19, 19, 20, 21, 22, 22, 23, 23, 24, 24, 25, \n",
    "              26, 26, 27, 27, 28, 28, 29, 30, 31, 31, 33, 34],\n",
    "    \"High\": [26, 27, 29, 29, 30, 31, 32, 32, 33, 33, 34, 34, 35, \n",
    "               36, 36, 37, 37, 38, 38, 39, 40, 41, 41, 43, 44]} "
   ]
  },
  {
   "cell_type": "code",
   "execution_count": 91,
   "metadata": {},
   "outputs": [],
   "source": [
    "def simulate_response(arrays=ARRAYS_VAR, focal=\"Med\", other=\"High\", n_confused=0):\n",
    "    n_accur = 26-n_confused\n",
    "    perceived = np.concatenate([np.random.choice(arrays[focal], n_accur, replace=True), np.random.choice(arrays[other], n_confused, replace=True)])\n",
    "    return np.mean(perceived)"
   ]
  },
  {
   "cell_type": "code",
   "execution_count": 99,
   "metadata": {},
   "outputs": [],
   "source": [
    "sim_resps = [simulate_response(arrays=ARRAYS_MEAN, n_confused=13) for i in range(5000)]"
   ]
  },
  {
   "cell_type": "code",
   "execution_count": 100,
   "metadata": {},
   "outputs": [
    {
     "data": {
      "text/plain": [
       "30.00198461538461"
      ]
     },
     "execution_count": 100,
     "metadata": {},
     "output_type": "execute_result"
    }
   ],
   "source": [
    "np.array(sim_resps).mean()"
   ]
  }
 ],
 "metadata": {
  "kernelspec": {
   "display_name": "Python 3",
   "language": "python",
   "name": "python3"
  },
  "language_info": {
   "codemirror_mode": {
    "name": "ipython",
    "version": 3
   },
   "file_extension": ".py",
   "mimetype": "text/x-python",
   "name": "python",
   "nbconvert_exporter": "python",
   "pygments_lexer": "ipython3",
   "version": "3.6.10"
  }
 },
 "nbformat": 4,
 "nbformat_minor": 4
}
