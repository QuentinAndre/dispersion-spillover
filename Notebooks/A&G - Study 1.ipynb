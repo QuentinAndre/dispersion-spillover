{
 "cells": [
  {
   "cell_type": "markdown",
   "metadata": {},
   "source": [
    "This notebook presents all the analysis reported in Study 1 of the paper.\n",
    "\n",
    "Click the \"Show Code\" buttons to see the code associated with each output."
   ]
  },
  {
   "cell_type": "markdown",
   "metadata": {
    "toc-hr-collapsed": false
   },
   "source": [
    "# Preamble"
   ]
  },
  {
   "cell_type": "markdown",
   "metadata": {},
   "source": [
    "## Libraries"
   ]
  },
  {
   "cell_type": "code",
   "execution_count": 1,
   "metadata": {},
   "outputs": [],
   "source": [
    "# Misc\n",
    "import warnings\n",
    "\n",
    "warnings.filterwarnings(\"ignore\")\n",
    "from IPython.display import Markdown\n",
    "\n",
    "# Data libraries\n",
    "import pandas as pd\n",
    "import numpy as np\n",
    "\n",
    "# Plotting\n",
    "import matplotlib as mpl\n",
    "import matplotlib.pyplot as plt\n",
    "import seaborn as sns\n",
    "from matplotlib.patches import Patch\n",
    "from matplotlib.lines import Line2D\n",
    "\n",
    "sns.set_context(\"notebook\")\n",
    "\n",
    "# Statistics\n",
    "import statsmodels.formula.api as smf\n",
    "import scipy.stats as stats\n",
    "from scipy.stats.mstats import zscore\n",
    "from statsmodels.stats.proportion import proportions_chisquare\n",
    "\n",
    "# Interface with R\n",
    "import rpy2\n",
    "\n",
    "%load_ext rpy2.ipython\n",
    "\n",
    "STUDY_NAME = \"Study 1\""
   ]
  },
  {
   "cell_type": "markdown",
   "metadata": {},
   "source": [
    "## Functions"
   ]
  },
  {
   "cell_type": "code",
   "execution_count": 2,
   "metadata": {},
   "outputs": [],
   "source": [
    "# fmt: off\n",
    "ARRAYS = {\n",
    "    'Med': np.array([17, 18, 19, 20, 21, 22, 22, 23, 23, 24, 24, 25, 25, \n",
    "                     26, 26, 27, 27, 28, 28, 29, 29, 30, 31, 32, 33, 34]),\n",
    "    'High': np.array([13, 14, 15, 16, 17, 18, 19, 20, 21, 22, 23, 24, 25, \n",
    "                      26, 27, 28, 29, 30, 31, 32, 33, 34, 35, 36, 37, 38]),\n",
    "    'Low': np.array([23, 24, 24, 24, 25, 25, 25, 25, 25, 25, 25, 25, 25, \n",
    "                     26, 26, 26, 26, 26, 26, 26, 26, 26, 27, 27, 27, 28])\n",
    "}\n",
    "# fmt: on\n",
    "\n",
    "\n",
    "def plot_design(\n",
    "    save=False, grayscale=False, show=True, figname=f\"Appendix - {STUDY_NAME} - Design\"\n",
    "):\n",
    "    low_s1 = ARRAYS[\"Low\"]\n",
    "    med_s1 = ARRAYS[\"Med\"]\n",
    "    high_s1 = ARRAYS[\"High\"]\n",
    "    if grayscale:\n",
    "        pal = sns.color_palette(\"Greys\")[2::3]\n",
    "        pathname = \"Grayscale\"\n",
    "    else:\n",
    "        pal = sns.color_palette()[0:2]\n",
    "        pathname = \"Color\"\n",
    "\n",
    "    if save:\n",
    "        sns.set_context(\"paper\")\n",
    "    else:\n",
    "        sns.set_context(\"notebook\")\n",
    "\n",
    "    sns.set_style(\"ticks\")\n",
    "    fig, axes = plt.subplots(3, 1, figsize=(5, 6.38))\n",
    "    axes = axes.flatten()\n",
    "    for i, (manip, common, title) in enumerate(\n",
    "        zip(\n",
    "            [low_s1, med_s1, high_s1],\n",
    "            [med_s1, med_s1, med_s1],\n",
    "            [\"SD = 1.1\", \"SD = 4.5\", \"SD = 7.5\"],\n",
    "        )\n",
    "    ):\n",
    "        ax = axes[i]\n",
    "        ax.annotate(title, (21, 5), size=12, va=\"center\", ha=\"center\")\n",
    "        bins = np.arange(0, 51, 1)\n",
    "        ax.hist(\n",
    "            common,\n",
    "            bins=bins,\n",
    "            label=\"Common\",\n",
    "            color=pal[1],\n",
    "            density=False,\n",
    "            align=\"left\",\n",
    "            rwidth=0.7,\n",
    "            lw=0,\n",
    "        )\n",
    "        ax.hist(\n",
    "            manip,\n",
    "            bins=bins,\n",
    "            label=\"Manipulated\",\n",
    "            color=pal[0],\n",
    "            density=False,\n",
    "            align=\"left\",\n",
    "            rwidth=0.35,\n",
    "            lw=0,\n",
    "        )\n",
    "        leg = ax.legend()\n",
    "        han = leg.legendHandles\n",
    "        leg.remove()\n",
    "        ax.set_xticks(np.arange(12, 40, 2))\n",
    "        ax.set_xticklabels([f\"${i}\" for i in np.arange(12, 40, 2)])\n",
    "        ax.set_xlim(10, 40)\n",
    "        ax.set_ylim(0, 10)\n",
    "        ax.set_yticklabels(np.arange(0, 12, 2))\n",
    "        ax.set_ylabel(\"Number of Items\")\n",
    "\n",
    "    axes[0].legend(\n",
    "        handles=han,\n",
    "        loc=\"center left\",\n",
    "        title=\"Category\",\n",
    "        frameon=False,\n",
    "        bbox_to_anchor=(0.6, 0.75),\n",
    "    )\n",
    "\n",
    "    sns.despine()\n",
    "    plt.tight_layout()\n",
    "    plt.subplots_adjust(hspace=0.15, left=0)\n",
    "\n",
    "    if save:\n",
    "        plt.savefig(\n",
    "            f\"../Figures/{pathname}/{figname}.png\", dpi=100, bbox_inches=\"tight\"\n",
    "        )\n",
    "    if show:\n",
    "        plt.show()\n",
    "    else:\n",
    "        plt.close()\n",
    "\n",
    "\n",
    "def plot_result_stats(\n",
    "    data,\n",
    "    save=False,\n",
    "    grayscale=False,\n",
    "    show=True,\n",
    "    figname=f\"Fig 1 - {STUDY_NAME} - Results Min and Max\",\n",
    "):\n",
    "    if grayscale:\n",
    "        pal = sns.color_palette(\"Greys\")[1::2]\n",
    "        pathname = \"Grayscale\"\n",
    "    else:\n",
    "        pal = sns.color_palette(\"coolwarm\", 3)\n",
    "        pathname = \"Color\"\n",
    "\n",
    "    if show:\n",
    "        sns.set_context(\"notebook\")\n",
    "    else:\n",
    "        sns.set_context(\"paper\")\n",
    "\n",
    "    g = sns.catplot(\n",
    "        x=\"is_manipulated\",\n",
    "        y=\"value\",\n",
    "        data=data,\n",
    "        row=\"variable\",\n",
    "        kind=\"bar\",\n",
    "        hue=\"sd_manipulated_label\",\n",
    "        legend=False,\n",
    "        aspect=1.8,\n",
    "        order=[True, False],\n",
    "        palette=pal,\n",
    "        height=6.38 / 1.8,\n",
    "        sharey=False,\n",
    "    )\n",
    "    g.axes[0][0].legend(\n",
    "        title=\"SD of Manipulated Category\", loc=\"upper center\", frameon=False, bbox_to_anchor=(.5, 1.1)\n",
    "    )\n",
    "    g.set_xticklabels([\"Manipulated Category\", \"Common Category (SD = 4.5)\"])\n",
    "    g.set_xlabels(\"\")\n",
    "    g.set_titles(\"\")\n",
    "    g.axes[0][0].set_ylabel(\"Reported Minimum\")\n",
    "    g.axes[0][0].set_ylim(12.5, 22)\n",
    "    g.axes[1][0].set_ylim(25, 38)\n",
    "    g.axes[1][0].set_ylabel(\"Reported Maximum\")\n",
    "    for ax in g.axes.flatten():\n",
    "        ax.tick_params(\n",
    "            axis=\"x\", which=\"both\", bottom=False, top=False, labelbottom=True\n",
    "        )\n",
    "    plt.tight_layout()\n",
    "    if save:\n",
    "        plt.savefig(\n",
    "            f\"../Figures/{pathname}/{figname}.png\", dpi=100, bbox_inches=\"tight\"\n",
    "        )\n",
    "    if show:\n",
    "        plt.show()\n",
    "    else:\n",
    "        plt.close()\n",
    "\n",
    "\n",
    "def plot_cdf_stats(\n",
    "    data,\n",
    "    save=False,\n",
    "    show=True,\n",
    "    grayscale=False,\n",
    "    figname=f\"Fig 2a - {STUDY_NAME} - CDF Min\",\n",
    "    stats=\"min\",\n",
    "):\n",
    "    if grayscale:\n",
    "        pal = sns.color_palette(\"Greys\")[1::2]\n",
    "        pathname = \"Grayscale\"\n",
    "    else:\n",
    "        pal = sns.color_palette(\"coolwarm\", 3)\n",
    "        pathname = \"Color\"\n",
    "\n",
    "    if show:\n",
    "        sns.set_context(\"notebook\")\n",
    "    else:\n",
    "        sns.set_context(\"paper\")\n",
    "    sns.set_style(\"ticks\")\n",
    "\n",
    "    if stats == \"min\":\n",
    "        statsname = \"Min\"\n",
    "        bins = np.arange(4, 100, 1)\n",
    "        ticks = np.arange(5, 31, 2)\n",
    "        coords = [23, 17, 13]\n",
    "        lims = (3, 32)\n",
    "    else:\n",
    "        statsname = \"Max\"\n",
    "        bins = np.arange(20, 100, 1)\n",
    "        ticks = np.arange(22, 51, 2)\n",
    "        coords = [28, 34, 38]\n",
    "        lims = (20, 52)\n",
    "\n",
    "    df_common = df_clean.loc[df_clean.is_manipulated == 0]\n",
    "    g = sns.FacetGrid(\n",
    "        hue=\"sd_manipulated_label\",\n",
    "        data=data,\n",
    "        aspect=2,\n",
    "        height=4,\n",
    "        palette=pal,\n",
    "        gridspec_kws={\"hspace\": 0.4},\n",
    "    )\n",
    "    g.map(\n",
    "        plt.hist,\n",
    "        f\"memory_{stats}\",\n",
    "        bins=bins,\n",
    "        density=True,\n",
    "        alpha=1,\n",
    "        histtype=\"step\",\n",
    "        cumulative=True,\n",
    "        align=\"mid\",\n",
    "        lw=2,\n",
    "    )\n",
    "\n",
    "    g.set_xlabels(f\"{statsname}imum Price Reported for Common Category\")\n",
    "    g.set_ylabels(\"Cumulative Prop. of Participants\")\n",
    "\n",
    "    for xpos, color in zip(coords, pal):\n",
    "        g.ax.axvline(xpos, color=color, ls=\"--\")\n",
    "    g.ax.axvline(coords[1], ls=\"-\", color=\"grey\", lw=0.6)\n",
    "\n",
    "    legend_elements = [\n",
    "        Line2D(\n",
    "            [0],\n",
    "            [0],\n",
    "            color=\"grey\",\n",
    "            ls=\"--\",\n",
    "            lw=2,\n",
    "            label=f\"True {statsname} of Manipulated\",\n",
    "        ),\n",
    "        Line2D([0], [0], color=pal[0], lw=4, label=\"Low (SD = 1.1)\"),\n",
    "        Line2D(\n",
    "            [0], [0], color=\"grey\", ls=\"-\", lw=1, label=f\"True {statsname} of Common\"\n",
    "        ),\n",
    "        Line2D([0], [0], color=pal[1], lw=4, label=\"Med (SD = 4.5)\"),\n",
    "        Line2D([0], [0], color=\"white\", lw=2, label=\"\"),\n",
    "        Line2D([0], [0], color=pal[2], lw=4, label=\"High (SD = 7.5)\"),\n",
    "    ]\n",
    "\n",
    "    g.ax.legend(\n",
    "        handles=legend_elements,\n",
    "        loc=\"center\",\n",
    "        ncol=3,\n",
    "        frameon=True,\n",
    "        bbox_to_anchor=(0.5, -0.3),\n",
    "    )\n",
    "\n",
    "    g.ax.set_ylim(0, 1.1)\n",
    "    g.ax.set_xlim(lims)\n",
    "    g.ax.set_xticks(ticks)\n",
    "    g.ax.set_xticklabels([f\"${i}\" for i in ticks])\n",
    "    plt.tight_layout()\n",
    "    if save:\n",
    "        plt.savefig(\n",
    "            f\"../Figures/{pathname}/{figname}.png\", dpi=100, bbox_inches=\"tight\"\n",
    "        )\n",
    "    if show:\n",
    "        plt.show()\n",
    "    else:\n",
    "        plt.close()\n",
    "\n",
    "\n",
    "def format_pvals(p):\n",
    "    if p < 0.001:\n",
    "        return \"p < .001\"\n",
    "    else:\n",
    "        return f\"p = {p:.3f}\""
   ]
  },
  {
   "cell_type": "markdown",
   "metadata": {},
   "source": [
    "## Data loading and preparation"
   ]
  },
  {
   "cell_type": "code",
   "execution_count": 3,
   "metadata": {},
   "outputs": [],
   "source": [
    "df = pd.read_csv(f\"../Data/{STUDY_NAME}/LongData.csv\")\n",
    "df[\"actual_min\"] = df.apply(\n",
    "    lambda x: ARRAYS[x.sd_manipulated].min()\n",
    "    if x.is_manipulated\n",
    "    else ARRAYS[\"Med\"].min(),\n",
    "    axis=1,\n",
    ")\n",
    "df[\"actual_max\"] = df.apply(\n",
    "    lambda x: ARRAYS[x.sd_manipulated].max()\n",
    "    if x.is_manipulated\n",
    "    else ARRAYS[\"Med\"].max(),\n",
    "    axis=1,\n",
    ")\n",
    "\n",
    "\n",
    "df[\"below_actual_min\"] = (df.memory_min < df.actual_min) * 1\n",
    "df[\"above_actual_max\"] = (df.memory_max > df.actual_max) * 1\n",
    "\n",
    "df[\"actual_range\"] = df[\"actual_max\"] - df[\"actual_min\"]\n",
    "df[\"wider_actual_range\"] = (df.memory_range > df.actual_range) * 1\n",
    "\n",
    "df[\"above_actual_min\"] = (df.memory_min > df.actual_min) * 1\n",
    "df[\"below_actual_max\"] = (df.memory_max < df.actual_max) * 1\n",
    "\n",
    "df[\"is_manipulated_label\"] = df.is_manipulated.map({0: \"Common\", 1: \"Manipulated\"})\n",
    "\n",
    "df_clean = df[df.valid_response]"
   ]
  },
  {
   "cell_type": "markdown",
   "metadata": {
    "toc-hr-collapsed": false
   },
   "source": [
    "# Design"
   ]
  },
  {
   "cell_type": "markdown",
   "metadata": {},
   "source": [
    "## Independent variable"
   ]
  },
  {
   "cell_type": "markdown",
   "metadata": {},
   "source": [
    "Each participant sees two distributions, one \"manipulated\", one \"common\".\n",
    "* The \"common\" distribution always has a \"Medium\" amount of variance (SD = 4.5, Min = 17, Max = 34)\n",
    "* The \"manipulated\" distribution has a different variance, between subjects:\n",
    "    * \"Low\" (SD = 1.1, Min = 23, Max = 28)\n",
    "    * \"Medium\" (SD = 4.5, Min = 17, Max = 34)\n",
    "    * \"High\" (SD = 7.5, Min = 13, Max = 38)\n",
    "    \n",
    "In addition, we counterbalance the label of the \"manipulated\" category: red wines or white wines."
   ]
  },
  {
   "cell_type": "code",
   "execution_count": 4,
   "metadata": {},
   "outputs": [
    {
     "data": {
      "image/png": "[encoded data removed]",
      "text/plain": [
       "<Figure size 360x459.36 with 3 Axes>"
      ]
     },
     "metadata": {},
     "output_type": "display_data"
    }
   ],
   "source": [
    "plot_design(save=False, show=True)"
   ]
  },
  {
   "cell_type": "markdown",
   "metadata": {},
   "source": [
    "## Dependent variable and hypothesis\n"
   ]
  },
  {
   "cell_type": "markdown",
   "metadata": {},
   "source": [
    "For each category (red wine and white wines), we instead elicit from participants:\n",
    "* The minimum price that they remember seeing.\n",
    "* The maximum price that they remember seeing."
   ]
  },
  {
   "cell_type": "markdown",
   "metadata": {},
   "source": [
    "## Participants and exclusions"
   ]
  },
  {
   "cell_type": "code",
   "execution_count": 5,
   "metadata": {},
   "outputs": [
    {
     "data": {
      "text/markdown": [
       "\n",
       "We collected 300 participants, and excluded 7 \n",
       "participants who reported a higher price that was strictly smaller than the lower price. \n",
       "Results are unaffected by this deletion.\n"
      ],
      "text/plain": [
       "<IPython.core.display.Markdown object>"
      ]
     },
     "execution_count": 5,
     "metadata": {},
     "output_type": "execute_result"
    }
   ],
   "source": [
    "Markdown(\n",
    "    f\"\"\"\n",
    "We collected {df.shape[0]//2} participants, and excluded {(df.shape[0] - df_clean.shape[0])//2} \n",
    "participants who reported a higher price that was strictly smaller than the lower price. \n",
    "Results are unaffected by this deletion.\n",
    "\"\"\"\n",
    ")"
   ]
  },
  {
   "cell_type": "markdown",
   "metadata": {
    "toc-hr-collapsed": false
   },
   "source": [
    "# Analysis"
   ]
  },
  {
   "cell_type": "markdown",
   "metadata": {},
   "source": [
    "## Overview of results"
   ]
  },
  {
   "cell_type": "code",
   "execution_count": 6,
   "metadata": {},
   "outputs": [
    {
     "data": {
      "image/png": "[encoded data removed]",
      "text/plain": [
       "<Figure size 459.36x510.4 with 2 Axes>"
      ]
     },
     "metadata": {},
     "output_type": "display_data"
    },
    {
     "data": {
      "text/html": [
       "<style  type=\"text/css\" >\n",
       "</style><table id=\"T_19b65936_8ecd_11ea_9dbf_448a5b2f88e1\" ><thead>    <tr>        <th class=\"blank\" ></th>        <th class=\"blank level0\" ></th>        <th class=\"col_heading level0 col0\" >Minimum</th>        <th class=\"col_heading level0 col1\" >Maximum</th>    </tr>    <tr>        <th class=\"index_name level0\" >Manipulated?</th>        <th class=\"index_name level1\" >SD of Manipulated</th>        <th class=\"blank\" ></th>        <th class=\"blank\" ></th>    </tr></thead><tbody>\n",
       "                <tr>\n",
       "                        <th id=\"T_19b65936_8ecd_11ea_9dbf_448a5b2f88e1level0_row0\" class=\"row_heading level0 row0\" rowspan=3>False</th>\n",
       "                        <th id=\"T_19b65936_8ecd_11ea_9dbf_448a5b2f88e1level1_row0\" class=\"row_heading level1 row0\" >Low</th>\n",
       "                        <td id=\"T_19b65936_8ecd_11ea_9dbf_448a5b2f88e1row0_col0\" class=\"data row0 col0\" >18.19</td>\n",
       "                        <td id=\"T_19b65936_8ecd_11ea_9dbf_448a5b2f88e1row0_col1\" class=\"data row0 col1\" >33.18</td>\n",
       "            </tr>\n",
       "            <tr>\n",
       "                                <th id=\"T_19b65936_8ecd_11ea_9dbf_448a5b2f88e1level1_row1\" class=\"row_heading level1 row1\" >Med</th>\n",
       "                        <td id=\"T_19b65936_8ecd_11ea_9dbf_448a5b2f88e1row1_col0\" class=\"data row1 col0\" >17.88</td>\n",
       "                        <td id=\"T_19b65936_8ecd_11ea_9dbf_448a5b2f88e1row1_col1\" class=\"data row1 col1\" >32.65</td>\n",
       "            </tr>\n",
       "            <tr>\n",
       "                                <th id=\"T_19b65936_8ecd_11ea_9dbf_448a5b2f88e1level1_row2\" class=\"row_heading level1 row2\" >High</th>\n",
       "                        <td id=\"T_19b65936_8ecd_11ea_9dbf_448a5b2f88e1row2_col0\" class=\"data row2 col0\" >16.23</td>\n",
       "                        <td id=\"T_19b65936_8ecd_11ea_9dbf_448a5b2f88e1row2_col1\" class=\"data row2 col1\" >34.57</td>\n",
       "            </tr>\n",
       "            <tr>\n",
       "                        <th id=\"T_19b65936_8ecd_11ea_9dbf_448a5b2f88e1level0_row3\" class=\"row_heading level0 row3\" rowspan=3>True</th>\n",
       "                        <th id=\"T_19b65936_8ecd_11ea_9dbf_448a5b2f88e1level1_row3\" class=\"row_heading level1 row3\" >Low</th>\n",
       "                        <td id=\"T_19b65936_8ecd_11ea_9dbf_448a5b2f88e1row3_col0\" class=\"data row3 col0\" >20.00</td>\n",
       "                        <td id=\"T_19b65936_8ecd_11ea_9dbf_448a5b2f88e1row3_col1\" class=\"data row3 col1\" >30.44</td>\n",
       "            </tr>\n",
       "            <tr>\n",
       "                                <th id=\"T_19b65936_8ecd_11ea_9dbf_448a5b2f88e1level1_row4\" class=\"row_heading level1 row4\" >Med</th>\n",
       "                        <td id=\"T_19b65936_8ecd_11ea_9dbf_448a5b2f88e1row4_col0\" class=\"data row4 col0\" >18.36</td>\n",
       "                        <td id=\"T_19b65936_8ecd_11ea_9dbf_448a5b2f88e1row4_col1\" class=\"data row4 col1\" >33.46</td>\n",
       "            </tr>\n",
       "            <tr>\n",
       "                                <th id=\"T_19b65936_8ecd_11ea_9dbf_448a5b2f88e1level1_row5\" class=\"row_heading level1 row5\" >High</th>\n",
       "                        <td id=\"T_19b65936_8ecd_11ea_9dbf_448a5b2f88e1row5_col0\" class=\"data row5 col0\" >15.03</td>\n",
       "                        <td id=\"T_19b65936_8ecd_11ea_9dbf_448a5b2f88e1row5_col1\" class=\"data row5 col1\" >35.45</td>\n",
       "            </tr>\n",
       "    </tbody></table>"
      ],
      "text/plain": [
       "<pandas.io.formats.style.Styler at 0x19488e15a90>"
      ]
     },
     "execution_count": 6,
     "metadata": {},
     "output_type": "execute_result"
    }
   ],
   "source": [
    "df_both = pd.melt(\n",
    "    df_clean,\n",
    "    id_vars=[\"is_manipulated\", \"sd_manipulated\", \"sd_manipulated_label\", \"turkid\"],\n",
    "    value_vars=[\"memory_min\", \"memory_max\"],\n",
    ")\n",
    "df_both[\"variable\"] = df_both.variable.map(\n",
    "    {\"memory_min\": \"Minimum\", \"memory_max\": \"Maximum\"}\n",
    ")\n",
    "plot_result_stats(df_both, save=True, show=True)\n",
    "plot_result_stats(df_both, grayscale=True, save=True, show=False)\n",
    "\n",
    "table = (\n",
    "    df_clean.groupby([\"is_manipulated\", \"sd_manipulated\"])[[\"memory_min\", \"memory_max\"]]\n",
    "    .mean()\n",
    "    .reindex(\n",
    "        labels=[\n",
    "            [False, False, False, True, True, True],\n",
    "            [\"Low\", \"Med\", \"High\", \"Low\", \"Med\", \"High\"],\n",
    "        ]\n",
    "    )\n",
    ")\n",
    "table.index.names = [\"Manipulated?\", \"SD of Manipulated\"]\n",
    "table.columns = [\"Minimum\", \"Maximum\"]\n",
    "table.style.format(\"{:.2f}\")"
   ]
  },
  {
   "cell_type": "markdown",
   "metadata": {
    "toc-hr-collapsed": false
   },
   "source": [
    "## Minimum"
   ]
  },
  {
   "cell_type": "code",
   "execution_count": 7,
   "metadata": {},
   "outputs": [
    {
     "data": {
      "text/html": [
       "<table class=\"simpletable\">\n",
       "<tr>\n",
       "       <td>Model:</td>       <td>MixedLM</td> <td>Dependent Variable:</td> <td>Reported Maximum</td>\n",
       "</tr>\n",
       "<tr>\n",
       "  <td>No. Observations:</td>   <td>586</td>         <td>Method:</td>             <td>REML</td>      \n",
       "</tr>\n",
       "<tr>\n",
       "     <td>No. Groups:</td>      <td>293</td>         <td>Scale:</td>             <td>5.3301</td>     \n",
       "</tr>\n",
       "<tr>\n",
       "  <td>Min. group size:</td>     <td>2</td>      <td>Log-Likelihood:</td>      <td>-1431.4938</td>   \n",
       "</tr>\n",
       "<tr>\n",
       "  <td>Max. group size:</td>     <td>2</td>        <td>Converged:</td>             <td>Yes</td>      \n",
       "</tr>\n",
       "<tr>\n",
       "  <td>Mean group size:</td>    <td>2.0</td>            <td></td>                   <td></td>        \n",
       "</tr>\n",
       "</table>\n",
       "<table class=\"simpletable\">\n",
       "<tr>\n",
       "                  <td></td>                  <th>Coef.</th> <th>Std.Err.</th>    <th>z</th>   <th>P>|z|</th> <th>[0.025</th> <th>0.975]</th>\n",
       "</tr>\n",
       "<tr>\n",
       "  <th>Intercept</th>                        <td>17.880</td>   <td>0.289</td>  <td>61.929</td> <td>0.000</td> <td>17.314</td> <td>18.446</td>\n",
       "</tr>\n",
       "<tr>\n",
       "  <th>Dispersion: Low (vs. Medium)</th>      <td>0.314</td>   <td>0.410</td>   <td>0.765</td> <td>0.444</td> <td>-0.490</td>  <td>1.118</td>\n",
       "</tr>\n",
       "<tr>\n",
       "  <th>Dispersion: High (vs. Medium)</th>    <td>-1.648</td>   <td>0.414</td>  <td>-3.985</td> <td>0.000</td> <td>-2.459</td> <td>-0.838</td>\n",
       "</tr>\n",
       "<tr>\n",
       "  <th>Target: Manipulated (vs. Common)</th>  <td>0.480</td>   <td>0.327</td>   <td>1.470</td> <td>0.142</td> <td>-0.160</td>  <td>1.120</td>\n",
       "</tr>\n",
       "<tr>\n",
       "  <th>Dispersion: Low * Target</th>          <td>1.326</td>   <td>0.464</td>   <td>2.857</td> <td>0.004</td>  <td>0.417</td>  <td>2.236</td>\n",
       "</tr>\n",
       "<tr>\n",
       "  <th>Dispersion: High * Target</th>        <td>-1.680</td>   <td>0.468</td>  <td>-3.591</td> <td>0.000</td> <td>-2.597</td> <td>-0.763</td>\n",
       "</tr>\n",
       "<tr>\n",
       "  <th>Group Var</th>                         <td>3.006</td>   <td>0.288</td>     <td></td>      <td></td>       <td></td>       <td></td>   \n",
       "</tr>\n",
       "</table>"
      ],
      "text/plain": [
       "<class 'statsmodels.iolib.summary2.Summary'>\n",
       "\"\"\"\n",
       "                   Mixed Linear Model Regression Results\n",
       "===========================================================================\n",
       "Model:                 MixedLM     Dependent Variable:     Reported Maximum\n",
       "No. Observations:      586         Method:                 REML            \n",
       "No. Groups:            293         Scale:                  5.3301          \n",
       "Min. group size:       2           Log-Likelihood:         -1431.4938      \n",
       "Max. group size:       2           Converged:              Yes             \n",
       "Mean group size:       2.0                                                 \n",
       "---------------------------------------------------------------------------\n",
       "                                 Coef.  Std.Err.   z    P>|z| [0.025 0.975]\n",
       "---------------------------------------------------------------------------\n",
       "Intercept                        17.880    0.289 61.929 0.000 17.314 18.446\n",
       "Dispersion: Low (vs. Medium)      0.314    0.410  0.765 0.444 -0.490  1.118\n",
       "Dispersion: High (vs. Medium)    -1.648    0.414 -3.985 0.000 -2.459 -0.838\n",
       "Target: Manipulated (vs. Common)  0.480    0.327  1.470 0.142 -0.160  1.120\n",
       "Dispersion: Low * Target          1.326    0.464  2.857 0.004  0.417  2.236\n",
       "Dispersion: High * Target        -1.680    0.468 -3.591 0.000 -2.597 -0.763\n",
       "Group Var                         3.006    0.288                           \n",
       "===========================================================================\n",
       "\n",
       "\"\"\""
      ]
     },
     "execution_count": 7,
     "metadata": {},
     "output_type": "execute_result"
    }
   ],
   "source": [
    "model = smf.mixedlm(\n",
    "    \"memory_min ~ C(sd_manipulated, levels=['Med', 'Low', 'High'])\\\n",
    "*C(is_manipulated)\",\n",
    "    data=df_clean,\n",
    "    groups=df_clean.turkid,\n",
    ").fit()\n",
    "model.summary(\n",
    "    yname=\"Reported Maximum\",\n",
    "    xname_fe=[\n",
    "        \"Intercept\",\n",
    "        \"Dispersion: Low (vs. Medium)\",\n",
    "        \"Dispersion: High (vs. Medium)\",\n",
    "        \"Target: Manipulated (vs. Common)\",\n",
    "        \"Dispersion: Low * Target\",\n",
    "        \"Dispersion: High * Target\",\n",
    "    ],\n",
    ")"
   ]
  },
  {
   "cell_type": "markdown",
   "metadata": {},
   "source": [
    "Standardized betas:"
   ]
  },
  {
   "cell_type": "code",
   "execution_count": 8,
   "metadata": {},
   "outputs": [
    {
     "data": {
      "text/html": [
       "<style  type=\"text/css\" >\n",
       "</style><table id=\"T_1a455d82_8ecd_11ea_905a_448a5b2f88e1\" ><thead>    <tr>        <th class=\"blank level0\" ></th>        <th class=\"col_heading level0 col0\" >Standardized Betas</th>    </tr></thead><tbody>\n",
       "                <tr>\n",
       "                        <th id=\"T_1a455d82_8ecd_11ea_905a_448a5b2f88e1level0_row0\" class=\"row_heading level0 row0\" >Intercept</th>\n",
       "                        <td id=\"T_1a455d82_8ecd_11ea_905a_448a5b2f88e1row0_col0\" class=\"data row0 col0\" >5.45</td>\n",
       "            </tr>\n",
       "            <tr>\n",
       "                        <th id=\"T_1a455d82_8ecd_11ea_905a_448a5b2f88e1level0_row1\" class=\"row_heading level0 row1\" >Dispersion: Low (vs. Medium)</th>\n",
       "                        <td id=\"T_1a455d82_8ecd_11ea_905a_448a5b2f88e1row1_col0\" class=\"data row1 col0\" >0.10</td>\n",
       "            </tr>\n",
       "            <tr>\n",
       "                        <th id=\"T_1a455d82_8ecd_11ea_905a_448a5b2f88e1level0_row2\" class=\"row_heading level0 row2\" >Dispersion: High (vs. Medium)</th>\n",
       "                        <td id=\"T_1a455d82_8ecd_11ea_905a_448a5b2f88e1row2_col0\" class=\"data row2 col0\" >-0.50</td>\n",
       "            </tr>\n",
       "            <tr>\n",
       "                        <th id=\"T_1a455d82_8ecd_11ea_905a_448a5b2f88e1level0_row3\" class=\"row_heading level0 row3\" >Target: Manipulated (vs. Common)</th>\n",
       "                        <td id=\"T_1a455d82_8ecd_11ea_905a_448a5b2f88e1row3_col0\" class=\"data row3 col0\" >0.15</td>\n",
       "            </tr>\n",
       "            <tr>\n",
       "                        <th id=\"T_1a455d82_8ecd_11ea_905a_448a5b2f88e1level0_row4\" class=\"row_heading level0 row4\" >Dispersion: Low * Target</th>\n",
       "                        <td id=\"T_1a455d82_8ecd_11ea_905a_448a5b2f88e1row4_col0\" class=\"data row4 col0\" >0.40</td>\n",
       "            </tr>\n",
       "            <tr>\n",
       "                        <th id=\"T_1a455d82_8ecd_11ea_905a_448a5b2f88e1level0_row5\" class=\"row_heading level0 row5\" >Dispersion: High * Target</th>\n",
       "                        <td id=\"T_1a455d82_8ecd_11ea_905a_448a5b2f88e1row5_col0\" class=\"data row5 col0\" >-0.51</td>\n",
       "            </tr>\n",
       "    </tbody></table>"
      ],
      "text/plain": [
       "<pandas.io.formats.style.Styler at 0x1948933f0f0>"
      ]
     },
     "execution_count": 8,
     "metadata": {},
     "output_type": "execute_result"
    }
   ],
   "source": [
    "stdbetas = model.params[:-1] / df_clean.memory_min.std(ddof=1)\n",
    "stdbetas.index = [\n",
    "    \"Intercept\",\n",
    "    \"Dispersion: Low (vs. Medium)\",\n",
    "    \"Dispersion: High (vs. Medium)\",\n",
    "    \"Target: Manipulated (vs. Common)\",\n",
    "    \"Dispersion: Low * Target\",\n",
    "    \"Dispersion: High * Target\",\n",
    "]\n",
    "table = pd.DataFrame(stdbetas, columns=[\"Standardized Betas\"])\n",
    "table.style.format(\"{:.2f}\")"
   ]
  },
  {
   "cell_type": "code",
   "execution_count": 9,
   "metadata": {},
   "outputs": [
    {
     "data": {
      "image/png": "[encoded data removed]",
      "text/plain": [
       "<Figure size 576x288 with 1 Axes>"
      ]
     },
     "metadata": {},
     "output_type": "display_data"
    }
   ],
   "source": [
    "df_common = df_clean[df_clean.is_manipulated == 0]\n",
    "plot_cdf_stats(\n",
    "    df_common, stats=\"min\", figname=\"Fig 2a - Study 1a - CDF Min\", save=True, show=True\n",
    ")\n",
    "plot_cdf_stats(\n",
    "    df_common,\n",
    "    stats=\"min\",\n",
    "    figname=\"Fig 2a - Study 1a - CDF Min\",\n",
    "    grayscale=True,\n",
    "    save=True,\n",
    "    show=False,\n",
    ")"
   ]
  },
  {
   "cell_type": "code",
   "execution_count": 10,
   "metadata": {},
   "outputs": [
    {
     "data": {
      "text/markdown": [
       "\n",
       "When the price dispersion in the manipulated category was higher, 53% of participants \n",
       "reported a minimum price for the common category that was lower than the actual minimum price that they learned. \n",
       "In contrast, only 12% (9%) of participants did so when the manipulated had as much (less)\n",
       "price dispersion (53% vs. 12%: $\\chi$(1) = 42.90, p < .001; \n",
       "53% vs. 9%: $\\chi$(1) = 37.09, p < .001; 12% vs. \n",
       "9%:  $\\chi$(1) = 0.41, p = 0.520). \n"
      ],
      "text/plain": [
       "<IPython.core.display.Markdown object>"
      ]
     },
     "execution_count": 10,
     "metadata": {},
     "output_type": "execute_result"
    }
   ],
   "source": [
    "nobs = df_common.groupby(\"sd_manipulated\").below_actual_min.count()\n",
    "nsuc = df_common.groupby(\"sd_manipulated\").below_actual_min.sum()\n",
    "props = nsuc / nobs * 100\n",
    "\n",
    "chi_hvm, p_hvm = proportions_chisquare(nsuc[[0, 2]], nobs[[0, 2]])[0:2]\n",
    "chi_hvl, p_hvl = proportions_chisquare(nsuc[[0, 1]], nobs[[0, 1]])[0:2]\n",
    "chi_mvl, p_mvl = proportions_chisquare(nsuc[[1, 2]], nobs[[1, 2]])[0:2]\n",
    "\n",
    "Markdown(\n",
    "    f\"\"\"\n",
    "When the price dispersion in the manipulated category was higher, {props[0]:.0f}% of participants \n",
    "reported a minimum price for the common category that was lower than the actual minimum price that they learned. \n",
    "In contrast, only {props[2]:.0f}% ({props[1]:.0f}%) of participants did so when the manipulated had as much (less)\n",
    "price dispersion ({props[0]:.0f}% vs. {props[2]:.0f}%: $\\chi$(1) = {chi_hvl:.2f}, {format_pvals(p_hvl)}; \n",
    "{props[0]:.0f}% vs. {props[1]:.0f}%: $\\chi$(1) = {chi_hvm:.2f}, {format_pvals(p_hvm)}; {props[2]:.0f}% vs. \n",
    "{props[1]:.0f}%:  $\\chi$(1) = {chi_mvl:.2f}, {format_pvals(p_mvl)}). \n",
    "\"\"\"\n",
    ")"
   ]
  },
  {
   "cell_type": "markdown",
   "metadata": {},
   "source": [
    "## Maximum"
   ]
  },
  {
   "cell_type": "code",
   "execution_count": 11,
   "metadata": {},
   "outputs": [
    {
     "data": {
      "text/html": [
       "<table class=\"simpletable\">\n",
       "<tr>\n",
       "       <td>Model:</td>       <td>MixedLM</td> <td>Dependent Variable:</td> <td>Reported Maximum</td>\n",
       "</tr>\n",
       "<tr>\n",
       "  <td>No. Observations:</td>   <td>586</td>         <td>Method:</td>             <td>REML</td>      \n",
       "</tr>\n",
       "<tr>\n",
       "     <td>No. Groups:</td>      <td>293</td>         <td>Scale:</td>             <td>7.9755</td>     \n",
       "</tr>\n",
       "<tr>\n",
       "  <td>Min. group size:</td>     <td>2</td>      <td>Log-Likelihood:</td>      <td>-1616.6643</td>   \n",
       "</tr>\n",
       "<tr>\n",
       "  <td>Max. group size:</td>     <td>2</td>        <td>Converged:</td>             <td>Yes</td>      \n",
       "</tr>\n",
       "<tr>\n",
       "  <td>Mean group size:</td>    <td>2.0</td>            <td></td>                   <td></td>        \n",
       "</tr>\n",
       "</table>\n",
       "<table class=\"simpletable\">\n",
       "<tr>\n",
       "                  <td></td>                  <th>Coef.</th> <th>Std.Err.</th>    <th>z</th>   <th>P>|z|</th> <th>[0.025</th> <th>0.975]</th>\n",
       "</tr>\n",
       "<tr>\n",
       "  <th>Intercept</th>                        <td>32.650</td>   <td>0.419</td>  <td>77.875</td> <td>0.000</td> <td>31.828</td> <td>33.472</td>\n",
       "</tr>\n",
       "<tr>\n",
       "  <th>Dispersion: Low (vs. Medium)</th>      <td>0.534</td>   <td>0.596</td>   <td>0.896</td> <td>0.371</td> <td>-0.634</td>  <td>1.702</td>\n",
       "</tr>\n",
       "<tr>\n",
       "  <th>Dispersion: High (vs. Medium)</th>     <td>1.918</td>   <td>0.601</td>   <td>3.194</td> <td>0.001</td>  <td>0.741</td>  <td>3.096</td>\n",
       "</tr>\n",
       "<tr>\n",
       "  <th>Target: Manipulated (vs. Common)</th>  <td>0.810</td>   <td>0.399</td>   <td>2.028</td> <td>0.043</td>  <td>0.027</td>  <td>1.593</td>\n",
       "</tr>\n",
       "<tr>\n",
       "  <th>Dispersion: Low * Target</th>         <td>-3.555</td>   <td>0.568</td>  <td>-6.262</td> <td>0.000</td> <td>-4.668</td> <td>-2.442</td>\n",
       "</tr>\n",
       "<tr>\n",
       "  <th>Dispersion: High * Target</th>         <td>0.074</td>   <td>0.572</td>   <td>0.130</td> <td>0.897</td> <td>-1.047</td>  <td>1.196</td>\n",
       "</tr>\n",
       "<tr>\n",
       "  <th>Group Var</th>                         <td>9.602</td>   <td>0.565</td>     <td></td>      <td></td>       <td></td>       <td></td>   \n",
       "</tr>\n",
       "</table>"
      ],
      "text/plain": [
       "<class 'statsmodels.iolib.summary2.Summary'>\n",
       "\"\"\"\n",
       "                   Mixed Linear Model Regression Results\n",
       "===========================================================================\n",
       "Model:                 MixedLM     Dependent Variable:     Reported Maximum\n",
       "No. Observations:      586         Method:                 REML            \n",
       "No. Groups:            293         Scale:                  7.9755          \n",
       "Min. group size:       2           Log-Likelihood:         -1616.6643      \n",
       "Max. group size:       2           Converged:              Yes             \n",
       "Mean group size:       2.0                                                 \n",
       "---------------------------------------------------------------------------\n",
       "                                 Coef.  Std.Err.   z    P>|z| [0.025 0.975]\n",
       "---------------------------------------------------------------------------\n",
       "Intercept                        32.650    0.419 77.875 0.000 31.828 33.472\n",
       "Dispersion: Low (vs. Medium)      0.534    0.596  0.896 0.371 -0.634  1.702\n",
       "Dispersion: High (vs. Medium)     1.918    0.601  3.194 0.001  0.741  3.096\n",
       "Target: Manipulated (vs. Common)  0.810    0.399  2.028 0.043  0.027  1.593\n",
       "Dispersion: Low * Target         -3.555    0.568 -6.262 0.000 -4.668 -2.442\n",
       "Dispersion: High * Target         0.074    0.572  0.130 0.897 -1.047  1.196\n",
       "Group Var                         9.602    0.565                           \n",
       "===========================================================================\n",
       "\n",
       "\"\"\""
      ]
     },
     "execution_count": 11,
     "metadata": {},
     "output_type": "execute_result"
    }
   ],
   "source": [
    "model = smf.mixedlm(\n",
    "    \"memory_max ~ C(sd_manipulated, levels=['Med', 'Low', 'High'])\\\n",
    "*C(is_manipulated)\",\n",
    "    data=df_clean,\n",
    "    groups=df_clean.turkid,\n",
    ").fit()\n",
    "model.summary(\n",
    "    yname=\"Reported Maximum\",\n",
    "    xname_fe=[\n",
    "        \"Intercept\",\n",
    "        \"Dispersion: Low (vs. Medium)\",\n",
    "        \"Dispersion: High (vs. Medium)\",\n",
    "        \"Target: Manipulated (vs. Common)\",\n",
    "        \"Dispersion: Low * Target\",\n",
    "        \"Dispersion: High * Target\",\n",
    "    ],\n",
    ")"
   ]
  },
  {
   "cell_type": "markdown",
   "metadata": {},
   "source": [
    "Standardized betas:"
   ]
  },
  {
   "cell_type": "code",
   "execution_count": 12,
   "metadata": {},
   "outputs": [
    {
     "data": {
      "text/html": [
       "<style  type=\"text/css\" >\n",
       "</style><table id=\"T_1b67d91c_8ecd_11ea_939e_448a5b2f88e1\" ><thead>    <tr>        <th class=\"blank level0\" ></th>        <th class=\"col_heading level0 col0\" >Standardized Betas</th>    </tr></thead><tbody>\n",
       "                <tr>\n",
       "                        <th id=\"T_1b67d91c_8ecd_11ea_939e_448a5b2f88e1level0_row0\" class=\"row_heading level0 row0\" >Intercept</th>\n",
       "                        <td id=\"T_1b67d91c_8ecd_11ea_939e_448a5b2f88e1row0_col0\" class=\"data row0 col0\" >7.32</td>\n",
       "            </tr>\n",
       "            <tr>\n",
       "                        <th id=\"T_1b67d91c_8ecd_11ea_939e_448a5b2f88e1level0_row1\" class=\"row_heading level0 row1\" >Dispersion: Low (vs. Medium)</th>\n",
       "                        <td id=\"T_1b67d91c_8ecd_11ea_939e_448a5b2f88e1row1_col0\" class=\"data row1 col0\" >0.12</td>\n",
       "            </tr>\n",
       "            <tr>\n",
       "                        <th id=\"T_1b67d91c_8ecd_11ea_939e_448a5b2f88e1level0_row2\" class=\"row_heading level0 row2\" >Dispersion: High (vs. Medium)</th>\n",
       "                        <td id=\"T_1b67d91c_8ecd_11ea_939e_448a5b2f88e1row2_col0\" class=\"data row2 col0\" >0.43</td>\n",
       "            </tr>\n",
       "            <tr>\n",
       "                        <th id=\"T_1b67d91c_8ecd_11ea_939e_448a5b2f88e1level0_row3\" class=\"row_heading level0 row3\" >Target: Manipulated (vs. Common)</th>\n",
       "                        <td id=\"T_1b67d91c_8ecd_11ea_939e_448a5b2f88e1row3_col0\" class=\"data row3 col0\" >0.18</td>\n",
       "            </tr>\n",
       "            <tr>\n",
       "                        <th id=\"T_1b67d91c_8ecd_11ea_939e_448a5b2f88e1level0_row4\" class=\"row_heading level0 row4\" >Dispersion: Low * Target</th>\n",
       "                        <td id=\"T_1b67d91c_8ecd_11ea_939e_448a5b2f88e1row4_col0\" class=\"data row4 col0\" >-0.80</td>\n",
       "            </tr>\n",
       "            <tr>\n",
       "                        <th id=\"T_1b67d91c_8ecd_11ea_939e_448a5b2f88e1level0_row5\" class=\"row_heading level0 row5\" >Dispersion: High * Target</th>\n",
       "                        <td id=\"T_1b67d91c_8ecd_11ea_939e_448a5b2f88e1row5_col0\" class=\"data row5 col0\" >0.02</td>\n",
       "            </tr>\n",
       "    </tbody></table>"
      ],
      "text/plain": [
       "<pandas.io.formats.style.Styler at 0x194893947b8>"
      ]
     },
     "execution_count": 12,
     "metadata": {},
     "output_type": "execute_result"
    }
   ],
   "source": [
    "stdbetas = model.params[:-1] / df_clean.memory_max.std(ddof=1)\n",
    "stdbetas.index = [\n",
    "    \"Intercept\",\n",
    "    \"Dispersion: Low (vs. Medium)\",\n",
    "    \"Dispersion: High (vs. Medium)\",\n",
    "    \"Target: Manipulated (vs. Common)\",\n",
    "    \"Dispersion: Low * Target\",\n",
    "    \"Dispersion: High * Target\",\n",
    "]\n",
    "table = pd.DataFrame(stdbetas, columns=[\"Standardized Betas\"])\n",
    "table.style.format(\"{:.2f}\")"
   ]
  },
  {
   "cell_type": "code",
   "execution_count": 13,
   "metadata": {},
   "outputs": [
    {
     "data": {
      "image/png": "[encoded data removed]",
      "text/plain": [
       "<Figure size 576x288 with 1 Axes>"
      ]
     },
     "metadata": {},
     "output_type": "display_data"
    }
   ],
   "source": [
    "df_common = df_clean[df_clean.is_manipulated == 0]\n",
    "plot_cdf_stats(\n",
    "    df_common, stats=\"max\", figname=\"Fig 2b - Study 1a - CDF Max\", save=True, show=True\n",
    ")\n",
    "plot_cdf_stats(\n",
    "    df_common,\n",
    "    stats=\"max\",\n",
    "    figname=\"Fig 2b - Study 1a - CDF Max\",\n",
    "    grayscale=True,\n",
    "    save=True,\n",
    "    show=False,\n",
    ")"
   ]
  },
  {
   "cell_type": "code",
   "execution_count": 14,
   "metadata": {},
   "outputs": [
    {
     "data": {
      "text/markdown": [
       "\n",
       "When the price dispersion in the manipulated category was higher than the price dispersion in the common category, \n",
       "49% of participants reported seeing a maximum price higher than the actual maximum price. \n",
       "In contrast, only 16% (17%) of participants did this when the price dispersion of the manipulated \n",
       "category was equal (lower) (49% vs. 16%: $\\chi$(1) = 22.46, p < .001; \n",
       "49% vs. 17%: $\\chi$(1) = 24.96, p < .001;  17% vs.\n",
       "16%:  $\\chi$(1) = 0.06, p = 0.799). \n"
      ],
      "text/plain": [
       "<IPython.core.display.Markdown object>"
      ]
     },
     "execution_count": 14,
     "metadata": {},
     "output_type": "execute_result"
    }
   ],
   "source": [
    "nobs = df_common.groupby(\"sd_manipulated\").above_actual_max.count()\n",
    "nsuc = df_common.groupby(\"sd_manipulated\").above_actual_max.sum()\n",
    "props = nsuc / nobs * 100\n",
    "\n",
    "chi_hvm, p_hvm = proportions_chisquare(nsuc[[0, 2]], nobs[[0, 2]])[0:2]\n",
    "chi_hvl, p_hvl = proportions_chisquare(nsuc[[0, 1]], nobs[[0, 1]])[0:2]\n",
    "chi_mvl, p_mvl = proportions_chisquare(nsuc[[1, 2]], nobs[[1, 2]])[0:2]\n",
    "\n",
    "Markdown(\n",
    "    f\"\"\"\n",
    "When the price dispersion in the manipulated category was higher than the price dispersion in the common category, \n",
    "{props[0]:.0f}% of participants reported seeing a maximum price higher than the actual maximum price. \n",
    "In contrast, only {props[2]:.0f}% ({props[1]:.0f}%) of participants did this when the price dispersion of the manipulated \n",
    "category was equal (lower) ({props[0]:.0f}% vs. {props[2]:.0f}%: $\\chi$(1) = {chi_hvl:.2f}, {format_pvals(p_hvl)}; \n",
    "{props[0]:.0f}% vs. {props[1]:.0f}%: $\\chi$(1) = {chi_hvm:.2f}, {format_pvals(p_hvm)};  {props[1]:.0f}% vs.\n",
    "{props[2]:.0f}%:  $\\chi$(1) = {chi_mvl:.2f}, {format_pvals(p_mvl)}). \n",
    "\"\"\"\n",
    ")"
   ]
  },
  {
   "cell_type": "markdown",
   "metadata": {},
   "source": [
    "The dispersion of the \"manipulated\" distribution has an asymmetric effect on the perception of the \"common\" distribution:\n",
    "* When the dispersion is \"high\", it inflates the perceived range.\n",
    "* When the dispersion is \"low\", it has no detectable bearing on the perceived range."
   ]
  },
  {
   "cell_type": "markdown",
   "metadata": {},
   "source": [
    "# Robustness Checks"
   ]
  },
  {
   "cell_type": "markdown",
   "metadata": {},
   "source": [
    "## Counterbalancing factor - Maximum"
   ]
  },
  {
   "cell_type": "code",
   "execution_count": 15,
   "metadata": {},
   "outputs": [
    {
     "data": {
      "text/html": [
       "<table class=\"simpletable\">\n",
       "<tr>\n",
       "       <td>Model:</td>       <td>MixedLM</td> <td>Dependent Variable:</td> <td>Reported Maximum</td>\n",
       "</tr>\n",
       "<tr>\n",
       "  <td>No. Observations:</td>   <td>586</td>         <td>Method:</td>             <td>REML</td>      \n",
       "</tr>\n",
       "<tr>\n",
       "     <td>No. Groups:</td>      <td>293</td>         <td>Scale:</td>             <td>8.0053</td>     \n",
       "</tr>\n",
       "<tr>\n",
       "  <td>Min. group size:</td>     <td>2</td>      <td>Log-Likelihood:</td>      <td>-1614.5463</td>   \n",
       "</tr>\n",
       "<tr>\n",
       "  <td>Max. group size:</td>     <td>2</td>        <td>Converged:</td>             <td>Yes</td>      \n",
       "</tr>\n",
       "<tr>\n",
       "  <td>Mean group size:</td>    <td>2.0</td>            <td></td>                   <td></td>        \n",
       "</tr>\n",
       "</table>\n",
       "<table class=\"simpletable\">\n",
       "<tr>\n",
       "                  <td></td>                  <th>Coef.</th> <th>Std.Err.</th>    <th>z</th>   <th>P>|z|</th> <th>[0.025</th> <th>0.975]</th>\n",
       "</tr>\n",
       "<tr>\n",
       "  <th>Intercept</th>                        <td>32.635</td>   <td>0.420</td>  <td>77.706</td> <td>0.000</td> <td>31.812</td> <td>33.459</td>\n",
       "</tr>\n",
       "<tr>\n",
       "  <th>Dispersion: Low (vs. Medium)</th>      <td>0.568</td>   <td>0.597</td>   <td>0.951</td> <td>0.342</td> <td>-0.602</td>  <td>1.738</td>\n",
       "</tr>\n",
       "<tr>\n",
       "  <th>Dispersion: High (vs. Medium)</th>     <td>1.926</td>   <td>0.601</td>   <td>3.202</td> <td>0.001</td>  <td>0.747</td>  <td>3.105</td>\n",
       "</tr>\n",
       "<tr>\n",
       "  <th>Target: Manipulated (vs. Common)</th>  <td>0.817</td>   <td>0.400</td>   <td>2.039</td> <td>0.041</td>  <td>0.032</td>  <td>1.601</td>\n",
       "</tr>\n",
       "<tr>\n",
       "  <th>Counterbalancing Factor (CF)</th>     <td>-0.365</td>   <td>0.420</td>  <td>-0.868</td> <td>0.385</td> <td>-1.188</td>  <td>0.459</td>\n",
       "</tr>\n",
       "<tr>\n",
       "  <th>Dispersion: Low * Target</th>         <td>-3.572</td>   <td>0.569</td>  <td>-6.276</td> <td>0.000</td> <td>-4.688</td> <td>-2.457</td>\n",
       "</tr>\n",
       "<tr>\n",
       "  <th>Dispersion: High * Target</th>         <td>0.073</td>   <td>0.574</td>   <td>0.127</td> <td>0.899</td> <td>-1.051</td>  <td>1.197</td>\n",
       "</tr>\n",
       "<tr>\n",
       "  <th>Dispersion: Low * CF</th>             <td>-0.113</td>   <td>0.597</td>  <td>-0.189</td> <td>0.850</td> <td>-1.283</td>  <td>1.057</td>\n",
       "</tr>\n",
       "<tr>\n",
       "  <th>Dispersion: High * CF</th>            <td>-0.282</td>   <td>0.601</td>  <td>-0.469</td> <td>0.639</td> <td>-1.461</td>  <td>0.897</td>\n",
       "</tr>\n",
       "<tr>\n",
       "  <th>Target * CF</th>                       <td>0.163</td>   <td>0.400</td>   <td>0.406</td> <td>0.685</td> <td>-0.622</td>  <td>0.948</td>\n",
       "</tr>\n",
       "<tr>\n",
       "  <th>Dispersion: Low * Target * CF</th>     <td>0.103</td>   <td>0.569</td>   <td>0.181</td> <td>0.857</td> <td>-1.013</td>  <td>1.219</td>\n",
       "</tr>\n",
       "<tr>\n",
       "  <th>Dispersion: High * Target * CF</th>    <td>0.310</td>   <td>0.574</td>   <td>0.540</td> <td>0.589</td> <td>-0.814</td>  <td>1.434</td>\n",
       "</tr>\n",
       "<tr>\n",
       "  <th>Group Var</th>                         <td>9.605</td>   <td>0.568</td>     <td></td>      <td></td>       <td></td>       <td></td>   \n",
       "</tr>\n",
       "</table>"
      ],
      "text/plain": [
       "<class 'statsmodels.iolib.summary2.Summary'>\n",
       "\"\"\"\n",
       "                   Mixed Linear Model Regression Results\n",
       "===========================================================================\n",
       "Model:                 MixedLM     Dependent Variable:     Reported Maximum\n",
       "No. Observations:      586         Method:                 REML            \n",
       "No. Groups:            293         Scale:                  8.0053          \n",
       "Min. group size:       2           Log-Likelihood:         -1614.5463      \n",
       "Max. group size:       2           Converged:              Yes             \n",
       "Mean group size:       2.0                                                 \n",
       "---------------------------------------------------------------------------\n",
       "                                 Coef.  Std.Err.   z    P>|z| [0.025 0.975]\n",
       "---------------------------------------------------------------------------\n",
       "Intercept                        32.635    0.420 77.706 0.000 31.812 33.459\n",
       "Dispersion: Low (vs. Medium)      0.568    0.597  0.951 0.342 -0.602  1.738\n",
       "Dispersion: High (vs. Medium)     1.926    0.601  3.202 0.001  0.747  3.105\n",
       "Target: Manipulated (vs. Common)  0.817    0.400  2.039 0.041  0.032  1.601\n",
       "Counterbalancing Factor (CF)     -0.365    0.420 -0.868 0.385 -1.188  0.459\n",
       "Dispersion: Low * Target         -3.572    0.569 -6.276 0.000 -4.688 -2.457\n",
       "Dispersion: High * Target         0.073    0.574  0.127 0.899 -1.051  1.197\n",
       "Dispersion: Low * CF             -0.113    0.597 -0.189 0.850 -1.283  1.057\n",
       "Dispersion: High * CF            -0.282    0.601 -0.469 0.639 -1.461  0.897\n",
       "Target * CF                       0.163    0.400  0.406 0.685 -0.622  0.948\n",
       "Dispersion: Low * Target * CF     0.103    0.569  0.181 0.857 -1.013  1.219\n",
       "Dispersion: High * Target * CF    0.310    0.574  0.540 0.589 -0.814  1.434\n",
       "Group Var                         9.605    0.568                           \n",
       "===========================================================================\n",
       "\n",
       "\"\"\""
      ]
     },
     "execution_count": 15,
     "metadata": {},
     "output_type": "execute_result"
    }
   ],
   "source": [
    "model = smf.mixedlm(\n",
    "    \"memory_max ~ C(sd_manipulated, levels=['Med', 'Low', 'High'])\\\n",
    "*C(is_manipulated)*C(name_manipulated, Sum)\",\n",
    "    data=df_clean,\n",
    "    groups=df_clean.turkid,\n",
    ").fit()\n",
    "model.summary(\n",
    "    yname=\"Reported Maximum\",\n",
    "    xname_fe=[\n",
    "        \"Intercept\",\n",
    "        \"Dispersion: Low (vs. Medium)\",\n",
    "        \"Dispersion: High (vs. Medium)\",\n",
    "        \"Target: Manipulated (vs. Common)\",\n",
    "        \"Counterbalancing Factor (CF)\",\n",
    "        \"Dispersion: Low * Target\",\n",
    "        \"Dispersion: High * Target\",\n",
    "        \"Dispersion: Low * CF\",\n",
    "        \"Dispersion: High * CF\",\n",
    "        \"Target * CF\",\n",
    "        \"Dispersion: Low * Target * CF\",\n",
    "        \"Dispersion: High * Target * CF\",\n",
    "    ],\n",
    ")"
   ]
  },
  {
   "cell_type": "markdown",
   "metadata": {},
   "source": [
    "## Counterbalancing factor - Minimum"
   ]
  },
  {
   "cell_type": "code",
   "execution_count": 16,
   "metadata": {},
   "outputs": [
    {
     "data": {
      "text/html": [
       "<table class=\"simpletable\">\n",
       "<tr>\n",
       "       <td>Model:</td>       <td>MixedLM</td> <td>Dependent Variable:</td> <td>Reported Minimum</td>\n",
       "</tr>\n",
       "<tr>\n",
       "  <td>No. Observations:</td>   <td>586</td>         <td>Method:</td>             <td>REML</td>      \n",
       "</tr>\n",
       "<tr>\n",
       "     <td>No. Groups:</td>      <td>293</td>         <td>Scale:</td>             <td>5.2506</td>     \n",
       "</tr>\n",
       "<tr>\n",
       "  <td>Min. group size:</td>     <td>2</td>      <td>Log-Likelihood:</td>      <td>-1428.6084</td>   \n",
       "</tr>\n",
       "<tr>\n",
       "  <td>Max. group size:</td>     <td>2</td>        <td>Converged:</td>             <td>Yes</td>      \n",
       "</tr>\n",
       "<tr>\n",
       "  <td>Mean group size:</td>    <td>2.0</td>            <td></td>                   <td></td>        \n",
       "</tr>\n",
       "</table>\n",
       "<table class=\"simpletable\">\n",
       "<tr>\n",
       "                  <td></td>                  <th>Coef.</th> <th>Std.Err.</th>    <th>z</th>   <th>P>|z|</th> <th>[0.025</th> <th>0.975]</th>\n",
       "</tr>\n",
       "<tr>\n",
       "  <th>Intercept</th>                        <td>17.864</td>   <td>0.288</td>  <td>61.942</td> <td>0.000</td> <td>17.299</td> <td>18.429</td>\n",
       "</tr>\n",
       "<tr>\n",
       "  <th>Dispersion: Low (vs. Medium)</th>      <td>0.341</td>   <td>0.410</td>   <td>0.831</td> <td>0.406</td> <td>-0.463</td>  <td>1.144</td>\n",
       "</tr>\n",
       "<tr>\n",
       "  <th>Dispersion: High (vs. Medium)</th>    <td>-1.638</td>   <td>0.413</td>  <td>-3.966</td> <td>0.000</td> <td>-2.448</td> <td>-0.829</td>\n",
       "</tr>\n",
       "<tr>\n",
       "  <th>Target: Manipulated (vs. Common)</th>  <td>0.509</td>   <td>0.324</td>   <td>1.569</td> <td>0.117</td> <td>-0.127</td>  <td>1.144</td>\n",
       "</tr>\n",
       "<tr>\n",
       "  <th>Counterbalancing Factor (CF)</th>     <td>-0.405</td>   <td>0.288</td>  <td>-1.406</td> <td>0.160</td> <td>-0.971</td>  <td>0.160</td>\n",
       "</tr>\n",
       "<tr>\n",
       "  <th>Dispersion: Low * Target</th>          <td>1.282</td>   <td>0.461</td>   <td>2.782</td> <td>0.005</td>  <td>0.379</td>  <td>2.186</td>\n",
       "</tr>\n",
       "<tr>\n",
       "  <th>Dispersion: High * Target</th>        <td>-1.705</td>   <td>0.464</td>  <td>-3.671</td> <td>0.000</td> <td>-2.615</td> <td>-0.795</td>\n",
       "</tr>\n",
       "<tr>\n",
       "  <th>Dispersion: Low * CF</th>              <td>0.142</td>   <td>0.410</td>   <td>0.346</td> <td>0.729</td> <td>-0.661</td>  <td>0.945</td>\n",
       "</tr>\n",
       "<tr>\n",
       "  <th>Dispersion: High * CF</th>            <td>-0.161</td>   <td>0.413</td>  <td>-0.389</td> <td>0.697</td> <td>-0.970</td>  <td>0.649</td>\n",
       "</tr>\n",
       "<tr>\n",
       "  <th>Target * CF</th>                       <td>0.720</td>   <td>0.324</td>   <td>2.221</td> <td>0.026</td>  <td>0.085</td>  <td>1.356</td>\n",
       "</tr>\n",
       "<tr>\n",
       "  <th>Dispersion: Low * Target * CF</th>    <td>-0.355</td>   <td>0.461</td>  <td>-0.769</td> <td>0.442</td> <td>-1.258</td>  <td>0.549</td>\n",
       "</tr>\n",
       "<tr>\n",
       "  <th>Dispersion: High * Target * CF</th>   <td>-0.354</td>   <td>0.464</td>  <td>-0.762</td> <td>0.446</td> <td>-1.264</td>  <td>0.556</td>\n",
       "</tr>\n",
       "<tr>\n",
       "  <th>Group Var</th>                         <td>3.053</td>   <td>0.293</td>     <td></td>      <td></td>       <td></td>       <td></td>   \n",
       "</tr>\n",
       "</table>"
      ],
      "text/plain": [
       "<class 'statsmodels.iolib.summary2.Summary'>\n",
       "\"\"\"\n",
       "                   Mixed Linear Model Regression Results\n",
       "===========================================================================\n",
       "Model:                 MixedLM     Dependent Variable:     Reported Minimum\n",
       "No. Observations:      586         Method:                 REML            \n",
       "No. Groups:            293         Scale:                  5.2506          \n",
       "Min. group size:       2           Log-Likelihood:         -1428.6084      \n",
       "Max. group size:       2           Converged:              Yes             \n",
       "Mean group size:       2.0                                                 \n",
       "---------------------------------------------------------------------------\n",
       "                                 Coef.  Std.Err.   z    P>|z| [0.025 0.975]\n",
       "---------------------------------------------------------------------------\n",
       "Intercept                        17.864    0.288 61.942 0.000 17.299 18.429\n",
       "Dispersion: Low (vs. Medium)      0.341    0.410  0.831 0.406 -0.463  1.144\n",
       "Dispersion: High (vs. Medium)    -1.638    0.413 -3.966 0.000 -2.448 -0.829\n",
       "Target: Manipulated (vs. Common)  0.509    0.324  1.569 0.117 -0.127  1.144\n",
       "Counterbalancing Factor (CF)     -0.405    0.288 -1.406 0.160 -0.971  0.160\n",
       "Dispersion: Low * Target          1.282    0.461  2.782 0.005  0.379  2.186\n",
       "Dispersion: High * Target        -1.705    0.464 -3.671 0.000 -2.615 -0.795\n",
       "Dispersion: Low * CF              0.142    0.410  0.346 0.729 -0.661  0.945\n",
       "Dispersion: High * CF            -0.161    0.413 -0.389 0.697 -0.970  0.649\n",
       "Target * CF                       0.720    0.324  2.221 0.026  0.085  1.356\n",
       "Dispersion: Low * Target * CF    -0.355    0.461 -0.769 0.442 -1.258  0.549\n",
       "Dispersion: High * Target * CF   -0.354    0.464 -0.762 0.446 -1.264  0.556\n",
       "Group Var                         3.053    0.293                           \n",
       "===========================================================================\n",
       "\n",
       "\"\"\""
      ]
     },
     "execution_count": 16,
     "metadata": {},
     "output_type": "execute_result"
    }
   ],
   "source": [
    "model = smf.mixedlm(\n",
    "    \"memory_min ~ C(sd_manipulated, levels=['Med', 'Low', 'High'])\\\n",
    "*C(is_manipulated)*C(name_manipulated, Sum)\",\n",
    "    data=df_clean,\n",
    "    groups=df_clean.turkid,\n",
    ").fit()\n",
    "model.summary(\n",
    "    yname=\"Reported Minimum\",\n",
    "    xname_fe=[\n",
    "        \"Intercept\",\n",
    "        \"Dispersion: Low (vs. Medium)\",\n",
    "        \"Dispersion: High (vs. Medium)\",\n",
    "        \"Target: Manipulated (vs. Common)\",\n",
    "        \"Counterbalancing Factor (CF)\",\n",
    "        \"Dispersion: Low * Target\",\n",
    "        \"Dispersion: High * Target\",\n",
    "        \"Dispersion: Low * CF\",\n",
    "        \"Dispersion: High * CF\",\n",
    "        \"Target * CF\",\n",
    "        \"Dispersion: Low * Target * CF\",\n",
    "        \"Dispersion: High * Target * CF\",\n",
    "    ],\n",
    ")"
   ]
  }
 ],
 "metadata": {
  "kernelspec": {
   "display_name": "Python 3",
   "language": "python",
   "name": "python3"
  },
  "language_info": {
   "codemirror_mode": {
    "name": "ipython",
    "version": 3
   },
   "file_extension": ".py",
   "mimetype": "text/x-python",
   "name": "python",
   "nbconvert_exporter": "python",
   "pygments_lexer": "ipython3",
   "version": "3.6.10"
  },
  "toc-autonumbering": true,
  "toc-showmarkdowntxt": false
 },
 "nbformat": 4,
 "nbformat_minor": 4
}
