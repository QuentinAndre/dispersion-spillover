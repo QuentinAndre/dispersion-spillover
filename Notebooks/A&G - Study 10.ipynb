{
 "cells": [
  {
   "cell_type": "markdown",
   "metadata": {},
   "source": [
    "This notebook presents all the analysis reported in Study 10 of the paper.\n",
    "\n",
    "Click the \"Show Code\" buttons to see the code associated with each output."
   ]
  },
  {
   "cell_type": "markdown",
   "metadata": {},
   "source": [
    "# Preamble"
   ]
  },
  {
   "cell_type": "markdown",
   "metadata": {},
   "source": [
    "## Libraries"
   ]
  },
  {
   "cell_type": "code",
   "execution_count": 1,
   "metadata": {},
   "outputs": [],
   "source": [
    "# Misc\n",
    "import warnings\n",
    "\n",
    "warnings.filterwarnings(\"ignore\")\n",
    "from functools import partial\n",
    "\n",
    "# Data libraries\n",
    "import pandas as pd\n",
    "import numpy as np\n",
    "\n",
    "# Plotting\n",
    "import matplotlib as mpl\n",
    "import matplotlib.pyplot as plt\n",
    "from matplotlib.gridspec import GridSpec\n",
    "import seaborn as sns\n",
    "\n",
    "sns.set_context(\"notebook\")\n",
    "\n",
    "# Statistics\n",
    "import statsmodels.formula.api as smf\n",
    "import scipy.stats as stats\n",
    "\n",
    "# Interface with R\n",
    "import rpy2\n",
    "\n",
    "%load_ext rpy2.ipython\n",
    "\n",
    "\n",
    "%R library(sjstats); # For effect sizes of ANOVAs\n",
    "\n",
    "STUDY_NAME = \"Study 10\""
   ]
  },
  {
   "cell_type": "markdown",
   "metadata": {},
   "source": [
    "## Functions"
   ]
  },
  {
   "cell_type": "code",
   "execution_count": 2,
   "metadata": {},
   "outputs": [],
   "source": [
    "def perc_formatter(x, y, prec=2):\n",
    "    return \"{:.{prec}f}%\".format(x, prec=prec)\n",
    "\n",
    "\n",
    "def plot_design(save=False, show=True, grayscale=False, figname=f\"Fig 18 - {STUDY_NAME} - Design\"):\n",
    "    # fmt: off\n",
    "    dists_var = {\n",
    "    'Low-High': [18.0, 19.0, 19.0, 20.0, 20.0, 21.0, 21.0, 21.0, 22.0, 22.0, 22.0, 23.0, 23.0, \n",
    "                 23.0, 24.0, 24.0, 24.0, 25.0, 25.0, 25.0, 26.0, 26.0, 27.0, 27.0, 28.0, \n",
    "                 10.0, 13.0, 15.0, 17.0, 18.0, 20.0, 21.0, 22.0, 24.0, 25.0, 26.0, 27.0, 28.0, \n",
    "                 29.0, 30.0, 31.0, 32.0, 34.0, 35.0, 36.0, 38.0, 39.0, 41.0, 43.0, 46.0],\n",
    "    'High-High': [5.0, 8.0, 10.0, 12.0, 13.0, 15.0, 16.0, 17.0, 19.0, 20.0, 21.0, 22.0, 23.0, \n",
    "                  24.0, 25.0, 26.0, 27.0, 29.0, 30.0, 31.0, 33.0, 34.0, 36.0, 38.0, 41.0, \n",
    "                  10.0, 13.0, 15.0, 17.0, 18.0, 20.0, 21.0, 22.0, 24.0, 25.0, 26.0, 27.0, 28.0, \n",
    "                  29.0, 30.0, 31.0, 32.0, 34.0, 35.0, 36.0, 38.0, 39.0, 41.0, 43.0, 46.0],\n",
    "    'Low-Low': [18.0, 19.0, 19.0, 20.0, 20.0, 21.0, 21.0, 21.0, 22.0, 22.0, 22.0, 23.0, 23.0, \n",
    "                23.0, 24.0, 24.0, 24.0, 25.0, 25.0, 25.0, 26.0, 26.0, 27.0, 27.0, 28.0, \n",
    "                23.0, 24.0, 24.0, 25.0, 25.0, 26.0, 26.0, 26.0, 27.0, 27.0, 27.0, 28.0, 28.0, \n",
    "                28.0, 29.0, 29.0, 29.0, 30.0, 30.0, 30.0, 31.0, 31.0, 32.0, 32.0, 33.0],\n",
    "    'High-Low': [5.0, 8.0, 10.0, 12.0, 13.0, 15.0, 16.0, 17.0, 19.0, 20.0, 21.0, 22.0, 23.0, \n",
    "                 24.0, 25.0, 26.0, 27.0, 29.0, 30.0, 31.0, 33.0, 34.0, 36.0, 38.0, 41.0, \n",
    "                 23.0, 24.0, 24.0, 25.0, 25.0, 26.0, 26.0, 26.0, 27.0, 27.0, 27.0, 28.0, 28.0, \n",
    "                 28.0, 29.0, 29.0, 29.0, 30.0, 30.0, 30.0, 31.0, 31.0, 32.0, 32.0, 33.0]\n",
    "    }\n",
    "    # fmt: on\n",
    "    if grayscale:\n",
    "        pal = sns.color_palette(\"Greys\")[2::3][::-1]\n",
    "        pathname = \"Grayscale\"\n",
    "    else:\n",
    "        pal = sns.color_palette()[1:4:2][::-1]\n",
    "        pathname = \"Color\"\n",
    "\n",
    "    if show:\n",
    "        sns.set_context(\"notebook\")\n",
    "    else:\n",
    "        sns.set_context(\"paper\")\n",
    "\n",
    "    sns.set_style(\"ticks\")\n",
    "\n",
    "    fig, axes = plt.subplots(2, 2, figsize=(6.38, 4))\n",
    "    axes = axes.flatten()\n",
    "    (ax1, ax2, ax3, ax4) = axes\n",
    "    bins = np.arange(1, 52, 0.5)\n",
    "    for i, (vartype, ax) in enumerate(\n",
    "        zip([\"Low-Low\", \"Low-High\", \"High-Low\", \"High-High\"], axes)\n",
    "    ):\n",
    "        ax.hist(\n",
    "            dists_var[vartype][0:25],\n",
    "            bins=bins,\n",
    "            label=\"Other Item (Smartphones/White Wine)\",\n",
    "            color=pal[1],\n",
    "            rwidth=1,\n",
    "            align=\"left\",\n",
    "            ec=pal[1],\n",
    "        )\n",
    "        ax.hist(\n",
    "            dists_var[vartype][25:],\n",
    "            bins=bins,\n",
    "            label=\"Red Wines\",\n",
    "            color=pal[0],\n",
    "            rwidth=0.5,\n",
    "            align=\"left\",\n",
    "            ec=pal[0],\n",
    "        )\n",
    "        leg = ax.legend()\n",
    "        han = leg.legendHandles\n",
    "        leg.remove()\n",
    "        ax.set_ylim(0, 4)\n",
    "        ax.set_xticks(np.arange(4, 52, 8))\n",
    "        ax.set_xticklabels([f\"${i}\" for i in np.arange(4, 52, 8)])\n",
    "        ax.set_xlim(-1, 51)\n",
    "        ax.set_yticks([])\n",
    "        sns.despine(ax=ax)\n",
    "\n",
    "    for ax, col in zip([axes[0], axes[1]], [\"Low\", \"High\"]):\n",
    "        ax.set_title(col + \" SD Red Wines\")\n",
    "    for ax, row in zip([axes[0], axes[2]], [\"Low\", \"High\"]):\n",
    "        ax.set_ylabel(row + \" SD\\nOther Item\", rotation=90, labelpad=5)\n",
    "\n",
    "    ax4.legend(\n",
    "        han,\n",
    "        [\"Other Item\", \"Red Wines\"],\n",
    "        frameon=False,\n",
    "        loc=\"upper center\",\n",
    "        bbox_to_anchor=(0.5, 0.85),\n",
    "    )\n",
    "    plt.tight_layout()\n",
    "    if save:\n",
    "        plt.savefig(\n",
    "            f\"../Figures/{pathname}/{figname}.png\", dpi=100, bbox_inches=\"tight\"\n",
    "        )\n",
    "    if show:\n",
    "        plt.show()\n",
    "    else:\n",
    "        plt.close()"
   ]
  },
  {
   "cell_type": "markdown",
   "metadata": {},
   "source": [
    "## Data loading and preparation "
   ]
  },
  {
   "cell_type": "code",
   "execution_count": 3,
   "metadata": {},
   "outputs": [],
   "source": [
    "df_agg = (\n",
    "    pd.read_csv(f\"../Data/{STUDY_NAME}/LongData.csv\")\n",
    "    .groupby(\n",
    "        [\n",
    "            \"turkid\",\n",
    "            \"pid\",\n",
    "            \"item\",\n",
    "            \"similarity\",\n",
    "            \"sd_item_one\",\n",
    "            \"sd_item_two\",\n",
    "            \"sd_focal\",\n",
    "            \"sd_other\",\n",
    "            \"mean_focal\",\n",
    "            \"mean_other\",\n",
    "        ]\n",
    "    )\n",
    "    .value.agg(**{\"value_std\": np.std})\n",
    "    .reset_index()\n",
    ")"
   ]
  },
  {
   "cell_type": "markdown",
   "metadata": {
    "toc-hr-collapsed": false
   },
   "source": [
    "# Design"
   ]
  },
  {
   "cell_type": "markdown",
   "metadata": {},
   "source": [
    "## Characteristics and distributions"
   ]
  },
  {
   "cell_type": "markdown",
   "metadata": {},
   "source": [
    "Like in study 4, all participants saw two distributions:\n",
    "\n",
    "* Red wines: SD manipulated between subjects $\\sigma \\in [2.74, 9.65]$, constant Mean, $\\mu = 28$\n",
    "* Second item: SD manipulated between subjects $\\sigma \\in [2.74, 9.65]$, constant Mean, $\\mu = 22$\n",
    "\n",
    "This study included another between-subjects factor: Similarity:\n",
    "* For half of the participants, the second item was labeled \"white wines\" (high-similarity condition)\n",
    "* For the other half, the second item was labeled \"smartphone cases\" (low-similarity condition)"
   ]
  },
  {
   "cell_type": "markdown",
   "metadata": {},
   "source": [
    "Visualization of the distributions in the four experimental conditions:"
   ]
  },
  {
   "cell_type": "code",
   "execution_count": 4,
   "metadata": {},
   "outputs": [
    {
     "data": {
      "image/png": "[encoded data removed]",
      "text/plain": [
       "<Figure size 459.36x288 with 4 Axes>"
      ]
     },
     "metadata": {},
     "output_type": "display_data"
    }
   ],
   "source": [
    "plot_design(save=True)"
   ]
  },
  {
   "cell_type": "markdown",
   "metadata": {},
   "source": [
    "## Number of valid participants"
   ]
  },
  {
   "cell_type": "code",
   "execution_count": 5,
   "metadata": {},
   "outputs": [
    {
     "data": {
      "text/plain": [
       "877"
      ]
     },
     "execution_count": 5,
     "metadata": {},
     "output_type": "execute_result"
    }
   ],
   "source": [
    "df_agg.pid.unique().shape[0]"
   ]
  },
  {
   "cell_type": "markdown",
   "metadata": {
    "toc-hr-collapsed": false
   },
   "source": [
    "# Analysis"
   ]
  },
  {
   "cell_type": "markdown",
   "metadata": {
    "toc-hr-collapsed": false
   },
   "source": [
    "## SD of reported distributions"
   ]
  },
  {
   "cell_type": "code",
   "execution_count": 6,
   "metadata": {},
   "outputs": [
    {
     "data": {
      "text/html": [
       "<table class=\"simpletable\">\n",
       "<tr>\n",
       "       <td>Model:</td>       <td>MixedLM</td> <td>Dependent Variable:</td> <td>SD of Reported Dist.</td>\n",
       "</tr>\n",
       "<tr>\n",
       "  <td>No. Observations:</td>  <td>1754</td>         <td>Method:</td>               <td>REML</td>        \n",
       "</tr>\n",
       "<tr>\n",
       "     <td>No. Groups:</td>      <td>877</td>         <td>Scale:</td>               <td>2.7416</td>       \n",
       "</tr>\n",
       "<tr>\n",
       "  <td>Min. group size:</td>     <td>2</td>      <td>Log-Likelihood:</td>        <td>-3722.9606</td>     \n",
       "</tr>\n",
       "<tr>\n",
       "  <td>Max. group size:</td>     <td>2</td>        <td>Converged:</td>               <td>Yes</td>        \n",
       "</tr>\n",
       "<tr>\n",
       "  <td>Mean group size:</td>    <td>2.0</td>            <td></td>                     <td></td>          \n",
       "</tr>\n",
       "</table>\n",
       "<table class=\"simpletable\">\n",
       "<tr>\n",
       "                    <td></td>                    <th>Coef.</th> <th>Std.Err.</th>    <th>z</th>    <th>P>|z|</th> <th>[0.025</th> <th>0.975]</th>\n",
       "</tr>\n",
       "<tr>\n",
       "  <th>Intercept</th>                             <td>6.118</td>   <td>0.059</td>  <td>104.302</td> <td>0.000</td>  <td>6.003</td>  <td>6.233</td>\n",
       "</tr>\n",
       "<tr>\n",
       "  <th>Given Item: High vs. Low SD</th>           <td>3.571</td>   <td>0.100</td>  <td>35.681</td>  <td>0.000</td>  <td>3.375</td>  <td>3.767</td>\n",
       "</tr>\n",
       "<tr>\n",
       "  <th>Other Item: High vs. Low SD</th>           <td>1.276</td>   <td>0.100</td>  <td>12.754</td>  <td>0.000</td>  <td>1.080</td>  <td>1.473</td>\n",
       "</tr>\n",
       "<tr>\n",
       "  <th>Cumulative Impact of High vs. Low SD</th> <td>-0.413</td>   <td>0.117</td>  <td>-3.520</td>  <td>0.000</td> <td>-0.643</td> <td>-0.183</td>\n",
       "</tr>\n",
       "<tr>\n",
       "  <th>Similarity: Low vs. High</th>             <td>-0.633</td>   <td>0.235</td>  <td>-2.698</td>  <td>0.007</td> <td>-1.093</td> <td>-0.173</td>\n",
       "</tr>\n",
       "<tr>\n",
       "  <th>Similarity $\\times$ Given Item</th>        <td>0.484</td>   <td>0.200</td>   <td>2.419</td>  <td>0.016</td>  <td>0.092</td>  <td>0.877</td>\n",
       "</tr>\n",
       "<tr>\n",
       "  <th>Similarity $\\times$ Other Item</th>       <td>-0.385</td>   <td>0.200</td>  <td>-1.926</td>  <td>0.054</td> <td>-0.778</td>  <td>0.007</td>\n",
       "</tr>\n",
       "<tr>\n",
       "  <th>Three-Way Interaction</th>                 <td>0.832</td>   <td>0.469</td>   <td>1.772</td>  <td>0.076</td> <td>-0.088</td>  <td>1.751</td>\n",
       "</tr>\n",
       "<tr>\n",
       "  <th>Participant Random Effects</th>            <td>1.646</td>   <td>0.123</td>     <td></td>       <td></td>       <td></td>       <td></td>   \n",
       "</tr>\n",
       "</table>"
      ],
      "text/plain": [
       "<class 'statsmodels.iolib.summary2.Summary'>\n",
       "\"\"\"\n",
       "                     Mixed Linear Model Regression Results\n",
       "================================================================================\n",
       "Model:                  MixedLM     Dependent Variable:     SD of Reported Dist.\n",
       "No. Observations:       1754        Method:                 REML                \n",
       "No. Groups:             877         Scale:                  2.7416              \n",
       "Min. group size:        2           Log-Likelihood:         -3722.9606          \n",
       "Max. group size:        2           Converged:              Yes                 \n",
       "Mean group size:        2.0                                                     \n",
       "--------------------------------------------------------------------------------\n",
       "                                     Coef.  Std.Err.    z    P>|z| [0.025 0.975]\n",
       "--------------------------------------------------------------------------------\n",
       "Intercept                             6.118    0.059 104.302 0.000  6.003  6.233\n",
       "Given Item: High vs. Low SD           3.571    0.100  35.681 0.000  3.375  3.767\n",
       "Other Item: High vs. Low SD           1.276    0.100  12.754 0.000  1.080  1.473\n",
       "Cumulative Impact of High vs. Low SD -0.413    0.117  -3.520 0.000 -0.643 -0.183\n",
       "Similarity: Low vs. High             -0.633    0.235  -2.698 0.007 -1.093 -0.173\n",
       "Similarity $\\times$ Given Item        0.484    0.200   2.419 0.016  0.092  0.877\n",
       "Similarity $\\times$ Other Item       -0.385    0.200  -1.926 0.054 -0.778  0.007\n",
       "Three-Way Interaction                 0.832    0.469   1.772 0.076 -0.088  1.751\n",
       "Participant Random Effects            1.646    0.123                            \n",
       "================================================================================\n",
       "\n",
       "\"\"\""
      ]
     },
     "execution_count": 6,
     "metadata": {},
     "output_type": "execute_result"
    }
   ],
   "source": [
    "colnames = [\n",
    "    \"Intercept\",\n",
    "    \"Given Item: High vs. Low SD\",\n",
    "    \"Other Item: High vs. Low SD\",\n",
    "    \"Cumulative Impact of High vs. Low SD\",\n",
    "    \"Similarity: Low vs. High\",\n",
    "    \"Similarity $\\\\times$ Given Item\",\n",
    "    \"Similarity $\\\\times$ Other Item\",\n",
    "    \"Three-Way Interaction\",\n",
    "]\n",
    "results = smf.mixedlm(\n",
    "    \"value_std~\\\n",
    "C(sd_focal, Diff, levels=['Low','High'])\\\n",
    "*C(sd_other, Diff, levels=['Low', 'High'])\\\n",
    "*C(similarity, Diff, levels=['Similar', 'Dissimilar'])\",\n",
    "    data=df_agg,\n",
    "    groups=df_agg.turkid,\n",
    ").fit()\n",
    "results.summary(\n",
    "    yname=\"SD of Reported Dist.\",\n",
    "    xname_fe=colnames,\n",
    "    xname_re=[\"Participant Random Effects\"],\n",
    ")"
   ]
  },
  {
   "cell_type": "code",
   "execution_count": 7,
   "metadata": {},
   "outputs": [
    {
     "data": {
      "text/html": [
       "<style  type=\"text/css\" >\n",
       "</style><table id=\"T_0453ccac_8ed2_11ea_bec5_448a5b2f88e1\" ><thead>    <tr>        <th class=\"blank level0\" ></th>        <th class=\"col_heading level0 col0\" >Standardized Betas</th>    </tr></thead><tbody>\n",
       "                <tr>\n",
       "                        <th id=\"T_0453ccac_8ed2_11ea_bec5_448a5b2f88e1level0_row0\" class=\"row_heading level0 row0\" >Intercept</th>\n",
       "                        <td id=\"T_0453ccac_8ed2_11ea_bec5_448a5b2f88e1row0_col0\" class=\"data row0 col0\" >2.16</td>\n",
       "            </tr>\n",
       "            <tr>\n",
       "                        <th id=\"T_0453ccac_8ed2_11ea_bec5_448a5b2f88e1level0_row1\" class=\"row_heading level0 row1\" >Given Item: High vs. Low SD</th>\n",
       "                        <td id=\"T_0453ccac_8ed2_11ea_bec5_448a5b2f88e1row1_col0\" class=\"data row1 col0\" >1.26</td>\n",
       "            </tr>\n",
       "            <tr>\n",
       "                        <th id=\"T_0453ccac_8ed2_11ea_bec5_448a5b2f88e1level0_row2\" class=\"row_heading level0 row2\" >Other Item: High vs. Low SD</th>\n",
       "                        <td id=\"T_0453ccac_8ed2_11ea_bec5_448a5b2f88e1row2_col0\" class=\"data row2 col0\" >0.45</td>\n",
       "            </tr>\n",
       "            <tr>\n",
       "                        <th id=\"T_0453ccac_8ed2_11ea_bec5_448a5b2f88e1level0_row3\" class=\"row_heading level0 row3\" >Cumulative Impact of High vs. Low SD</th>\n",
       "                        <td id=\"T_0453ccac_8ed2_11ea_bec5_448a5b2f88e1row3_col0\" class=\"data row3 col0\" >-0.15</td>\n",
       "            </tr>\n",
       "            <tr>\n",
       "                        <th id=\"T_0453ccac_8ed2_11ea_bec5_448a5b2f88e1level0_row4\" class=\"row_heading level0 row4\" >Similarity: Low vs. High</th>\n",
       "                        <td id=\"T_0453ccac_8ed2_11ea_bec5_448a5b2f88e1row4_col0\" class=\"data row4 col0\" >-0.22</td>\n",
       "            </tr>\n",
       "            <tr>\n",
       "                        <th id=\"T_0453ccac_8ed2_11ea_bec5_448a5b2f88e1level0_row5\" class=\"row_heading level0 row5\" >Similarity $\\times$ Given Item</th>\n",
       "                        <td id=\"T_0453ccac_8ed2_11ea_bec5_448a5b2f88e1row5_col0\" class=\"data row5 col0\" >0.17</td>\n",
       "            </tr>\n",
       "            <tr>\n",
       "                        <th id=\"T_0453ccac_8ed2_11ea_bec5_448a5b2f88e1level0_row6\" class=\"row_heading level0 row6\" >Similarity $\\times$ Other Item</th>\n",
       "                        <td id=\"T_0453ccac_8ed2_11ea_bec5_448a5b2f88e1row6_col0\" class=\"data row6 col0\" >-0.14</td>\n",
       "            </tr>\n",
       "            <tr>\n",
       "                        <th id=\"T_0453ccac_8ed2_11ea_bec5_448a5b2f88e1level0_row7\" class=\"row_heading level0 row7\" >Three-Way Interaction</th>\n",
       "                        <td id=\"T_0453ccac_8ed2_11ea_bec5_448a5b2f88e1row7_col0\" class=\"data row7 col0\" >0.29</td>\n",
       "            </tr>\n",
       "            <tr>\n",
       "                        <th id=\"T_0453ccac_8ed2_11ea_bec5_448a5b2f88e1level0_row8\" class=\"row_heading level0 row8\" >Participant Random Effects</th>\n",
       "                        <td id=\"T_0453ccac_8ed2_11ea_bec5_448a5b2f88e1row8_col0\" class=\"data row8 col0\" >0.21</td>\n",
       "            </tr>\n",
       "    </tbody></table>"
      ],
      "text/plain": [
       "<pandas.io.formats.style.Styler at 0x287bb89cf98>"
      ]
     },
     "execution_count": 7,
     "metadata": {},
     "output_type": "execute_result"
    }
   ],
   "source": [
    "stdbetas = results.params / df_agg.value_std.std(ddof=1)\n",
    "stdbetas.index = colnames + [\"Participant Random Effects\"]\n",
    "table = pd.DataFrame(stdbetas, columns=[\"Standardized Betas\"])\n",
    "table.style.format(\"{:.2f}\")"
   ]
  },
  {
   "cell_type": "markdown",
   "metadata": {},
   "source": [
    "The similarity of the labels assigned to the distribution has a significant impact on the dispersion of the reported distribution:\n",
    "* It increases the impact of the SD of the true distribution\n",
    "* It weakens the impact of the SD of the other distribution"
   ]
  },
  {
   "cell_type": "markdown",
   "metadata": {
    "toc-hr-collapsed": false
   },
   "source": [
    "## Simple Effects"
   ]
  },
  {
   "cell_type": "markdown",
   "metadata": {},
   "source": [
    "### Dissimilar Labels"
   ]
  },
  {
   "cell_type": "code",
   "execution_count": 8,
   "metadata": {},
   "outputs": [
    {
     "data": {
      "text/html": [
       "<table class=\"simpletable\">\n",
       "<tr>\n",
       "       <td>Model:</td>       <td>MixedLM</td> <td>Dependent Variable:</td> <td>SD of Reported Dist.</td>\n",
       "</tr>\n",
       "<tr>\n",
       "  <td>No. Observations:</td>  <td>1754</td>         <td>Method:</td>               <td>REML</td>        \n",
       "</tr>\n",
       "<tr>\n",
       "     <td>No. Groups:</td>      <td>877</td>         <td>Scale:</td>               <td>2.7416</td>       \n",
       "</tr>\n",
       "<tr>\n",
       "  <td>Min. group size:</td>     <td>2</td>      <td>Log-Likelihood:</td>        <td>-3722.9606</td>     \n",
       "</tr>\n",
       "<tr>\n",
       "  <td>Max. group size:</td>     <td>2</td>        <td>Converged:</td>               <td>Yes</td>        \n",
       "</tr>\n",
       "<tr>\n",
       "  <td>Mean group size:</td>    <td>2.0</td>            <td></td>                     <td></td>          \n",
       "</tr>\n",
       "</table>\n",
       "<table class=\"simpletable\">\n",
       "<tr>\n",
       "                    <td></td>                    <th>Coef.</th> <th>Std.Err.</th>    <th>z</th>   <th>P>|z|</th> <th>[0.025</th> <th>0.975]</th>\n",
       "</tr>\n",
       "<tr>\n",
       "  <th>Intercept</th>                             <td>5.912</td>   <td>0.082</td>  <td>71.715</td> <td>0.000</td>  <td>5.750</td>  <td>6.073</td>\n",
       "</tr>\n",
       "<tr>\n",
       "  <th>Given Item: High vs. Low SD</th>           <td>3.813</td>   <td>0.140</td>  <td>27.188</td> <td>0.000</td>  <td>3.538</td>  <td>4.088</td>\n",
       "</tr>\n",
       "<tr>\n",
       "  <th>Other Item: High vs. Low SD</th>           <td>1.084</td>   <td>0.140</td>   <td>7.727</td> <td>0.000</td>  <td>0.809</td>  <td>1.359</td>\n",
       "</tr>\n",
       "<tr>\n",
       "  <th>Cumulative Impact of High vs. Low SD</th>  <td>0.413</td>   <td>0.117</td>   <td>3.520</td> <td>0.000</td>  <td>0.183</td>  <td>0.643</td>\n",
       "</tr>\n",
       "<tr>\n",
       "  <th>Similarity: Low vs. High</th>             <td>-0.217</td>   <td>0.330</td>  <td>-0.659</td> <td>0.510</td> <td>-0.864</td>  <td>0.429</td>\n",
       "</tr>\n",
       "<tr>\n",
       "  <th>Similarity $\\times$ Given Item</th>       <td>-0.484</td>   <td>0.200</td>  <td>-2.419</td> <td>0.016</td> <td>-0.877</td> <td>-0.092</td>\n",
       "</tr>\n",
       "<tr>\n",
       "  <th>Similarity $\\times$ Other Item</th>        <td>0.385</td>   <td>0.200</td>   <td>1.926</td> <td>0.054</td> <td>-0.007</td>  <td>0.778</td>\n",
       "</tr>\n",
       "<tr>\n",
       "  <th>Three-Way Interaction</th>                <td>-0.832</td>   <td>0.469</td>  <td>-1.772</td> <td>0.076</td> <td>-1.751</td>  <td>0.088</td>\n",
       "</tr>\n",
       "<tr>\n",
       "  <th>Participant Random Effects</th>            <td>1.646</td>   <td>0.123</td>     <td></td>      <td></td>       <td></td>       <td></td>   \n",
       "</tr>\n",
       "</table>"
      ],
      "text/plain": [
       "<class 'statsmodels.iolib.summary2.Summary'>\n",
       "\"\"\"\n",
       "                     Mixed Linear Model Regression Results\n",
       "===============================================================================\n",
       "Model:                 MixedLM     Dependent Variable:     SD of Reported Dist.\n",
       "No. Observations:      1754        Method:                 REML                \n",
       "No. Groups:            877         Scale:                  2.7416              \n",
       "Min. group size:       2           Log-Likelihood:         -3722.9606          \n",
       "Max. group size:       2           Converged:              Yes                 \n",
       "Mean group size:       2.0                                                     \n",
       "-------------------------------------------------------------------------------\n",
       "                                     Coef.  Std.Err.   z    P>|z| [0.025 0.975]\n",
       "-------------------------------------------------------------------------------\n",
       "Intercept                             5.912    0.082 71.715 0.000  5.750  6.073\n",
       "Given Item: High vs. Low SD           3.813    0.140 27.188 0.000  3.538  4.088\n",
       "Other Item: High vs. Low SD           1.084    0.140  7.727 0.000  0.809  1.359\n",
       "Cumulative Impact of High vs. Low SD  0.413    0.117  3.520 0.000  0.183  0.643\n",
       "Similarity: Low vs. High             -0.217    0.330 -0.659 0.510 -0.864  0.429\n",
       "Similarity $\\times$ Given Item       -0.484    0.200 -2.419 0.016 -0.877 -0.092\n",
       "Similarity $\\times$ Other Item        0.385    0.200  1.926 0.054 -0.007  0.778\n",
       "Three-Way Interaction                -0.832    0.469 -1.772 0.076 -1.751  0.088\n",
       "Participant Random Effects            1.646    0.123                           \n",
       "===============================================================================\n",
       "\n",
       "\"\"\""
      ]
     },
     "execution_count": 8,
     "metadata": {},
     "output_type": "execute_result"
    }
   ],
   "source": [
    "colnames = [\n",
    "    \"Intercept\",\n",
    "    \"Given Item: High vs. Low SD\",\n",
    "    \"Other Item: High vs. Low SD\",\n",
    "    \"Cumulative Impact of High vs. Low SD\",\n",
    "    \"Similarity: Low vs. High\",\n",
    "    \"Similarity $\\\\times$ Given Item\",\n",
    "    \"Similarity $\\\\times$ Other Item\",\n",
    "    \"Three-Way Interaction\",\n",
    "]\n",
    "results = smf.mixedlm(\n",
    "    \"value_std~\\\n",
    "C(sd_focal, Diff, levels=['Low','High'])\\\n",
    "*C(sd_other, Diff, levels=['Low', 'High'])\\\n",
    "*C(similarity, Treatment('Dissimilar'))\",\n",
    "    data=df_agg,\n",
    "    groups=df_agg.turkid,\n",
    ").fit()\n",
    "results.summary(\n",
    "    yname=\"SD of Reported Dist.\",\n",
    "    xname_fe=colnames,\n",
    "    xname_re=[\"Participant Random Effects\"],\n",
    ")"
   ]
  },
  {
   "cell_type": "code",
   "execution_count": 9,
   "metadata": {},
   "outputs": [
    {
     "data": {
      "text/html": [
       "<style  type=\"text/css\" >\n",
       "</style><table id=\"T_05efa29a_8ed2_11ea_8aa3_448a5b2f88e1\" ><thead>    <tr>        <th class=\"blank level0\" ></th>        <th class=\"col_heading level0 col0\" >Standardized Betas</th>    </tr></thead><tbody>\n",
       "                <tr>\n",
       "                        <th id=\"T_05efa29a_8ed2_11ea_8aa3_448a5b2f88e1level0_row0\" class=\"row_heading level0 row0\" >Intercept</th>\n",
       "                        <td id=\"T_05efa29a_8ed2_11ea_8aa3_448a5b2f88e1row0_col0\" class=\"data row0 col0\" >2.08</td>\n",
       "            </tr>\n",
       "            <tr>\n",
       "                        <th id=\"T_05efa29a_8ed2_11ea_8aa3_448a5b2f88e1level0_row1\" class=\"row_heading level0 row1\" >Given Item: High vs. Low SD</th>\n",
       "                        <td id=\"T_05efa29a_8ed2_11ea_8aa3_448a5b2f88e1row1_col0\" class=\"data row1 col0\" >1.34</td>\n",
       "            </tr>\n",
       "            <tr>\n",
       "                        <th id=\"T_05efa29a_8ed2_11ea_8aa3_448a5b2f88e1level0_row2\" class=\"row_heading level0 row2\" >Other Item: High vs. Low SD</th>\n",
       "                        <td id=\"T_05efa29a_8ed2_11ea_8aa3_448a5b2f88e1row2_col0\" class=\"data row2 col0\" >0.38</td>\n",
       "            </tr>\n",
       "            <tr>\n",
       "                        <th id=\"T_05efa29a_8ed2_11ea_8aa3_448a5b2f88e1level0_row3\" class=\"row_heading level0 row3\" >Cumulative Impact of High vs. Low SD</th>\n",
       "                        <td id=\"T_05efa29a_8ed2_11ea_8aa3_448a5b2f88e1row3_col0\" class=\"data row3 col0\" >0.15</td>\n",
       "            </tr>\n",
       "            <tr>\n",
       "                        <th id=\"T_05efa29a_8ed2_11ea_8aa3_448a5b2f88e1level0_row4\" class=\"row_heading level0 row4\" >Similarity: Low vs. High</th>\n",
       "                        <td id=\"T_05efa29a_8ed2_11ea_8aa3_448a5b2f88e1row4_col0\" class=\"data row4 col0\" >-0.08</td>\n",
       "            </tr>\n",
       "            <tr>\n",
       "                        <th id=\"T_05efa29a_8ed2_11ea_8aa3_448a5b2f88e1level0_row5\" class=\"row_heading level0 row5\" >Similarity $\\times$ Given Item</th>\n",
       "                        <td id=\"T_05efa29a_8ed2_11ea_8aa3_448a5b2f88e1row5_col0\" class=\"data row5 col0\" >-0.17</td>\n",
       "            </tr>\n",
       "            <tr>\n",
       "                        <th id=\"T_05efa29a_8ed2_11ea_8aa3_448a5b2f88e1level0_row6\" class=\"row_heading level0 row6\" >Similarity $\\times$ Other Item</th>\n",
       "                        <td id=\"T_05efa29a_8ed2_11ea_8aa3_448a5b2f88e1row6_col0\" class=\"data row6 col0\" >0.14</td>\n",
       "            </tr>\n",
       "            <tr>\n",
       "                        <th id=\"T_05efa29a_8ed2_11ea_8aa3_448a5b2f88e1level0_row7\" class=\"row_heading level0 row7\" >Three-Way Interaction</th>\n",
       "                        <td id=\"T_05efa29a_8ed2_11ea_8aa3_448a5b2f88e1row7_col0\" class=\"data row7 col0\" >-0.29</td>\n",
       "            </tr>\n",
       "            <tr>\n",
       "                        <th id=\"T_05efa29a_8ed2_11ea_8aa3_448a5b2f88e1level0_row8\" class=\"row_heading level0 row8\" >Participant Random Effects</th>\n",
       "                        <td id=\"T_05efa29a_8ed2_11ea_8aa3_448a5b2f88e1row8_col0\" class=\"data row8 col0\" >0.21</td>\n",
       "            </tr>\n",
       "    </tbody></table>"
      ],
      "text/plain": [
       "<pandas.io.formats.style.Styler at 0x287ba7bc9e8>"
      ]
     },
     "execution_count": 9,
     "metadata": {},
     "output_type": "execute_result"
    }
   ],
   "source": [
    "stdbetas = results.params / df_agg.value_std.std(ddof=1)\n",
    "stdbetas.index = colnames + [\"Participant Random Effects\"]\n",
    "table = pd.DataFrame(stdbetas, columns=[\"Standardized Betas\"])\n",
    "table.style.format(\"{:.2f}\")"
   ]
  }
 ],
 "metadata": {
  "kernelspec": {
   "display_name": "Python 3",
   "language": "python",
   "name": "python3"
  },
  "language_info": {
   "codemirror_mode": {
    "name": "ipython",
    "version": 3
   },
   "file_extension": ".py",
   "mimetype": "text/x-python",
   "name": "python",
   "nbconvert_exporter": "python",
   "pygments_lexer": "ipython3",
   "version": "3.6.10"
  },
  "toc-autonumbering": true
 },
 "nbformat": 4,
 "nbformat_minor": 4
}
