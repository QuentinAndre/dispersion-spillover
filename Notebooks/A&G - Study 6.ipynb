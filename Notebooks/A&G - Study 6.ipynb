{
 "cells": [
  {
   "cell_type": "markdown",
   "metadata": {},
   "source": [
    "This notebook presents all the analysis reported in Study 6 of the paper.\n",
    "\n",
    "Click the \"Show Code\" buttons to see the code associated with each output."
   ]
  },
  {
   "cell_type": "markdown",
   "metadata": {},
   "source": [
    "# Preamble"
   ]
  },
  {
   "cell_type": "markdown",
   "metadata": {},
   "source": [
    "## Libraries"
   ]
  },
  {
   "cell_type": "code",
   "execution_count": 1,
   "metadata": {},
   "outputs": [],
   "source": [
    "# Misc\n",
    "import warnings\n",
    "warnings.filterwarnings(\"ignore\")\n",
    "from IPython.display import Markdown\n",
    "\n",
    "# Data libraries\n",
    "import pandas as pd\n",
    "import numpy as np\n",
    "\n",
    "# Plotting\n",
    "import matplotlib as mpl\n",
    "import matplotlib.pyplot as plt\n",
    "from matplotlib.patches import Patch\n",
    "from matplotlib.lines import Line2D\n",
    "import seaborn as sns\n",
    "\n",
    "sns.set_context(\"notebook\")\n",
    "\n",
    "#Statistics\n",
    "import statsmodels.formula.api as smf\n",
    "import scipy.stats as stats\n",
    "from scipy.stats.mstats import zscore\n",
    "from statsmodels.stats.proportion import proportions_chisquare\n",
    "\n",
    "\n",
    "# Interface with R\n",
    "import rpy2\n",
    "%load_ext rpy2.ipython\n",
    "\n",
    "\n",
    "STUDY_NAME = \"Study 6\""
   ]
  },
  {
   "cell_type": "markdown",
   "metadata": {},
   "source": [
    "## Functions"
   ]
  },
  {
   "cell_type": "code",
   "execution_count": 2,
   "metadata": {},
   "outputs": [],
   "source": [
    "def invlogit(x):\n",
    "    return np.exp(x) / (1 + np.exp(x))\n",
    "\n",
    "\n",
    "def plot_maxbonus_cdf(\n",
    "    data,\n",
    "    save=False,\n",
    "    show=True,\n",
    "    grayscale=False,\n",
    "    figname=f\"Fig 10 - {STUDY_NAME} - CDF Max Bonus\",\n",
    "):\n",
    "    if grayscale:\n",
    "        pal = sns.color_palette(\"Greys\")[2::3]\n",
    "        pathname = \"Grayscale\"\n",
    "    else:\n",
    "        pal = sns.color_palette()[0:2]\n",
    "        pathname = \"Color\"\n",
    "\n",
    "    if show:\n",
    "        sns.set_context(\"notebook\")\n",
    "    else:\n",
    "        sns.set_context(\"paper\")\n",
    "        \n",
    "    xticks = np.arange(20, 70, 5)\n",
    "    xticklabels = [f\"{i:.0f}¢\" for i in xticks]\n",
    "    sns.set_style(\"ticks\")\n",
    "    kw = {\"color\": [pal[0], pal[1]]}\n",
    "    g = sns.FacetGrid(\n",
    "        hue=\"condition\",\n",
    "        data=data,\n",
    "        aspect=1.5,\n",
    "        height=6.38 / 1.5,\n",
    "        hue_order=[\"Equal dispersion\", \"Higher dispersion\"],\n",
    "        hue_kws=kw,\n",
    "    )\n",
    "    g.map(\n",
    "        plt.hist,\n",
    "        \"memory_max_recoded\",\n",
    "        histtype=\"step\",\n",
    "        cumulative=True,\n",
    "        density=True,\n",
    "        bins=np.arange(30, 100, 2),\n",
    "        lw=2,\n",
    "    )\n",
    "    g.set_xlabels(\"Reported Maximum Bonus\")\n",
    "    g.set_ylabels(\"Cumulative Proportion of Participants\")\n",
    "\n",
    "    g.ax.axvline(40, lw=1, color=\"grey\", ls=\"-\")\n",
    "    g.ax.axvline(40, lw=1, color=pal[0], ls=\"--\")\n",
    "    g.ax.axvline(50, lw=1, color=pal[1], ls=\"--\")\n",
    "    g.ax.set_ylim(0, 1.1)\n",
    "    g.ax.set_xlim(20, 65)\n",
    "    g.ax.set_xticks(xticks)\n",
    "    g.ax.set_xticklabels(xticklabels)\n",
    "\n",
    "    legend_elements = [\n",
    "        Line2D([0], [0], color=\"grey\", ls=\"--\", lw=2, label=f\"True Max of Manipulated\"),\n",
    "        Line2D([0], [0], color=pal[0], lw=4, label=\"Equal (SD = 4)\"),\n",
    "        Line2D([0], [0], color=\"grey\", ls=\"-\", lw=1, label=f\"True Max of Common\"),\n",
    "        Line2D([0], [0], color=pal[1], lw=4, label=\"Higher (SD = 9)\"),\n",
    "    ]\n",
    "\n",
    "    g.ax.legend(\n",
    "        handles=legend_elements,\n",
    "        loc=\"center\",\n",
    "        ncol=2,\n",
    "        frameon=True,\n",
    "        bbox_to_anchor=(0.5, -0.25),\n",
    "    )\n",
    "    if save:\n",
    "        plt.savefig(\n",
    "            f\"../Figures/{pathname}/{figname}.png\", dpi=100, bbox_inches=\"tight\"\n",
    "        )\n",
    "    if show:\n",
    "        plt.show()\n",
    "    else:\n",
    "        plt.close()\n",
    "\n",
    "\n",
    "def plot_search_length(\n",
    "    data,\n",
    "    save=False,\n",
    "    show=True,\n",
    "    grayscale=False,\n",
    "    figname=f\"Fig 11 - {STUDY_NAME} - Search Length\",\n",
    "):\n",
    "    if grayscale:\n",
    "        pal = sns.color_palette(\"Greys\")[2::3]\n",
    "        pathname = \"Grayscale\"\n",
    "    else:\n",
    "        pal = sns.color_palette()[0:2]\n",
    "        pathname = \"Color\"\n",
    "\n",
    "    if show:\n",
    "        sns.set_context(\"notebook\")\n",
    "    else:\n",
    "        sns.set_context(\"paper\")\n",
    "        \n",
    "    kw = {\"color\": [pal[0], pal[1]], \"linestyle\": [\"-\", \"--\"]}\n",
    "\n",
    "    boxes = [30, 38, 26, 20, 32]\n",
    "    bonus_to_box = {i + 1: f\"{v:.0f}¢\" for i, v in enumerate(boxes)}\n",
    "\n",
    "    g = sns.FacetGrid(\n",
    "        hue=\"condition\",\n",
    "        data=data,\n",
    "        aspect=2,\n",
    "        height=4,\n",
    "        hue_kws=kw,\n",
    "        hue_order=[\"Equal dispersion\", \"Higher dispersion\"],\n",
    "    )\n",
    "    g.map(\n",
    "        plt.hist,\n",
    "        \"box_opened\",\n",
    "        bins=np.arange(0.5, 6.5, 1),\n",
    "        histtype=\"step\",\n",
    "        density=True,\n",
    "        lw=2,\n",
    "    )\n",
    "    plt.legend(\n",
    "        title=\"Manipulated category had...\",\n",
    "        loc=1,\n",
    "        bbox_to_anchor=(1.01, 1.025),\n",
    "        facecolor=\"white\",\n",
    "        frameon=True,\n",
    "        framealpha=1,\n",
    "        edgecolor=\"white\",\n",
    "    )\n",
    "    g.ax.set_ylim(0, 0.7)\n",
    "    g.set_xlabels(\"\\nBox Chosen\")\n",
    "    g.set_ylabels(\"Proportion of Participants\")\n",
    "    g.ax.set_xticks([1, 2, 3, 4, 5])\n",
    "    g.ax.set_xticklabels([f\"Box {k}\\n({v})\" for k, v in bonus_to_box.items()])\n",
    "    for ax in g.axes.flatten():\n",
    "        ax.tick_params(\n",
    "            axis=\"x\", which=\"both\", bottom=False, top=False, labelbottom=True\n",
    "        )\n",
    "    if save:\n",
    "        plt.savefig(\n",
    "            f\"../Figures/{pathname}/{figname}.png\", dpi=100, bbox_inches=\"tight\"\n",
    "        )\n",
    "    if show:\n",
    "        plt.show()\n",
    "    else:\n",
    "        plt.close()\n",
    "\n",
    "\n",
    "def format_pvals(p):\n",
    "    if p < 0.001:\n",
    "        return \"p < .001\"\n",
    "    else:\n",
    "        return f\"p = {p:.3f}\""
   ]
  },
  {
   "cell_type": "markdown",
   "metadata": {},
   "source": [
    "## Data loading"
   ]
  },
  {
   "cell_type": "code",
   "execution_count": 3,
   "metadata": {},
   "outputs": [],
   "source": [
    "df = pd.read_csv(f\"../Data/{STUDY_NAME}/CleanData.csv\")"
   ]
  },
  {
   "cell_type": "markdown",
   "metadata": {},
   "source": [
    "# Data Description"
   ]
  },
  {
   "cell_type": "markdown",
   "metadata": {},
   "source": [
    "## Raw Data"
   ]
  },
  {
   "cell_type": "code",
   "execution_count": 4,
   "metadata": {},
   "outputs": [
    {
     "data": {
      "text/markdown": [
       "Number of observations collected: 502. Pre-registered target: 500."
      ],
      "text/plain": [
       "<IPython.core.display.Markdown object>"
      ]
     },
     "execution_count": 4,
     "metadata": {},
     "output_type": "execute_result"
    }
   ],
   "source": [
    "Markdown(f\"Number of observations collected: {df.shape[0]}. Pre-registered target: 500.\")"
   ]
  },
  {
   "cell_type": "markdown",
   "metadata": {},
   "source": [
    "## Bonus Amounts Entered in Dollars (rather than cents)"
   ]
  },
  {
   "cell_type": "code",
   "execution_count": 5,
   "metadata": {},
   "outputs": [
    {
     "data": {
      "text/markdown": [
       "48 participants in our data entered a memory for the bonus amount that was smaller than 1.\n",
       "         We assume that those participants entered the bonus amount in dollars rather than in cents \n",
       "         (i.e., a value of 0.42 for a bonus of 42 cents), and recoded those values accordingly."
      ],
      "text/plain": [
       "<IPython.core.display.Markdown object>"
      ]
     },
     "execution_count": 5,
     "metadata": {},
     "output_type": "execute_result"
    }
   ],
   "source": [
    "n_bonus_dollars = (df.memory_max != df.memory_max_recoded).sum()\n",
    "Markdown(f\"\"\"{n_bonus_dollars} participants in our data entered a memory for the bonus amount that was smaller than 1.\n",
    "         We assume that those participants entered the bonus amount in dollars rather than in cents \n",
    "         (i.e., a value of 0.42 for a bonus of 42 cents), and recoded those values accordingly.\"\"\")"
   ]
  },
  {
   "cell_type": "markdown",
   "metadata": {},
   "source": [
    "## Exclusions"
   ]
  },
  {
   "cell_type": "markdown",
   "metadata": {},
   "source": [
    "Following the pre-registration, we excluded all the participants who reported a maximum value strictly lower than the median value in the distributions (i.e., 32)."
   ]
  },
  {
   "cell_type": "code",
   "execution_count": 6,
   "metadata": {},
   "outputs": [
    {
     "data": {
      "image/png": "[encoded data removed]",
      "text/plain": [
       "<Figure size 778.959x288 with 1 Axes>"
      ]
     },
     "metadata": {
      "needs_background": "light"
     },
     "output_type": "display_data"
    }
   ],
   "source": [
    "g = sns.FacetGrid(data=df, hue=\"excluded_if_recoded\", height=4, aspect=2.5)\n",
    "g.map(plt.hist, \"memory_max_recoded\", bins=np.arange(0, 100, 1) - 0.5)\n",
    "g.add_legend(title=\"Excluded\")\n",
    "g.set_xlabels(\"Reported Maximum Value\")\n",
    "g.ax.axvline(32);"
   ]
  },
  {
   "cell_type": "code",
   "execution_count": 7,
   "metadata": {},
   "outputs": [
    {
     "data": {
      "text/markdown": [
       "12 participants excluded. Final number of observations after exclusion: 490"
      ],
      "text/plain": [
       "<IPython.core.display.Markdown object>"
      ]
     },
     "execution_count": 7,
     "metadata": {},
     "output_type": "execute_result"
    }
   ],
   "source": [
    "df_clean = df[df.excluded_if_recoded == \"No\"]\n",
    "n_excluded = df.shape[0] - df_clean.shape[0]\n",
    "Markdown(\n",
    "    f\"{n_excluded} participants excluded. Final number of observations after exclusion: {df_clean.shape[0]}\"\n",
    ")"
   ]
  },
  {
   "cell_type": "markdown",
   "metadata": {},
   "source": [
    "# Main Analysis"
   ]
  },
  {
   "cell_type": "markdown",
   "metadata": {},
   "source": [
    "## Memory for the maximum bonus"
   ]
  },
  {
   "cell_type": "markdown",
   "metadata": {},
   "source": [
    "The CDF of the responses shows the following:\n",
    "\n",
    "* In the \"Equal dispersion\" condition, participants are unlikely to exceed the true maximum value (40).\n",
    "* In the \"Higher dispersion\" condition, participants often exceed the true maximum value."
   ]
  },
  {
   "cell_type": "code",
   "execution_count": 8,
   "metadata": {},
   "outputs": [
    {
     "data": {
      "image/png": "[encoded data removed]",
      "text/plain": [
       "<Figure size 459.36x306.24 with 1 Axes>"
      ]
     },
     "metadata": {},
     "output_type": "display_data"
    }
   ],
   "source": [
    "plot_maxbonus_cdf(df_clean, grayscale=True, save=True, show=False)\n",
    "plot_maxbonus_cdf(df_clean, save=True, show=True)"
   ]
  },
  {
   "cell_type": "markdown",
   "metadata": {},
   "source": [
    "We analyzed this difference using an OLS regression:"
   ]
  },
  {
   "cell_type": "code",
   "execution_count": 9,
   "metadata": {},
   "outputs": [],
   "source": [
    "%%R -i df_clean -o coeffs\n",
    "library(tidyverse)\n",
    "df_clean$box_opened <- df_clean$box_opened %>% as.factor\n",
    "df_clean$label_category <- df_clean$label_category %>% as.factor %>% relevel(ref=\"Blue\")\n",
    "df_clean$condition <- df_clean$condition %>% as.factor %>% relevel(ref=\"Equal dispersion\")\n",
    "contrasts(df_clean$label_category) <- contr.sum\n",
    "summ <- summary(lm(\"memory_max_recoded ~ condition*label_category\", df_clean))\n",
    "coeffs <- summ$coefficients %>% as.data.frame\n",
    "\n",
    "coeffs[[\"Standardized Betas\"]] <- coeffs[[\"Estimate\"]] / sd(df_clean$memory_max)\n",
    "\n",
    "coeffs[[\"Predictor\"]] <- c(\"Intercept\",\n",
    "                          \"Non-Focal has higher dispersion\", \n",
    "                          \"Label of Focal (Sum-Contrast)\", \n",
    "                          \"Interaction Term\")"
   ]
  },
  {
   "cell_type": "code",
   "execution_count": 10,
   "metadata": {},
   "outputs": [
    {
     "data": {
      "text/html": [
       "<div>\n",
       "<style scoped>\n",
       "    .dataframe tbody tr th:only-of-type {\n",
       "        vertical-align: middle;\n",
       "    }\n",
       "\n",
       "    .dataframe tbody tr th {\n",
       "        vertical-align: top;\n",
       "    }\n",
       "\n",
       "    .dataframe thead th {\n",
       "        text-align: right;\n",
       "    }\n",
       "</style>\n",
       "<table border=\"1\" class=\"dataframe\">\n",
       "  <thead>\n",
       "    <tr style=\"text-align: right;\">\n",
       "      <th></th>\n",
       "      <th>Estimate</th>\n",
       "      <th>Std. Error</th>\n",
       "      <th>t value</th>\n",
       "      <th>Pr(&gt;|t|)</th>\n",
       "      <th>Standardized Betas</th>\n",
       "    </tr>\n",
       "    <tr>\n",
       "      <th>Predictor</th>\n",
       "      <th></th>\n",
       "      <th></th>\n",
       "      <th></th>\n",
       "      <th></th>\n",
       "      <th></th>\n",
       "    </tr>\n",
       "  </thead>\n",
       "  <tbody>\n",
       "    <tr>\n",
       "      <th>Intercept</th>\n",
       "      <td>39.375126</td>\n",
       "      <td>0.321841</td>\n",
       "      <td>122.343256</td>\n",
       "      <td>0.000000e+00</td>\n",
       "      <td>3.053597</td>\n",
       "    </tr>\n",
       "    <tr>\n",
       "      <th>Non-Focal has higher dispersion</th>\n",
       "      <td>3.677719</td>\n",
       "      <td>0.454158</td>\n",
       "      <td>8.097885</td>\n",
       "      <td>4.539704e-15</td>\n",
       "      <td>0.285212</td>\n",
       "    </tr>\n",
       "    <tr>\n",
       "      <th>Label of Focal (Sum-Contrast)</th>\n",
       "      <td>0.255126</td>\n",
       "      <td>0.321841</td>\n",
       "      <td>0.792707</td>\n",
       "      <td>4.283351e-01</td>\n",
       "      <td>0.019785</td>\n",
       "    </tr>\n",
       "    <tr>\n",
       "      <th>Interaction Term</th>\n",
       "      <td>-0.429923</td>\n",
       "      <td>0.454158</td>\n",
       "      <td>-0.946637</td>\n",
       "      <td>3.442942e-01</td>\n",
       "      <td>-0.033341</td>\n",
       "    </tr>\n",
       "  </tbody>\n",
       "</table>\n",
       "</div>"
      ],
      "text/plain": [
       "                                  Estimate  Std. Error     t value  \\\n",
       "Predictor                                                            \n",
       "Intercept                        39.375126    0.321841  122.343256   \n",
       "Non-Focal has higher dispersion   3.677719    0.454158    8.097885   \n",
       "Label of Focal (Sum-Contrast)     0.255126    0.321841    0.792707   \n",
       "Interaction Term                 -0.429923    0.454158   -0.946637   \n",
       "\n",
       "                                     Pr(>|t|)  Standardized Betas  \n",
       "Predictor                                                          \n",
       "Intercept                        0.000000e+00            3.053597  \n",
       "Non-Focal has higher dispersion  4.539704e-15            0.285212  \n",
       "Label of Focal (Sum-Contrast)    4.283351e-01            0.019785  \n",
       "Interaction Term                 3.442942e-01           -0.033341  "
      ]
     },
     "execution_count": 10,
     "metadata": {},
     "output_type": "execute_result"
    }
   ],
   "source": [
    "coeffs.set_index(\"Predictor\")"
   ]
  },
  {
   "cell_type": "code",
   "execution_count": 11,
   "metadata": {},
   "outputs": [
    {
     "data": {
      "text/markdown": [
       "As predicted, only the variance of the non-focal distribution exerts a significant influence: b = 3.678, p < .001. \n",
       "\n",
       "Neither the counterbalancing factor nor its interaction are significant at a .05 level."
      ],
      "text/plain": [
       "<IPython.core.display.Markdown object>"
      ]
     },
     "execution_count": 11,
     "metadata": {},
     "output_type": "execute_result"
    }
   ],
   "source": [
    "Markdown(\n",
    "    f\"As predicted, only the variance of the non-focal distribution exerts a significant \\\n",
    "influence: b = {coeffs.iloc[1, 0]:.3f}, p < .001. \\n\\nNeither the counterbalancing factor nor \\\n",
    "its interaction are significant at a .05 level.\"\n",
    ")"
   ]
  },
  {
   "cell_type": "code",
   "execution_count": 12,
   "metadata": {},
   "outputs": [
    {
     "data": {
      "text/markdown": [
       "Proportion above actual max: 14% vs. 52%: $\\chi$(1) = 80.87, p < .001; \n"
      ],
      "text/plain": [
       "<IPython.core.display.Markdown object>"
      ]
     },
     "execution_count": 12,
     "metadata": {},
     "output_type": "execute_result"
    }
   ],
   "source": [
    "df_clean[\"above_actual_max\"] = (df_clean.memory_max_recoded > 40) * 1\n",
    "\n",
    "nobs = df_clean.groupby(\"condition\").above_actual_max.count()\n",
    "nsuc = df_clean.groupby(\"condition\").above_actual_max.sum()\n",
    "props = nsuc / nobs * 100\n",
    "chi, p = proportions_chisquare(nsuc[[0, 1]], nobs[[0, 1]])[0:2]\n",
    "Markdown(\n",
    "    f\"\"\"Proportion above actual max: {props[0]:.0f}% vs. {props[1]:.0f}%: $\\chi$(1) = {chi:.2f}, {format_pvals(p)}; \n",
    "\"\"\"\n",
    ")"
   ]
  },
  {
   "cell_type": "markdown",
   "metadata": {},
   "source": [
    "## Number of boxes opened"
   ]
  },
  {
   "cell_type": "markdown",
   "metadata": {},
   "source": [
    "The second variable is the number of boxes opened by participants. \n",
    "\n",
    "As predicted, participants in the \"More variance\" condition opened more boxes. \n",
    "\n",
    "The histogram below summarizes the number of boxes opened by participants, as a function of their experimental condition. "
   ]
  },
  {
   "cell_type": "code",
   "execution_count": 13,
   "metadata": {},
   "outputs": [
    {
     "data": {
      "text/html": [
       "<style  type=\"text/css\" >\n",
       "</style><table id=\"T_b3b732fe_8ece_11ea_8ff4_448a5b2f88e1\" ><thead>    <tr>        <th class=\"blank\" ></th>        <th class=\"blank level0\" ></th>        <th class=\"col_heading level0 col0\" >Proportion by condition</th>    </tr>    <tr>        <th class=\"index_name level0\" >Condition</th>        <th class=\"index_name level1\" >Box Opened</th>        <th class=\"blank\" ></th>    </tr></thead><tbody>\n",
       "                <tr>\n",
       "                        <th id=\"T_b3b732fe_8ece_11ea_8ff4_448a5b2f88e1level0_row0\" class=\"row_heading level0 row0\" rowspan=4>Equal dispersion</th>\n",
       "                        <th id=\"T_b3b732fe_8ece_11ea_8ff4_448a5b2f88e1level1_row0\" class=\"row_heading level1 row0\" >1</th>\n",
       "                        <td id=\"T_b3b732fe_8ece_11ea_8ff4_448a5b2f88e1row0_col0\" class=\"data row0 col0\" >19%</td>\n",
       "            </tr>\n",
       "            <tr>\n",
       "                                <th id=\"T_b3b732fe_8ece_11ea_8ff4_448a5b2f88e1level1_row1\" class=\"row_heading level1 row1\" >2</th>\n",
       "                        <td id=\"T_b3b732fe_8ece_11ea_8ff4_448a5b2f88e1row1_col0\" class=\"data row1 col0\" >61%</td>\n",
       "            </tr>\n",
       "            <tr>\n",
       "                                <th id=\"T_b3b732fe_8ece_11ea_8ff4_448a5b2f88e1level1_row2\" class=\"row_heading level1 row2\" >4</th>\n",
       "                        <td id=\"T_b3b732fe_8ece_11ea_8ff4_448a5b2f88e1row2_col0\" class=\"data row2 col0\" >0%</td>\n",
       "            </tr>\n",
       "            <tr>\n",
       "                                <th id=\"T_b3b732fe_8ece_11ea_8ff4_448a5b2f88e1level1_row3\" class=\"row_heading level1 row3\" >5</th>\n",
       "                        <td id=\"T_b3b732fe_8ece_11ea_8ff4_448a5b2f88e1row3_col0\" class=\"data row3 col0\" >20%</td>\n",
       "            </tr>\n",
       "            <tr>\n",
       "                        <th id=\"T_b3b732fe_8ece_11ea_8ff4_448a5b2f88e1level0_row4\" class=\"row_heading level0 row4\" rowspan=4>Higher dispersion</th>\n",
       "                        <th id=\"T_b3b732fe_8ece_11ea_8ff4_448a5b2f88e1level1_row4\" class=\"row_heading level1 row4\" >1</th>\n",
       "                        <td id=\"T_b3b732fe_8ece_11ea_8ff4_448a5b2f88e1row4_col0\" class=\"data row4 col0\" >22%</td>\n",
       "            </tr>\n",
       "            <tr>\n",
       "                                <th id=\"T_b3b732fe_8ece_11ea_8ff4_448a5b2f88e1level1_row5\" class=\"row_heading level1 row5\" >2</th>\n",
       "                        <td id=\"T_b3b732fe_8ece_11ea_8ff4_448a5b2f88e1row5_col0\" class=\"data row5 col0\" >39%</td>\n",
       "            </tr>\n",
       "            <tr>\n",
       "                                <th id=\"T_b3b732fe_8ece_11ea_8ff4_448a5b2f88e1level1_row6\" class=\"row_heading level1 row6\" >4</th>\n",
       "                        <td id=\"T_b3b732fe_8ece_11ea_8ff4_448a5b2f88e1row6_col0\" class=\"data row6 col0\" >1%</td>\n",
       "            </tr>\n",
       "            <tr>\n",
       "                                <th id=\"T_b3b732fe_8ece_11ea_8ff4_448a5b2f88e1level1_row7\" class=\"row_heading level1 row7\" >5</th>\n",
       "                        <td id=\"T_b3b732fe_8ece_11ea_8ff4_448a5b2f88e1row7_col0\" class=\"data row7 col0\" >39%</td>\n",
       "            </tr>\n",
       "    </tbody></table>"
      ],
      "text/plain": [
       "<pandas.io.formats.style.Styler at 0x20a39ec6668>"
      ]
     },
     "execution_count": 13,
     "metadata": {},
     "output_type": "execute_result"
    }
   ],
   "source": [
    "table = (\n",
    "    df_clean.groupby([\"condition\", \"box_opened\"])[[\"bonusamount\"]].count()\n",
    "    / df_clean.groupby(\"condition\")[[\"bonusamount\"]].count()\n",
    "    * 100\n",
    ")\n",
    "table.index.names = [\"Condition\", \"Box Opened\"]\n",
    "table.columns = [\"Proportion by condition\"]\n",
    "table.style.format(\"{:.0f}%\")"
   ]
  },
  {
   "cell_type": "code",
   "execution_count": 14,
   "metadata": {},
   "outputs": [
    {
     "data": {
      "image/png": "[encoded data removed]",
      "text/plain": [
       "<Figure size 576x288 with 1 Axes>"
      ]
     },
     "metadata": {},
     "output_type": "display_data"
    }
   ],
   "source": [
    "plot_search_length(df_clean, show=True, save=True)\n",
    "plot_search_length(df_clean, grayscale=True, show=False, save=True)"
   ]
  },
  {
   "cell_type": "markdown",
   "metadata": {},
   "source": [
    "As reported in the pre-registration, we tested the significance of this difference using an Ordered Logit model. \n",
    "\n",
    "This approach models a latent utility space divided in K thresholds, delineating the preference between opening K and K+1 boxes. \n",
    "\n",
    "In addition, this model estimates the impact of our predictors in the latent utility space: a positive coefficient means a preference for opening more boxes.\n",
    "\n",
    "Given that no participant chose the third box, the threshold between the second and third box and the threshold between the third and fourth box form a single threshold."
   ]
  },
  {
   "cell_type": "code",
   "execution_count": 15,
   "metadata": {},
   "outputs": [],
   "source": [
    "%%R -i df_clean -o coeffs\n",
    "library(tidyverse)\n",
    "library(MASS)\n",
    "df_clean$box_opened <- df_clean$box_opened %>% as.factor\n",
    "df_clean$label_category <- df_clean$label_category %>% as.factor %>% relevel(ref=\"Blue\")\n",
    "df_clean$condition <- df_clean$condition %>% as.factor %>% relevel(ref=\"Equal dispersion\")\n",
    "contrasts(df_clean$label_category) <- contr.sum\n",
    "\n",
    "summ <- summary(polr(\"box_opened ~ condition*label_category\", df_clean, Hess=TRUE))\n",
    "\n",
    "df_resid <- summ$df.residual\n",
    "t_to_p <- function(t, df=1) {\n",
    "    return(2*pt(-abs(t), df=df))\n",
    "}\n",
    "t_to_p_with_df <- partial(t_to_p, df=df_resid)\n",
    "\n",
    "coeffs <- summ$coefficients %>% as.data.frame\n",
    "coeffs[[\"Pr(>|t|)\"]] <- coeffs[[\"t value\"]] %>% purrr::map(t_to_p_with_df) %>% as.numeric\n",
    "coeffs[[\"Odds Ratio\"]] <-coeffs[[\"Value\"]] %>% purrr::map(exp) %>% as.numeric\n",
    "coeffs[4:6, \"Odds Ratio\"] <- c(NA, NA, NA)\n",
    "coeffs[[\"Predictor\"]] <- c(\"Non-Focal has Higher Variance (Dummy-Coded)\", \n",
    "                          \"Label of Focal (Sum-Contrast)\", \n",
    "                          \"Interaction Term\", \n",
    "                          \"Decision Threshold: Box 1 to Box 2\", \n",
    "                          \"Decision Threshold: Box 2 to Box 4\", \n",
    "                          \"Decision Threshold: Box 4 to Box 5\")"
   ]
  },
  {
   "cell_type": "code",
   "execution_count": 16,
   "metadata": {},
   "outputs": [
    {
     "data": {
      "text/html": [
       "<div>\n",
       "<style scoped>\n",
       "    .dataframe tbody tr th:only-of-type {\n",
       "        vertical-align: middle;\n",
       "    }\n",
       "\n",
       "    .dataframe tbody tr th {\n",
       "        vertical-align: top;\n",
       "    }\n",
       "\n",
       "    .dataframe thead th {\n",
       "        text-align: right;\n",
       "    }\n",
       "</style>\n",
       "<table border=\"1\" class=\"dataframe\">\n",
       "  <thead>\n",
       "    <tr style=\"text-align: right;\">\n",
       "      <th></th>\n",
       "      <th>Value</th>\n",
       "      <th>Std. Error</th>\n",
       "      <th>t value</th>\n",
       "      <th>Pr(&gt;|t|)</th>\n",
       "      <th>Odds Ratio</th>\n",
       "    </tr>\n",
       "    <tr>\n",
       "      <th>Predictor</th>\n",
       "      <th></th>\n",
       "      <th></th>\n",
       "      <th></th>\n",
       "      <th></th>\n",
       "      <th></th>\n",
       "    </tr>\n",
       "  </thead>\n",
       "  <tbody>\n",
       "    <tr>\n",
       "      <th>Non-Focal has Higher Variance (Dummy-Coded)</th>\n",
       "      <td>0.517121</td>\n",
       "      <td>0.172852</td>\n",
       "      <td>2.991709</td>\n",
       "      <td>2.915785e-03</td>\n",
       "      <td>1.677193</td>\n",
       "    </tr>\n",
       "    <tr>\n",
       "      <th>Label of Focal (Sum-Contrast)</th>\n",
       "      <td>0.025061</td>\n",
       "      <td>0.117527</td>\n",
       "      <td>0.213237</td>\n",
       "      <td>8.312323e-01</td>\n",
       "      <td>1.025378</td>\n",
       "    </tr>\n",
       "    <tr>\n",
       "      <th>Interaction Term</th>\n",
       "      <td>0.246608</td>\n",
       "      <td>0.171625</td>\n",
       "      <td>1.436902</td>\n",
       "      <td>1.513919e-01</td>\n",
       "      <td>1.279678</td>\n",
       "    </tr>\n",
       "    <tr>\n",
       "      <th>Decision Threshold: Box 1 to Box 2</th>\n",
       "      <td>-1.149589</td>\n",
       "      <td>0.133762</td>\n",
       "      <td>-8.594271</td>\n",
       "      <td>1.163772e-16</td>\n",
       "      <td>NaN</td>\n",
       "    </tr>\n",
       "    <tr>\n",
       "      <th>Decision Threshold: Box 2 to Box 4</th>\n",
       "      <td>1.105454</td>\n",
       "      <td>0.132801</td>\n",
       "      <td>8.324122</td>\n",
       "      <td>8.753890e-16</td>\n",
       "      <td>NaN</td>\n",
       "    </tr>\n",
       "    <tr>\n",
       "      <th>Decision Threshold: Box 4 to Box 5</th>\n",
       "      <td>1.136063</td>\n",
       "      <td>0.133478</td>\n",
       "      <td>8.511267</td>\n",
       "      <td>2.173980e-16</td>\n",
       "      <td>NaN</td>\n",
       "    </tr>\n",
       "  </tbody>\n",
       "</table>\n",
       "</div>"
      ],
      "text/plain": [
       "                                                Value  Std. Error   t value  \\\n",
       "Predictor                                                                     \n",
       "Non-Focal has Higher Variance (Dummy-Coded)  0.517121    0.172852  2.991709   \n",
       "Label of Focal (Sum-Contrast)                0.025061    0.117527  0.213237   \n",
       "Interaction Term                             0.246608    0.171625  1.436902   \n",
       "Decision Threshold: Box 1 to Box 2          -1.149589    0.133762 -8.594271   \n",
       "Decision Threshold: Box 2 to Box 4           1.105454    0.132801  8.324122   \n",
       "Decision Threshold: Box 4 to Box 5           1.136063    0.133478  8.511267   \n",
       "\n",
       "                                                 Pr(>|t|)  Odds Ratio  \n",
       "Predictor                                                              \n",
       "Non-Focal has Higher Variance (Dummy-Coded)  2.915785e-03    1.677193  \n",
       "Label of Focal (Sum-Contrast)                8.312323e-01    1.025378  \n",
       "Interaction Term                             1.513919e-01    1.279678  \n",
       "Decision Threshold: Box 1 to Box 2           1.163772e-16         NaN  \n",
       "Decision Threshold: Box 2 to Box 4           8.753890e-16         NaN  \n",
       "Decision Threshold: Box 4 to Box 5           2.173980e-16         NaN  "
      ]
     },
     "execution_count": 16,
     "metadata": {},
     "output_type": "execute_result"
    }
   ],
   "source": [
    "coeffs.set_index(\"Predictor\")"
   ]
  },
  {
   "cell_type": "code",
   "execution_count": 17,
   "metadata": {},
   "outputs": [
    {
     "data": {
      "text/markdown": [
       "As predicted, only the variance of the non-focal distribution had a significant influence: b = 0.517, p = 0.002916, odds ratio = 1.677. \n",
       "\n",
       "Neither the counterbalancing factor nor its interaction are significant at a .05 level."
      ],
      "text/plain": [
       "<IPython.core.display.Markdown object>"
      ]
     },
     "execution_count": 17,
     "metadata": {},
     "output_type": "execute_result"
    }
   ],
   "source": [
    "Markdown(\n",
    "    f\"As predicted, only the variance of the non-focal distribution had a significant \\\n",
    "influence: b = {coeffs.iloc[0, 0]:.3f}, p = {coeffs.iloc[0, 3]:.6f}, odds ratio = {coeffs.iloc[0, 4]:.3f}. \\n\\nNeither the counterbalancing factor nor \\\n",
    "its interaction are significant at a .05 level.\"\n",
    ")"
   ]
  },
  {
   "cell_type": "markdown",
   "metadata": {},
   "source": [
    "## Amount of money earned?"
   ]
  },
  {
   "cell_type": "code",
   "execution_count": 18,
   "metadata": {},
   "outputs": [],
   "source": [
    "%%R -i df_clean -o coeffs\n",
    "library(tidyverse)\n",
    "df_clean$label_category <- df_clean$label_category %>% as.factor %>% relevel(ref=\"Blue\")\n",
    "df_clean$condition <- df_clean$condition %>% as.factor %>% relevel(ref=\"Equal dispersion\")\n",
    "contrasts(df_clean$label_category) <- contr.sum\n",
    "summ <- summary(lm(\"bonusamountnumeric ~ condition*label_category\", df_clean))\n",
    "coeffs <- summ$coefficients %>% as.data.frame\n",
    "\n",
    "coeffs[[\"Standardized Betas\"]] <- coeffs[[\"Estimate\"]] / sd(df_clean$bonusamountnumeric)\n",
    "\n",
    "coeffs[[\"Predictor\"]] <- c(\"Intercept\",\n",
    "                          \"Non-Focal has Higher Variance (Dummy-Coded)\", \n",
    "                          \"Label of Focal (Sum-Contrast)\", \n",
    "                          \"Interaction Term\")"
   ]
  },
  {
   "cell_type": "code",
   "execution_count": 19,
   "metadata": {},
   "outputs": [
    {
     "data": {
      "text/html": [
       "<div>\n",
       "<style scoped>\n",
       "    .dataframe tbody tr th:only-of-type {\n",
       "        vertical-align: middle;\n",
       "    }\n",
       "\n",
       "    .dataframe tbody tr th {\n",
       "        vertical-align: top;\n",
       "    }\n",
       "\n",
       "    .dataframe thead th {\n",
       "        text-align: right;\n",
       "    }\n",
       "</style>\n",
       "<table border=\"1\" class=\"dataframe\">\n",
       "  <thead>\n",
       "    <tr style=\"text-align: right;\">\n",
       "      <th></th>\n",
       "      <th>Estimate</th>\n",
       "      <th>Std. Error</th>\n",
       "      <th>t value</th>\n",
       "      <th>Pr(&gt;|t|)</th>\n",
       "      <th>Standardized Betas</th>\n",
       "    </tr>\n",
       "    <tr>\n",
       "      <th>Predictor</th>\n",
       "      <th></th>\n",
       "      <th></th>\n",
       "      <th></th>\n",
       "      <th></th>\n",
       "      <th></th>\n",
       "    </tr>\n",
       "  </thead>\n",
       "  <tbody>\n",
       "    <tr>\n",
       "      <th>Intercept</th>\n",
       "      <td>35.204639</td>\n",
       "      <td>0.230243</td>\n",
       "      <td>152.901938</td>\n",
       "      <td>0.000000</td>\n",
       "      <td>9.631972</td>\n",
       "    </tr>\n",
       "    <tr>\n",
       "      <th>Non-Focal has Higher Variance (Dummy-Coded)</th>\n",
       "      <td>-1.416021</td>\n",
       "      <td>0.324902</td>\n",
       "      <td>-4.358305</td>\n",
       "      <td>0.000016</td>\n",
       "      <td>-0.387423</td>\n",
       "    </tr>\n",
       "    <tr>\n",
       "      <th>Label of Focal (Sum-Contrast)</th>\n",
       "      <td>-0.011361</td>\n",
       "      <td>0.230243</td>\n",
       "      <td>-0.049345</td>\n",
       "      <td>0.960665</td>\n",
       "      <td>-0.003108</td>\n",
       "    </tr>\n",
       "    <tr>\n",
       "      <th>Interaction Term</th>\n",
       "      <td>-0.118720</td>\n",
       "      <td>0.324902</td>\n",
       "      <td>-0.365403</td>\n",
       "      <td>0.714970</td>\n",
       "      <td>-0.032482</td>\n",
       "    </tr>\n",
       "  </tbody>\n",
       "</table>\n",
       "</div>"
      ],
      "text/plain": [
       "                                              Estimate  Std. Error  \\\n",
       "Predictor                                                            \n",
       "Intercept                                    35.204639    0.230243   \n",
       "Non-Focal has Higher Variance (Dummy-Coded)  -1.416021    0.324902   \n",
       "Label of Focal (Sum-Contrast)                -0.011361    0.230243   \n",
       "Interaction Term                             -0.118720    0.324902   \n",
       "\n",
       "                                                t value  Pr(>|t|)  \\\n",
       "Predictor                                                           \n",
       "Intercept                                    152.901938  0.000000   \n",
       "Non-Focal has Higher Variance (Dummy-Coded)   -4.358305  0.000016   \n",
       "Label of Focal (Sum-Contrast)                 -0.049345  0.960665   \n",
       "Interaction Term                              -0.365403  0.714970   \n",
       "\n",
       "                                             Standardized Betas  \n",
       "Predictor                                                        \n",
       "Intercept                                              9.631972  \n",
       "Non-Focal has Higher Variance (Dummy-Coded)           -0.387423  \n",
       "Label of Focal (Sum-Contrast)                         -0.003108  \n",
       "Interaction Term                                      -0.032482  "
      ]
     },
     "execution_count": 19,
     "metadata": {},
     "output_type": "execute_result"
    }
   ],
   "source": [
    "coeffs.set_index(\"Predictor\")"
   ]
  },
  {
   "cell_type": "code",
   "execution_count": 20,
   "metadata": {},
   "outputs": [
    {
     "data": {
      "text/markdown": [
       "As predicted, only the variance of the non-focal distribution exerts a significant influence: b = -1.416, p < .001. \n",
       "\n",
       "Neither the counterbalancing factor nor its interaction are significant at a .05 level."
      ],
      "text/plain": [
       "<IPython.core.display.Markdown object>"
      ]
     },
     "execution_count": 20,
     "metadata": {},
     "output_type": "execute_result"
    }
   ],
   "source": [
    "Markdown(\n",
    "    f\"As predicted, only the variance of the non-focal distribution exerts a significant \\\n",
    "influence: b = {coeffs.iloc[1, 0]:.3f}, p < .001. \\n\\nNeither the counterbalancing factor nor \\\n",
    "its interaction are significant at a .05 level.\"\n",
    ")"
   ]
  },
  {
   "cell_type": "markdown",
   "metadata": {},
   "source": [
    "# Robustness Check - Excluding Participants Who Answered in Dollars"
   ]
  },
  {
   "cell_type": "code",
   "execution_count": 21,
   "metadata": {},
   "outputs": [
    {
     "data": {
      "text/markdown": [
       "57 participants excluded. Observations after exclusion: 445"
      ],
      "text/plain": [
       "<IPython.core.display.Markdown object>"
      ]
     },
     "execution_count": 21,
     "metadata": {},
     "output_type": "execute_result"
    }
   ],
   "source": [
    "df_clean = df[df.excluded == \"No\"]\n",
    "n_excluded = df.shape[0] - df_clean.shape[0]\n",
    "Markdown(\n",
    "    f\"{n_excluded} participants excluded. Observations after exclusion: {df_clean.shape[0]}\"\n",
    ")"
   ]
  },
  {
   "cell_type": "markdown",
   "metadata": {},
   "source": [
    "## Memory for the maximum bonus"
   ]
  },
  {
   "cell_type": "code",
   "execution_count": 22,
   "metadata": {},
   "outputs": [],
   "source": [
    "%%R -i df_clean -o coeffs\n",
    "library(tidyverse)\n",
    "df_clean$box_opened <- df_clean$box_opened %>% as.factor\n",
    "df_clean$label_category <- df_clean$label_category %>% as.factor %>% relevel(ref=\"Blue\")\n",
    "df_clean$condition <- df_clean$condition %>% as.factor %>% relevel(ref=\"Equal dispersion\")\n",
    "contrasts(df_clean$label_category) <- contr.sum\n",
    "summ <- summary(lm(\"memory_max_recoded ~ condition*label_category\", df_clean))\n",
    "coeffs <- summ$coefficients %>% as.data.frame\n",
    "\n",
    "coeffs[[\"Standardized Betas\"]] <- coeffs[[\"Estimate\"]] / sd(df_clean$memory_max)\n",
    "\n",
    "coeffs[[\"Predictor\"]] <- c(\"Intercept\",\n",
    "                          \"Non-Focal has higher dispersion\", \n",
    "                          \"Label of Focal (Sum-Contrast)\", \n",
    "                          \"Interaction Term\")"
   ]
  },
  {
   "cell_type": "code",
   "execution_count": 23,
   "metadata": {},
   "outputs": [
    {
     "data": {
      "text/html": [
       "<div>\n",
       "<style scoped>\n",
       "    .dataframe tbody tr th:only-of-type {\n",
       "        vertical-align: middle;\n",
       "    }\n",
       "\n",
       "    .dataframe tbody tr th {\n",
       "        vertical-align: top;\n",
       "    }\n",
       "\n",
       "    .dataframe thead th {\n",
       "        text-align: right;\n",
       "    }\n",
       "</style>\n",
       "<table border=\"1\" class=\"dataframe\">\n",
       "  <thead>\n",
       "    <tr style=\"text-align: right;\">\n",
       "      <th></th>\n",
       "      <th>Estimate</th>\n",
       "      <th>Std. Error</th>\n",
       "      <th>t value</th>\n",
       "      <th>Pr(&gt;|t|)</th>\n",
       "      <th>Standardized Betas</th>\n",
       "    </tr>\n",
       "    <tr>\n",
       "      <th>Predictor</th>\n",
       "      <th></th>\n",
       "      <th></th>\n",
       "      <th></th>\n",
       "      <th></th>\n",
       "      <th></th>\n",
       "    </tr>\n",
       "  </thead>\n",
       "  <tbody>\n",
       "    <tr>\n",
       "      <th>Intercept</th>\n",
       "      <td>39.240721</td>\n",
       "      <td>0.350290</td>\n",
       "      <td>112.023406</td>\n",
       "      <td>0.000000e+00</td>\n",
       "      <td>7.194339</td>\n",
       "    </tr>\n",
       "    <tr>\n",
       "      <th>Non-Focal has higher dispersion</th>\n",
       "      <td>3.840950</td>\n",
       "      <td>0.485933</td>\n",
       "      <td>7.904286</td>\n",
       "      <td>2.177687e-14</td>\n",
       "      <td>0.704194</td>\n",
       "    </tr>\n",
       "    <tr>\n",
       "      <th>Label of Focal (Sum-Contrast)</th>\n",
       "      <td>0.151436</td>\n",
       "      <td>0.350290</td>\n",
       "      <td>0.432314</td>\n",
       "      <td>6.657242e-01</td>\n",
       "      <td>0.027764</td>\n",
       "    </tr>\n",
       "    <tr>\n",
       "      <th>Interaction Term</th>\n",
       "      <td>-0.285281</td>\n",
       "      <td>0.485933</td>\n",
       "      <td>-0.587080</td>\n",
       "      <td>5.574506e-01</td>\n",
       "      <td>-0.052303</td>\n",
       "    </tr>\n",
       "  </tbody>\n",
       "</table>\n",
       "</div>"
      ],
      "text/plain": [
       "                                  Estimate  Std. Error     t value  \\\n",
       "Predictor                                                            \n",
       "Intercept                        39.240721    0.350290  112.023406   \n",
       "Non-Focal has higher dispersion   3.840950    0.485933    7.904286   \n",
       "Label of Focal (Sum-Contrast)     0.151436    0.350290    0.432314   \n",
       "Interaction Term                 -0.285281    0.485933   -0.587080   \n",
       "\n",
       "                                     Pr(>|t|)  Standardized Betas  \n",
       "Predictor                                                          \n",
       "Intercept                        0.000000e+00            7.194339  \n",
       "Non-Focal has higher dispersion  2.177687e-14            0.704194  \n",
       "Label of Focal (Sum-Contrast)    6.657242e-01            0.027764  \n",
       "Interaction Term                 5.574506e-01           -0.052303  "
      ]
     },
     "execution_count": 23,
     "metadata": {},
     "output_type": "execute_result"
    }
   ],
   "source": [
    "coeffs.set_index(\"Predictor\")"
   ]
  },
  {
   "cell_type": "code",
   "execution_count": 24,
   "metadata": {},
   "outputs": [
    {
     "data": {
      "text/markdown": [
       "As predicted, only the variance of the non-focal distribution exerts a significant influence: b = 3.841, p < .001. \n",
       "\n",
       "Neither the counterbalancing factor nor its interaction are significant at a .05 level."
      ],
      "text/plain": [
       "<IPython.core.display.Markdown object>"
      ]
     },
     "execution_count": 24,
     "metadata": {},
     "output_type": "execute_result"
    }
   ],
   "source": [
    "Markdown(\n",
    "    f\"As predicted, only the variance of the non-focal distribution exerts a significant \\\n",
    "influence: b = {coeffs.iloc[1, 0]:.3f}, p < .001. \\n\\nNeither the counterbalancing factor nor \\\n",
    "its interaction are significant at a .05 level.\"\n",
    ")"
   ]
  },
  {
   "cell_type": "code",
   "execution_count": 25,
   "metadata": {},
   "outputs": [
    {
     "data": {
      "text/markdown": [
       "Proportion above actual max: 13% vs. 52%: $\\chi$(1) = 79.13, p < .001; \n"
      ],
      "text/plain": [
       "<IPython.core.display.Markdown object>"
      ]
     },
     "execution_count": 25,
     "metadata": {},
     "output_type": "execute_result"
    }
   ],
   "source": [
    "df_clean[\"above_actual_max\"] = (df_clean.memory_max > 40) * 1\n",
    "\n",
    "nobs = df_clean.groupby(\"condition\").above_actual_max.count()\n",
    "nsuc = df_clean.groupby(\"condition\").above_actual_max.sum()\n",
    "props = nsuc / nobs * 100\n",
    "chi, p = proportions_chisquare(nsuc[[0, 1]], nobs[[0, 1]])[0:2]\n",
    "Markdown(\n",
    "    f\"\"\"Proportion above actual max: {props[0]:.0f}% vs. {props[1]:.0f}%: $\\chi$(1) = {chi:.2f}, {format_pvals(p)}; \n",
    "\"\"\"\n",
    ")"
   ]
  },
  {
   "cell_type": "markdown",
   "metadata": {},
   "source": [
    "## Number of boxes opened"
   ]
  },
  {
   "cell_type": "code",
   "execution_count": 26,
   "metadata": {},
   "outputs": [
    {
     "data": {
      "text/html": [
       "<style  type=\"text/css\" >\n",
       "</style><table id=\"T_b4998df4_8ece_11ea_9677_448a5b2f88e1\" ><thead>    <tr>        <th class=\"blank\" ></th>        <th class=\"blank level0\" ></th>        <th class=\"col_heading level0 col0\" >Proportion by condition</th>    </tr>    <tr>        <th class=\"index_name level0\" >Condition</th>        <th class=\"index_name level1\" >Box Opened</th>        <th class=\"blank\" ></th>    </tr></thead><tbody>\n",
       "                <tr>\n",
       "                        <th id=\"T_b4998df4_8ece_11ea_9677_448a5b2f88e1level0_row0\" class=\"row_heading level0 row0\" rowspan=4>Equal dispersion</th>\n",
       "                        <th id=\"T_b4998df4_8ece_11ea_9677_448a5b2f88e1level1_row0\" class=\"row_heading level1 row0\" >1</th>\n",
       "                        <td id=\"T_b4998df4_8ece_11ea_9677_448a5b2f88e1row0_col0\" class=\"data row0 col0\" >21%</td>\n",
       "            </tr>\n",
       "            <tr>\n",
       "                                <th id=\"T_b4998df4_8ece_11ea_9677_448a5b2f88e1level1_row1\" class=\"row_heading level1 row1\" >2</th>\n",
       "                        <td id=\"T_b4998df4_8ece_11ea_9677_448a5b2f88e1row1_col0\" class=\"data row1 col0\" >58%</td>\n",
       "            </tr>\n",
       "            <tr>\n",
       "                                <th id=\"T_b4998df4_8ece_11ea_9677_448a5b2f88e1level1_row2\" class=\"row_heading level1 row2\" >4</th>\n",
       "                        <td id=\"T_b4998df4_8ece_11ea_9677_448a5b2f88e1row2_col0\" class=\"data row2 col0\" >0%</td>\n",
       "            </tr>\n",
       "            <tr>\n",
       "                                <th id=\"T_b4998df4_8ece_11ea_9677_448a5b2f88e1level1_row3\" class=\"row_heading level1 row3\" >5</th>\n",
       "                        <td id=\"T_b4998df4_8ece_11ea_9677_448a5b2f88e1row3_col0\" class=\"data row3 col0\" >21%</td>\n",
       "            </tr>\n",
       "            <tr>\n",
       "                        <th id=\"T_b4998df4_8ece_11ea_9677_448a5b2f88e1level0_row4\" class=\"row_heading level0 row4\" rowspan=4>Higher dispersion</th>\n",
       "                        <th id=\"T_b4998df4_8ece_11ea_9677_448a5b2f88e1level1_row4\" class=\"row_heading level1 row4\" >1</th>\n",
       "                        <td id=\"T_b4998df4_8ece_11ea_9677_448a5b2f88e1row4_col0\" class=\"data row4 col0\" >21%</td>\n",
       "            </tr>\n",
       "            <tr>\n",
       "                                <th id=\"T_b4998df4_8ece_11ea_9677_448a5b2f88e1level1_row5\" class=\"row_heading level1 row5\" >2</th>\n",
       "                        <td id=\"T_b4998df4_8ece_11ea_9677_448a5b2f88e1row5_col0\" class=\"data row5 col0\" >39%</td>\n",
       "            </tr>\n",
       "            <tr>\n",
       "                                <th id=\"T_b4998df4_8ece_11ea_9677_448a5b2f88e1level1_row6\" class=\"row_heading level1 row6\" >4</th>\n",
       "                        <td id=\"T_b4998df4_8ece_11ea_9677_448a5b2f88e1row6_col0\" class=\"data row6 col0\" >1%</td>\n",
       "            </tr>\n",
       "            <tr>\n",
       "                                <th id=\"T_b4998df4_8ece_11ea_9677_448a5b2f88e1level1_row7\" class=\"row_heading level1 row7\" >5</th>\n",
       "                        <td id=\"T_b4998df4_8ece_11ea_9677_448a5b2f88e1row7_col0\" class=\"data row7 col0\" >39%</td>\n",
       "            </tr>\n",
       "    </tbody></table>"
      ],
      "text/plain": [
       "<pandas.io.formats.style.Styler at 0x20a411b7400>"
      ]
     },
     "execution_count": 26,
     "metadata": {},
     "output_type": "execute_result"
    }
   ],
   "source": [
    "table = (\n",
    "    df_clean.groupby([\"condition\", \"box_opened\"])[[\"bonusamount\"]].count()\n",
    "    / df_clean.groupby(\"condition\")[[\"bonusamount\"]].count()\n",
    "    * 100\n",
    ")\n",
    "table.index.names = [\"Condition\", \"Box Opened\"]\n",
    "table.columns = [\"Proportion by condition\"]\n",
    "table.style.format(\"{:.0f}%\")"
   ]
  },
  {
   "cell_type": "markdown",
   "metadata": {},
   "source": [
    "As reported in the pre-registration, we tested the significance of this difference using an Ordered Logit model. \n",
    "\n",
    "This approach models a latent utility space divided in K thresholds, delineating the preference between opening K and K+1 boxes. \n",
    "\n",
    "In addition, this model estimates the impact of our predictors in the latent utility space: a positive coefficient means a preference for opening more boxes.\n",
    "\n",
    "Given that no participant chose the third box, the threshold between the second and third box and the threshold between the third and fourth box form a single threshold."
   ]
  },
  {
   "cell_type": "code",
   "execution_count": 27,
   "metadata": {},
   "outputs": [],
   "source": [
    "%%R -i df_clean -o coeffs\n",
    "library(tidyverse)\n",
    "library(MASS)\n",
    "df_clean$box_opened <- df_clean$box_opened %>% as.factor\n",
    "df_clean$label_category <- df_clean$label_category %>% as.factor %>% relevel(ref=\"Blue\")\n",
    "df_clean$condition <- df_clean$condition %>% as.factor %>% relevel(ref=\"Equal dispersion\")\n",
    "contrasts(df_clean$label_category) <- contr.sum\n",
    "\n",
    "summ <- summary(polr(\"box_opened ~ condition*label_category\", df_clean, Hess=TRUE))\n",
    "\n",
    "df_resid <- summ$df.residual\n",
    "t_to_p <- function(t, df=1) {\n",
    "    return(2*pt(-abs(t), df=df))\n",
    "}\n",
    "t_to_p_with_df <- partial(t_to_p, df=df_resid)\n",
    "\n",
    "coeffs <- summ$coefficients %>% as.data.frame\n",
    "coeffs[[\"Pr(>|t|)\"]] <- coeffs[[\"t value\"]] %>% purrr::map(t_to_p_with_df) %>% as.numeric\n",
    "coeffs[[\"Odds Ratio\"]] <-coeffs[[\"Value\"]] %>% purrr::map(exp) %>% as.numeric\n",
    "coeffs[4:6, \"Odds Ratio\"] <- c(NA, NA, NA)\n",
    "coeffs[[\"Predictor\"]] <- c(\"Non-Focal has Higher Variance (Dummy-Coded)\", \n",
    "                          \"Label of Focal (Sum-Contrast)\", \n",
    "                          \"Interaction Term\", \n",
    "                          \"Decision Threshold: Box 1 to Box 2\", \n",
    "                          \"Decision Threshold: Box 2 to Box 4\", \n",
    "                          \"Decision Threshold: Box 4 to Box 5\")"
   ]
  },
  {
   "cell_type": "code",
   "execution_count": 28,
   "metadata": {},
   "outputs": [
    {
     "data": {
      "text/html": [
       "<div>\n",
       "<style scoped>\n",
       "    .dataframe tbody tr th:only-of-type {\n",
       "        vertical-align: middle;\n",
       "    }\n",
       "\n",
       "    .dataframe tbody tr th {\n",
       "        vertical-align: top;\n",
       "    }\n",
       "\n",
       "    .dataframe thead th {\n",
       "        text-align: right;\n",
       "    }\n",
       "</style>\n",
       "<table border=\"1\" class=\"dataframe\">\n",
       "  <thead>\n",
       "    <tr style=\"text-align: right;\">\n",
       "      <th></th>\n",
       "      <th>Value</th>\n",
       "      <th>Std. Error</th>\n",
       "      <th>t value</th>\n",
       "      <th>Pr(&gt;|t|)</th>\n",
       "      <th>Odds Ratio</th>\n",
       "    </tr>\n",
       "    <tr>\n",
       "      <th>Predictor</th>\n",
       "      <th></th>\n",
       "      <th></th>\n",
       "      <th></th>\n",
       "      <th></th>\n",
       "      <th></th>\n",
       "    </tr>\n",
       "  </thead>\n",
       "  <tbody>\n",
       "    <tr>\n",
       "      <th>Non-Focal has Higher Variance (Dummy-Coded)</th>\n",
       "      <td>0.535505</td>\n",
       "      <td>0.180570</td>\n",
       "      <td>2.965642</td>\n",
       "      <td>3.185253e-03</td>\n",
       "      <td>1.708310</td>\n",
       "    </tr>\n",
       "    <tr>\n",
       "      <th>Label of Focal (Sum-Contrast)</th>\n",
       "      <td>0.027545</td>\n",
       "      <td>0.125515</td>\n",
       "      <td>0.219460</td>\n",
       "      <td>8.263937e-01</td>\n",
       "      <td>1.027928</td>\n",
       "    </tr>\n",
       "    <tr>\n",
       "      <th>Interaction Term</th>\n",
       "      <td>0.306287</td>\n",
       "      <td>0.179417</td>\n",
       "      <td>1.707130</td>\n",
       "      <td>8.850494e-02</td>\n",
       "      <td>1.358373</td>\n",
       "    </tr>\n",
       "    <tr>\n",
       "      <th>Decision Threshold: Box 1 to Box 2</th>\n",
       "      <td>-1.093502</td>\n",
       "      <td>0.141358</td>\n",
       "      <td>-7.735697</td>\n",
       "      <td>7.116486e-14</td>\n",
       "      <td>NaN</td>\n",
       "    </tr>\n",
       "    <tr>\n",
       "      <th>Decision Threshold: Box 2 to Box 4</th>\n",
       "      <td>1.089849</td>\n",
       "      <td>0.141310</td>\n",
       "      <td>7.712488</td>\n",
       "      <td>8.354402e-14</td>\n",
       "      <td>NaN</td>\n",
       "    </tr>\n",
       "    <tr>\n",
       "      <th>Decision Threshold: Box 4 to Box 5</th>\n",
       "      <td>1.123247</td>\n",
       "      <td>0.142045</td>\n",
       "      <td>7.907671</td>\n",
       "      <td>2.145117e-14</td>\n",
       "      <td>NaN</td>\n",
       "    </tr>\n",
       "  </tbody>\n",
       "</table>\n",
       "</div>"
      ],
      "text/plain": [
       "                                                Value  Std. Error   t value  \\\n",
       "Predictor                                                                     \n",
       "Non-Focal has Higher Variance (Dummy-Coded)  0.535505    0.180570  2.965642   \n",
       "Label of Focal (Sum-Contrast)                0.027545    0.125515  0.219460   \n",
       "Interaction Term                             0.306287    0.179417  1.707130   \n",
       "Decision Threshold: Box 1 to Box 2          -1.093502    0.141358 -7.735697   \n",
       "Decision Threshold: Box 2 to Box 4           1.089849    0.141310  7.712488   \n",
       "Decision Threshold: Box 4 to Box 5           1.123247    0.142045  7.907671   \n",
       "\n",
       "                                                 Pr(>|t|)  Odds Ratio  \n",
       "Predictor                                                              \n",
       "Non-Focal has Higher Variance (Dummy-Coded)  3.185253e-03    1.708310  \n",
       "Label of Focal (Sum-Contrast)                8.263937e-01    1.027928  \n",
       "Interaction Term                             8.850494e-02    1.358373  \n",
       "Decision Threshold: Box 1 to Box 2           7.116486e-14         NaN  \n",
       "Decision Threshold: Box 2 to Box 4           8.354402e-14         NaN  \n",
       "Decision Threshold: Box 4 to Box 5           2.145117e-14         NaN  "
      ]
     },
     "execution_count": 28,
     "metadata": {},
     "output_type": "execute_result"
    }
   ],
   "source": [
    "coeffs.set_index(\"Predictor\")"
   ]
  },
  {
   "cell_type": "code",
   "execution_count": 29,
   "metadata": {},
   "outputs": [
    {
     "data": {
      "text/markdown": [
       "As predicted, only the variance of the non-focal distribution had a significant influence: b = 0.536, p = 0.003185, odds ratio = 1.708. \n",
       "\n",
       "Neither the counterbalancing factor nor its interaction are significant at a .05 level."
      ],
      "text/plain": [
       "<IPython.core.display.Markdown object>"
      ]
     },
     "execution_count": 29,
     "metadata": {},
     "output_type": "execute_result"
    }
   ],
   "source": [
    "Markdown(\n",
    "    f\"As predicted, only the variance of the non-focal distribution had a significant \\\n",
    "influence: b = {coeffs.iloc[0, 0]:.3f}, p = {coeffs.iloc[0, 3]:.6f}, odds ratio = {coeffs.iloc[0, 4]:.3f}. \\n\\nNeither the counterbalancing factor nor \\\n",
    "its interaction are significant at a .05 level.\"\n",
    ")"
   ]
  },
  {
   "cell_type": "markdown",
   "metadata": {},
   "source": [
    "## Amount of money earned?"
   ]
  },
  {
   "cell_type": "code",
   "execution_count": 30,
   "metadata": {},
   "outputs": [],
   "source": [
    "%%R -i df_clean -o coeffs\n",
    "library(tidyverse)\n",
    "df_clean$label_category <- df_clean$label_category %>% as.factor %>% relevel(ref=\"Blue\")\n",
    "df_clean$condition <- df_clean$condition %>% as.factor %>% relevel(ref=\"Equal dispersion\")\n",
    "contrasts(df_clean$label_category) <- contr.sum\n",
    "summ <- summary(lm(\"bonusamountnumeric ~ condition*label_category\", df_clean))\n",
    "coeffs <- summ$coefficients %>% as.data.frame\n",
    "\n",
    "coeffs[[\"Standardized Betas\"]] <- coeffs[[\"Estimate\"]] / sd(df_clean$bonusamountnumeric)\n",
    "\n",
    "coeffs[[\"Predictor\"]] <- c(\"Intercept\",\n",
    "                          \"Non-Focal has Higher Variance (Dummy-Coded)\", \n",
    "                          \"Label of Focal (Sum-Contrast)\", \n",
    "                          \"Interaction Term\")"
   ]
  },
  {
   "cell_type": "code",
   "execution_count": 31,
   "metadata": {},
   "outputs": [
    {
     "data": {
      "text/html": [
       "<div>\n",
       "<style scoped>\n",
       "    .dataframe tbody tr th:only-of-type {\n",
       "        vertical-align: middle;\n",
       "    }\n",
       "\n",
       "    .dataframe tbody tr th {\n",
       "        vertical-align: top;\n",
       "    }\n",
       "\n",
       "    .dataframe thead th {\n",
       "        text-align: right;\n",
       "    }\n",
       "</style>\n",
       "<table border=\"1\" class=\"dataframe\">\n",
       "  <thead>\n",
       "    <tr style=\"text-align: right;\">\n",
       "      <th></th>\n",
       "      <th>Estimate</th>\n",
       "      <th>Std. Error</th>\n",
       "      <th>t value</th>\n",
       "      <th>Pr(&gt;|t|)</th>\n",
       "      <th>Standardized Betas</th>\n",
       "    </tr>\n",
       "    <tr>\n",
       "      <th>Predictor</th>\n",
       "      <th></th>\n",
       "      <th></th>\n",
       "      <th></th>\n",
       "      <th></th>\n",
       "      <th></th>\n",
       "    </tr>\n",
       "  </thead>\n",
       "  <tbody>\n",
       "    <tr>\n",
       "      <th>Intercept</th>\n",
       "      <td>35.002626</td>\n",
       "      <td>0.248700</td>\n",
       "      <td>140.742202</td>\n",
       "      <td>0.000000</td>\n",
       "      <td>9.532031</td>\n",
       "    </tr>\n",
       "    <tr>\n",
       "      <th>Non-Focal has Higher Variance (Dummy-Coded)</th>\n",
       "      <td>-1.193706</td>\n",
       "      <td>0.345004</td>\n",
       "      <td>-3.459976</td>\n",
       "      <td>0.000593</td>\n",
       "      <td>-0.325074</td>\n",
       "    </tr>\n",
       "    <tr>\n",
       "      <th>Label of Focal (Sum-Contrast)</th>\n",
       "      <td>0.056197</td>\n",
       "      <td>0.248700</td>\n",
       "      <td>0.225965</td>\n",
       "      <td>0.821334</td>\n",
       "      <td>0.015304</td>\n",
       "    </tr>\n",
       "    <tr>\n",
       "      <th>Interaction Term</th>\n",
       "      <td>-0.195553</td>\n",
       "      <td>0.345004</td>\n",
       "      <td>-0.566813</td>\n",
       "      <td>0.571129</td>\n",
       "      <td>-0.053254</td>\n",
       "    </tr>\n",
       "  </tbody>\n",
       "</table>\n",
       "</div>"
      ],
      "text/plain": [
       "                                              Estimate  Std. Error  \\\n",
       "Predictor                                                            \n",
       "Intercept                                    35.002626    0.248700   \n",
       "Non-Focal has Higher Variance (Dummy-Coded)  -1.193706    0.345004   \n",
       "Label of Focal (Sum-Contrast)                 0.056197    0.248700   \n",
       "Interaction Term                             -0.195553    0.345004   \n",
       "\n",
       "                                                t value  Pr(>|t|)  \\\n",
       "Predictor                                                           \n",
       "Intercept                                    140.742202  0.000000   \n",
       "Non-Focal has Higher Variance (Dummy-Coded)   -3.459976  0.000593   \n",
       "Label of Focal (Sum-Contrast)                  0.225965  0.821334   \n",
       "Interaction Term                              -0.566813  0.571129   \n",
       "\n",
       "                                             Standardized Betas  \n",
       "Predictor                                                        \n",
       "Intercept                                              9.532031  \n",
       "Non-Focal has Higher Variance (Dummy-Coded)           -0.325074  \n",
       "Label of Focal (Sum-Contrast)                          0.015304  \n",
       "Interaction Term                                      -0.053254  "
      ]
     },
     "execution_count": 31,
     "metadata": {},
     "output_type": "execute_result"
    }
   ],
   "source": [
    "coeffs.set_index(\"Predictor\")"
   ]
  },
  {
   "cell_type": "code",
   "execution_count": 32,
   "metadata": {},
   "outputs": [
    {
     "data": {
      "text/markdown": [
       "As predicted, only the variance of the non-focal distribution exerts a significant influence: b = -1.194, p < .001. \n",
       "\n",
       "Neither the counterbalancing factor nor its interaction are significant at a .05 level."
      ],
      "text/plain": [
       "<IPython.core.display.Markdown object>"
      ]
     },
     "execution_count": 32,
     "metadata": {},
     "output_type": "execute_result"
    }
   ],
   "source": [
    "Markdown(\n",
    "    f\"As predicted, only the variance of the non-focal distribution exerts a significant \\\n",
    "influence: b = {coeffs.iloc[1, 0]:.3f}, p < .001. \\n\\nNeither the counterbalancing factor nor \\\n",
    "its interaction are significant at a .05 level.\"\n",
    ")"
   ]
  }
 ],
 "metadata": {
  "kernelspec": {
   "display_name": "Python 3",
   "language": "python",
   "name": "python3"
  },
  "language_info": {
   "codemirror_mode": {
    "name": "ipython",
    "version": 3
   },
   "file_extension": ".py",
   "mimetype": "text/x-python",
   "name": "python",
   "nbconvert_exporter": "python",
   "pygments_lexer": "ipython3",
   "version": "3.6.10"
  },
  "pycharm": {
   "stem_cell": {
    "cell_type": "raw",
    "metadata": {
     "collapsed": false
    },
    "source": []
   }
  },
  "toc-autonumbering": true,
  "toc-showmarkdowntxt": false
 },
 "nbformat": 4,
 "nbformat_minor": 4
}
