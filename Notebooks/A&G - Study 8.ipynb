{
 "cells": [
  {
   "cell_type": "markdown",
   "metadata": {},
   "source": [
    "This notebook presents all the analysis reported in Study 8 of the paper.\n",
    "\n",
    "Click the \"Show Code\" buttons to see the code associated with each output."
   ]
  },
  {
   "cell_type": "markdown",
   "metadata": {},
   "source": [
    "# Preamble"
   ]
  },
  {
   "cell_type": "markdown",
   "metadata": {},
   "source": [
    "## Libraries"
   ]
  },
  {
   "cell_type": "code",
   "execution_count": 1,
   "metadata": {},
   "outputs": [],
   "source": [
    "# Misc\n",
    "import warnings\n",
    "\n",
    "warnings.filterwarnings(\"ignore\")\n",
    "\n",
    "\n",
    "# Data libraries\n",
    "import pandas as pd\n",
    "import numpy as np\n",
    "\n",
    "# Plotting\n",
    "import matplotlib as mpl\n",
    "import matplotlib.pyplot as plt\n",
    "from matplotlib.gridspec import GridSpec\n",
    "import seaborn as sns\n",
    "\n",
    "sns.set_context(\"notebook\")\n",
    "\n",
    "# Statistics\n",
    "import statsmodels.formula.api as smf\n",
    "import scipy.stats as stats\n",
    "\n",
    "# Interface with R\n",
    "import rpy2\n",
    "\n",
    "%load_ext rpy2.ipython\n",
    "\n",
    "\n",
    "%R library(sjstats); # For effect sizes of ANOVAs\n",
    "\n",
    "STUDY_NAME = \"Study 8\""
   ]
  },
  {
   "cell_type": "markdown",
   "metadata": {},
   "source": [
    "## Functions"
   ]
  },
  {
   "cell_type": "code",
   "execution_count": 2,
   "metadata": {},
   "outputs": [],
   "source": [
    "def plot_design(save=False, show=True, grayscale=False, figname=f\"{STUDY_NAME} - Design\"):\n",
    "    # fmt: off\n",
    "    low = [6, 7, 9, 9, 10, 11, 12, 12, 13, 13, 14, 14, 15, 16, \n",
    "              16, 17, 17, 18, 18, 19, 20, 21, 21, 23, 24]\n",
    "    med = [16, 17, 19, 19, 20, 21, 22, 22, 23, 23, 24, 24, 25, \n",
    "              26, 26, 27, 27, 28, 28, 29, 30, 31, 31, 33, 34]\n",
    "    high = [26, 27, 29, 29, 30, 31, 32, 32, 33, 33, 34, 34, 35, \n",
    "               36, 36, 37, 37, 38, 38, 39, 40, 41, 41, 43, 44]\n",
    "    # fmt: on\n",
    "\n",
    "    if grayscale:\n",
    "        pal = sns.color_palette(\"Greys\")[2::3]\n",
    "        pathname = \"Grayscale\"\n",
    "    else:\n",
    "        pal = sns.color_palette()[0:2]\n",
    "        pathname = \"Color\"\n",
    "\n",
    "    if show:\n",
    "        sns.set_context(\"notebook\")\n",
    "    else:\n",
    "        sns.set_context(\"paper\")\n",
    "\n",
    "    sns.set_style(\"ticks\")\n",
    "    fig, axes = plt.subplots(3, 1, figsize=(6.38, 6.38))\n",
    "    axes = axes.flatten()\n",
    "    for i, (manip, common, title) in enumerate(\n",
    "        zip(\n",
    "            [low, med, high],\n",
    "            [med, med, med],\n",
    "            [\"Low (M = 15)\", \"Med (M = 25)\", \"High (M = 35)\"],\n",
    "        )\n",
    "    ):\n",
    "        ax = axes[i]\n",
    "        ax.annotate(title, (15 + 10 * i, 3), size=12, va=\"center\", ha=\"center\")\n",
    "        bins = np.arange(0, 51, 1)\n",
    "        ax.hist(\n",
    "            common,\n",
    "            bins=bins,\n",
    "            label=\"Common\",\n",
    "            color=pal[1],\n",
    "            density=False,\n",
    "            align=\"left\",\n",
    "            rwidth=0.7,\n",
    "            lw=0,\n",
    "        )\n",
    "        ax.hist(\n",
    "            manip,\n",
    "            bins=bins,\n",
    "            label=\"Manipulated\",\n",
    "            color=pal[0],\n",
    "            density=False,\n",
    "            align=\"left\",\n",
    "            rwidth=0.35,\n",
    "            lw=0,\n",
    "        )\n",
    "        leg = ax.legend()\n",
    "        han = leg.legendHandles\n",
    "        leg.remove()\n",
    "        ax.set_xticks(np.arange(6, 46, 2))\n",
    "        ax.set_xticklabels([f\"${i}\" for i in np.arange(6, 46, 2)])\n",
    "        ax.set_xlim(5, 45)\n",
    "        ax.set_ylim(0, 4)\n",
    "        ax.set_yticks(np.arange(0, 4, 1))\n",
    "        ax.set_ylabel(\"Number of Items\")\n",
    "\n",
    "    axes[0].legend(\n",
    "        handles=han,\n",
    "        loc=\"center left\",\n",
    "        title=\"Category\",\n",
    "        frameon=False,\n",
    "        bbox_to_anchor=(0.7, 0.75),\n",
    "    )\n",
    "    sns.despine()\n",
    "    plt.tight_layout()\n",
    "\n",
    "    if save:\n",
    "        plt.savefig(\n",
    "            f\"../Figures/{pathname}/{figname}.png\", dpi=100, bbox_inches=\"tight\"\n",
    "        )\n",
    "    if show:\n",
    "        plt.show()\n",
    "    else:\n",
    "        plt.close()\n",
    "\n",
    "\n",
    "def plot_result_stats(\n",
    "    data,\n",
    "    save=False,\n",
    "    show=True,\n",
    "    grayscale=False,\n",
    "    figname=f\"Fig 14 - {STUDY_NAME} - Mean By Group\",\n",
    "):\n",
    "\n",
    "    if grayscale:\n",
    "        pal = sns.color_palette(\"Greys\")[1::2]\n",
    "        pathname = \"Grayscale\"\n",
    "    else:\n",
    "        pal = sns.color_palette(\"coolwarm\", 3)\n",
    "        pathname = \"Color\"\n",
    "\n",
    "    if show:\n",
    "        sns.set_context(\"notebook\")\n",
    "    else:\n",
    "        sns.set_context(\"paper\")\n",
    "\n",
    "    sns.set_style(\"white\")\n",
    "    g = sns.catplot(\n",
    "        x=\"is_manipulated\",\n",
    "        hue=\"mean_manipulated\",\n",
    "        hue_order=[\"Low\", \"Med\", \"High\"],\n",
    "        y=\"value\",\n",
    "        data=data,\n",
    "        kind=\"bar\",\n",
    "        row=\"variable\",\n",
    "        aspect=1.7,\n",
    "        height=6.38 / 1.7,\n",
    "        order=[True, False],\n",
    "        sharey=False,\n",
    "        sharex=False,\n",
    "        legend_out=False,\n",
    "        palette=pal,\n",
    "    )\n",
    "\n",
    "    g.set_titles(\"\")\n",
    "    g.set_xlabels(\"\")\n",
    "    axes = g.axes.flatten()\n",
    "    leg = axes[0].legend()\n",
    "\n",
    "    han = leg.legendHandles\n",
    "    leg.remove()\n",
    "\n",
    "    axes[0].legend(\n",
    "        han,\n",
    "        [\"Low (M = 15)\", \"Med (M = 25)\", \"High (M = 35)\"],\n",
    "        title=\"Mean of Manipulated Category\",\n",
    "        loc=\"upper center\",\n",
    "        bbox_to_anchor=(0.75, 1.03),\n",
    "        frameon=False,\n",
    "    )\n",
    "    axes[0].set_ylim(12, 40)\n",
    "    axes[0].set_xticklabels([\"Manipulated Category\", \"Common Category (M = 25)\"])\n",
    "    axes[0].set_ylabel(\"Mean of Reported Prices\")\n",
    "\n",
    "    axes[1].set_ylim(10, 24)\n",
    "    axes[1].set_xticklabels([\"Manipulated Category\", \"Common Category (M = 25)\"])\n",
    "    axes[1].set_ylabel(\"Range of Reported Prices\")\n",
    "    fig = plt.gcf()\n",
    "    fig.set_size_inches(6.38, 7)\n",
    "    if save:\n",
    "        plt.savefig(\n",
    "            f\"../Figures/{pathname}/{figname}.png\", dpi=100, bbox_inches=\"tight\"\n",
    "        )\n",
    "    if show:\n",
    "        plt.show()\n",
    "    else:\n",
    "        plt.close()"
   ]
  },
  {
   "cell_type": "markdown",
   "metadata": {},
   "source": [
    "## Data loading and preparation"
   ]
  },
  {
   "cell_type": "code",
   "execution_count": 3,
   "metadata": {},
   "outputs": [],
   "source": [
    "# Data loading and preparation\n",
    "df = (\n",
    "    pd.read_csv(f\"../Data/{STUDY_NAME}/LongData.csv\")\n",
    "    .groupby(\n",
    "        [\"turkid\", \"wine\", \"is_manipulated\", \"mean_manipulated\"]\n",
    "    )\n",
    "    .value.agg(\n",
    "        **{\n",
    "            \"value_sd\": np.std,\n",
    "            \"value_range\": lambda x: np.max(x) - np.min(x),\n",
    "            \"value_min\": np.min,\n",
    "            \"value_max\": np.max,\n",
    "            \"value_mean\": np.mean,\n",
    "            \"value_mode\": lambda x: stats.mode(x)[0],\n",
    "            \"value_var\": lambda x: np.std(x) ** 2,\n",
    "        }\n",
    "    )\n",
    "    .reset_index()\n",
    ")"
   ]
  },
  {
   "cell_type": "markdown",
   "metadata": {
    "toc-hr-collapsed": false
   },
   "source": [
    "# Design"
   ]
  },
  {
   "cell_type": "markdown",
   "metadata": {},
   "source": [
    "## Characteristics and distributions"
   ]
  },
  {
   "cell_type": "markdown",
   "metadata": {},
   "source": [
    "All participants saw two distributions:\n",
    "\n",
    "* Common: Constant Mean, M = 25\n",
    "* Manipulated: Manipulated Mean between subjects, $M \\in [15, 25, 35]$"
   ]
  },
  {
   "cell_type": "markdown",
   "metadata": {},
   "source": [
    "Visualization of the distributions:"
   ]
  },
  {
   "cell_type": "code",
   "execution_count": 4,
   "metadata": {},
   "outputs": [
    {
     "data": {
      "image/png": "[encoded data removed]",
      "text/plain": [
       "<Figure size 459.36x459.36 with 3 Axes>"
      ]
     },
     "metadata": {},
     "output_type": "display_data"
    }
   ],
   "source": [
    "plot_design(save=False, show=True)"
   ]
  },
  {
   "cell_type": "markdown",
   "metadata": {},
   "source": [
    "## Number of valid participants"
   ]
  },
  {
   "cell_type": "code",
   "execution_count": 5,
   "metadata": {},
   "outputs": [
    {
     "data": {
      "text/plain": [
       "149"
      ]
     },
     "execution_count": 5,
     "metadata": {},
     "output_type": "execute_result"
    }
   ],
   "source": [
    "df.turkid.unique().shape[0]"
   ]
  },
  {
   "cell_type": "markdown",
   "metadata": {
    "toc-hr-collapsed": false
   },
   "source": [
    "# Analysis"
   ]
  },
  {
   "cell_type": "markdown",
   "metadata": {},
   "source": [
    "## Overview of results"
   ]
  },
  {
   "cell_type": "code",
   "execution_count": 6,
   "metadata": {},
   "outputs": [
    {
     "data": {
      "image/png": "[encoded data removed]",
      "text/plain": [
       "<Figure size 459.36x504 with 2 Axes>"
      ]
     },
     "metadata": {},
     "output_type": "display_data"
    },
    {
     "data": {
      "text/html": [
       "<style  type=\"text/css\" >\n",
       "</style><table id=\"T_ba723322_8ecf_11ea_9214_448a5b2f88e1\" ><thead>    <tr>        <th class=\"blank\" ></th>        <th class=\"blank level0\" ></th>        <th class=\"col_heading level0 col0\" >Mean</th>        <th class=\"col_heading level0 col1\" >Range</th>    </tr>    <tr>        <th class=\"index_name level0\" >Manipulated?</th>        <th class=\"index_name level1\" >Mean of Manipulated</th>        <th class=\"blank\" ></th>        <th class=\"blank\" ></th>    </tr></thead><tbody>\n",
       "                <tr>\n",
       "                        <th id=\"T_ba723322_8ecf_11ea_9214_448a5b2f88e1level0_row0\" class=\"row_heading level0 row0\" rowspan=3>False</th>\n",
       "                        <th id=\"T_ba723322_8ecf_11ea_9214_448a5b2f88e1level1_row0\" class=\"row_heading level1 row0\" >Low</th>\n",
       "                        <td id=\"T_ba723322_8ecf_11ea_9214_448a5b2f88e1row0_col0\" class=\"data row0 col0\" >24.86</td>\n",
       "                        <td id=\"T_ba723322_8ecf_11ea_9214_448a5b2f88e1row0_col1\" class=\"data row0 col1\" >16.67</td>\n",
       "            </tr>\n",
       "            <tr>\n",
       "                                <th id=\"T_ba723322_8ecf_11ea_9214_448a5b2f88e1level1_row1\" class=\"row_heading level1 row1\" >Med</th>\n",
       "                        <td id=\"T_ba723322_8ecf_11ea_9214_448a5b2f88e1row1_col0\" class=\"data row1 col0\" >25.54</td>\n",
       "                        <td id=\"T_ba723322_8ecf_11ea_9214_448a5b2f88e1row1_col1\" class=\"data row1 col1\" >18.00</td>\n",
       "            </tr>\n",
       "            <tr>\n",
       "                                <th id=\"T_ba723322_8ecf_11ea_9214_448a5b2f88e1level1_row2\" class=\"row_heading level1 row2\" >High</th>\n",
       "                        <td id=\"T_ba723322_8ecf_11ea_9214_448a5b2f88e1row2_col0\" class=\"data row2 col0\" >25.95</td>\n",
       "                        <td id=\"T_ba723322_8ecf_11ea_9214_448a5b2f88e1row2_col1\" class=\"data row2 col1\" >16.54</td>\n",
       "            </tr>\n",
       "            <tr>\n",
       "                        <th id=\"T_ba723322_8ecf_11ea_9214_448a5b2f88e1level0_row3\" class=\"row_heading level0 row3\" rowspan=3>True</th>\n",
       "                        <th id=\"T_ba723322_8ecf_11ea_9214_448a5b2f88e1level1_row3\" class=\"row_heading level1 row3\" >Low</th>\n",
       "                        <td id=\"T_ba723322_8ecf_11ea_9214_448a5b2f88e1row3_col0\" class=\"data row3 col0\" >16.27</td>\n",
       "                        <td id=\"T_ba723322_8ecf_11ea_9214_448a5b2f88e1row3_col1\" class=\"data row3 col1\" >17.00</td>\n",
       "            </tr>\n",
       "            <tr>\n",
       "                                <th id=\"T_ba723322_8ecf_11ea_9214_448a5b2f88e1level1_row4\" class=\"row_heading level1 row4\" >Med</th>\n",
       "                        <td id=\"T_ba723322_8ecf_11ea_9214_448a5b2f88e1row4_col0\" class=\"data row4 col0\" >24.73</td>\n",
       "                        <td id=\"T_ba723322_8ecf_11ea_9214_448a5b2f88e1row4_col1\" class=\"data row4 col1\" >17.55</td>\n",
       "            </tr>\n",
       "            <tr>\n",
       "                                <th id=\"T_ba723322_8ecf_11ea_9214_448a5b2f88e1level1_row5\" class=\"row_heading level1 row5\" >High</th>\n",
       "                        <td id=\"T_ba723322_8ecf_11ea_9214_448a5b2f88e1row5_col0\" class=\"data row5 col0\" >33.36</td>\n",
       "                        <td id=\"T_ba723322_8ecf_11ea_9214_448a5b2f88e1row5_col1\" class=\"data row5 col1\" >18.38</td>\n",
       "            </tr>\n",
       "    </tbody></table>"
      ],
      "text/plain": [
       "<pandas.io.formats.style.Styler at 0x14a52e31390>"
      ]
     },
     "execution_count": 6,
     "metadata": {},
     "output_type": "execute_result"
    }
   ],
   "source": [
    "df_both = pd.melt(\n",
    "    df,\n",
    "    id_vars=[\"is_manipulated\", \"mean_manipulated\"],\n",
    "    value_vars=[\"value_mean\", \"value_range\"],\n",
    ")\n",
    "plot_result_stats(df_both, grayscale=True, save=True, show=False)\n",
    "plot_result_stats(df_both, save=True, show=True)\n",
    "table = (\n",
    "    df.groupby([\"is_manipulated\", \"mean_manipulated\"])[[\"value_mean\", \"value_range\"]]\n",
    "    .mean()\n",
    "    .reindex(\n",
    "        labels=[\n",
    "            [False, False, False, True, True, True],\n",
    "            [\"Low\", \"Med\", \"High\", \"Low\", \"Med\", \"High\"],\n",
    "        ]\n",
    "    )\n",
    ")\n",
    "table.index.names = [\"Manipulated?\", \"Mean of Manipulated\"]\n",
    "table.columns = [\"Mean\", \"Range\"]\n",
    "table.style.format(\"{:.2f}\")"
   ]
  },
  {
   "cell_type": "markdown",
   "metadata": {},
   "source": [
    "## Mean"
   ]
  },
  {
   "cell_type": "markdown",
   "metadata": {},
   "source": [
    "### Pairwise Contrasts for Manipulated Category"
   ]
  },
  {
   "cell_type": "code",
   "execution_count": 7,
   "metadata": {},
   "outputs": [
    {
     "data": {
      "text/html": [
       "<table class=\"simpletable\">\n",
       "<tr>\n",
       "       <td>Model:</td>       <td>MixedLM</td> <td>Dependent Variable:</td>   <td>Mean</td>   \n",
       "</tr>\n",
       "<tr>\n",
       "  <td>No. Observations:</td>   <td>298</td>         <td>Method:</td>         <td>REML</td>   \n",
       "</tr>\n",
       "<tr>\n",
       "     <td>No. Groups:</td>      <td>149</td>         <td>Scale:</td>         <td>10.9182</td> \n",
       "</tr>\n",
       "<tr>\n",
       "  <td>Min. group size:</td>     <td>2</td>      <td>Log-Likelihood:</td>   <td>-801.0643</td>\n",
       "</tr>\n",
       "<tr>\n",
       "  <td>Max. group size:</td>     <td>2</td>        <td>Converged:</td>         <td>Yes</td>   \n",
       "</tr>\n",
       "<tr>\n",
       "  <td>Mean group size:</td>    <td>2.0</td>            <td></td>               <td></td>     \n",
       "</tr>\n",
       "</table>\n",
       "<table class=\"simpletable\">\n",
       "<tr>\n",
       "                 <td></td>                 <th>Coef.</th> <th>Std.Err.</th>    <th>z</th>    <th>P>|z|</th> <th>[0.025</th>  <th>0.975]</th>\n",
       "</tr>\n",
       "<tr>\n",
       "  <th>Manipulated: Medium</th>            <td>24.731</td>   <td>0.520</td>  <td>47.548</td>  <td>0.000</td> <td>23.711</td>  <td>25.750</td>\n",
       "</tr>\n",
       "<tr>\n",
       "  <th>Manipulated: Low vs. Medium</th>    <td>-8.459</td>   <td>0.739</td>  <td>-11.441</td> <td>0.000</td> <td>-9.908</td>  <td>-7.010</td>\n",
       "</tr>\n",
       "<tr>\n",
       "  <th>Manipulated: High vs. Medium</th>    <td>8.625</td>   <td>0.725</td>  <td>11.898</td>  <td>0.000</td>  <td>7.204</td>  <td>10.045</td>\n",
       "</tr>\n",
       "<tr>\n",
       "  <th>Medium: Common vs. Manipulated</th>  <td>0.808</td>   <td>0.668</td>   <td>1.211</td>  <td>0.226</td> <td>-0.500</td>   <td>2.117</td>\n",
       "</tr>\n",
       "<tr>\n",
       "  <th>Low: Common vs. Manipulated</th>     <td>7.782</td>   <td>0.949</td>   <td>8.200</td>  <td>0.000</td>  <td>5.922</td>   <td>9.642</td>\n",
       "</tr>\n",
       "<tr>\n",
       "  <th>High: Common vs. Manipulated</th>   <td>-8.211</td>   <td>0.930</td>  <td>-8.826</td>  <td>0.000</td> <td>-10.035</td> <td>-6.388</td>\n",
       "</tr>\n",
       "<tr>\n",
       "  <th>Group Var</th>                       <td>2.337</td>   <td>0.391</td>     <td></td>       <td></td>       <td></td>        <td></td>   \n",
       "</tr>\n",
       "</table>"
      ],
      "text/plain": [
       "<class 'statsmodels.iolib.summary2.Summary'>\n",
       "\"\"\"\n",
       "                   Mixed Linear Model Regression Results\n",
       "===========================================================================\n",
       "Model:                    MixedLM       Dependent Variable:       Mean     \n",
       "No. Observations:         298           Method:                   REML     \n",
       "No. Groups:               149           Scale:                    10.9182  \n",
       "Min. group size:          2             Log-Likelihood:           -801.0643\n",
       "Max. group size:          2             Converged:                Yes      \n",
       "Mean group size:          2.0                                              \n",
       "---------------------------------------------------------------------------\n",
       "                               Coef.  Std.Err.    z    P>|z|  [0.025 0.975]\n",
       "---------------------------------------------------------------------------\n",
       "Manipulated: Medium            24.731    0.520  47.548 0.000  23.711 25.750\n",
       "Manipulated: Low vs. Medium    -8.459    0.739 -11.441 0.000  -9.908 -7.010\n",
       "Manipulated: High vs. Medium    8.625    0.725  11.898 0.000   7.204 10.045\n",
       "Medium: Common vs. Manipulated  0.808    0.668   1.211 0.226  -0.500  2.117\n",
       "Low: Common vs. Manipulated     7.782    0.949   8.200 0.000   5.922  9.642\n",
       "High: Common vs. Manipulated   -8.211    0.930  -8.826 0.000 -10.035 -6.388\n",
       "Group Var                       2.337    0.391                             \n",
       "===========================================================================\n",
       "\n",
       "\"\"\""
      ]
     },
     "execution_count": 7,
     "metadata": {},
     "output_type": "execute_result"
    }
   ],
   "source": [
    "results = smf.mixedlm(\n",
    "    \"value_mean ~ C(mean_manipulated, levels=['Med', 'Low', 'High'])\\\n",
    "*C(is_manipulated, Treatment(1))\",\n",
    "    groups=df.turkid,\n",
    "    data=df,\n",
    ").fit()\n",
    "results.summary(\n",
    "    xname_fe=[\n",
    "        \"Manipulated: Medium\",\n",
    "        \"Manipulated: Low vs. Medium\",\n",
    "        \"Manipulated: High vs. Medium\",\n",
    "        \"Medium: Common vs. Manipulated\",\n",
    "        \"Low: Common vs. Manipulated\",\n",
    "        \"High: Common vs. Manipulated\",\n",
    "    ],\n",
    "    yname=\"Mean\",\n",
    ")"
   ]
  },
  {
   "cell_type": "code",
   "execution_count": 8,
   "metadata": {},
   "outputs": [
    {
     "data": {
      "text/html": [
       "<style  type=\"text/css\" >\n",
       "</style><table id=\"T_baceb27e_8ecf_11ea_8445_448a5b2f88e1\" ><thead>    <tr>        <th class=\"blank level0\" ></th>        <th class=\"col_heading level0 col0\" >Standardized Betas</th>    </tr></thead><tbody>\n",
       "                <tr>\n",
       "                        <th id=\"T_baceb27e_8ecf_11ea_8445_448a5b2f88e1level0_row0\" class=\"row_heading level0 row0\" >Manipulated: Medium</th>\n",
       "                        <td id=\"T_baceb27e_8ecf_11ea_8445_448a5b2f88e1row0_col0\" class=\"data row0 col0\" >4.03</td>\n",
       "            </tr>\n",
       "            <tr>\n",
       "                        <th id=\"T_baceb27e_8ecf_11ea_8445_448a5b2f88e1level0_row1\" class=\"row_heading level0 row1\" >Manipulated: Low vs. Medium</th>\n",
       "                        <td id=\"T_baceb27e_8ecf_11ea_8445_448a5b2f88e1row1_col0\" class=\"data row1 col0\" >-1.38</td>\n",
       "            </tr>\n",
       "            <tr>\n",
       "                        <th id=\"T_baceb27e_8ecf_11ea_8445_448a5b2f88e1level0_row2\" class=\"row_heading level0 row2\" >Manipulated: High vs. Medium</th>\n",
       "                        <td id=\"T_baceb27e_8ecf_11ea_8445_448a5b2f88e1row2_col0\" class=\"data row2 col0\" >1.40</td>\n",
       "            </tr>\n",
       "            <tr>\n",
       "                        <th id=\"T_baceb27e_8ecf_11ea_8445_448a5b2f88e1level0_row3\" class=\"row_heading level0 row3\" >Medium: Common vs. Manipulated</th>\n",
       "                        <td id=\"T_baceb27e_8ecf_11ea_8445_448a5b2f88e1row3_col0\" class=\"data row3 col0\" >0.13</td>\n",
       "            </tr>\n",
       "            <tr>\n",
       "                        <th id=\"T_baceb27e_8ecf_11ea_8445_448a5b2f88e1level0_row4\" class=\"row_heading level0 row4\" >Low: Common vs. Manipulated</th>\n",
       "                        <td id=\"T_baceb27e_8ecf_11ea_8445_448a5b2f88e1row4_col0\" class=\"data row4 col0\" >1.27</td>\n",
       "            </tr>\n",
       "            <tr>\n",
       "                        <th id=\"T_baceb27e_8ecf_11ea_8445_448a5b2f88e1level0_row5\" class=\"row_heading level0 row5\" >High: Common vs. Manipulated</th>\n",
       "                        <td id=\"T_baceb27e_8ecf_11ea_8445_448a5b2f88e1row5_col0\" class=\"data row5 col0\" >-1.34</td>\n",
       "            </tr>\n",
       "    </tbody></table>"
      ],
      "text/plain": [
       "<pandas.io.formats.style.Styler at 0x14a534359b0>"
      ]
     },
     "execution_count": 8,
     "metadata": {},
     "output_type": "execute_result"
    }
   ],
   "source": [
    "stdbetas = results.params[:-1] / df.value_mean.std(ddof=1)\n",
    "stdbetas.index = [\n",
    "    \"Manipulated: Medium\",\n",
    "    \"Manipulated: Low vs. Medium\",\n",
    "    \"Manipulated: High vs. Medium\",\n",
    "    \"Medium: Common vs. Manipulated\",\n",
    "    \"Low: Common vs. Manipulated\",\n",
    "    \"High: Common vs. Manipulated\",\n",
    "]\n",
    "table = pd.DataFrame(stdbetas, columns=[\"Standardized Betas\"])\n",
    "table.style.format(\"{:.2f}\")"
   ]
  },
  {
   "cell_type": "markdown",
   "metadata": {},
   "source": [
    "### Pairwise Contrasts for Common Category"
   ]
  },
  {
   "cell_type": "code",
   "execution_count": 9,
   "metadata": {},
   "outputs": [
    {
     "data": {
      "text/html": [
       "<table class=\"simpletable\">\n",
       "<tr>\n",
       "       <td>Model:</td>       <td>MixedLM</td> <td>Dependent Variable:</td>   <td>Mean</td>   \n",
       "</tr>\n",
       "<tr>\n",
       "  <td>No. Observations:</td>   <td>298</td>         <td>Method:</td>         <td>REML</td>   \n",
       "</tr>\n",
       "<tr>\n",
       "     <td>No. Groups:</td>      <td>149</td>         <td>Scale:</td>         <td>10.9182</td> \n",
       "</tr>\n",
       "<tr>\n",
       "  <td>Min. group size:</td>     <td>2</td>      <td>Log-Likelihood:</td>   <td>-801.0643</td>\n",
       "</tr>\n",
       "<tr>\n",
       "  <td>Max. group size:</td>     <td>2</td>        <td>Converged:</td>         <td>Yes</td>   \n",
       "</tr>\n",
       "<tr>\n",
       "  <td>Mean group size:</td>    <td>2.0</td>            <td></td>               <td></td>     \n",
       "</tr>\n",
       "</table>\n",
       "<table class=\"simpletable\">\n",
       "<tr>\n",
       "                 <td></td>                 <th>Coef.</th> <th>Std.Err.</th>    <th>z</th>   <th>P>|z|</th> <th>[0.025</th> <th>0.975]</th>\n",
       "</tr>\n",
       "<tr>\n",
       "  <th>Common: Low</th>                    <td>25.539</td>   <td>0.520</td>  <td>49.102</td> <td>0.000</td> <td>24.519</td> <td>26.558</td>\n",
       "</tr>\n",
       "<tr>\n",
       "  <th>Common: Medium vs. Low</th>         <td>-0.677</td>   <td>0.739</td>  <td>-0.916</td> <td>0.360</td> <td>-2.126</td>  <td>0.772</td>\n",
       "</tr>\n",
       "<tr>\n",
       "  <th>Common: High vs. Low</th>            <td>0.414</td>   <td>0.725</td>   <td>0.570</td> <td>0.568</td> <td>-1.007</td>  <td>1.834</td>\n",
       "</tr>\n",
       "<tr>\n",
       "  <th>Low: Manipulated vs. Common</th>    <td>-0.808</td>   <td>0.668</td>  <td>-1.211</td> <td>0.226</td> <td>-2.117</td>  <td>0.500</td>\n",
       "</tr>\n",
       "<tr>\n",
       "  <th>Medium: Manipulated vs. Common</th> <td>-7.782</td>   <td>0.949</td>  <td>-8.200</td> <td>0.000</td> <td>-9.642</td> <td>-5.922</td>\n",
       "</tr>\n",
       "<tr>\n",
       "  <th>High: Manipulated vs. Common</th>    <td>8.211</td>   <td>0.930</td>   <td>8.826</td> <td>0.000</td>  <td>6.388</td> <td>10.035</td>\n",
       "</tr>\n",
       "<tr>\n",
       "  <th>Group Var</th>                       <td>2.337</td>   <td>0.391</td>     <td></td>      <td></td>       <td></td>       <td></td>   \n",
       "</tr>\n",
       "</table>"
      ],
      "text/plain": [
       "<class 'statsmodels.iolib.summary2.Summary'>\n",
       "\"\"\"\n",
       "                  Mixed Linear Model Regression Results\n",
       "=========================================================================\n",
       "Model:                  MixedLM       Dependent Variable:       Mean     \n",
       "No. Observations:       298           Method:                   REML     \n",
       "No. Groups:             149           Scale:                    10.9182  \n",
       "Min. group size:        2             Log-Likelihood:           -801.0643\n",
       "Max. group size:        2             Converged:                Yes      \n",
       "Mean group size:        2.0                                              \n",
       "-------------------------------------------------------------------------\n",
       "                               Coef.  Std.Err.   z    P>|z| [0.025 0.975]\n",
       "-------------------------------------------------------------------------\n",
       "Common: Low                    25.539    0.520 49.102 0.000 24.519 26.558\n",
       "Common: Medium vs. Low         -0.677    0.739 -0.916 0.360 -2.126  0.772\n",
       "Common: High vs. Low            0.414    0.725  0.570 0.568 -1.007  1.834\n",
       "Low: Manipulated vs. Common    -0.808    0.668 -1.211 0.226 -2.117  0.500\n",
       "Medium: Manipulated vs. Common -7.782    0.949 -8.200 0.000 -9.642 -5.922\n",
       "High: Manipulated vs. Common    8.211    0.930  8.826 0.000  6.388 10.035\n",
       "Group Var                       2.337    0.391                           \n",
       "=========================================================================\n",
       "\n",
       "\"\"\""
      ]
     },
     "execution_count": 9,
     "metadata": {},
     "output_type": "execute_result"
    }
   ],
   "source": [
    "results = smf.mixedlm(\n",
    "    \"value_mean ~ C(mean_manipulated, levels=['Med', 'Low', 'High'])*C(is_manipulated)\",\n",
    "    groups=df.turkid,\n",
    "    data=df,\n",
    ").fit()\n",
    "results.summary(\n",
    "    xname_fe=[\n",
    "        \"Common: Low\",\n",
    "        \"Common: Medium vs. Low\",\n",
    "        \"Common: High vs. Low\",\n",
    "        \"Low: Manipulated vs. Common\",\n",
    "        \"Medium: Manipulated vs. Common\",\n",
    "        \"High: Manipulated vs. Common\",\n",
    "    ],\n",
    "    yname=\"Mean\",\n",
    ")"
   ]
  },
  {
   "cell_type": "code",
   "execution_count": 10,
   "metadata": {},
   "outputs": [
    {
     "data": {
      "text/html": [
       "<style  type=\"text/css\" >\n",
       "</style><table id=\"T_bb292bb8_8ecf_11ea_ad72_448a5b2f88e1\" ><thead>    <tr>        <th class=\"blank level0\" ></th>        <th class=\"col_heading level0 col0\" >Standardized Betas</th>    </tr></thead><tbody>\n",
       "                <tr>\n",
       "                        <th id=\"T_bb292bb8_8ecf_11ea_ad72_448a5b2f88e1level0_row0\" class=\"row_heading level0 row0\" >Common: Medium</th>\n",
       "                        <td id=\"T_bb292bb8_8ecf_11ea_ad72_448a5b2f88e1row0_col0\" class=\"data row0 col0\" >4.16</td>\n",
       "            </tr>\n",
       "            <tr>\n",
       "                        <th id=\"T_bb292bb8_8ecf_11ea_ad72_448a5b2f88e1level0_row1\" class=\"row_heading level0 row1\" >Common: Low vs. Medium</th>\n",
       "                        <td id=\"T_bb292bb8_8ecf_11ea_ad72_448a5b2f88e1row1_col0\" class=\"data row1 col0\" >-0.11</td>\n",
       "            </tr>\n",
       "            <tr>\n",
       "                        <th id=\"T_bb292bb8_8ecf_11ea_ad72_448a5b2f88e1level0_row2\" class=\"row_heading level0 row2\" >Common: High vs. Medium</th>\n",
       "                        <td id=\"T_bb292bb8_8ecf_11ea_ad72_448a5b2f88e1row2_col0\" class=\"data row2 col0\" >0.07</td>\n",
       "            </tr>\n",
       "            <tr>\n",
       "                        <th id=\"T_bb292bb8_8ecf_11ea_ad72_448a5b2f88e1level0_row3\" class=\"row_heading level0 row3\" >Medium: Manipulated vs. Common</th>\n",
       "                        <td id=\"T_bb292bb8_8ecf_11ea_ad72_448a5b2f88e1row3_col0\" class=\"data row3 col0\" >-0.13</td>\n",
       "            </tr>\n",
       "            <tr>\n",
       "                        <th id=\"T_bb292bb8_8ecf_11ea_ad72_448a5b2f88e1level0_row4\" class=\"row_heading level0 row4\" >Low: Manipulated vs. Common</th>\n",
       "                        <td id=\"T_bb292bb8_8ecf_11ea_ad72_448a5b2f88e1row4_col0\" class=\"data row4 col0\" >-1.27</td>\n",
       "            </tr>\n",
       "            <tr>\n",
       "                        <th id=\"T_bb292bb8_8ecf_11ea_ad72_448a5b2f88e1level0_row5\" class=\"row_heading level0 row5\" >High: Manipulated vs. Common</th>\n",
       "                        <td id=\"T_bb292bb8_8ecf_11ea_ad72_448a5b2f88e1row5_col0\" class=\"data row5 col0\" >1.34</td>\n",
       "            </tr>\n",
       "    </tbody></table>"
      ],
      "text/plain": [
       "<pandas.io.formats.style.Styler at 0x14a534436a0>"
      ]
     },
     "execution_count": 10,
     "metadata": {},
     "output_type": "execute_result"
    }
   ],
   "source": [
    "stdbetas = results.params[:-1] / df.value_mean.std(ddof=1)\n",
    "stdbetas.index = [\n",
    "    \"Common: Medium\",\n",
    "    \"Common: Low vs. Medium\",\n",
    "    \"Common: High vs. Medium\",\n",
    "    \"Medium: Manipulated vs. Common\",\n",
    "    \"Low: Manipulated vs. Common\",\n",
    "    \"High: Manipulated vs. Common\",\n",
    "]\n",
    "table = pd.DataFrame(stdbetas, columns=[\"Standardized Betas\"])\n",
    "table.style.format(\"{:.2f}\")"
   ]
  },
  {
   "cell_type": "markdown",
   "metadata": {},
   "source": [
    "## Range"
   ]
  },
  {
   "cell_type": "markdown",
   "metadata": {},
   "source": [
    "### Pairwise Contrasts for Manipulated Category"
   ]
  },
  {
   "cell_type": "code",
   "execution_count": 11,
   "metadata": {},
   "outputs": [
    {
     "data": {
      "text/html": [
       "<table class=\"simpletable\">\n",
       "<tr>\n",
       "       <td>Model:</td>       <td>MixedLM</td> <td>Dependent Variable:</td>   <td>Range</td>  \n",
       "</tr>\n",
       "<tr>\n",
       "  <td>No. Observations:</td>   <td>298</td>         <td>Method:</td>         <td>REML</td>   \n",
       "</tr>\n",
       "<tr>\n",
       "     <td>No. Groups:</td>      <td>149</td>         <td>Scale:</td>         <td>18.1493</td> \n",
       "</tr>\n",
       "<tr>\n",
       "  <td>Min. group size:</td>     <td>2</td>      <td>Log-Likelihood:</td>   <td>-960.8804</td>\n",
       "</tr>\n",
       "<tr>\n",
       "  <td>Max. group size:</td>     <td>2</td>        <td>Converged:</td>         <td>Yes</td>   \n",
       "</tr>\n",
       "<tr>\n",
       "  <td>Mean group size:</td>    <td>2.0</td>            <td></td>               <td></td>     \n",
       "</tr>\n",
       "</table>\n",
       "<table class=\"simpletable\">\n",
       "<tr>\n",
       "                 <td></td>                 <th>Coef.</th> <th>Std.Err.</th>    <th>z</th>   <th>P>|z|</th> <th>[0.025</th> <th>0.975]</th>\n",
       "</tr>\n",
       "<tr>\n",
       "  <th>Manipulated: Low</th>               <td>17.000</td>   <td>1.030</td>  <td>16.500</td> <td>0.000</td> <td>14.981</td> <td>19.019</td>\n",
       "</tr>\n",
       "<tr>\n",
       "  <th>Manipulated: Medium vs. Low</th>     <td>0.551</td>   <td>1.450</td>   <td>0.380</td> <td>0.704</td> <td>-2.290</td>  <td>3.392</td>\n",
       "</tr>\n",
       "<tr>\n",
       "  <th>Manipulated: High vs. Low</th>       <td>1.385</td>   <td>1.429</td>   <td>0.969</td> <td>0.332</td> <td>-1.416</td>  <td>4.185</td>\n",
       "</tr>\n",
       "<tr>\n",
       "  <th>Low: Common vs. Manipulated</th>    <td>-0.333</td>   <td>0.870</td>  <td>-0.383</td> <td>0.701</td> <td>-2.038</td>  <td>1.371</td>\n",
       "</tr>\n",
       "<tr>\n",
       "  <th>Medium: Common vs. Manipulated</th>  <td>0.782</td>   <td>1.224</td>   <td>0.639</td> <td>0.523</td> <td>-1.616</td>  <td>3.180</td>\n",
       "</tr>\n",
       "<tr>\n",
       "  <th>High: Common vs. Manipulated</th>   <td>-1.513</td>   <td>1.206</td>  <td>-1.254</td> <td>0.210</td> <td>-3.876</td>  <td>0.851</td>\n",
       "</tr>\n",
       "<tr>\n",
       "  <th>Group Var</th>                      <td>32.803</td>   <td>1.627</td>     <td></td>      <td></td>       <td></td>       <td></td>   \n",
       "</tr>\n",
       "</table>"
      ],
      "text/plain": [
       "<class 'statsmodels.iolib.summary2.Summary'>\n",
       "\"\"\"\n",
       "                  Mixed Linear Model Regression Results\n",
       "=========================================================================\n",
       "Model:                  MixedLM       Dependent Variable:       Range    \n",
       "No. Observations:       298           Method:                   REML     \n",
       "No. Groups:             149           Scale:                    18.1493  \n",
       "Min. group size:        2             Log-Likelihood:           -960.8804\n",
       "Max. group size:        2             Converged:                Yes      \n",
       "Mean group size:        2.0                                              \n",
       "-------------------------------------------------------------------------\n",
       "                               Coef.  Std.Err.   z    P>|z| [0.025 0.975]\n",
       "-------------------------------------------------------------------------\n",
       "Manipulated: Low               17.000    1.030 16.500 0.000 14.981 19.019\n",
       "Manipulated: Medium vs. Low     0.551    1.450  0.380 0.704 -2.290  3.392\n",
       "Manipulated: High vs. Low       1.385    1.429  0.969 0.332 -1.416  4.185\n",
       "Low: Common vs. Manipulated    -0.333    0.870 -0.383 0.701 -2.038  1.371\n",
       "Medium: Common vs. Manipulated  0.782    1.224  0.639 0.523 -1.616  3.180\n",
       "High: Common vs. Manipulated   -1.513    1.206 -1.254 0.210 -3.876  0.851\n",
       "Group Var                      32.803    1.627                           \n",
       "=========================================================================\n",
       "\n",
       "\"\"\""
      ]
     },
     "execution_count": 11,
     "metadata": {},
     "output_type": "execute_result"
    }
   ],
   "source": [
    "results = smf.mixedlm(\n",
    "    \"value_range ~ C(mean_manipulated, levels=['Low', 'Med', 'High'])\\\n",
    "*C(is_manipulated, Treatment(1))\",\n",
    "    groups=df.turkid,\n",
    "    data=df,\n",
    ").fit()\n",
    "results.summary(\n",
    "    xname_fe=[\n",
    "        \"Manipulated: Low\",\n",
    "        \"Manipulated: Medium vs. Low\",\n",
    "        \"Manipulated: High vs. Low\",\n",
    "        \"Low: Common vs. Manipulated\",\n",
    "        \"Medium: Common vs. Manipulated\",\n",
    "        \"High: Common vs. Manipulated\",\n",
    "    ],\n",
    "    yname=\"Range\",\n",
    ")"
   ]
  },
  {
   "cell_type": "markdown",
   "metadata": {},
   "source": [
    "### Pairwise Contrasts for Common Category"
   ]
  },
  {
   "cell_type": "code",
   "execution_count": 12,
   "metadata": {},
   "outputs": [
    {
     "data": {
      "text/html": [
       "<table class=\"simpletable\">\n",
       "<tr>\n",
       "       <td>Model:</td>       <td>MixedLM</td> <td>Dependent Variable:</td>   <td>Range</td>  \n",
       "</tr>\n",
       "<tr>\n",
       "  <td>No. Observations:</td>   <td>298</td>         <td>Method:</td>         <td>REML</td>   \n",
       "</tr>\n",
       "<tr>\n",
       "     <td>No. Groups:</td>      <td>149</td>         <td>Scale:</td>         <td>18.1493</td> \n",
       "</tr>\n",
       "<tr>\n",
       "  <td>Min. group size:</td>     <td>2</td>      <td>Log-Likelihood:</td>   <td>-960.8804</td>\n",
       "</tr>\n",
       "<tr>\n",
       "  <td>Max. group size:</td>     <td>2</td>        <td>Converged:</td>         <td>Yes</td>   \n",
       "</tr>\n",
       "<tr>\n",
       "  <td>Mean group size:</td>    <td>2.0</td>            <td></td>               <td></td>     \n",
       "</tr>\n",
       "</table>\n",
       "<table class=\"simpletable\">\n",
       "<tr>\n",
       "                 <td></td>                 <th>Coef.</th> <th>Std.Err.</th>    <th>z</th>   <th>P>|z|</th> <th>[0.025</th> <th>0.975]</th>\n",
       "</tr>\n",
       "<tr>\n",
       "  <th>Common: Med</th>                    <td>18.000</td>   <td>1.020</td>  <td>17.652</td> <td>0.000</td> <td>16.001</td> <td>19.999</td>\n",
       "</tr>\n",
       "<tr>\n",
       "  <th>Common: Low vs. Medium</th>         <td>-1.333</td>   <td>1.450</td>  <td>-0.920</td> <td>0.358</td> <td>-4.174</td>  <td>1.508</td>\n",
       "</tr>\n",
       "<tr>\n",
       "  <th>Common: High vs. Medium</th>        <td>-1.462</td>   <td>1.421</td>  <td>-1.028</td> <td>0.304</td> <td>-4.247</td>  <td>1.324</td>\n",
       "</tr>\n",
       "<tr>\n",
       "  <th>Medium: Manipulated vs. Common</th> <td>-0.449</td>   <td>0.861</td>  <td>-0.522</td> <td>0.602</td> <td>-2.136</td>  <td>1.238</td>\n",
       "</tr>\n",
       "<tr>\n",
       "  <th>Low: Manipulated vs. Common</th>     <td>0.782</td>   <td>1.224</td>   <td>0.639</td> <td>0.523</td> <td>-1.616</td>  <td>3.180</td>\n",
       "</tr>\n",
       "<tr>\n",
       "  <th>High: Manipulated vs. Common</th>    <td>2.295</td>   <td>1.200</td>   <td>1.913</td> <td>0.056</td> <td>-0.056</td>  <td>4.646</td>\n",
       "</tr>\n",
       "<tr>\n",
       "  <th>Group Var</th>                      <td>32.803</td>   <td>1.627</td>     <td></td>      <td></td>       <td></td>       <td></td>   \n",
       "</tr>\n",
       "</table>"
      ],
      "text/plain": [
       "<class 'statsmodels.iolib.summary2.Summary'>\n",
       "\"\"\"\n",
       "                  Mixed Linear Model Regression Results\n",
       "=========================================================================\n",
       "Model:                  MixedLM       Dependent Variable:       Range    \n",
       "No. Observations:       298           Method:                   REML     \n",
       "No. Groups:             149           Scale:                    18.1493  \n",
       "Min. group size:        2             Log-Likelihood:           -960.8804\n",
       "Max. group size:        2             Converged:                Yes      \n",
       "Mean group size:        2.0                                              \n",
       "-------------------------------------------------------------------------\n",
       "                               Coef.  Std.Err.   z    P>|z| [0.025 0.975]\n",
       "-------------------------------------------------------------------------\n",
       "Common: Med                    18.000    1.020 17.652 0.000 16.001 19.999\n",
       "Common: Low vs. Medium         -1.333    1.450 -0.920 0.358 -4.174  1.508\n",
       "Common: High vs. Medium        -1.462    1.421 -1.028 0.304 -4.247  1.324\n",
       "Medium: Manipulated vs. Common -0.449    0.861 -0.522 0.602 -2.136  1.238\n",
       "Low: Manipulated vs. Common     0.782    1.224  0.639 0.523 -1.616  3.180\n",
       "High: Manipulated vs. Common    2.295    1.200  1.913 0.056 -0.056  4.646\n",
       "Group Var                      32.803    1.627                           \n",
       "=========================================================================\n",
       "\n",
       "\"\"\""
      ]
     },
     "execution_count": 12,
     "metadata": {},
     "output_type": "execute_result"
    }
   ],
   "source": [
    "results = smf.mixedlm(\n",
    "    \"value_range ~ C(mean_manipulated, levels=['Med', 'Low', 'High'])\\\n",
    "*C(is_manipulated)\",\n",
    "    groups=df.turkid,\n",
    "    data=df,\n",
    ").fit()\n",
    "results.summary(\n",
    "    xname_fe=[\n",
    "        \"Common: Med\",\n",
    "        \"Common: Low vs. Medium\",\n",
    "        \"Common: High vs. Medium\",\n",
    "        \"Medium: Manipulated vs. Common\",\n",
    "        \"Low: Manipulated vs. Common\",\n",
    "        \"High: Manipulated vs. Common\",\n",
    "    ],\n",
    "    yname=\"Range\",\n",
    ")"
   ]
  }
 ],
 "metadata": {
  "kernelspec": {
   "display_name": "Python 3",
   "language": "python",
   "name": "python3"
  },
  "language_info": {
   "codemirror_mode": {
    "name": "ipython",
    "version": 3
   },
   "file_extension": ".py",
   "mimetype": "text/x-python",
   "name": "python",
   "nbconvert_exporter": "python",
   "pygments_lexer": "ipython3",
   "version": "3.6.10"
  }
 },
 "nbformat": 4,
 "nbformat_minor": 4
}
