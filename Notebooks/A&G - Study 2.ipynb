{
 "cells": [
  {
   "cell_type": "markdown",
   "metadata": {},
   "source": [
    "This notebook presents all the analysis reported in Study 2 of the paper.\n",
    "\n",
    "Click the \"Show Code\" buttons to see the code associated with each output."
   ]
  },
  {
   "cell_type": "markdown",
   "metadata": {},
   "source": [
    "# Preamble"
   ]
  },
  {
   "cell_type": "markdown",
   "metadata": {},
   "source": [
    "## Libraries"
   ]
  },
  {
   "cell_type": "code",
   "execution_count": 1,
   "metadata": {},
   "outputs": [],
   "source": [
    "# Misc\n",
    "import warnings\n",
    "\n",
    "warnings.filterwarnings(\"ignore\")\n",
    "from IPython.display import Markdown\n",
    "\n",
    "# Data libraries\n",
    "import pandas as pd\n",
    "import numpy as np\n",
    "\n",
    "# Plotting\n",
    "import matplotlib as mpl\n",
    "import matplotlib.pyplot as plt\n",
    "import seaborn as sns\n",
    "\n",
    "sns.set_context(\"notebook\")\n",
    "\n",
    "# Statistics\n",
    "import statsmodels.formula.api as smf\n",
    "import scipy.stats as stats\n",
    "from scipy.stats.mstats import zscore\n",
    "\n",
    "# Interface with R\n",
    "import rpy2\n",
    "\n",
    "%load_ext rpy2.ipython\n",
    "%R library(sjstats); # For effect sizes of ANOVAs\n",
    "\n",
    "STUDY_NAME = \"Study 2\""
   ]
  },
  {
   "cell_type": "markdown",
   "metadata": {},
   "source": [
    "## Functions"
   ]
  },
  {
   "cell_type": "code",
   "execution_count": 2,
   "metadata": {},
   "outputs": [],
   "source": [
    "def planned_contrasts(contrasts, names, model, use_t=False, alpha=0.05):\n",
    "    \"\"\"\n",
    "    Convenience functions for planned contrasts from a model.\n",
    "    \"\"\"\n",
    "    betas = model.params.values\n",
    "    vcv = model.cov_params().values\n",
    "    b = []\n",
    "    se = []\n",
    "    for c in contrasts:\n",
    "        b.append(betas @ c)\n",
    "        se.append(c @ vcv @ c)\n",
    "    b = np.array(b)\n",
    "    se = np.sqrt(se)\n",
    "    z = b / se\n",
    "    if use_t:\n",
    "        df_resid = model.df_resid\n",
    "        pvals = stats.t(df_resid).sf(np.abs(z)) * 2\n",
    "        ci_factor = stats.t(df_resid).isf(alpha / 2)\n",
    "        name_coeff = \"t-stats\"\n",
    "    else:\n",
    "        pvals = stats.norm.sf(np.abs(z)) * 2\n",
    "        ci_factor = stats.norm.isf(alpha / 2)\n",
    "        name_coeff = \"z-stats\"\n",
    "    llci, ulci = b - se * ci_factor, b + se * ci_factor\n",
    "    bstd = b / model.model.endog.std(ddof=1)\n",
    "    df_contrasts = pd.DataFrame(\n",
    "        {\n",
    "            \"Contrast\": names,\n",
    "            \"Beta\": b,\n",
    "            \"SE\": se,\n",
    "            name_coeff: z,\n",
    "            \"p-value\": pvals,\n",
    "            \"LLCI\": llci,\n",
    "            \"ULCI\": ulci,\n",
    "            \"Standardized B\": bstd,\n",
    "        }\n",
    "    )\n",
    "    return df_contrasts\n",
    "\n",
    "\n",
    "def plot_result(\n",
    "    data, save=False, show=True, grayscale=False, figname=f\"Fig 4 - {STUDY_NAME} - Results\"\n",
    "):\n",
    "    if grayscale:\n",
    "        pal = sns.color_palette(\"Greys\")[1::2]\n",
    "        pathname = \"Grayscale\"\n",
    "    else:\n",
    "        pal = sns.color_palette(\"coolwarm\", 3)\n",
    "        pathname = \"Color\"\n",
    "\n",
    "    if show:\n",
    "        sns.set_context(\"notebook\")\n",
    "    else:\n",
    "        sns.set_context(\"paper\")\n",
    "\n",
    "    g = sns.catplot(\n",
    "        x=\"is_manipulated\",\n",
    "        hue=\"sd_manipulated\",\n",
    "        hue_order=[\"Low\", \"Med\", \"High\"],\n",
    "        y=\"value_sd\",\n",
    "        data=data,\n",
    "        kind=\"bar\",\n",
    "        aspect=1.5,\n",
    "        height=6.38 / 1.5,\n",
    "        order=[True, False],\n",
    "        sharey=False,\n",
    "        sharex=False,\n",
    "        legend_out=False,\n",
    "        palette=pal,\n",
    "    )\n",
    "\n",
    "    g.set_titles(\"\")\n",
    "    g.set_xlabels(\"\")\n",
    "    leg = g.ax.legend()\n",
    "\n",
    "    han = leg.legendHandles\n",
    "    leg.remove()\n",
    "\n",
    "    g.ax.legend(\n",
    "        han,\n",
    "        [\"Low (SD = 1.1)\", \"Med (SD = 4.5)\", \"High (SD = 7.5)\"],\n",
    "        title=\"SD of Manipulated Category\",\n",
    "        loc=\"upper center\",\n",
    "        bbox_to_anchor=(0.75, 1.03),\n",
    "        frameon=False,\n",
    "    )\n",
    "    g.ax.set_ylim(2, 8)\n",
    "    g.ax.set_xticklabels([\"Manipulated Category\", \"Common Category (SD = 4.5)\"])\n",
    "    g.ax.set_ylabel(\"SD of Reported Prices\")\n",
    "    for ax in g.axes.flatten():\n",
    "        ax.tick_params(\n",
    "            axis=\"x\", which=\"both\", bottom=False, top=False, labelbottom=True\n",
    "        )\n",
    "    plt.tight_layout()\n",
    "    if save:\n",
    "        plt.savefig(\n",
    "            f\"../Figures/{pathname}/{figname}.png\", dpi=100, bbox_inches=\"tight\"\n",
    "        )\n",
    "    if show:\n",
    "        plt.show()\n",
    "    else:\n",
    "        plt.close()"
   ]
  },
  {
   "cell_type": "markdown",
   "metadata": {},
   "source": [
    "## Data loading and preparation"
   ]
  },
  {
   "cell_type": "code",
   "execution_count": 3,
   "metadata": {},
   "outputs": [],
   "source": [
    "df = (\n",
    "    pd.read_csv(f\"../Data/{STUDY_NAME}/LongData.csv\")\n",
    "    .groupby(\n",
    "        [\n",
    "            \"turkid\",\n",
    "            \"name\",\n",
    "            \"name_manipulated\",\n",
    "            \"is_manipulated\",\n",
    "            \"sd_manipulated\",\n",
    "            \"avg_learning_time\",\n",
    "            \"total_learning_time\",\n",
    "        ]\n",
    "    )\n",
    "    .value.agg(\n",
    "        **{\n",
    "            \"value_sd\": np.std,\n",
    "            \"value_range\": lambda x: np.max(x) - np.min(x),\n",
    "            \"value_min\": np.min,\n",
    "            \"value_max\": np.max,\n",
    "            \"value_mean\": np.mean,\n",
    "            \"value_var\": lambda x: np.std(x) ** 2,\n",
    "        }\n",
    "    )\n",
    "    .reset_index()\n",
    ")"
   ]
  },
  {
   "cell_type": "markdown",
   "metadata": {
    "toc-hr-collapsed": false
   },
   "source": [
    "# Design"
   ]
  },
  {
   "cell_type": "markdown",
   "metadata": {},
   "source": [
    "## Characteristics and distributions"
   ]
  },
  {
   "cell_type": "markdown",
   "metadata": {},
   "source": [
    "Replication of study 1: Each participant sees two distributions, one \"manipulated\", one \"common\".\n",
    "* The \"common\" distribution always has a \"Medium\" amount of variance (SD = 4.5, Min = 17, Max = 34)\n",
    "* The \"manipulated\" distribution has a different variance, between subjects:\n",
    "    * \"Low\" (SD = 1.1, Min = 23, Max = 28)\n",
    "    * \"Medium\" (SD = 4.5, Min = 17, Max = 34)\n",
    "    * \"High\" (SD = 7.5, Min = 13, Max = 38)\n",
    "\n",
    "This time however, the two categories were Blankets and Pillows, and participants were able to click through the prices at their own pace."
   ]
  },
  {
   "cell_type": "markdown",
   "metadata": {
    "toc-hr-collapsed": true,
    "toc-nb-collapsed": true
   },
   "source": [
    "## Number of valid participants:"
   ]
  },
  {
   "cell_type": "code",
   "execution_count": 4,
   "metadata": {},
   "outputs": [
    {
     "data": {
      "text/plain": [
       "296"
      ]
     },
     "execution_count": 4,
     "metadata": {},
     "output_type": "execute_result"
    }
   ],
   "source": [
    "df.turkid.unique().shape[0]"
   ]
  },
  {
   "cell_type": "markdown",
   "metadata": {
    "toc-hr-collapsed": false
   },
   "source": [
    "# Analysis"
   ]
  },
  {
   "cell_type": "markdown",
   "metadata": {},
   "source": [
    "## Time spent on prices"
   ]
  },
  {
   "cell_type": "markdown",
   "metadata": {},
   "source": [
    "In the previous studies, the participants could only view each price for one second, and therefore spent 52 seconds in total learning the prices. \n",
    "\n",
    "How long did they linger on the prices in this study?"
   ]
  },
  {
   "cell_type": "code",
   "execution_count": 5,
   "metadata": {},
   "outputs": [
    {
     "data": {
      "image/png": "[encoded data removed]",
      "text/plain": [
       "<Figure size 432x288 with 1 Axes>"
      ]
     },
     "metadata": {
      "needs_background": "light"
     },
     "output_type": "display_data"
    }
   ],
   "source": [
    "ax = sns.kdeplot(df.total_learning_time, cumulative=True, legend=False, bw=1)\n",
    "ax.set_xlabel(\"Total Time Spent Learning Prices (in seconds)\")\n",
    "ax.set_ylabel(\"Cumulative Proportion of Participants\")\n",
    "ax.axvline(62.4, color=\"black\", lw=0.6)\n",
    "ax.set_xticks(np.arange(0, 500, 60))\n",
    "propgreater = (df.total_learning_time > 62.4).mean() * 100\n",
    "ax.annotate(\n",
    "    f\"{propgreater:.2f}% of participants spent more\\nthan 62.4s learning the prices\",\n",
    "    (80, 0.4),\n",
    ")\n",
    "sns.despine(ax=ax);"
   ]
  },
  {
   "cell_type": "markdown",
   "metadata": {},
   "source": [
    "Participants spent on average of 91.57s reviewing the prices, which correspond to an average of 1.79s spent learning each price. \n",
    "\n",
    "The majority of participants (60.47%) spent more time on the price than the time that was allocated in study 1 (62.4s)."
   ]
  },
  {
   "cell_type": "markdown",
   "metadata": {},
   "source": [
    "## Perceived dispersion"
   ]
  },
  {
   "cell_type": "markdown",
   "metadata": {},
   "source": [
    "### SD"
   ]
  },
  {
   "cell_type": "code",
   "execution_count": 6,
   "metadata": {},
   "outputs": [
    {
     "data": {
      "image/png": "[encoded data removed]",
      "text/plain": [
       "<Figure size 459.36x306.24 with 1 Axes>"
      ]
     },
     "metadata": {
      "needs_background": "light"
     },
     "output_type": "display_data"
    },
    {
     "data": {
      "text/html": [
       "<style  type=\"text/css\" >\n",
       "</style><table id=\"T_454b56d8_8ecd_11ea_a9db_448a5b2f88e1\" ><thead>    <tr>        <th class=\"blank\" ></th>        <th class=\"blank level0\" ></th>        <th class=\"col_heading level0 col0\" >SD</th>    </tr>    <tr>        <th class=\"index_name level0\" >Manipulated?</th>        <th class=\"index_name level1\" >SD of Manipulated</th>        <th class=\"blank\" ></th>    </tr></thead><tbody>\n",
       "                <tr>\n",
       "                        <th id=\"T_454b56d8_8ecd_11ea_a9db_448a5b2f88e1level0_row0\" class=\"row_heading level0 row0\" rowspan=3>False</th>\n",
       "                        <th id=\"T_454b56d8_8ecd_11ea_a9db_448a5b2f88e1level1_row0\" class=\"row_heading level1 row0\" >Low</th>\n",
       "                        <td id=\"T_454b56d8_8ecd_11ea_a9db_448a5b2f88e1row0_col0\" class=\"data row0 col0\" >4.90</td>\n",
       "            </tr>\n",
       "            <tr>\n",
       "                                <th id=\"T_454b56d8_8ecd_11ea_a9db_448a5b2f88e1level1_row1\" class=\"row_heading level1 row1\" >Med</th>\n",
       "                        <td id=\"T_454b56d8_8ecd_11ea_a9db_448a5b2f88e1row1_col0\" class=\"data row1 col0\" >4.87</td>\n",
       "            </tr>\n",
       "            <tr>\n",
       "                                <th id=\"T_454b56d8_8ecd_11ea_a9db_448a5b2f88e1level1_row2\" class=\"row_heading level1 row2\" >High</th>\n",
       "                        <td id=\"T_454b56d8_8ecd_11ea_a9db_448a5b2f88e1row2_col0\" class=\"data row2 col0\" >5.52</td>\n",
       "            </tr>\n",
       "            <tr>\n",
       "                        <th id=\"T_454b56d8_8ecd_11ea_a9db_448a5b2f88e1level0_row3\" class=\"row_heading level0 row3\" rowspan=3>True</th>\n",
       "                        <th id=\"T_454b56d8_8ecd_11ea_a9db_448a5b2f88e1level1_row3\" class=\"row_heading level1 row3\" >Low</th>\n",
       "                        <td id=\"T_454b56d8_8ecd_11ea_a9db_448a5b2f88e1row3_col0\" class=\"data row3 col0\" >3.03</td>\n",
       "            </tr>\n",
       "            <tr>\n",
       "                                <th id=\"T_454b56d8_8ecd_11ea_a9db_448a5b2f88e1level1_row4\" class=\"row_heading level1 row4\" >Med</th>\n",
       "                        <td id=\"T_454b56d8_8ecd_11ea_a9db_448a5b2f88e1row4_col0\" class=\"data row4 col0\" >4.65</td>\n",
       "            </tr>\n",
       "            <tr>\n",
       "                                <th id=\"T_454b56d8_8ecd_11ea_a9db_448a5b2f88e1level1_row5\" class=\"row_heading level1 row5\" >High</th>\n",
       "                        <td id=\"T_454b56d8_8ecd_11ea_a9db_448a5b2f88e1row5_col0\" class=\"data row5 col0\" >6.51</td>\n",
       "            </tr>\n",
       "    </tbody></table>"
      ],
      "text/plain": [
       "<pandas.io.formats.style.Styler at 0x23b9ab7d3c8>"
      ]
     },
     "execution_count": 6,
     "metadata": {},
     "output_type": "execute_result"
    }
   ],
   "source": [
    "plot_result(df, grayscale=True, save=True, show=False)\n",
    "plot_result(df, grayscale=False, save=True, show=True)\n",
    "table = (\n",
    "    df.groupby([\"is_manipulated\", \"sd_manipulated\"])[[\"value_sd\"]]\n",
    "    .mean()\n",
    "    .reindex(\n",
    "        labels=[\n",
    "            [False, False, False, True, True, True],\n",
    "            [\"Low\", \"Med\", \"High\", \"Low\", \"Med\", \"High\"],\n",
    "        ]\n",
    "    )\n",
    ")\n",
    "table.index.names = [\"Manipulated?\", \"SD of Manipulated\"]\n",
    "table.columns = [\"SD\"]\n",
    "table.style.format(\"{:.2f}\")"
   ]
  },
  {
   "cell_type": "code",
   "execution_count": 7,
   "metadata": {},
   "outputs": [
    {
     "data": {
      "text/plain": [
       "1.3705263157894736"
      ]
     },
     "execution_count": 7,
     "metadata": {},
     "output_type": "execute_result"
    }
   ],
   "source": [
    "6.51/4.75"
   ]
  },
  {
   "cell_type": "code",
   "execution_count": 8,
   "metadata": {},
   "outputs": [
    {
     "data": {
      "text/html": [
       "<table class=\"simpletable\">\n",
       "<tr>\n",
       "       <td>Model:</td>       <td>MixedLM</td> <td>Dependent Variable:</td> <td>SD of Reported Distribution</td>\n",
       "</tr>\n",
       "<tr>\n",
       "  <td>No. Observations:</td>   <td>592</td>         <td>Method:</td>                  <td>REML</td>            \n",
       "</tr>\n",
       "<tr>\n",
       "     <td>No. Groups:</td>      <td>296</td>         <td>Scale:</td>                  <td>2.0855</td>           \n",
       "</tr>\n",
       "<tr>\n",
       "  <td>Min. group size:</td>     <td>2</td>      <td>Log-Likelihood:</td>           <td>-1194.8286</td>         \n",
       "</tr>\n",
       "<tr>\n",
       "  <td>Max. group size:</td>     <td>2</td>        <td>Converged:</td>                  <td>Yes</td>            \n",
       "</tr>\n",
       "<tr>\n",
       "  <td>Mean group size:</td>    <td>2.0</td>            <td></td>                        <td></td>              \n",
       "</tr>\n",
       "</table>\n",
       "<table class=\"simpletable\">\n",
       "<tr>\n",
       "                  <td></td>                  <th>Coef.</th> <th>Std.Err.</th>    <th>z</th>   <th>P>|z|</th> <th>[0.025</th> <th>0.975]</th>\n",
       "</tr>\n",
       "<tr>\n",
       "  <th>Intercept</th>                         <td>4.869</td>   <td>0.191</td>  <td>25.488</td> <td>0.000</td>  <td>4.494</td>  <td>5.243</td>\n",
       "</tr>\n",
       "<tr>\n",
       "  <th>Dispersion: Low (vs. Medium)</th>      <td>0.035</td>   <td>0.272</td>   <td>0.129</td> <td>0.897</td> <td>-0.497</td>  <td>0.567</td>\n",
       "</tr>\n",
       "<tr>\n",
       "  <th>Dispersion: High (vs. Medium)</th>     <td>0.650</td>   <td>0.272</td>   <td>2.392</td> <td>0.017</td>  <td>0.117</td>  <td>1.182</td>\n",
       "</tr>\n",
       "<tr>\n",
       "  <th>Target: Manipulated (vs. Common)</th> <td>-0.221</td>   <td>0.204</td>  <td>-1.084</td> <td>0.278</td> <td>-0.622</td>  <td>0.179</td>\n",
       "</tr>\n",
       "<tr>\n",
       "  <th>Dispersion: Low * Target</th>         <td>-1.655</td>   <td>0.290</td>  <td>-5.701</td> <td>0.000</td> <td>-2.224</td> <td>-1.086</td>\n",
       "</tr>\n",
       "<tr>\n",
       "  <th>Dispersion: High * Target</th>         <td>1.211</td>   <td>0.290</td>   <td>4.170</td> <td>0.000</td>  <td>0.642</td>  <td>1.780</td>\n",
       "</tr>\n",
       "<tr>\n",
       "  <th>Participants Random Effects</th>       <td>1.563</td>   <td>0.211</td>     <td></td>      <td></td>       <td></td>       <td></td>   \n",
       "</tr>\n",
       "</table>"
      ],
      "text/plain": [
       "<class 'statsmodels.iolib.summary2.Summary'>\n",
       "\"\"\"\n",
       "                   Mixed Linear Model Regression Results\n",
       "===========================================================================\n",
       "Model:              MixedLM Dependent Variable: SD of Reported Distribution\n",
       "No. Observations:   592     Method:             REML                       \n",
       "No. Groups:         296     Scale:              2.0855                     \n",
       "Min. group size:    2       Log-Likelihood:     -1194.8286                 \n",
       "Max. group size:    2       Converged:          Yes                        \n",
       "Mean group size:    2.0                                                    \n",
       "---------------------------------------------------------------------------\n",
       "                                 Coef.  Std.Err.   z    P>|z| [0.025 0.975]\n",
       "---------------------------------------------------------------------------\n",
       "Intercept                         4.869    0.191 25.488 0.000  4.494  5.243\n",
       "Dispersion: Low (vs. Medium)      0.035    0.272  0.129 0.897 -0.497  0.567\n",
       "Dispersion: High (vs. Medium)     0.650    0.272  2.392 0.017  0.117  1.182\n",
       "Target: Manipulated (vs. Common) -0.221    0.204 -1.084 0.278 -0.622  0.179\n",
       "Dispersion: Low * Target         -1.655    0.290 -5.701 0.000 -2.224 -1.086\n",
       "Dispersion: High * Target         1.211    0.290  4.170 0.000  0.642  1.780\n",
       "Participants Random Effects       1.563    0.211                           \n",
       "===========================================================================\n",
       "\n",
       "\"\"\""
      ]
     },
     "execution_count": 8,
     "metadata": {},
     "output_type": "execute_result"
    }
   ],
   "source": [
    "model = smf.mixedlm(\n",
    "    \"value_sd ~ C(sd_manipulated, levels=['Med', 'Low', 'High'])\\\n",
    "*C(is_manipulated, Treatment(0))\",\n",
    "    data=df,\n",
    "    groups=df.turkid,\n",
    ").fit()\n",
    "model.summary(\n",
    "    yname=\"SD of Reported Distribution\",\n",
    "    xname_fe=[\n",
    "        \"Intercept\",\n",
    "        \"Dispersion: Low (vs. Medium)\",\n",
    "        \"Dispersion: High (vs. Medium)\",\n",
    "        \"Target: Manipulated (vs. Common)\",\n",
    "        \"Dispersion: Low * Target\",\n",
    "        \"Dispersion: High * Target\",\n",
    "    ],\n",
    "    xname_re=[\"Participants Random Effects\"],\n",
    ")"
   ]
  },
  {
   "cell_type": "markdown",
   "metadata": {},
   "source": [
    "Standardized betas:"
   ]
  },
  {
   "cell_type": "code",
   "execution_count": 9,
   "metadata": {},
   "outputs": [
    {
     "data": {
      "text/html": [
       "<style  type=\"text/css\" >\n",
       "</style><table id=\"T_4603d72e_8ecd_11ea_a91a_448a5b2f88e1\" ><thead>    <tr>        <th class=\"blank level0\" ></th>        <th class=\"col_heading level0 col0\" >Standardized Betas</th>    </tr></thead><tbody>\n",
       "                <tr>\n",
       "                        <th id=\"T_4603d72e_8ecd_11ea_a91a_448a5b2f88e1level0_row0\" class=\"row_heading level0 row0\" >Intercept</th>\n",
       "                        <td id=\"T_4603d72e_8ecd_11ea_a91a_448a5b2f88e1row0_col0\" class=\"data row0 col0\" >2.25</td>\n",
       "            </tr>\n",
       "            <tr>\n",
       "                        <th id=\"T_4603d72e_8ecd_11ea_a91a_448a5b2f88e1level0_row1\" class=\"row_heading level0 row1\" >Dispersion: Low (vs. Medium)</th>\n",
       "                        <td id=\"T_4603d72e_8ecd_11ea_a91a_448a5b2f88e1row1_col0\" class=\"data row1 col0\" >0.02</td>\n",
       "            </tr>\n",
       "            <tr>\n",
       "                        <th id=\"T_4603d72e_8ecd_11ea_a91a_448a5b2f88e1level0_row2\" class=\"row_heading level0 row2\" >Dispersion: High (vs. Medium)</th>\n",
       "                        <td id=\"T_4603d72e_8ecd_11ea_a91a_448a5b2f88e1row2_col0\" class=\"data row2 col0\" >0.30</td>\n",
       "            </tr>\n",
       "            <tr>\n",
       "                        <th id=\"T_4603d72e_8ecd_11ea_a91a_448a5b2f88e1level0_row3\" class=\"row_heading level0 row3\" >Target: Manipulated (vs. Common)</th>\n",
       "                        <td id=\"T_4603d72e_8ecd_11ea_a91a_448a5b2f88e1row3_col0\" class=\"data row3 col0\" >-0.10</td>\n",
       "            </tr>\n",
       "            <tr>\n",
       "                        <th id=\"T_4603d72e_8ecd_11ea_a91a_448a5b2f88e1level0_row4\" class=\"row_heading level0 row4\" >Dispersion: Low * Target</th>\n",
       "                        <td id=\"T_4603d72e_8ecd_11ea_a91a_448a5b2f88e1row4_col0\" class=\"data row4 col0\" >-0.76</td>\n",
       "            </tr>\n",
       "            <tr>\n",
       "                        <th id=\"T_4603d72e_8ecd_11ea_a91a_448a5b2f88e1level0_row5\" class=\"row_heading level0 row5\" >Dispersion: High * Target</th>\n",
       "                        <td id=\"T_4603d72e_8ecd_11ea_a91a_448a5b2f88e1row5_col0\" class=\"data row5 col0\" >0.56</td>\n",
       "            </tr>\n",
       "            <tr>\n",
       "                        <th id=\"T_4603d72e_8ecd_11ea_a91a_448a5b2f88e1level0_row6\" class=\"row_heading level0 row6\" >Participants Random Effects</th>\n",
       "                        <td id=\"T_4603d72e_8ecd_11ea_a91a_448a5b2f88e1row6_col0\" class=\"data row6 col0\" >0.35</td>\n",
       "            </tr>\n",
       "    </tbody></table>"
      ],
      "text/plain": [
       "<pandas.io.formats.style.Styler at 0x23b9ab1c128>"
      ]
     },
     "execution_count": 9,
     "metadata": {},
     "output_type": "execute_result"
    }
   ],
   "source": [
    "stdbetas = model.params / df.value_sd.std(ddof=1)\n",
    "stdbetas.index = [\n",
    "    \"Intercept\",\n",
    "    \"Dispersion: Low (vs. Medium)\",\n",
    "    \"Dispersion: High (vs. Medium)\",\n",
    "    \"Target: Manipulated (vs. Common)\",\n",
    "    \"Dispersion: Low * Target\",\n",
    "    \"Dispersion: High * Target\",\n",
    "    \"Participants Random Effects\",\n",
    "]\n",
    "table = pd.DataFrame(stdbetas, columns=[\"Standardized Betas\"])\n",
    "table.style.format(\"{:.2f}\")"
   ]
  },
  {
   "cell_type": "code",
   "execution_count": 10,
   "metadata": {},
   "outputs": [
    {
     "data": {
      "text/plain": [
       "0.3488372093023256"
      ]
     },
     "execution_count": 10,
     "metadata": {},
     "output_type": "execute_result"
    }
   ],
   "source": [
    ".30/.86"
   ]
  },
  {
   "cell_type": "code",
   "execution_count": 11,
   "metadata": {},
   "outputs": [
    {
     "data": {
      "text/markdown": [
       "\n",
       "A mixed linear model with category type (common vs. manipulated) as a within-participant factor \n",
       "and the actual price dispersion of the manipulated category (low vs. medium vs. high) as a between-participant \n",
       "factor replicated the assimilation effect documented in study 1. \n",
       "\n",
       "Indeed, participants created a wider distribution \n",
       "for the common category when the manipulated category had a high (vs. medium) amount of dispersion: \n",
       "b = 0.650, z = 2.392, p = 0.017, standardized b = 0.300). \n",
       "\n",
       "\n",
       "However, they did not report a lower amount of dispersion for the common category when the manipulated distribution \n",
       "had a low (vs. medium) amount of dispersion: \n",
       "b = 0.035, z = 0.129, p = 0.897. \n",
       "This result also replicates the asymmetry that we had documented in study 1.\n"
      ],
      "text/plain": [
       "<IPython.core.display.Markdown object>"
      ]
     },
     "execution_count": 11,
     "metadata": {},
     "output_type": "execute_result"
    }
   ],
   "source": [
    "Markdown(\n",
    "    f\"\"\"\n",
    "A mixed linear model with category type (common vs. manipulated) as a within-participant factor \n",
    "and the actual price dispersion of the manipulated category (low vs. medium vs. high) as a between-participant \n",
    "factor replicated the assimilation effect documented in study 1. \n",
    "\n",
    "Indeed, participants created a wider distribution \n",
    "for the common category when the manipulated category had a high (vs. medium) amount of dispersion: \n",
    "b = {model.params[2]:.3f}, z = {model.tvalues[2]:.3f}, p = {model.pvalues[2]:.3f}, standardized b = {stdbetas[2]:.3f}). \n",
    "\n",
    "\n",
    "However, they did not report a lower amount of dispersion for the common category when the manipulated distribution \n",
    "had a low (vs. medium) amount of dispersion: \n",
    "b = {model.params[1]:.3f}, z = {model.tvalues[1]:.3f}, p = {model.pvalues[1]:.3f}. \n",
    "This result also replicates the asymmetry that we had documented in study 1.\n",
    "\"\"\"\n",
    ")"
   ]
  },
  {
   "cell_type": "markdown",
   "metadata": {},
   "source": [
    "### Range"
   ]
  },
  {
   "cell_type": "code",
   "execution_count": 12,
   "metadata": {},
   "outputs": [
    {
     "data": {
      "text/html": [
       "<table class=\"simpletable\">\n",
       "<tr>\n",
       "       <td>Model:</td>       <td>MixedLM</td> <td>Dependent Variable:</td> <td>Range of Reported Distribution</td>\n",
       "</tr>\n",
       "<tr>\n",
       "  <td>No. Observations:</td>   <td>592</td>         <td>Method:</td>                    <td>REML</td>             \n",
       "</tr>\n",
       "<tr>\n",
       "     <td>No. Groups:</td>      <td>296</td>         <td>Scale:</td>                    <td>18.7638</td>           \n",
       "</tr>\n",
       "<tr>\n",
       "  <td>Min. group size:</td>     <td>2</td>      <td>Log-Likelihood:</td>             <td>-1846.5679</td>          \n",
       "</tr>\n",
       "<tr>\n",
       "  <td>Max. group size:</td>     <td>2</td>        <td>Converged:</td>                    <td>Yes</td>             \n",
       "</tr>\n",
       "<tr>\n",
       "  <td>Mean group size:</td>    <td>2.0</td>            <td></td>                          <td></td>               \n",
       "</tr>\n",
       "</table>\n",
       "<table class=\"simpletable\">\n",
       "<tr>\n",
       "                  <td></td>                  <th>Coef.</th> <th>Std.Err.</th>    <th>z</th>   <th>P>|z|</th> <th>[0.025</th> <th>0.975]</th>\n",
       "</tr>\n",
       "<tr>\n",
       "  <th>Intercept</th>                        <td>16.720</td>   <td>0.584</td>  <td>28.610</td> <td>0.000</td> <td>15.575</td> <td>17.865</td>\n",
       "</tr>\n",
       "<tr>\n",
       "  <th>Dispersion: Low (vs. Medium)</th>      <td>0.137</td>   <td>0.831</td>   <td>0.165</td> <td>0.869</td> <td>-1.491</td>  <td>1.765</td>\n",
       "</tr>\n",
       "<tr>\n",
       "  <th>Dispersion: High (vs. Medium)</th>     <td>2.607</td>   <td>0.831</td>   <td>3.138</td> <td>0.002</td>  <td>0.978</td>  <td>4.235</td>\n",
       "</tr>\n",
       "<tr>\n",
       "  <th>Target: Manipulated (vs. Common)</th> <td>-0.320</td>   <td>0.613</td>  <td>-0.522</td> <td>0.601</td> <td>-1.521</td>  <td>0.881</td>\n",
       "</tr>\n",
       "<tr>\n",
       "  <th>Dispersion: Low * Target</th>         <td>-5.700</td>   <td>0.871</td>  <td>-6.547</td> <td>0.000</td> <td>-7.407</td> <td>-3.994</td>\n",
       "</tr>\n",
       "<tr>\n",
       "  <th>Dispersion: High * Target</th>         <td>3.300</td>   <td>0.871</td>   <td>3.789</td> <td>0.000</td>  <td>1.593</td>  <td>5.006</td>\n",
       "</tr>\n",
       "<tr>\n",
       "  <th>Participants Random Effects</th>      <td>15.390</td>   <td>0.668</td>     <td></td>      <td></td>       <td></td>       <td></td>   \n",
       "</tr>\n",
       "</table>"
      ],
      "text/plain": [
       "<class 'statsmodels.iolib.summary2.Summary'>\n",
       "\"\"\"\n",
       "                   Mixed Linear Model Regression Results\n",
       "============================================================================\n",
       "Model:            MixedLM Dependent Variable: Range of Reported Distribution\n",
       "No. Observations: 592     Method:             REML                          \n",
       "No. Groups:       296     Scale:              18.7638                       \n",
       "Min. group size:  2       Log-Likelihood:     -1846.5679                    \n",
       "Max. group size:  2       Converged:          Yes                           \n",
       "Mean group size:  2.0                                                       \n",
       "----------------------------------------------------------------------------\n",
       "                                  Coef.  Std.Err.   z    P>|z| [0.025 0.975]\n",
       "----------------------------------------------------------------------------\n",
       "Intercept                         16.720    0.584 28.610 0.000 15.575 17.865\n",
       "Dispersion: Low (vs. Medium)       0.137    0.831  0.165 0.869 -1.491  1.765\n",
       "Dispersion: High (vs. Medium)      2.607    0.831  3.138 0.002  0.978  4.235\n",
       "Target: Manipulated (vs. Common)  -0.320    0.613 -0.522 0.601 -1.521  0.881\n",
       "Dispersion: Low * Target          -5.700    0.871 -6.547 0.000 -7.407 -3.994\n",
       "Dispersion: High * Target          3.300    0.871  3.789 0.000  1.593  5.006\n",
       "Participants Random Effects       15.390    0.668                           \n",
       "============================================================================\n",
       "\n",
       "\"\"\""
      ]
     },
     "execution_count": 12,
     "metadata": {},
     "output_type": "execute_result"
    }
   ],
   "source": [
    "model = smf.mixedlm(\n",
    "    \"value_range ~ C(sd_manipulated, levels=['Med', 'Low', 'High'])\\\n",
    "*C(is_manipulated, Treatment(0))\",\n",
    "    data=df,\n",
    "    groups=df.turkid,\n",
    ").fit()\n",
    "model.summary(\n",
    "    yname=\"Range of Reported Distribution\",\n",
    "    xname_fe=[\n",
    "        \"Intercept\",\n",
    "        \"Dispersion: Low (vs. Medium)\",\n",
    "        \"Dispersion: High (vs. Medium)\",\n",
    "        \"Target: Manipulated (vs. Common)\",\n",
    "        \"Dispersion: Low * Target\",\n",
    "        \"Dispersion: High * Target\",\n",
    "    ],\n",
    "    xname_re=[\"Participants Random Effects\"],\n",
    ")"
   ]
  },
  {
   "cell_type": "markdown",
   "metadata": {},
   "source": [
    "Standardized betas:"
   ]
  },
  {
   "cell_type": "code",
   "execution_count": 13,
   "metadata": {},
   "outputs": [
    {
     "data": {
      "text/html": [
       "<style  type=\"text/css\" >\n",
       "</style><table id=\"T_46ae399e_8ecd_11ea_9a99_448a5b2f88e1\" ><thead>    <tr>        <th class=\"blank level0\" ></th>        <th class=\"col_heading level0 col0\" >Standardized Betas</th>    </tr></thead><tbody>\n",
       "                <tr>\n",
       "                        <th id=\"T_46ae399e_8ecd_11ea_9a99_448a5b2f88e1level0_row0\" class=\"row_heading level0 row0\" >Intercept</th>\n",
       "                        <td id=\"T_46ae399e_8ecd_11ea_9a99_448a5b2f88e1row0_col0\" class=\"data row0 col0\" >2.47</td>\n",
       "            </tr>\n",
       "            <tr>\n",
       "                        <th id=\"T_46ae399e_8ecd_11ea_9a99_448a5b2f88e1level0_row1\" class=\"row_heading level0 row1\" >Dispersion: Low (vs. Medium)</th>\n",
       "                        <td id=\"T_46ae399e_8ecd_11ea_9a99_448a5b2f88e1row1_col0\" class=\"data row1 col0\" >0.02</td>\n",
       "            </tr>\n",
       "            <tr>\n",
       "                        <th id=\"T_46ae399e_8ecd_11ea_9a99_448a5b2f88e1level0_row2\" class=\"row_heading level0 row2\" >Dispersion: High (vs. Medium)</th>\n",
       "                        <td id=\"T_46ae399e_8ecd_11ea_9a99_448a5b2f88e1row2_col0\" class=\"data row2 col0\" >0.39</td>\n",
       "            </tr>\n",
       "            <tr>\n",
       "                        <th id=\"T_46ae399e_8ecd_11ea_9a99_448a5b2f88e1level0_row3\" class=\"row_heading level0 row3\" >Target: Manipulated (vs. Common)</th>\n",
       "                        <td id=\"T_46ae399e_8ecd_11ea_9a99_448a5b2f88e1row3_col0\" class=\"data row3 col0\" >-0.05</td>\n",
       "            </tr>\n",
       "            <tr>\n",
       "                        <th id=\"T_46ae399e_8ecd_11ea_9a99_448a5b2f88e1level0_row4\" class=\"row_heading level0 row4\" >Dispersion: Low * Target</th>\n",
       "                        <td id=\"T_46ae399e_8ecd_11ea_9a99_448a5b2f88e1row4_col0\" class=\"data row4 col0\" >-0.84</td>\n",
       "            </tr>\n",
       "            <tr>\n",
       "                        <th id=\"T_46ae399e_8ecd_11ea_9a99_448a5b2f88e1level0_row5\" class=\"row_heading level0 row5\" >Dispersion: High * Target</th>\n",
       "                        <td id=\"T_46ae399e_8ecd_11ea_9a99_448a5b2f88e1row5_col0\" class=\"data row5 col0\" >0.49</td>\n",
       "            </tr>\n",
       "            <tr>\n",
       "                        <th id=\"T_46ae399e_8ecd_11ea_9a99_448a5b2f88e1level0_row6\" class=\"row_heading level0 row6\" >Participants Random Effects</th>\n",
       "                        <td id=\"T_46ae399e_8ecd_11ea_9a99_448a5b2f88e1row6_col0\" class=\"data row6 col0\" >0.12</td>\n",
       "            </tr>\n",
       "    </tbody></table>"
      ],
      "text/plain": [
       "<pandas.io.formats.style.Styler at 0x23b9aa66c18>"
      ]
     },
     "execution_count": 13,
     "metadata": {},
     "output_type": "execute_result"
    }
   ],
   "source": [
    "stdbetas = model.params / df.value_range.std(ddof=1)\n",
    "stdbetas.index = [\n",
    "    \"Intercept\",\n",
    "    \"Dispersion: Low (vs. Medium)\",\n",
    "    \"Dispersion: High (vs. Medium)\",\n",
    "    \"Target: Manipulated (vs. Common)\",\n",
    "    \"Dispersion: Low * Target\",\n",
    "    \"Dispersion: High * Target\",\n",
    "    \"Participants Random Effects\",\n",
    "]\n",
    "table = pd.DataFrame(stdbetas, columns=[\"Standardized Betas\"])\n",
    "table.style.format(\"{:.2f}\")"
   ]
  },
  {
   "cell_type": "markdown",
   "metadata": {
    "toc-hr-collapsed": false
   },
   "source": [
    "# Robustness Checks"
   ]
  },
  {
   "cell_type": "markdown",
   "metadata": {},
   "source": [
    "## Counterbalancing factor - SD"
   ]
  },
  {
   "cell_type": "code",
   "execution_count": 14,
   "metadata": {},
   "outputs": [
    {
     "data": {
      "text/html": [
       "<table class=\"simpletable\">\n",
       "<tr>\n",
       "       <td>Model:</td>       <td>MixedLM</td> <td>Dependent Variable:</td> <td>SD of Reported Distribution</td>\n",
       "</tr>\n",
       "<tr>\n",
       "  <td>No. Observations:</td>   <td>592</td>         <td>Method:</td>                  <td>REML</td>            \n",
       "</tr>\n",
       "<tr>\n",
       "     <td>No. Groups:</td>      <td>296</td>         <td>Scale:</td>                  <td>2.0888</td>           \n",
       "</tr>\n",
       "<tr>\n",
       "  <td>Min. group size:</td>     <td>2</td>      <td>Log-Likelihood:</td>           <td>-1197.6829</td>         \n",
       "</tr>\n",
       "<tr>\n",
       "  <td>Max. group size:</td>     <td>2</td>        <td>Converged:</td>                  <td>Yes</td>            \n",
       "</tr>\n",
       "<tr>\n",
       "  <td>Mean group size:</td>    <td>2.0</td>            <td></td>                        <td></td>              \n",
       "</tr>\n",
       "</table>\n",
       "<table class=\"simpletable\">\n",
       "<tr>\n",
       "                  <td></td>                  <th>Coef.</th> <th>Std.Err.</th>    <th>z</th>   <th>P>|z|</th> <th>[0.025</th> <th>0.975]</th>\n",
       "</tr>\n",
       "<tr>\n",
       "  <th>Intercept</th>                         <td>4.872</td>   <td>0.192</td>  <td>25.434</td> <td>0.000</td>  <td>4.496</td>  <td>5.247</td>\n",
       "</tr>\n",
       "<tr>\n",
       "  <th>Dispersion: Low (vs. Medium)</th>      <td>0.033</td>   <td>0.272</td>   <td>0.120</td> <td>0.904</td> <td>-0.501</td>  <td>0.567</td>\n",
       "</tr>\n",
       "<tr>\n",
       "  <th>Dispersion: High (vs. Medium)</th>     <td>0.651</td>   <td>0.272</td>   <td>2.389</td> <td>0.017</td>  <td>0.117</td>  <td>1.184</td>\n",
       "</tr>\n",
       "<tr>\n",
       "  <th>Target: Manipulated (vs. Common)</th> <td>-0.227</td>   <td>0.204</td>  <td>-1.112</td> <td>0.266</td> <td>-0.628</td>  <td>0.173</td>\n",
       "</tr>\n",
       "<tr>\n",
       "  <th>Counterbalancing Factor (CF)</th>      <td>0.151</td>   <td>0.192</td>   <td>0.791</td> <td>0.429</td> <td>-0.224</td>  <td>0.527</td>\n",
       "</tr>\n",
       "<tr>\n",
       "  <th>Dispersion: Low * Target</th>         <td>-1.650</td>   <td>0.291</td>  <td>-5.675</td> <td>0.000</td> <td>-2.219</td> <td>-1.080</td>\n",
       "</tr>\n",
       "<tr>\n",
       "  <th>Dispersion: High * Target</th>         <td>1.222</td>   <td>0.291</td>   <td>4.205</td> <td>0.000</td>  <td>0.653</td>  <td>1.792</td>\n",
       "</tr>\n",
       "<tr>\n",
       "  <th>Dispersion: Low * CF</th>             <td>-0.168</td>   <td>0.272</td>  <td>-0.617</td> <td>0.537</td> <td>-0.702</td>  <td>0.366</td>\n",
       "</tr>\n",
       "<tr>\n",
       "  <th>Dispersion: High * CF</th>            <td>-0.251</td>   <td>0.272</td>  <td>-0.922</td> <td>0.357</td> <td>-0.785</td>  <td>0.283</td>\n",
       "</tr>\n",
       "<tr>\n",
       "  <th>Target * CF</th>                      <td>-0.293</td>   <td>0.204</td>  <td>-1.433</td> <td>0.152</td> <td>-0.694</td>  <td>0.108</td>\n",
       "</tr>\n",
       "<tr>\n",
       "  <th>Dispersion: Low * Target * CF</th>     <td>0.307</td>   <td>0.291</td>   <td>1.056</td> <td>0.291</td> <td>-0.263</td>  <td>0.877</td>\n",
       "</tr>\n",
       "<tr>\n",
       "  <th>Dispersion: High * Target * CF</th>    <td>0.150</td>   <td>0.291</td>   <td>0.517</td> <td>0.605</td> <td>-0.419</td>  <td>0.720</td>\n",
       "</tr>\n",
       "<tr>\n",
       "  <th>Group Var</th>                         <td>1.579</td>   <td>0.213</td>     <td></td>      <td></td>       <td></td>       <td></td>   \n",
       "</tr>\n",
       "</table>"
      ],
      "text/plain": [
       "<class 'statsmodels.iolib.summary2.Summary'>\n",
       "\"\"\"\n",
       "                   Mixed Linear Model Regression Results\n",
       "===========================================================================\n",
       "Model:              MixedLM Dependent Variable: SD of Reported Distribution\n",
       "No. Observations:   592     Method:             REML                       \n",
       "No. Groups:         296     Scale:              2.0888                     \n",
       "Min. group size:    2       Log-Likelihood:     -1197.6829                 \n",
       "Max. group size:    2       Converged:          Yes                        \n",
       "Mean group size:    2.0                                                    \n",
       "---------------------------------------------------------------------------\n",
       "                                 Coef.  Std.Err.   z    P>|z| [0.025 0.975]\n",
       "---------------------------------------------------------------------------\n",
       "Intercept                         4.872    0.192 25.434 0.000  4.496  5.247\n",
       "Dispersion: Low (vs. Medium)      0.033    0.272  0.120 0.904 -0.501  0.567\n",
       "Dispersion: High (vs. Medium)     0.651    0.272  2.389 0.017  0.117  1.184\n",
       "Target: Manipulated (vs. Common) -0.227    0.204 -1.112 0.266 -0.628  0.173\n",
       "Counterbalancing Factor (CF)      0.151    0.192  0.791 0.429 -0.224  0.527\n",
       "Dispersion: Low * Target         -1.650    0.291 -5.675 0.000 -2.219 -1.080\n",
       "Dispersion: High * Target         1.222    0.291  4.205 0.000  0.653  1.792\n",
       "Dispersion: Low * CF             -0.168    0.272 -0.617 0.537 -0.702  0.366\n",
       "Dispersion: High * CF            -0.251    0.272 -0.922 0.357 -0.785  0.283\n",
       "Target * CF                      -0.293    0.204 -1.433 0.152 -0.694  0.108\n",
       "Dispersion: Low * Target * CF     0.307    0.291  1.056 0.291 -0.263  0.877\n",
       "Dispersion: High * Target * CF    0.150    0.291  0.517 0.605 -0.419  0.720\n",
       "Group Var                         1.579    0.213                           \n",
       "===========================================================================\n",
       "\n",
       "\"\"\""
      ]
     },
     "execution_count": 14,
     "metadata": {},
     "output_type": "execute_result"
    }
   ],
   "source": [
    "model = smf.mixedlm(\n",
    "    \"value_sd ~ C(sd_manipulated, levels=['Med', 'Low', 'High'])\\\n",
    "*C(is_manipulated)*C(name_manipulated, Sum)\",\n",
    "    data=df,\n",
    "    groups=df.turkid,\n",
    ").fit()\n",
    "model.summary(\n",
    "    yname=\"SD of Reported Distribution\",\n",
    "    xname_fe=[\n",
    "        \"Intercept\",\n",
    "        \"Dispersion: Low (vs. Medium)\",\n",
    "        \"Dispersion: High (vs. Medium)\",\n",
    "        \"Target: Manipulated (vs. Common)\",\n",
    "        \"Counterbalancing Factor (CF)\",\n",
    "        \"Dispersion: Low * Target\",\n",
    "        \"Dispersion: High * Target\",\n",
    "        \"Dispersion: Low * CF\",\n",
    "        \"Dispersion: High * CF\",\n",
    "        \"Target * CF\",\n",
    "        \"Dispersion: Low * Target * CF\",\n",
    "        \"Dispersion: High * Target * CF\",\n",
    "    ],\n",
    ")"
   ]
  },
  {
   "cell_type": "markdown",
   "metadata": {},
   "source": [
    "No significant impact."
   ]
  }
 ],
 "metadata": {
  "kernelspec": {
   "display_name": "Python 3",
   "language": "python",
   "name": "python3"
  },
  "language_info": {
   "codemirror_mode": {
    "name": "ipython",
    "version": 3
   },
   "file_extension": ".py",
   "mimetype": "text/x-python",
   "name": "python",
   "nbconvert_exporter": "python",
   "pygments_lexer": "ipython3",
   "version": "3.6.10"
  }
 },
 "nbformat": 4,
 "nbformat_minor": 4
}
