{
 "cells": [
  {
   "cell_type": "markdown",
   "metadata": {},
   "source": [
    "This notebook pre-processes the data of Study 5 of the paper.\n",
    "\n",
    "Click the \"Show Code\" buttons to see the code associated with each output."
   ]
  },
  {
   "cell_type": "code",
   "execution_count": 1,
   "metadata": {
    "pycharm": {
     "is_executing": false
    }
   },
   "outputs": [],
   "source": [
    "import pandas as pd\n",
    "import numpy as np\n",
    "import janitor\n",
    "from datetime import datetime\n",
    "import pytz\n",
    "\n",
    "STUDY_NAME = \"Study 5\"\n",
    "\n",
    "def print_prereg_time_utc(dt):\n",
    "    local_tz = pytz.timezone('US/Pacific')\n",
    "    target_tz = pytz.timezone('UTC')\n",
    "    dt = datetime.strptime(dt, \"%m/%d/%Y %H:%M %p\")\n",
    "    preregstring = target_tz.normalize(local_tz.localize(dt)).strftime(\"%B %d, %Y at %H:%M %p\")\n",
    "    return f\"{STUDY_NAME} was preregistered on {preregstring}.\"\n",
    "\n",
    "def cet_to_utc(dt):\n",
    "    local_tz = pytz.timezone('CET')\n",
    "    target_tz = pytz.timezone('UTC')\n",
    "    dt = datetime.strptime(dt, \"%d/%m/%Y %H:%M\")\n",
    "    return target_tz.normalize(local_tz.localize(dt))\n",
    "\n",
    "def print_collection_information(df):\n",
    "    starttime = df.sort_values(\"StartDate\").StartDate.iloc[0]\n",
    "    endtime = df.sort_values(\"EndDate\").EndDate.iloc[-1]\n",
    "    startstring = cet_to_utc(starttime).strftime(\"%B %d, %Y at %H:%M %p\")\n",
    "    endstring = cet_to_utc(endtime).strftime(\"%B %d, %Y at %H:%M %p\")\n",
    "    return f\"{STUDY_NAME} was started on {startstring} and ended on {endstring}.\"\n",
    "\n",
    "df = pd.read_csv(f\"../Data/{STUDY_NAME}/RawData.csv\")"
   ]
  },
  {
   "cell_type": "markdown",
   "metadata": {},
   "source": [
    "Pre-registration information:"
   ]
  },
  {
   "cell_type": "code",
   "execution_count": 2,
   "metadata": {},
   "outputs": [
    {
     "data": {
      "text/plain": [
       "'Study 5 was preregistered on February 15, 2020 at 16:31 PM.'"
      ]
     },
     "execution_count": 2,
     "metadata": {},
     "output_type": "execute_result"
    }
   ],
   "source": [
    "print_prereg_time_utc(\"02/15/2020 08:31 AM\")"
   ]
  },
  {
   "cell_type": "markdown",
   "metadata": {},
   "source": [
    "Data collection information:"
   ]
  },
  {
   "cell_type": "code",
   "execution_count": 3,
   "metadata": {},
   "outputs": [
    {
     "data": {
      "text/plain": [
       "'Study 5 was started on February 15, 2020 at 16:52 PM and ended on February 16, 2020 at 02:07 AM.'"
      ]
     },
     "execution_count": 3,
     "metadata": {},
     "output_type": "execute_result"
    }
   ],
   "source": [
    "print_collection_information(df)"
   ]
  },
  {
   "cell_type": "markdown",
   "metadata": {},
   "source": [
    "Number of participants in raw Qualtrics Export:"
   ]
  },
  {
   "cell_type": "code",
   "execution_count": 4,
   "metadata": {
    "pycharm": {
     "is_executing": false
    }
   },
   "outputs": [
    {
     "data": {
      "text/plain": [
       "503"
      ]
     },
     "execution_count": 4,
     "metadata": {},
     "output_type": "execute_result"
    }
   ],
   "source": [
    "df.shape[0]"
   ]
  },
  {
   "cell_type": "code",
   "execution_count": 5,
   "metadata": {
    "pycharm": {
     "is_executing": false,
     "name": "#%%\n"
    }
   },
   "outputs": [],
   "source": [
    "df[\"Condition\"] = df.dispersion.map({\"same\": \"Equal dispersion\", \"higher\": \"Higher dispersion\"}) # Nicer condition labels\n",
    "df[\"Label_Category\"] = df.manipulated.map({\"florida\": \"Colorado\", \"colorado\": \"Florida\"})\n",
    "\n",
    "df[\"Memory_Avg\"] = df[[\"Avg_Florida\", \"Avg_Florida\"]].fillna(0).sum(axis=1) # Reported average\n",
    "df[\"Memory_Min\"] = df[[\"Min_Colorado\", \"Min_Florida\"]].fillna(0).sum(axis=1) # Reported minimum price\n",
    "\n",
    "df[\"Below_True_Min\"] = (df.Memory_Min < 240)*1 # Dummy coding if minimum price below true minimum price\n",
    "df[\"Paid_Price\"] = df.PaidPrice\n",
    "df[\"Search_Length\"] = df.SearchLength\n",
    "df[\"Excluded\"] = (df.Memory_Min > 320).map({False: \"No\", True:\"Yes\"})\n",
    "cols = ['ResponseId', 'Label_Category', 'Condition', 'Memory_Avg', 'Memory_Min', 'Below_True_Min', 'Search_Length',\n",
    "        'Paid_Price', 'Excluded']\n",
    "\n",
    "df = df[cols].rename_columns({\"ResponseId\": \"turkid\"}).clean_names() # Subsetting columns of interests\n",
    "\n",
    "df.to_csv(f\"../Data/{STUDY_NAME}/CleanData.csv\", index=False)"
   ]
  }
 ],
 "metadata": {
  "kernelspec": {
   "display_name": "Python 3",
   "language": "python",
   "name": "python3"
  },
  "language_info": {
   "codemirror_mode": {
    "name": "ipython",
    "version": 3
   },
   "file_extension": ".py",
   "mimetype": "text/x-python",
   "name": "python",
   "nbconvert_exporter": "python",
   "pygments_lexer": "ipython3",
   "version": "3.6.10"
  },
  "pycharm": {
   "stem_cell": {
    "cell_type": "raw",
    "metadata": {
     "collapsed": false
    },
    "source": []
   }
  }
 },
 "nbformat": 4,
 "nbformat_minor": 4
}
