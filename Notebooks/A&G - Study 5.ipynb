{
 "cells": [
  {
   "cell_type": "markdown",
   "metadata": {},
   "source": [
    "This notebook presents all the analysis reported in Study 5 of the paper.\n",
    "\n",
    "Click the \"Show Code\" buttons to see the code associated with each output."
   ]
  },
  {
   "cell_type": "markdown",
   "metadata": {},
   "source": [
    "# Preamble"
   ]
  },
  {
   "cell_type": "markdown",
   "metadata": {},
   "source": [
    "## Libraries"
   ]
  },
  {
   "cell_type": "code",
   "execution_count": 1,
   "metadata": {
    "pycharm": {
     "is_executing": false
    }
   },
   "outputs": [],
   "source": [
    "# Misc\n",
    "import warnings\n",
    "\n",
    "warnings.filterwarnings(\"ignore\")\n",
    "from IPython.display import Markdown\n",
    "\n",
    "# Data libraries\n",
    "import pandas as pd\n",
    "import numpy as np\n",
    "\n",
    "# Plotting\n",
    "import matplotlib.pyplot as plt\n",
    "from matplotlib.lines import Line2D\n",
    "import seaborn as sns\n",
    "\n",
    "sns.set_context(\"notebook\")\n",
    "\n",
    "# Statistics\n",
    "from statsmodels.stats.proportion import proportions_chisquare\n",
    "\n",
    "\n",
    "# Interface with R\n",
    "import rpy2\n",
    "\n",
    "%load_ext rpy2.ipython\n",
    "\n",
    "STUDY_NAME = \"Study 5\""
   ]
  },
  {
   "cell_type": "markdown",
   "metadata": {},
   "source": [
    "## Functions"
   ]
  },
  {
   "cell_type": "code",
   "execution_count": 2,
   "metadata": {
    "pycharm": {
     "is_executing": false
    }
   },
   "outputs": [],
   "source": [
    "def invlogit(x):\n",
    "    return np.exp(x) / (1 + np.exp(x))\n",
    "\n",
    "\n",
    "def plot_minprice_cdf(\n",
    "    data,\n",
    "    save=False,\n",
    "    show=True,\n",
    "    grayscale=False,\n",
    "    figname=f\"Fig 8 - {STUDY_NAME} - CDF Min Price\",\n",
    "):\n",
    "\n",
    "    if grayscale:\n",
    "        pal = sns.color_palette(\"Greys\")[2::3]\n",
    "        pathname = \"Grayscale\"\n",
    "    else:\n",
    "        pal = sns.color_palette()[0:2]\n",
    "        pathname = \"Color\"\n",
    "\n",
    "    if show:\n",
    "        sns.set_context(\"notebook\")\n",
    "    else:\n",
    "        sns.set_context(\"paper\")\n",
    "\n",
    "    xticks = np.arange(0, 330, 40)\n",
    "    xticklabels = [f\"${i:.0f}\" for i in xticks]\n",
    "    sns.set_style(\"ticks\")\n",
    "    kw = {\"color\": [pal[0], pal[1]]}\n",
    "    g = sns.FacetGrid(\n",
    "        hue=\"condition\",\n",
    "        data=data,\n",
    "        aspect=1.5,\n",
    "        height=6.38 / 1.5,\n",
    "        hue_order=[\"Equal dispersion\", \"Higher dispersion\"],\n",
    "        hue_kws=kw,\n",
    "    )\n",
    "    g.map(\n",
    "        plt.hist,\n",
    "        \"memory_min\",\n",
    "        histtype=\"step\",\n",
    "        cumulative=True,\n",
    "        density=True,\n",
    "        bins=np.arange(0, 500, 5),\n",
    "        lw=2,\n",
    "    )\n",
    "    g.set_xlabels(\"Reported Minimum Price\")\n",
    "    g.set_ylabels(\"Cumulative Proportion of Participants\")\n",
    "\n",
    "    g.ax.axvline(240, lw=1, color=\"grey\", ls=\"-\")\n",
    "    g.ax.axvline(240, lw=1, color=pal[0], ls=\"--\")\n",
    "    g.ax.axvline(140, lw=1, color=pal[1], ls=\"--\")\n",
    "    g.ax.set_ylim(0, 1.1)\n",
    "    g.ax.set_xlim(0, 330)\n",
    "    g.ax.set_xticks(xticks)\n",
    "    g.ax.set_xticklabels(xticklabels)\n",
    "\n",
    "    legend_elements = [\n",
    "        Line2D([0], [0], color=\"grey\", ls=\"--\", lw=2, label=f\"True Min of Manipulated\"),\n",
    "        Line2D([0], [0], color=pal[0], lw=4, label=\"Equal (SD = 40)\"),\n",
    "        Line2D([0], [0], color=\"grey\", ls=\"-\", lw=1, label=f\"True Min of Common\"),\n",
    "        Line2D([0], [0], color=pal[1], lw=4, label=\"Higher (SD = 96)\"),\n",
    "    ]\n",
    "\n",
    "    g.ax.legend(\n",
    "        handles=legend_elements,\n",
    "        loc=\"center\",\n",
    "        ncol=2,\n",
    "        frameon=True,\n",
    "        bbox_to_anchor=(0.5, -0.25),\n",
    "    )\n",
    "    if save:\n",
    "        plt.savefig(\n",
    "            f\"../Figures/{pathname}/{figname}.png\", dpi=100, bbox_inches=\"tight\"\n",
    "        )\n",
    "    if show:\n",
    "        plt.show()\n",
    "    else:\n",
    "        plt.close()\n",
    "\n",
    "\n",
    "def plot_search_length(\n",
    "    data,\n",
    "    save=False,\n",
    "    show=True,\n",
    "    grayscale=False,\n",
    "    figname=f\"Fig 9 - {STUDY_NAME} - Search Length\",\n",
    "):\n",
    "    if grayscale:\n",
    "        pal = sns.color_palette(\"Greys\")[2::3]\n",
    "        pathname = \"Grayscale\"\n",
    "    else:\n",
    "        pal = sns.color_palette()[0:2]\n",
    "        pathname = \"Color\"\n",
    "\n",
    "    if show:\n",
    "        sns.set_context(\"notebook\")\n",
    "    else:\n",
    "        sns.set_context(\"paper\")\n",
    "\n",
    "    kw = {\"color\": [pal[0], pal[1]], \"linestyle\": [\"-\", \"--\"]}\n",
    "\n",
    "    prices = [340, 320, 260, 380, 300, 320]\n",
    "    prices_to_offer = {i + 1: f\"${v:.0f}\" for i, v in enumerate(prices)}\n",
    "\n",
    "    g = sns.FacetGrid(\n",
    "        hue=\"condition\",\n",
    "        data=data,\n",
    "        aspect=2,\n",
    "        height=4,\n",
    "        hue_kws=kw,\n",
    "        hue_order=[\"Equal dispersion\", \"Higher dispersion\"],\n",
    "    )\n",
    "    g.map(\n",
    "        plt.hist,\n",
    "        \"search_length\",\n",
    "        bins=np.arange(0.5, 7.5, 1),\n",
    "        histtype=\"step\",\n",
    "        density=True,\n",
    "        lw=2,\n",
    "    )\n",
    "    plt.legend(\n",
    "        title=\"Manipulated category had...\",\n",
    "        loc=1,\n",
    "        bbox_to_anchor=(1.01, 1.025),\n",
    "        facecolor=\"white\",\n",
    "        frameon=True,\n",
    "        framealpha=1,\n",
    "        edgecolor=\"white\",\n",
    "    )\n",
    "    g.ax.set_ylim(0, 0.9)\n",
    "    g.set_xlabels(\"\\nOffer Accepted\")\n",
    "    g.set_ylabels(\"Proportion of Participants\")\n",
    "    g.ax.set_xticks([1, 2, 3, 4, 5, 6])\n",
    "    g.ax.set_xticklabels([f\"Offer {k}\\n({v})\" for k, v in prices_to_offer.items()])\n",
    "    for ax in g.axes.flatten():\n",
    "        ax.tick_params(\n",
    "            axis=\"x\", which=\"both\", bottom=False, top=False, labelbottom=True\n",
    "        )\n",
    "    if save:\n",
    "        plt.savefig(\n",
    "            f\"../Figures/{pathname}/{figname}.png\", dpi=100, bbox_inches=\"tight\"\n",
    "        )\n",
    "    if show:\n",
    "        plt.show()\n",
    "    else:\n",
    "        plt.close()\n",
    "\n",
    "\n",
    "def format_pvals(p):\n",
    "    if p < 0.001:\n",
    "        return \"p < .001\"\n",
    "    else:\n",
    "        return f\"p = {p:.3f}\""
   ]
  },
  {
   "cell_type": "markdown",
   "metadata": {},
   "source": [
    "## Data loading"
   ]
  },
  {
   "cell_type": "code",
   "execution_count": 3,
   "metadata": {
    "pycharm": {
     "is_executing": false
    }
   },
   "outputs": [],
   "source": [
    "df = pd.read_csv(f\"../Data/{STUDY_NAME}/CleanData.csv\")"
   ]
  },
  {
   "cell_type": "markdown",
   "metadata": {},
   "source": [
    "# Data Description"
   ]
  },
  {
   "cell_type": "markdown",
   "metadata": {},
   "source": [
    "## Raw Data"
   ]
  },
  {
   "cell_type": "code",
   "execution_count": 4,
   "metadata": {
    "pycharm": {
     "is_executing": false
    }
   },
   "outputs": [
    {
     "name": "stdout",
     "output_type": "stream",
     "text": [
      "Number of observations collected: 503. Pre-registered target: 500.\n"
     ]
    }
   ],
   "source": [
    "print(f\"Number of observations collected: {df.shape[0]}. Pre-registered target: 500.\")"
   ]
  },
  {
   "cell_type": "markdown",
   "metadata": {},
   "source": [
    "## Exclusions"
   ]
  },
  {
   "cell_type": "markdown",
   "metadata": {},
   "source": [
    "Following the pre-registration, we excluded all the participants who reported a minimum value strictly greater than the median value in the distributions (i.e., 320)."
   ]
  },
  {
   "cell_type": "code",
   "execution_count": 5,
   "metadata": {
    "pycharm": {
     "is_executing": false
    }
   },
   "outputs": [
    {
     "data": {
      "image/png": "[encoded data removed]",
      "text/plain": [
       "<Figure size 778.959x288 with 1 Axes>"
      ]
     },
     "metadata": {
      "needs_background": "light"
     },
     "output_type": "display_data"
    }
   ],
   "source": [
    "g = sns.FacetGrid(data=df, hue=\"excluded\", height=4, aspect=2.5)\n",
    "g.map(plt.hist, \"memory_min\", bins=np.arange(0, 500, 10), align=\"left\")\n",
    "g.add_legend(title=\"Excluded\")\n",
    "g.set_xlabels(\"Reported Minimum Value\")\n",
    "g.ax.axvline(320);"
   ]
  },
  {
   "cell_type": "code",
   "execution_count": 6,
   "metadata": {
    "pycharm": {
     "is_executing": false
    }
   },
   "outputs": [
    {
     "data": {
      "text/markdown": [
       "21 participants excluded. Final number of observations after exclusion: 482"
      ],
      "text/plain": [
       "<IPython.core.display.Markdown object>"
      ]
     },
     "execution_count": 6,
     "metadata": {},
     "output_type": "execute_result"
    }
   ],
   "source": [
    "df_clean = df[df.excluded == \"No\"]\n",
    "n_excluded = df.shape[0] - df_clean.shape[0]\n",
    "Markdown(\n",
    "    f\"{n_excluded} participants excluded. Final number of observations after exclusion: {df_clean.shape[0]}\"\n",
    ")"
   ]
  },
  {
   "cell_type": "markdown",
   "metadata": {},
   "source": [
    "# Analysis"
   ]
  },
  {
   "cell_type": "markdown",
   "metadata": {},
   "source": [
    "## Memory for the minimum price"
   ]
  },
  {
   "cell_type": "markdown",
   "metadata": {},
   "source": [
    "The CDF of the responses shows the following:\n",
    "\n",
    "* In the \"Equal dispersion\" condition, participants are unlikely to report a flight cheaper than the true minimum ($240).\n",
    "* In the \"Higher dispersion\" condition, participants often underestimate the true minimum value."
   ]
  },
  {
   "cell_type": "code",
   "execution_count": 7,
   "metadata": {
    "pycharm": {
     "is_executing": false
    }
   },
   "outputs": [
    {
     "data": {
      "image/png": "[encoded data removed]",
      "text/plain": [
       "<Figure size 459.36x306.24 with 1 Axes>"
      ]
     },
     "metadata": {},
     "output_type": "display_data"
    }
   ],
   "source": [
    "plot_minprice_cdf(df_clean, grayscale=True, save=True, show=False)\n",
    "plot_minprice_cdf(df_clean, save=True, show=True)"
   ]
  },
  {
   "cell_type": "markdown",
   "metadata": {},
   "source": [
    "We analyzed this difference using an OLS regression:"
   ]
  },
  {
   "cell_type": "code",
   "execution_count": 8,
   "metadata": {
    "pycharm": {
     "is_executing": false
    }
   },
   "outputs": [],
   "source": [
    "%%R -i df_clean -o coeffs\n",
    "\n",
    "library(tidyverse)\n",
    "df_clean$search_length <- df_clean$search_length %>% as.factor\n",
    "df_clean$label_category <- df_clean$label_category %>% as.factor %>% relevel(ref=\"Florida\")\n",
    "df_clean$condition <- df_clean$condition %>% as.factor %>% relevel(ref=\"Equal dispersion\")\n",
    "contrasts(df_clean$label_category) <- contr.sum\n",
    "summ <- summary(lm(\"memory_min ~ condition*label_category\", df_clean))\n",
    "coeffs <- summ$coefficients %>% as.data.frame\n",
    "\n",
    "coeffs[[\"Standardized Betas\"]] <- coeffs[[\"Estimate\"]] / sd(df_clean$memory_min)\n",
    "\n",
    "coeffs[[\"Predictor\"]] <- c(\"Intercept\",\n",
    "                          \"Non-Focal has higher dispersion\", \n",
    "                          \"Label of Focal (Sum-Contrast)\", \n",
    "                          \"Interaction Term\")"
   ]
  },
  {
   "cell_type": "code",
   "execution_count": 9,
   "metadata": {
    "pycharm": {
     "is_executing": false
    }
   },
   "outputs": [
    {
     "data": {
      "text/html": [
       "<div>\n",
       "<style scoped>\n",
       "    .dataframe tbody tr th:only-of-type {\n",
       "        vertical-align: middle;\n",
       "    }\n",
       "\n",
       "    .dataframe tbody tr th {\n",
       "        vertical-align: top;\n",
       "    }\n",
       "\n",
       "    .dataframe thead th {\n",
       "        text-align: right;\n",
       "    }\n",
       "</style>\n",
       "<table border=\"1\" class=\"dataframe\">\n",
       "  <thead>\n",
       "    <tr style=\"text-align: right;\">\n",
       "      <th></th>\n",
       "      <th>Estimate</th>\n",
       "      <th>Std. Error</th>\n",
       "      <th>t value</th>\n",
       "      <th>Pr(&gt;|t|)</th>\n",
       "      <th>Standardized Betas</th>\n",
       "    </tr>\n",
       "    <tr>\n",
       "      <th>Predictor</th>\n",
       "      <th></th>\n",
       "      <th></th>\n",
       "      <th></th>\n",
       "      <th></th>\n",
       "      <th></th>\n",
       "    </tr>\n",
       "  </thead>\n",
       "  <tbody>\n",
       "    <tr>\n",
       "      <th>Intercept</th>\n",
       "      <td>247.850946</td>\n",
       "      <td>2.508677</td>\n",
       "      <td>98.797492</td>\n",
       "      <td>3.195617e-320</td>\n",
       "      <td>6.008930</td>\n",
       "    </tr>\n",
       "    <tr>\n",
       "      <th>Non-Focal has higher dispersion</th>\n",
       "      <td>-24.685543</td>\n",
       "      <td>3.607589</td>\n",
       "      <td>-6.842671</td>\n",
       "      <td>2.389741e-11</td>\n",
       "      <td>-0.598479</td>\n",
       "    </tr>\n",
       "    <tr>\n",
       "      <th>Label of Focal (Sum-Contrast)</th>\n",
       "      <td>-0.405691</td>\n",
       "      <td>2.508677</td>\n",
       "      <td>-0.161715</td>\n",
       "      <td>8.715986e-01</td>\n",
       "      <td>-0.009836</td>\n",
       "    </tr>\n",
       "    <tr>\n",
       "      <th>Interaction Term</th>\n",
       "      <td>0.062322</td>\n",
       "      <td>3.607589</td>\n",
       "      <td>0.017275</td>\n",
       "      <td>9.862243e-01</td>\n",
       "      <td>0.001511</td>\n",
       "    </tr>\n",
       "  </tbody>\n",
       "</table>\n",
       "</div>"
      ],
      "text/plain": [
       "                                   Estimate  Std. Error    t value  \\\n",
       "Predictor                                                            \n",
       "Intercept                        247.850946    2.508677  98.797492   \n",
       "Non-Focal has higher dispersion  -24.685543    3.607589  -6.842671   \n",
       "Label of Focal (Sum-Contrast)     -0.405691    2.508677  -0.161715   \n",
       "Interaction Term                   0.062322    3.607589   0.017275   \n",
       "\n",
       "                                      Pr(>|t|)  Standardized Betas  \n",
       "Predictor                                                           \n",
       "Intercept                        3.195617e-320            6.008930  \n",
       "Non-Focal has higher dispersion   2.389741e-11           -0.598479  \n",
       "Label of Focal (Sum-Contrast)     8.715986e-01           -0.009836  \n",
       "Interaction Term                  9.862243e-01            0.001511  "
      ]
     },
     "execution_count": 9,
     "metadata": {},
     "output_type": "execute_result"
    }
   ],
   "source": [
    "coeffs.set_index(\"Predictor\")"
   ]
  },
  {
   "cell_type": "code",
   "execution_count": 10,
   "metadata": {
    "pycharm": {
     "is_executing": false
    }
   },
   "outputs": [
    {
     "data": {
      "text/markdown": [
       "As predicted, only the variance of the non-focal distribution exerts a significant influence: b = -24.686, p < .001. \n",
       "\n",
       "Neither the counterbalancing factor nor its interaction are significant at a .05 level."
      ],
      "text/plain": [
       "<IPython.core.display.Markdown object>"
      ]
     },
     "execution_count": 10,
     "metadata": {},
     "output_type": "execute_result"
    }
   ],
   "source": [
    "Markdown(\n",
    "    f\"As predicted, only the variance of the non-focal distribution exerts a significant \\\n",
    "influence: b = {coeffs.iloc[1, 0]:.3f}, p < .001. \\n\\nNeither the counterbalancing factor nor \\\n",
    "its interaction are significant at a .05 level.\"\n",
    ")"
   ]
  },
  {
   "cell_type": "code",
   "execution_count": 11,
   "metadata": {
    "pycharm": {
     "is_executing": false
    }
   },
   "outputs": [
    {
     "data": {
      "text/markdown": [
       "Proportion below actual min: 9% vs. 45%: $\\chi$(1) = 82.42, p < .001; \n"
      ],
      "text/plain": [
       "<IPython.core.display.Markdown object>"
      ]
     },
     "execution_count": 11,
     "metadata": {},
     "output_type": "execute_result"
    }
   ],
   "source": [
    "nobs = df_clean.groupby(\"condition\").below_true_min.count()\n",
    "nsuc = df_clean.groupby(\"condition\").below_true_min.sum()\n",
    "props = nsuc / nobs * 100\n",
    "chi, p = proportions_chisquare(nsuc[[0, 1]], nobs[[0, 1]])[0:2]\n",
    "Markdown(\n",
    "    f\"\"\"Proportion below actual min: {props[0]:.0f}% vs. {props[1]:.0f}%: $\\chi$(1) = {chi:.2f}, {format_pvals(p)}; \n",
    "\"\"\"\n",
    ")"
   ]
  },
  {
   "cell_type": "markdown",
   "metadata": {},
   "source": [
    "## Number of offers searched"
   ]
  },
  {
   "cell_type": "markdown",
   "metadata": {},
   "source": [
    "The second variable is the number of offers reviewed by participants.\n",
    "\n",
    "As predicted, participants in the \"More variance\" condition reviewed more offers\n",
    "\n",
    "The histogram below summarizes the number of offers reviewed by participants, as a function of their experimental condition. "
   ]
  },
  {
   "cell_type": "code",
   "execution_count": 12,
   "metadata": {
    "collapsed": false,
    "jupyter": {
     "outputs_hidden": false
    },
    "pycharm": {
     "is_executing": false,
     "name": "#%%\n"
    }
   },
   "outputs": [
    {
     "data": {
      "text/html": [
       "<style  type=\"text/css\" >\n",
       "</style><table id=\"T_cb868180_8ecd_11ea_9b5a_448a5b2f88e1\" ><thead>    <tr>        <th class=\"blank\" ></th>        <th class=\"blank level0\" ></th>        <th class=\"col_heading level0 col0\" >Proportion by condition</th>    </tr>    <tr>        <th class=\"index_name level0\" >Condition</th>        <th class=\"index_name level1\" >Offers Reviewed</th>        <th class=\"blank\" ></th>    </tr></thead><tbody>\n",
       "                <tr>\n",
       "                        <th id=\"T_cb868180_8ecd_11ea_9b5a_448a5b2f88e1level0_row0\" class=\"row_heading level0 row0\" rowspan=5>Equal dispersion</th>\n",
       "                        <th id=\"T_cb868180_8ecd_11ea_9b5a_448a5b2f88e1level1_row0\" class=\"row_heading level1 row0\" >1</th>\n",
       "                        <td id=\"T_cb868180_8ecd_11ea_9b5a_448a5b2f88e1row0_col0\" class=\"data row0 col0\" >10.80%</td>\n",
       "            </tr>\n",
       "            <tr>\n",
       "                                <th id=\"T_cb868180_8ecd_11ea_9b5a_448a5b2f88e1level1_row1\" class=\"row_heading level1 row1\" >2</th>\n",
       "                        <td id=\"T_cb868180_8ecd_11ea_9b5a_448a5b2f88e1row1_col0\" class=\"data row1 col0\" >8.00%</td>\n",
       "            </tr>\n",
       "            <tr>\n",
       "                                <th id=\"T_cb868180_8ecd_11ea_9b5a_448a5b2f88e1level1_row2\" class=\"row_heading level1 row2\" >3</th>\n",
       "                        <td id=\"T_cb868180_8ecd_11ea_9b5a_448a5b2f88e1row2_col0\" class=\"data row2 col0\" >73.20%</td>\n",
       "            </tr>\n",
       "            <tr>\n",
       "                                <th id=\"T_cb868180_8ecd_11ea_9b5a_448a5b2f88e1level1_row3\" class=\"row_heading level1 row3\" >5</th>\n",
       "                        <td id=\"T_cb868180_8ecd_11ea_9b5a_448a5b2f88e1row3_col0\" class=\"data row3 col0\" >1.20%</td>\n",
       "            </tr>\n",
       "            <tr>\n",
       "                                <th id=\"T_cb868180_8ecd_11ea_9b5a_448a5b2f88e1level1_row4\" class=\"row_heading level1 row4\" >6</th>\n",
       "                        <td id=\"T_cb868180_8ecd_11ea_9b5a_448a5b2f88e1row4_col0\" class=\"data row4 col0\" >6.80%</td>\n",
       "            </tr>\n",
       "            <tr>\n",
       "                        <th id=\"T_cb868180_8ecd_11ea_9b5a_448a5b2f88e1level0_row5\" class=\"row_heading level0 row5\" rowspan=5>Higher dispersion</th>\n",
       "                        <th id=\"T_cb868180_8ecd_11ea_9b5a_448a5b2f88e1level1_row5\" class=\"row_heading level1 row5\" >1</th>\n",
       "                        <td id=\"T_cb868180_8ecd_11ea_9b5a_448a5b2f88e1row5_col0\" class=\"data row5 col0\" >11.64%</td>\n",
       "            </tr>\n",
       "            <tr>\n",
       "                                <th id=\"T_cb868180_8ecd_11ea_9b5a_448a5b2f88e1level1_row6\" class=\"row_heading level1 row6\" >2</th>\n",
       "                        <td id=\"T_cb868180_8ecd_11ea_9b5a_448a5b2f88e1row6_col0\" class=\"data row6 col0\" >6.47%</td>\n",
       "            </tr>\n",
       "            <tr>\n",
       "                                <th id=\"T_cb868180_8ecd_11ea_9b5a_448a5b2f88e1level1_row7\" class=\"row_heading level1 row7\" >3</th>\n",
       "                        <td id=\"T_cb868180_8ecd_11ea_9b5a_448a5b2f88e1row7_col0\" class=\"data row7 col0\" >61.21%</td>\n",
       "            </tr>\n",
       "            <tr>\n",
       "                                <th id=\"T_cb868180_8ecd_11ea_9b5a_448a5b2f88e1level1_row8\" class=\"row_heading level1 row8\" >5</th>\n",
       "                        <td id=\"T_cb868180_8ecd_11ea_9b5a_448a5b2f88e1row8_col0\" class=\"data row8 col0\" >4.74%</td>\n",
       "            </tr>\n",
       "            <tr>\n",
       "                                <th id=\"T_cb868180_8ecd_11ea_9b5a_448a5b2f88e1level1_row9\" class=\"row_heading level1 row9\" >6</th>\n",
       "                        <td id=\"T_cb868180_8ecd_11ea_9b5a_448a5b2f88e1row9_col0\" class=\"data row9 col0\" >15.95%</td>\n",
       "            </tr>\n",
       "    </tbody></table>"
      ],
      "text/plain": [
       "<pandas.io.formats.style.Styler at 0x262eef3dc88>"
      ]
     },
     "execution_count": 12,
     "metadata": {},
     "output_type": "execute_result"
    }
   ],
   "source": [
    "table = (\n",
    "    df_clean.groupby([\"condition\", \"search_length\"])[[\"paid_price\"]].count()\n",
    "    / df_clean.groupby(\"condition\")[[\"paid_price\"]].count()\n",
    "    * 100\n",
    ")\n",
    "table.index.names = [\"Condition\", \"Offers Reviewed\"]\n",
    "table.columns = [\"Proportion by condition\"]\n",
    "table.style.format(\"{:.2f}%\")"
   ]
  },
  {
   "cell_type": "code",
   "execution_count": 13,
   "metadata": {
    "collapsed": false,
    "jupyter": {
     "outputs_hidden": false
    },
    "pycharm": {
     "is_executing": false,
     "name": "#%%\n"
    }
   },
   "outputs": [
    {
     "data": {
      "image/png": "[encoded data removed]",
      "text/plain": [
       "<Figure size 576x288 with 1 Axes>"
      ]
     },
     "metadata": {},
     "output_type": "display_data"
    }
   ],
   "source": [
    "plot_search_length(df_clean, grayscale=True, save=True, show=False)\n",
    "plot_search_length(df_clean, save=True, show=True)"
   ]
  },
  {
   "cell_type": "code",
   "execution_count": 14,
   "metadata": {
    "pycharm": {
     "is_executing": false,
     "name": "#%%\n"
    }
   },
   "outputs": [
    {
     "data": {
      "text/markdown": [
       "Proportion of people who searched beyond the third offer: 8% vs. 21%: $\\chi$(1) = 15.99, p < .001; \n"
      ],
      "text/plain": [
       "<IPython.core.display.Markdown object>"
      ]
     },
     "execution_count": 14,
     "metadata": {},
     "output_type": "execute_result"
    }
   ],
   "source": [
    "df_clean[\"searched_too_long\"] = (df_clean.search_length > 3) * 1\n",
    "nobs = df_clean.groupby(\"condition\").searched_too_long.count()\n",
    "nsuc = df_clean.groupby(\"condition\").searched_too_long.sum()\n",
    "props = nsuc / nobs * 100\n",
    "chi, p = proportions_chisquare(nsuc[[0, 1]], nobs[[0, 1]])[0:2]\n",
    "Markdown(\n",
    "    f\"\"\"Proportion of people who searched beyond the third offer: {props[0]:.0f}% vs. {props[1]:.0f}%: $\\chi$(1) = {chi:.2f}, {format_pvals(p)}; \n",
    "\"\"\"\n",
    ")"
   ]
  },
  {
   "cell_type": "markdown",
   "metadata": {},
   "source": [
    "As reported in the pre-registration, we tested the significance of this difference using an Ordered Logit model. \n",
    "\n",
    "This approach models a latent utility space divided in K thresholds, delineating the preference between reviewing K and K+1 offers. \n",
    "\n",
    "This model estimates the impact of our predictors in the latent utility space: a positive coefficient means a preference for reviewing more offers.\n",
    "\n",
    "Given that no participant accepted the fourth offer, the threshold between the third and fourth offer and the threshold between the fourth and fifth offer form a single threshold."
   ]
  },
  {
   "cell_type": "code",
   "execution_count": 15,
   "metadata": {
    "pycharm": {
     "is_executing": false
    }
   },
   "outputs": [],
   "source": [
    "%%R -i df_clean -o coeffs\n",
    "library(tidyverse)\n",
    "library(MASS)\n",
    "df_clean$search_length <- df_clean$search_length %>% as.factor\n",
    "df_clean$label_category <- df_clean$label_category %>% as.factor %>% relevel(ref=\"Florida\")\n",
    "df_clean$condition <- df_clean$condition %>% as.factor %>% relevel(ref=\"Equal dispersion\")\n",
    "contrasts(df_clean$label_category) <- contr.sum\n",
    "\n",
    "summ <- summary(polr(\"search_length ~ condition*label_category\", df_clean, Hess=TRUE))\n",
    "\n",
    "df_resid <- summ$df.residual\n",
    "t_to_p <- function(t, df=1) {\n",
    "    return(2*pt(-abs(t), df=df))\n",
    "}\n",
    "\n",
    "t_to_p_with_df <- partial(t_to_p, df=df_resid)\n",
    "\n",
    "coeffs <- summ$coefficients %>% as.data.frame\n",
    "coeffs[[\"Pr(>|t|)\"]] <- coeffs[[\"t value\"]] %>% purrr::map(t_to_p_with_df) %>% as.numeric\n",
    "coeffs[[\"Odds Ratio\"]] <-coeffs[[\"Value\"]] %>% purrr::map(exp) %>% as.numeric\n",
    "coeffs[4:6, \"Odds Ratio\"] <- c(NA, NA, NA)\n",
    "coeffs[[\"Predictor\"]] <- c(\"Other has Higher Variance (Dummy-Coded)\", \n",
    "                          \"Label of Focal (Sum-Contrast)\", \n",
    "                          \"Interaction Term\", \n",
    "                          \"Decision Threshold: Offer 1 to Offer 2\",\n",
    "                          \"Decision Threshold: Offer 2 to Offer 3\",\n",
    "                          \"Decision Threshold: Offer 3 to Offer 5\",\n",
    "                          \"Decision Threshold: Offer 5 to Offer 6\")"
   ]
  },
  {
   "cell_type": "code",
   "execution_count": 16,
   "metadata": {
    "pycharm": {
     "is_executing": false
    }
   },
   "outputs": [
    {
     "data": {
      "text/html": [
       "<div>\n",
       "<style scoped>\n",
       "    .dataframe tbody tr th:only-of-type {\n",
       "        vertical-align: middle;\n",
       "    }\n",
       "\n",
       "    .dataframe tbody tr th {\n",
       "        vertical-align: top;\n",
       "    }\n",
       "\n",
       "    .dataframe thead th {\n",
       "        text-align: right;\n",
       "    }\n",
       "</style>\n",
       "<table border=\"1\" class=\"dataframe\">\n",
       "  <thead>\n",
       "    <tr style=\"text-align: right;\">\n",
       "      <th></th>\n",
       "      <th>Value</th>\n",
       "      <th>Std. Error</th>\n",
       "      <th>t value</th>\n",
       "      <th>Pr(&gt;|t|)</th>\n",
       "      <th>Odds Ratio</th>\n",
       "    </tr>\n",
       "    <tr>\n",
       "      <th>Predictor</th>\n",
       "      <th></th>\n",
       "      <th></th>\n",
       "      <th></th>\n",
       "      <th></th>\n",
       "      <th></th>\n",
       "    </tr>\n",
       "  </thead>\n",
       "  <tbody>\n",
       "    <tr>\n",
       "      <th>Other has Higher Variance (Dummy-Coded)</th>\n",
       "      <td>0.467835</td>\n",
       "      <td>0.193864</td>\n",
       "      <td>2.413207</td>\n",
       "      <td>1.619042e-02</td>\n",
       "      <td>1.596534</td>\n",
       "    </tr>\n",
       "    <tr>\n",
       "      <th>Label of Focal (Sum-Contrast)</th>\n",
       "      <td>-0.027565</td>\n",
       "      <td>0.129259</td>\n",
       "      <td>-0.213253</td>\n",
       "      <td>8.312213e-01</td>\n",
       "      <td>0.972812</td>\n",
       "    </tr>\n",
       "    <tr>\n",
       "      <th>Interaction Term</th>\n",
       "      <td>-0.068774</td>\n",
       "      <td>0.191143</td>\n",
       "      <td>-0.359803</td>\n",
       "      <td>7.191546e-01</td>\n",
       "      <td>0.933538</td>\n",
       "    </tr>\n",
       "    <tr>\n",
       "      <th>Decision Threshold: Offer 1 to Offer 2</th>\n",
       "      <td>-1.876732</td>\n",
       "      <td>0.164060</td>\n",
       "      <td>-11.439295</td>\n",
       "      <td>6.232384e-27</td>\n",
       "      <td>NaN</td>\n",
       "    </tr>\n",
       "    <tr>\n",
       "      <th>Decision Threshold: Offer 2 to Offer 3</th>\n",
       "      <td>-1.291512</td>\n",
       "      <td>0.140925</td>\n",
       "      <td>-9.164556</td>\n",
       "      <td>1.501036e-18</td>\n",
       "      <td>NaN</td>\n",
       "    </tr>\n",
       "    <tr>\n",
       "      <th>Decision Threshold: Offer 3 to Offer 5</th>\n",
       "      <td>2.042973</td>\n",
       "      <td>0.167580</td>\n",
       "      <td>12.191018</td>\n",
       "      <td>6.208594e-30</td>\n",
       "      <td>NaN</td>\n",
       "    </tr>\n",
       "    <tr>\n",
       "      <th>Decision Threshold: Offer 5 to Offer 6</th>\n",
       "      <td>2.310382</td>\n",
       "      <td>0.179347</td>\n",
       "      <td>12.882195</td>\n",
       "      <td>8.872811e-33</td>\n",
       "      <td>10.078271</td>\n",
       "    </tr>\n",
       "  </tbody>\n",
       "</table>\n",
       "</div>"
      ],
      "text/plain": [
       "                                            Value  Std. Error    t value  \\\n",
       "Predictor                                                                  \n",
       "Other has Higher Variance (Dummy-Coded)  0.467835    0.193864   2.413207   \n",
       "Label of Focal (Sum-Contrast)           -0.027565    0.129259  -0.213253   \n",
       "Interaction Term                        -0.068774    0.191143  -0.359803   \n",
       "Decision Threshold: Offer 1 to Offer 2  -1.876732    0.164060 -11.439295   \n",
       "Decision Threshold: Offer 2 to Offer 3  -1.291512    0.140925  -9.164556   \n",
       "Decision Threshold: Offer 3 to Offer 5   2.042973    0.167580  12.191018   \n",
       "Decision Threshold: Offer 5 to Offer 6   2.310382    0.179347  12.882195   \n",
       "\n",
       "                                             Pr(>|t|)  Odds Ratio  \n",
       "Predictor                                                          \n",
       "Other has Higher Variance (Dummy-Coded)  1.619042e-02    1.596534  \n",
       "Label of Focal (Sum-Contrast)            8.312213e-01    0.972812  \n",
       "Interaction Term                         7.191546e-01    0.933538  \n",
       "Decision Threshold: Offer 1 to Offer 2   6.232384e-27         NaN  \n",
       "Decision Threshold: Offer 2 to Offer 3   1.501036e-18         NaN  \n",
       "Decision Threshold: Offer 3 to Offer 5   6.208594e-30         NaN  \n",
       "Decision Threshold: Offer 5 to Offer 6   8.872811e-33   10.078271  "
      ]
     },
     "execution_count": 16,
     "metadata": {},
     "output_type": "execute_result"
    }
   ],
   "source": [
    "coeffs.set_index(\"Predictor\")"
   ]
  },
  {
   "cell_type": "code",
   "execution_count": 17,
   "metadata": {
    "pycharm": {
     "is_executing": false
    }
   },
   "outputs": [
    {
     "data": {
      "text/markdown": [
       "As predicted, only the variance of the non-focal distribution had a significant influence: b = 0.468, p = 0.016190, odds ratio = 1.597. \n",
       "\n",
       "Neither the counterbalancing factor nor its interaction are significant at a .05 level."
      ],
      "text/plain": [
       "<IPython.core.display.Markdown object>"
      ]
     },
     "execution_count": 17,
     "metadata": {},
     "output_type": "execute_result"
    }
   ],
   "source": [
    "Markdown(\n",
    "    f\"As predicted, only the variance of the non-focal distribution had a significant \\\n",
    "influence: b = {coeffs.iloc[0, 0]:.3f}, p = {coeffs.iloc[0, 3]:.6f}, odds ratio = {coeffs.iloc[0, 4]:.3f}. \\n\\nNeither the counterbalancing factor nor \\\n",
    "its interaction are significant at a .05 level.\"\n",
    ")"
   ]
  },
  {
   "cell_type": "markdown",
   "metadata": {},
   "source": [
    "## Price Paid"
   ]
  },
  {
   "cell_type": "code",
   "execution_count": 18,
   "metadata": {
    "pycharm": {
     "is_executing": false
    }
   },
   "outputs": [],
   "source": [
    "%%R -i df_clean -o coeffs\n",
    "\n",
    "library(tidyverse)\n",
    "df_clean$label_category <- df_clean$label_category %>% as.factor %>% relevel(ref=\"Florida\")\n",
    "df_clean$condition <- df_clean$condition %>% as.factor %>% relevel(ref=\"Equal dispersion\")\n",
    "contrasts(df_clean$label_category) <- contr.sum\n",
    "\n",
    "summ <- summary(lm(\"paid_price ~ condition*label_category\", df_clean))\n",
    "coeffs <- summ$coefficients %>% as.data.frame\n",
    "\n",
    "coeffs[[\"Standardized Betas\"]] <- coeffs[[\"Estimate\"]] / sd(df_clean$paid_price)\n",
    "\n",
    "coeffs[[\"Predictor\"]] <- c(\"Intercept\",\n",
    "                          \"Non-Focal has Higher Variance (Dummy-Coded)\", \n",
    "                          \"Label of Focal (Sum-Contrast)\", \n",
    "                          \"Interaction Term\")"
   ]
  },
  {
   "cell_type": "code",
   "execution_count": 19,
   "metadata": {
    "pycharm": {
     "is_executing": false
    }
   },
   "outputs": [
    {
     "data": {
      "text/html": [
       "<div>\n",
       "<style scoped>\n",
       "    .dataframe tbody tr th:only-of-type {\n",
       "        vertical-align: middle;\n",
       "    }\n",
       "\n",
       "    .dataframe tbody tr th {\n",
       "        vertical-align: top;\n",
       "    }\n",
       "\n",
       "    .dataframe thead th {\n",
       "        text-align: right;\n",
       "    }\n",
       "</style>\n",
       "<table border=\"1\" class=\"dataframe\">\n",
       "  <thead>\n",
       "    <tr style=\"text-align: right;\">\n",
       "      <th></th>\n",
       "      <th>Estimate</th>\n",
       "      <th>Std. Error</th>\n",
       "      <th>t value</th>\n",
       "      <th>Pr(&gt;|t|)</th>\n",
       "      <th>Standardized Betas</th>\n",
       "    </tr>\n",
       "    <tr>\n",
       "      <th>Predictor</th>\n",
       "      <th></th>\n",
       "      <th></th>\n",
       "      <th></th>\n",
       "      <th></th>\n",
       "      <th></th>\n",
       "    </tr>\n",
       "  </thead>\n",
       "  <tbody>\n",
       "    <tr>\n",
       "      <th>Intercept</th>\n",
       "      <td>278.020154</td>\n",
       "      <td>1.984041</td>\n",
       "      <td>140.128212</td>\n",
       "      <td>0.000000</td>\n",
       "      <td>8.877996</td>\n",
       "    </tr>\n",
       "    <tr>\n",
       "      <th>Non-Focal has Higher Variance (Dummy-Coded)</th>\n",
       "      <td>6.615588</td>\n",
       "      <td>2.853140</td>\n",
       "      <td>2.318704</td>\n",
       "      <td>0.020832</td>\n",
       "      <td>0.211255</td>\n",
       "    </tr>\n",
       "    <tr>\n",
       "      <th>Label of Focal (Sum-Contrast)</th>\n",
       "      <td>-0.209935</td>\n",
       "      <td>1.984041</td>\n",
       "      <td>-0.105812</td>\n",
       "      <td>0.915776</td>\n",
       "      <td>-0.006704</td>\n",
       "    </tr>\n",
       "    <tr>\n",
       "      <th>Interaction Term</th>\n",
       "      <td>1.336905</td>\n",
       "      <td>2.853140</td>\n",
       "      <td>0.468573</td>\n",
       "      <td>0.639588</td>\n",
       "      <td>0.042691</td>\n",
       "    </tr>\n",
       "  </tbody>\n",
       "</table>\n",
       "</div>"
      ],
      "text/plain": [
       "                                               Estimate  Std. Error  \\\n",
       "Predictor                                                             \n",
       "Intercept                                    278.020154    1.984041   \n",
       "Non-Focal has Higher Variance (Dummy-Coded)    6.615588    2.853140   \n",
       "Label of Focal (Sum-Contrast)                 -0.209935    1.984041   \n",
       "Interaction Term                               1.336905    2.853140   \n",
       "\n",
       "                                                t value  Pr(>|t|)  \\\n",
       "Predictor                                                           \n",
       "Intercept                                    140.128212  0.000000   \n",
       "Non-Focal has Higher Variance (Dummy-Coded)    2.318704  0.020832   \n",
       "Label of Focal (Sum-Contrast)                 -0.105812  0.915776   \n",
       "Interaction Term                               0.468573  0.639588   \n",
       "\n",
       "                                             Standardized Betas  \n",
       "Predictor                                                        \n",
       "Intercept                                              8.877996  \n",
       "Non-Focal has Higher Variance (Dummy-Coded)            0.211255  \n",
       "Label of Focal (Sum-Contrast)                         -0.006704  \n",
       "Interaction Term                                       0.042691  "
      ]
     },
     "execution_count": 19,
     "metadata": {},
     "output_type": "execute_result"
    }
   ],
   "source": [
    "coeffs.set_index(\"Predictor\")"
   ]
  },
  {
   "cell_type": "code",
   "execution_count": 20,
   "metadata": {
    "pycharm": {
     "is_executing": false,
     "name": "#%%\n"
    }
   },
   "outputs": [
    {
     "data": {
      "text/markdown": [
       "As predicted, only the variance of the non-focal distribution exerts a significant influence: b = 6.616, p < .001. \n",
       "\n",
       "Neither the counterbalancing factor nor its interaction are significant at a .05 level."
      ],
      "text/plain": [
       "<IPython.core.display.Markdown object>"
      ]
     },
     "execution_count": 20,
     "metadata": {},
     "output_type": "execute_result"
    }
   ],
   "source": [
    "Markdown(\n",
    "    f\"As predicted, only the variance of the non-focal distribution exerts a significant \\\n",
    "influence: b = {coeffs.iloc[1, 0]:.3f}, p < .001. \\n\\nNeither the counterbalancing factor nor \\\n",
    "its interaction are significant at a .05 level.\"\n",
    ")"
   ]
  }
 ],
 "metadata": {
  "kernelspec": {
   "display_name": "Python 3",
   "language": "python",
   "name": "python3"
  },
  "language_info": {
   "codemirror_mode": {
    "name": "ipython",
    "version": 3
   },
   "file_extension": ".py",
   "mimetype": "text/x-python",
   "name": "python",
   "nbconvert_exporter": "python",
   "pygments_lexer": "ipython3",
   "version": "3.6.10"
  },
  "pycharm": {
   "stem_cell": {
    "cell_type": "raw",
    "metadata": {
     "collapsed": false
    },
    "source": []
   }
  },
  "toc-autonumbering": true
 },
 "nbformat": 4,
 "nbformat_minor": 4
}
