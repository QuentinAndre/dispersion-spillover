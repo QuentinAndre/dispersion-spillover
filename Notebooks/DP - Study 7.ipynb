{
 "cells": [
  {
   "cell_type": "markdown",
   "metadata": {},
   "source": [
    "This notebook pre-processes the data of Study 7 of the paper.\n",
    "\n",
    "Click the \"Show Code\" buttons to see the code associated with each output."
   ]
  },
  {
   "cell_type": "code",
   "execution_count": 1,
   "metadata": {
    "pycharm": {
     "is_executing": false
    }
   },
   "outputs": [],
   "source": [
    "import pandas as pd\n",
    "import numpy as np\n",
    "import janitor\n",
    "from datetime import datetime\n",
    "import pytz\n",
    "\n",
    "STUDY_NAME = \"Study 7\"\n",
    "\n",
    "def print_prereg_time_utc(dt):\n",
    "    local_tz = pytz.timezone('US/Pacific')\n",
    "    target_tz = pytz.timezone('UTC')\n",
    "    dt = datetime.strptime(dt, \"%m/%d/%Y %H:%M %p\")\n",
    "    preregstring = target_tz.normalize(local_tz.localize(dt)).strftime(\"%B %d, %Y at %H:%M %p\")\n",
    "    return f\"{STUDY_NAME} was preregistered on {preregstring}.\"\n",
    "\n",
    "def cet_to_utc(dt):\n",
    "    local_tz = pytz.timezone('CET')\n",
    "    target_tz = pytz.timezone('UTC')\n",
    "    dt = datetime.strptime(dt, \"%d/%m/%Y %H:%M\")\n",
    "    return target_tz.normalize(local_tz.localize(dt))\n",
    "\n",
    "def print_collection_information(df):\n",
    "    starttime = df.sort_values(\"StartDate\").StartDate.iloc[0]\n",
    "    endtime = df.sort_values(\"EndDate\").EndDate.iloc[-1]\n",
    "    startstring = cet_to_utc(starttime).strftime(\"%B %d, %Y at %H:%M %p\")\n",
    "    endstring = cet_to_utc(endtime).strftime(\"%B %d, %Y at %H:%M %p\")\n",
    "    return f\"{STUDY_NAME} was started on {startstring} and ended on {endstring}.\"\n",
    "\n",
    "df = pd.read_csv(f\"../Data/{STUDY_NAME}/RawData.csv\")"
   ]
  },
  {
   "cell_type": "markdown",
   "metadata": {},
   "source": [
    "Pre-registration information:"
   ]
  },
  {
   "cell_type": "code",
   "execution_count": 2,
   "metadata": {},
   "outputs": [
    {
     "data": {
      "text/plain": [
       "'Study 7 was preregistered on March 27, 2020 at 13:28 PM.'"
      ]
     },
     "execution_count": 2,
     "metadata": {},
     "output_type": "execute_result"
    }
   ],
   "source": [
    "print_prereg_time_utc(\"03/27/2020 06:28 AM\")"
   ]
  },
  {
   "cell_type": "markdown",
   "metadata": {},
   "source": [
    "Data collection information:"
   ]
  },
  {
   "cell_type": "code",
   "execution_count": 3,
   "metadata": {},
   "outputs": [
    {
     "data": {
      "text/plain": [
       "'Study 7 was started on March 27, 2020 at 14:37 PM and ended on March 29, 2020 at 11:09 AM.'"
      ]
     },
     "execution_count": 3,
     "metadata": {},
     "output_type": "execute_result"
    }
   ],
   "source": [
    "print_collection_information(df)"
   ]
  },
  {
   "cell_type": "markdown",
   "metadata": {},
   "source": [
    "Number of participants in raw Qualtrics Export:"
   ]
  },
  {
   "cell_type": "code",
   "execution_count": 4,
   "metadata": {},
   "outputs": [
    {
     "data": {
      "text/plain": [
       "640"
      ]
     },
     "execution_count": 4,
     "metadata": {},
     "output_type": "execute_result"
    }
   ],
   "source": [
    "df.shape[0]"
   ]
  },
  {
   "cell_type": "markdown",
   "metadata": {},
   "source": [
    "Number of total responses (i.e., respondents who did not fail the attention check and were allowed to take the study):"
   ]
  },
  {
   "cell_type": "code",
   "execution_count": 5,
   "metadata": {},
   "outputs": [
    {
     "data": {
      "text/plain": [
       "502"
      ]
     },
     "execution_count": 5,
     "metadata": {},
     "output_type": "execute_result"
    }
   ],
   "source": [
    "df[\"Has_Response\"] = (df.Death == 1) & (df.HeadCount == 1)\n",
    "df_clean = df[df.Has_Response].reset_index(drop=True)\n",
    "df_clean.shape[0]"
   ]
  },
  {
   "cell_type": "code",
   "execution_count": 6,
   "metadata": {},
   "outputs": [],
   "source": [
    "def get_bid_placed(x):\n",
    "    \"\"\"\n",
    "    Get the final bid submitted by participants.\n",
    "    \"\"\"\n",
    "    for i in [10, 9, 8, 7, 6, 5, 4, 3, 1]:\n",
    "        if pd.notnull(x[f\"{i}_Bid\"]):\n",
    "            return x[f\"{i}_Bid\"]\n",
    "\n",
    "\n",
    "df_clean[\"Bid_Placed\"] = df_clean.apply(get_bid_placed, axis=1)\n",
    "df_clean[\"Dispersion\"] = df_clean.dispersion.map({\"lower\": \"Lower\", \"higher\": \"Higher\"})\n",
    "df_clean[\"Memory_Max_Bid\"] = df_clean.MaxBid\n",
    "df_clean[\"Excluded\"] = (\n",
    "    (df_clean.MaxBid < 32) | (df_clean.GetCard != 1) | (df_clean.GetCash != 10)\n",
    ")\n",
    "df_clean[\"Above_Actual_Max\"] = df_clean.Memory_Max_Bid > 37\n",
    "df_clean[\"Condition\"] = df_clean.Dispersion + \" Dispersion\"\n",
    "cols = [\n",
    "    \"workerId\",\n",
    "    \"Bid_Placed\",\n",
    "    \"Dispersion\",\n",
    "    \"Condition\",\n",
    "    \"Memory_Max_Bid\",\n",
    "    \"Above_Actual_Max\",\n",
    "    \"Excluded\",\n",
    "]\n",
    "df_clean[cols].clean_names().to_csv(f\"../Data/{STUDY_NAME}/CleanData.csv\", index=None)"
   ]
  }
 ],
 "metadata": {
  "kernelspec": {
   "display_name": "Python 3",
   "language": "python",
   "name": "python3"
  },
  "language_info": {
   "codemirror_mode": {
    "name": "ipython",
    "version": 3
   },
   "file_extension": ".py",
   "mimetype": "text/x-python",
   "name": "python",
   "nbconvert_exporter": "python",
   "pygments_lexer": "ipython3",
   "version": "3.6.10"
  }
 },
 "nbformat": 4,
 "nbformat_minor": 4
}
