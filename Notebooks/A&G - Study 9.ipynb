{
 "cells": [
  {
   "cell_type": "markdown",
   "metadata": {},
   "source": [
    "This notebook presents all the analysis reported in Study 9 of the paper.\n",
    "\n",
    "Click the \"Show Code\" buttons to see the code associated with each output."
   ]
  },
  {
   "cell_type": "markdown",
   "metadata": {},
   "source": [
    "# Preamble"
   ]
  },
  {
   "cell_type": "markdown",
   "metadata": {},
   "source": [
    "## Libraries"
   ]
  },
  {
   "cell_type": "code",
   "execution_count": 1,
   "metadata": {},
   "outputs": [],
   "source": [
    "# Misc\n",
    "import warnings\n",
    "\n",
    "warnings.filterwarnings(\"ignore\")\n",
    "from IPython.display import Markdown\n",
    "\n",
    "\n",
    "# Data libraries\n",
    "import pandas as pd\n",
    "import numpy as np\n",
    "\n",
    "# Plotting\n",
    "import matplotlib as mpl\n",
    "import matplotlib.pyplot as plt\n",
    "from matplotlib.gridspec import GridSpec\n",
    "import seaborn as sns\n",
    "\n",
    "sns.set_context(\"notebook\")\n",
    "\n",
    "# Statistics\n",
    "import statsmodels.formula.api as smf\n",
    "import statsmodels.api as sm\n",
    "import scipy.stats as stats\n",
    "from scipy.stats.mstats import zscore\n",
    "\n",
    "# Interface with R\n",
    "import rpy2\n",
    "\n",
    "%load_ext rpy2.ipython\n",
    "\n",
    "\n",
    "%R library(sjstats); # For effect sizes of ANOVAs\n",
    "\n",
    "STUDY_NAME = \"Study 9\""
   ]
  },
  {
   "cell_type": "markdown",
   "metadata": {},
   "source": [
    "## Functions"
   ]
  },
  {
   "cell_type": "code",
   "execution_count": 2,
   "metadata": {},
   "outputs": [],
   "source": [
    "# fmt: off\n",
    "ARRAYS ={\n",
    "    'Low-Low': [8, 10, 10, 10, 10, 10, 10, 12, 12, 12, 12, 12, 12, \n",
    "                12, 12, 12, 12, 12, 12, 14, 14, 14, 14, 14, 14, 16,\n",
    "                34, 36, 36, 36, 36, 36, 36, 38, 38, 38, 38, 38, 38, \n",
    "                38, 38, 38, 38, 38, 38, 40, 40, 40, 40, 40, 40, 42],\n",
    "    'Low-High': [8, 10, 10, 10, 10, 10, 10, 12, 12, 12, 12, 12, 12, \n",
    "                 12, 12, 12, 12, 12, 12, 14, 14, 14, 14, 14, 14, 16,\n",
    "                 28, 30, 30, 32, 32, 34, 34, 34, 36, 36, 36, 38, 38, \n",
    "                 38, 38, 40, 40, 40, 42, 42, 42, 44, 44, 46, 46, 48],\n",
    "    'High-Low': [2, 4, 4, 6, 6, 8, 8, 8, 10, 10, 10, 12, 12, 12, \n",
    "                 12, 14, 14, 14, 16, 16, 16, 18, 18, 20, 20, 22, \n",
    "                 34, 36, 36, 36, 36, 36, 36, 38, 38, 38, 38, 38, 38, \n",
    "                 38, 38, 38, 38, 38, 38, 40, 40, 40, 40, 40, 40, 42],\n",
    "    'High-High': [2, 4, 4, 6, 6, 8, 8, 8, 10, 10, 10, 12, 12, 12, \n",
    "                  12, 14, 14, 14, 16, 16, 16, 18, 18, 20, 20, 22, \n",
    "                  28, 30, 30, 32, 32, 34, 34, 34, 36, 36, 36, 38, 38, \n",
    "                  38, 38, 40, 40, 40, 42, 42, 42, 44, 44, 46, 46, 48]\n",
    "}\n",
    "# fmt: on\n",
    "\n",
    "\n",
    "def perc_formatter(x, y, prec=2):\n",
    "    return \"{:.{prec}f}%\".format(x, prec=prec)\n",
    "\n",
    "\n",
    "def is_phantom_values_total(x):\n",
    "    i = x.value\n",
    "    if x.mean_focal == 12:\n",
    "        if x.sd_focal == \"Low\":\n",
    "            return ((i < 8) | ((i > 16) & (i < 28))) * 1\n",
    "        else:\n",
    "            return ((i < 2) | ((i > 22) & (i < 28))) * 1\n",
    "    else:\n",
    "        if x.sd_focal == \"Low\":\n",
    "            return ((i > 42) | ((i > 22) & (i < 34))) * 1\n",
    "        else:\n",
    "            return ((i > 48) | ((i > 22) & (i < 28))) * 1\n",
    "\n",
    "\n",
    "def is_phantom_values_outside(x):\n",
    "    i = x.value\n",
    "    if x.mean_focal == 12:\n",
    "        if x.sd_focal == \"Low\":\n",
    "            return (i < 8) * 1\n",
    "        else:\n",
    "            return (i < 2) * 1\n",
    "    else:\n",
    "        if x.sd_focal == \"Low\":\n",
    "            return (i > 42) * 1\n",
    "        else:\n",
    "            return (i > 48) * 1\n",
    "\n",
    "\n",
    "def plot_design(\n",
    "    save=False, show=True, grayscale=False, figname=f\"Fig 16 - {STUDY_NAME} - Design\"\n",
    "):\n",
    "    if grayscale:\n",
    "        pal = sns.color_palette(\"Greys\")[1::2][::-1]\n",
    "        pathname = \"Grayscale\"\n",
    "    else:\n",
    "        pal = sns.color_palette()[1:4:2][::-1]\n",
    "        pathname = \"Color\"\n",
    "\n",
    "    if show:\n",
    "        sns.set_context(\"notebook\")\n",
    "    else:\n",
    "        sns.set_context(\"paper\")\n",
    "\n",
    "    sns.set_style(\"ticks\")\n",
    "\n",
    "    fig, axes = plt.subplots(2, 2, figsize=(6.38, 4))\n",
    "    ax1, ax2, ax3, ax4 = axes.flatten()\n",
    "    phantoms_left = [[0, 8], [0, 8], [0, 2], [0, 2]]\n",
    "    phantoms_right = [[42, 50], [48, 50], [42, 50], [48, 50]]\n",
    "    for ax, vartype, pl, pr in zip(\n",
    "        axes.flatten(),\n",
    "        [\"Low-Low\", \"Low-High\", \"High-Low\", \"High-High\"],\n",
    "        phantoms_left,\n",
    "        phantoms_right,\n",
    "    ):\n",
    "        ax.hist(\n",
    "            ARRAYS[vartype][0:26],\n",
    "            label=\"White Wines\",\n",
    "            color=pal[1],\n",
    "            bins=np.arange(0, 51, 2),\n",
    "            align=\"left\",\n",
    "        )\n",
    "        ax.hist(\n",
    "            ARRAYS[vartype][26:],\n",
    "            label=\"Red Wines\",\n",
    "            color=pal[0],\n",
    "            bins=np.arange(0, 51, 2),\n",
    "            align=\"left\",\n",
    "        )\n",
    "        ax.set_yticks([])\n",
    "        ax.set_ylim(0, 14)\n",
    "        ax.set_xticks(np.arange(0, 52, 8))\n",
    "        ax.set_xticklabels([f\"${i}\" if i % 8 == 0 else \"\" for i in np.arange(0, 52, 8)])\n",
    "        ax.set_xlim(-2, 52)\n",
    "\n",
    "    ax2.legend(frameon=False)\n",
    "\n",
    "    for ax, col in zip([ax1, ax2], [\"Low\", \"High\"]):\n",
    "        ax.set_title(col + \" SD Red Wines\")\n",
    "\n",
    "    for ax, row in zip([ax1, ax3], [\"Low\", \"High\"]):\n",
    "        ax.set_ylabel(row + \" SD\\nWhite Wines\", rotation=90, labelpad=5)\n",
    "\n",
    "    sns.despine()\n",
    "    plt.tight_layout()\n",
    "    if save:\n",
    "        plt.savefig(\n",
    "            f\"../Figures/{pathname}/{figname}.png\", dpi=100, bbox_inches=\"tight\"\n",
    "        )\n",
    "    if show:\n",
    "        plt.show()\n",
    "    else:\n",
    "        plt.close()\n",
    "\n",
    "\n",
    "def plot_phantom_range(\n",
    "    save=False,\n",
    "    show=True,\n",
    "    grayscale=False,\n",
    "    figname=f\"Fig 15 - {STUDY_NAME} - Phantom Values Viz\",\n",
    "):\n",
    "\n",
    "    if grayscale:\n",
    "        pal = sns.color_palette(\"Greys\")[1::2][::-1]\n",
    "        pathname = \"Grayscale\"\n",
    "    else:\n",
    "        pal = sns.color_palette()[1:4:2][::-1]\n",
    "        pathname = \"Color\"\n",
    "\n",
    "    if show:\n",
    "        sns.set_context(\"notebook\")\n",
    "    else:\n",
    "        sns.set_context(\"paper\")\n",
    "\n",
    "    sns.set_style(\"ticks\")\n",
    "\n",
    "    fig, axes = plt.subplots(2, figsize=(6.38, 6))\n",
    "\n",
    "    pl = [0, 8]\n",
    "    pr = [18, 28]\n",
    "    ax1, ax2 = axes.flatten()\n",
    "    ax1.hist(\n",
    "        ARRAYS[\"Low-Low\"][0:26], color=pal[1], bins=np.arange(0, 51, 2), align=\"left\"\n",
    "    )\n",
    "    ax1.hist(\n",
    "        ARRAYS[\"Low-Low\"][26:],\n",
    "        color=pal[0],\n",
    "        bins=np.arange(0, 51, 2),\n",
    "        align=\"left\",\n",
    "        histtype=\"step\",\n",
    "        lw=2,\n",
    "    )\n",
    "    ax1.hist(\n",
    "        ARRAYS[\"High-High\"][26:],\n",
    "        color=pal[0],\n",
    "        bins=np.arange(0, 51, 2),\n",
    "        align=\"left\",\n",
    "        histtype=\"step\",\n",
    "        lw=2,\n",
    "    )\n",
    "    ax1.bar(\n",
    "        pr[0] - 1,\n",
    "        2,\n",
    "        (pr[1] - pr[0]) - 0.15,\n",
    "        color=\"lightgrey\",\n",
    "        ecolor=\"grey\",\n",
    "        hatch=\"//\",\n",
    "        align=\"edge\",\n",
    "        linewidth=1,\n",
    "    )\n",
    "    ax1.bar(\n",
    "        pl[0] - 1,\n",
    "        2,\n",
    "        (pl[1] - pl[0]),\n",
    "        color=\"lightgrey\",\n",
    "        ecolor=\"grey\",\n",
    "        hatch=\"\\\\\",\n",
    "        align=\"edge\",\n",
    "        linewidth=1,\n",
    "    )\n",
    "    ax1.set_title(\"Low SD White Wines\")\n",
    "\n",
    "    pl = [0, 2]\n",
    "    pr = [24, 28]\n",
    "    ax2.hist(\n",
    "        ARRAYS[\"High-Low\"][0:26],\n",
    "        label=\"White Wines\",\n",
    "        color=pal[1],\n",
    "        bins=np.arange(0, 51, 2),\n",
    "        align=\"left\",\n",
    "    )\n",
    "    ax2.bar(\n",
    "        pr[0] - 1,\n",
    "        2,\n",
    "        (pr[1] - pr[0]) - 0.15,\n",
    "        color=\"lightgrey\",\n",
    "        ecolor=\"grey\",\n",
    "        hatch=\"//\",\n",
    "        align=\"edge\",\n",
    "        linewidth=1,\n",
    "        label=\"Phantom Prices (interior)\",\n",
    "    )\n",
    "    ax2.hist(\n",
    "        ARRAYS[\"High-Low\"][26:],\n",
    "        label=\"Red Wines\",\n",
    "        color=pal[0],\n",
    "        bins=np.arange(0, 51, 2),\n",
    "        align=\"left\",\n",
    "        histtype=\"step\",\n",
    "        lw=2,\n",
    "    )\n",
    "    ax2.bar(\n",
    "        pl[0] - 1,\n",
    "        2,\n",
    "        (pl[1] - pl[0]),\n",
    "        color=\"lightgrey\",\n",
    "        ecolor=\"grey\",\n",
    "        hatch=\"\\\\\",\n",
    "        align=\"edge\",\n",
    "        label=\"Phantom Prices (exterior)\",\n",
    "        linewidth=1,\n",
    "    )\n",
    "    ax2.hist(\n",
    "        ARRAYS[\"High-High\"][26:],\n",
    "        color=pal[0],\n",
    "        bins=np.arange(0, 51, 2),\n",
    "        align=\"left\",\n",
    "        histtype=\"step\",\n",
    "        lw=2,\n",
    "    )\n",
    "    ax2.set_title(\"High SD White Wines\")\n",
    "\n",
    "    (rh, wh, irh, orh), (rl, wl, irl, orl) = ax2.get_legend_handles_labels()\n",
    "\n",
    "    ax2.legend(\n",
    "        [rh, orh, wh, irh],\n",
    "        [rl, orl, wl, irl],\n",
    "        ncol=2,\n",
    "        loc=\"center\",\n",
    "        bbox_to_anchor=(0.5, -0.5),\n",
    "    )\n",
    "\n",
    "    for ax in axes.flatten():\n",
    "        ax.set_yticks([])\n",
    "        ax.set_ylim(0, 14)\n",
    "        ax.set_xticks(np.arange(0, 52, 4))\n",
    "        ax.set_xticklabels([f\"${i}\" for i in np.arange(0, 52, 4)])\n",
    "        ax.set_xlim(-2, 52)\n",
    "\n",
    "    sns.despine()\n",
    "    plt.tight_layout()\n",
    "    if save:\n",
    "        plt.savefig(\n",
    "            f\"../Figures/{pathname}/{figname}.png\", dpi=100, bbox_inches=\"tight\"\n",
    "        )\n",
    "    if show:\n",
    "        plt.show()\n",
    "    else:\n",
    "        plt.close()\n",
    "\n",
    "\n",
    "def plot_results(\n",
    "    data, save=False, show=True, grayscale=False, figname=f\"Fig 17 - {STUDY_NAME} - Results\",\n",
    "):\n",
    "    if grayscale:\n",
    "        pal = sns.color_palette(\"Greys\")[2::3]\n",
    "        pathname = \"Grayscale\"\n",
    "    else:\n",
    "        pal = sns.color_palette()\n",
    "        pathname = \"Color\"\n",
    "\n",
    "    if show:\n",
    "        sns.set_context(\"notebook\")\n",
    "    else:\n",
    "        sns.set_context(\"paper\")\n",
    "\n",
    "    sns.set_style(\"white\")\n",
    "\n",
    "    g = sns.factorplot(\n",
    "        y=\"value_sd\",\n",
    "        x=\"sd_focal\",\n",
    "        hue=\"sd_other\",\n",
    "        order=[\"Low\", \"High\"],\n",
    "        hue_order=[\"Low\", \"High\"],\n",
    "        data=data,\n",
    "        aspect=1.5,\n",
    "        size=6.38 / 1.5,\n",
    "        kind=\"bar\",\n",
    "        legend=False,\n",
    "        palette=pal,\n",
    "    )\n",
    "    g.ax.set_ylim(2, 7)\n",
    "    g.ax.legend(title=\"True SD of Other Category\", loc=\"upper left\", frameon=False)\n",
    "    g.set_xlabels(\"True SD of Own Category\")\n",
    "    g.set_ylabels(\"SD of Reported Prices\")\n",
    "    if save:\n",
    "        plt.savefig(\n",
    "            f\"../Figures/{pathname}/{figname}.png\", dpi=100, bbox_inches=\"tight\"\n",
    "        )\n",
    "    if show:\n",
    "        plt.show()\n",
    "    else:\n",
    "        plt.close()"
   ]
  },
  {
   "cell_type": "markdown",
   "metadata": {},
   "source": [
    "## Data loading and preparation"
   ]
  },
  {
   "cell_type": "code",
   "execution_count": 3,
   "metadata": {},
   "outputs": [],
   "source": [
    "df = pd.read_csv(f\"../Data/{STUDY_NAME}/LongData.csv\")\n",
    "df[\"phantom_total\"] = df.apply(is_phantom_values_total, axis=1)\n",
    "df[\"phantom_outside\"] = df.apply(is_phantom_values_outside, axis=1)\n",
    "\n",
    "df_grouped = df.groupby(\n",
    "    [\n",
    "        \"turkid\",\n",
    "        \"pid\",\n",
    "        \"item\",\n",
    "        \"sd_item_one\",\n",
    "        \"sd_item_two\",\n",
    "        \"sd_focal\",\n",
    "        \"sd_other\",\n",
    "        \"mean_focal\",\n",
    "        \"mean_other\",\n",
    "    ]\n",
    ")\n",
    "df_agg_values = df_grouped.value.agg(\n",
    "    **{\n",
    "        \"value_mean\": np.mean,\n",
    "        \"value_sd\": np.std,\n",
    "        \"value_var\": lambda x: np.std(x) ** 2,\n",
    "        \"value_range\": lambda x: np.max(x) - np.min(x),\n",
    "        \"value_min\": np.min,\n",
    "        \"value_max\": np.max,\n",
    "    }\n",
    ")\n",
    "\n",
    "df_agg_phantom = df_grouped[[\"phantom_outside\", \"phantom_total\"]].sum()\n",
    "\n",
    "df_agg = df_agg_values.join(\n",
    "    df_agg_phantom[[\"phantom_outside\", \"phantom_total\"]]\n",
    ").reset_index()\n",
    "df_agg[\"variance_comparison\"] = df_agg[[\"sd_focal\", \"sd_other\"]].apply(\n",
    "    lambda x: \"More\"\n",
    "    if (x[\"sd_focal\"] == \"Low\") & (x[\"sd_other\"] == \"High\")\n",
    "    else \"Less\"\n",
    "    if (x[\"sd_focal\"] == \"High\") & (x[\"sd_other\"] == \"Low\")\n",
    "    else \"Equal\",\n",
    "    axis=1,\n",
    ")"
   ]
  },
  {
   "cell_type": "markdown",
   "metadata": {
    "toc-hr-collapsed": false
   },
   "source": [
    "# Design"
   ]
  },
  {
   "cell_type": "markdown",
   "metadata": {},
   "source": [
    "## Illustration of phantom prices"
   ]
  },
  {
   "cell_type": "code",
   "execution_count": 4,
   "metadata": {},
   "outputs": [
    {
     "data": {
      "image/png": "[encoded data removed]",
      "text/plain": [
       "<Figure size 459.36x432 with 2 Axes>"
      ]
     },
     "metadata": {},
     "output_type": "display_data"
    }
   ],
   "source": [
    "plot_phantom_range(show=True, save=True)\n",
    "plot_phantom_range(show=False, save=True, grayscale=True)"
   ]
  },
  {
   "cell_type": "markdown",
   "metadata": {},
   "source": [
    "## Distributions by condition"
   ]
  },
  {
   "cell_type": "code",
   "execution_count": 5,
   "metadata": {},
   "outputs": [
    {
     "data": {
      "image/png": "[encoded data removed]",
      "text/plain": [
       "<Figure size 459.36x288 with 4 Axes>"
      ]
     },
     "metadata": {},
     "output_type": "display_data"
    }
   ],
   "source": [
    "plot_design(show=True, save=True)\n",
    "plot_design(show=False, save=True, grayscale=True)"
   ]
  },
  {
   "cell_type": "markdown",
   "metadata": {},
   "source": [
    "## Number of valid participants"
   ]
  },
  {
   "cell_type": "code",
   "execution_count": 6,
   "metadata": {},
   "outputs": [
    {
     "data": {
      "text/plain": [
       "301"
      ]
     },
     "execution_count": 6,
     "metadata": {},
     "output_type": "execute_result"
    }
   ],
   "source": [
    "df_agg.pid.unique().shape[0]"
   ]
  },
  {
   "cell_type": "markdown",
   "metadata": {
    "toc-hr-collapsed": false
   },
   "source": [
    "# Analysis"
   ]
  },
  {
   "cell_type": "markdown",
   "metadata": {},
   "source": [
    "## SD of prices"
   ]
  },
  {
   "cell_type": "code",
   "execution_count": 7,
   "metadata": {},
   "outputs": [
    {
     "data": {
      "image/png": "[encoded data removed]",
      "text/plain": [
       "<Figure size 459.36x306.24 with 1 Axes>"
      ]
     },
     "metadata": {},
     "output_type": "display_data"
    }
   ],
   "source": [
    "plot_results(df_agg, show=False, save=True, grayscale=True)\n",
    "plot_results(df_agg, show=True, save=True)"
   ]
  },
  {
   "cell_type": "code",
   "execution_count": 8,
   "metadata": {},
   "outputs": [
    {
     "data": {
      "text/html": [
       "<table class=\"simpletable\">\n",
       "<tr>\n",
       "       <td>Model:</td>       <td>MixedLM</td> <td>Dependent Variable:</td> <td>SD of Prices</td>\n",
       "</tr>\n",
       "<tr>\n",
       "  <td>No. Observations:</td>   <td>602</td>         <td>Method:</td>           <td>REML</td>    \n",
       "</tr>\n",
       "<tr>\n",
       "     <td>No. Groups:</td>      <td>301</td>         <td>Scale:</td>           <td>6.3389</td>   \n",
       "</tr>\n",
       "<tr>\n",
       "  <td>Min. group size:</td>     <td>2</td>      <td>Log-Likelihood:</td>    <td>-1527.8033</td> \n",
       "</tr>\n",
       "<tr>\n",
       "  <td>Max. group size:</td>     <td>2</td>        <td>Converged:</td>           <td>Yes</td>    \n",
       "</tr>\n",
       "<tr>\n",
       "  <td>Mean group size:</td>    <td>2.0</td>            <td></td>                 <td></td>      \n",
       "</tr>\n",
       "</table>\n",
       "<table class=\"simpletable\">\n",
       "<tr>\n",
       "               <td></td>               <th>Coef.</th> <th>Std.Err.</th>    <th>z</th>   <th>P>|z|</th> <th>[0.025</th> <th>0.975]</th>\n",
       "</tr>\n",
       "<tr>\n",
       "  <th>Intercept</th>                   <td>5.061</td>   <td>0.152</td>  <td>33.278</td> <td>0.000</td>  <td>4.762</td>  <td>5.359</td>\n",
       "</tr>\n",
       "<tr>\n",
       "  <th>Own: High vs. Low SD</th>        <td>1.792</td>   <td>0.258</td>   <td>6.944</td> <td>0.000</td>  <td>1.286</td>  <td>2.298</td>\n",
       "</tr>\n",
       "<tr>\n",
       "  <th>Other: High vs. Low SD</th>      <td>0.516</td>   <td>0.258</td>   <td>1.999</td> <td>0.046</td>  <td>0.010</td>  <td>1.021</td>\n",
       "</tr>\n",
       "<tr>\n",
       "  <th>Interaction</th>                <td>-0.737</td>   <td>0.608</td>  <td>-1.211</td> <td>0.226</td> <td>-1.929</td>  <td>0.456</td>\n",
       "</tr>\n",
       "<tr>\n",
       "  <th>Participant Random Effects</th>  <td>3.785</td>   <td>0.319</td>     <td></td>      <td></td>       <td></td>       <td></td>   \n",
       "</tr>\n",
       "</table>"
      ],
      "text/plain": [
       "<class 'statsmodels.iolib.summary2.Summary'>\n",
       "\"\"\"\n",
       "                Mixed Linear Model Regression Results\n",
       "=====================================================================\n",
       "Model:                 MixedLM    Dependent Variable:    SD of Prices\n",
       "No. Observations:      602        Method:                REML        \n",
       "No. Groups:            301        Scale:                 6.3389      \n",
       "Min. group size:       2          Log-Likelihood:        -1527.8033  \n",
       "Max. group size:       2          Converged:             Yes         \n",
       "Mean group size:       2.0                                           \n",
       "---------------------------------------------------------------------\n",
       "                           Coef.  Std.Err.   z    P>|z| [0.025 0.975]\n",
       "---------------------------------------------------------------------\n",
       "Intercept                   5.061    0.152 33.278 0.000  4.762  5.359\n",
       "Own: High vs. Low SD        1.792    0.258  6.944 0.000  1.286  2.298\n",
       "Other: High vs. Low SD      0.516    0.258  1.999 0.046  0.010  1.021\n",
       "Interaction                -0.737    0.608 -1.211 0.226 -1.929  0.456\n",
       "Participant Random Effects  3.785    0.319                           \n",
       "=====================================================================\n",
       "\n",
       "\"\"\""
      ]
     },
     "execution_count": 8,
     "metadata": {},
     "output_type": "execute_result"
    }
   ],
   "source": [
    "model = smf.mixedlm(\n",
    "    \"value_sd~C(sd_focal, Diff, levels=['Low', 'High'])\\\n",
    "*C(sd_other, Diff, levels=['Low', 'High'])\",\n",
    "    data=df_agg,\n",
    "    groups=df_agg.turkid,\n",
    ").fit()\n",
    "model.summary(\n",
    "    xname_fe=[\n",
    "        \"Intercept\",\n",
    "        \"Own: High vs. Low SD\",\n",
    "        \"Other: High vs. Low SD\",\n",
    "        \"Interaction\",\n",
    "    ],\n",
    "    yname=\"SD of Prices\",\n",
    "    xname_re=[\"Participant Random Effects\"],\n",
    ")"
   ]
  },
  {
   "cell_type": "code",
   "execution_count": 9,
   "metadata": {},
   "outputs": [
    {
     "data": {
      "text/html": [
       "<style  type=\"text/css\" >\n",
       "</style><table id=\"T_ccc0f23a_8ecf_11ea_af47_448a5b2f88e1\" ><thead>    <tr>        <th class=\"blank level0\" ></th>        <th class=\"col_heading level0 col0\" >Standardized Betas</th>    </tr></thead><tbody>\n",
       "                <tr>\n",
       "                        <th id=\"T_ccc0f23a_8ecf_11ea_af47_448a5b2f88e1level0_row0\" class=\"row_heading level0 row0\" >Intercept</th>\n",
       "                        <td id=\"T_ccc0f23a_8ecf_11ea_af47_448a5b2f88e1row0_col0\" class=\"data row0 col0\" >1.53</td>\n",
       "            </tr>\n",
       "            <tr>\n",
       "                        <th id=\"T_ccc0f23a_8ecf_11ea_af47_448a5b2f88e1level0_row1\" class=\"row_heading level0 row1\" >Own: High vs. Low SD</th>\n",
       "                        <td id=\"T_ccc0f23a_8ecf_11ea_af47_448a5b2f88e1row1_col0\" class=\"data row1 col0\" >0.54</td>\n",
       "            </tr>\n",
       "            <tr>\n",
       "                        <th id=\"T_ccc0f23a_8ecf_11ea_af47_448a5b2f88e1level0_row2\" class=\"row_heading level0 row2\" >Other: High vs. Low SD</th>\n",
       "                        <td id=\"T_ccc0f23a_8ecf_11ea_af47_448a5b2f88e1row2_col0\" class=\"data row2 col0\" >0.16</td>\n",
       "            </tr>\n",
       "            <tr>\n",
       "                        <th id=\"T_ccc0f23a_8ecf_11ea_af47_448a5b2f88e1level0_row3\" class=\"row_heading level0 row3\" >Interaction</th>\n",
       "                        <td id=\"T_ccc0f23a_8ecf_11ea_af47_448a5b2f88e1row3_col0\" class=\"data row3 col0\" >-0.22</td>\n",
       "            </tr>\n",
       "    </tbody></table>"
      ],
      "text/plain": [
       "<pandas.io.formats.style.Styler at 0x18239515470>"
      ]
     },
     "execution_count": 9,
     "metadata": {},
     "output_type": "execute_result"
    }
   ],
   "source": [
    "stdbetas = model.params[:-1] / df_agg.value_sd.std(ddof=1)\n",
    "stdbetas.index = [\n",
    "    \"Intercept\",\n",
    "    \"Own: High vs. Low SD\",\n",
    "    \"Other: High vs. Low SD\",\n",
    "    \"Interaction\",\n",
    "]\n",
    "table = pd.DataFrame(stdbetas, columns=[\"Standardized Betas\"])\n",
    "table.style.format(\"{:.2f}\")"
   ]
  },
  {
   "cell_type": "markdown",
   "metadata": {},
   "source": [
    "## Analysis of the phantom prices"
   ]
  },
  {
   "cell_type": "markdown",
   "metadata": {},
   "source": [
    "### All phantom prices"
   ]
  },
  {
   "cell_type": "code",
   "execution_count": 10,
   "metadata": {},
   "outputs": [
    {
     "data": {
      "text/html": [
       "<table class=\"simpletable\">\n",
       "<tr>\n",
       "       <td>Model:</td>       <td>MixedLM</td> <td>Dependent Variable:</td> <td>Phantom Prices (All)</td>\n",
       "</tr>\n",
       "<tr>\n",
       "  <td>No. Observations:</td>   <td>602</td>         <td>Method:</td>               <td>REML</td>        \n",
       "</tr>\n",
       "<tr>\n",
       "     <td>No. Groups:</td>      <td>301</td>         <td>Scale:</td>               <td>11.8808</td>      \n",
       "</tr>\n",
       "<tr>\n",
       "  <td>Min. group size:</td>     <td>2</td>      <td>Log-Likelihood:</td>        <td>-1651.7701</td>     \n",
       "</tr>\n",
       "<tr>\n",
       "  <td>Max. group size:</td>     <td>2</td>        <td>Converged:</td>               <td>Yes</td>        \n",
       "</tr>\n",
       "<tr>\n",
       "  <td>Mean group size:</td>    <td>2.0</td>            <td></td>                     <td></td>          \n",
       "</tr>\n",
       "</table>\n",
       "<table class=\"simpletable\">\n",
       "<tr>\n",
       "               <td></td>               <th>Coef.</th> <th>Std.Err.</th>    <th>z</th>   <th>P>|z|</th> <th>[0.025</th> <th>0.975]</th>\n",
       "</tr>\n",
       "<tr>\n",
       "  <th>Intercept</th>                   <td>4.109</td>   <td>0.330</td>  <td>12.454</td> <td>0.000</td>  <td>3.462</td>  <td>4.756</td>\n",
       "</tr>\n",
       "<tr>\n",
       "  <th>Own: High vs. Low SD</th>       <td>-2.376</td>   <td>0.456</td>  <td>-5.214</td> <td>0.000</td> <td>-3.269</td> <td>-1.483</td>\n",
       "</tr>\n",
       "<tr>\n",
       "  <th>Other: High vs. Low SD</th>      <td>1.980</td>   <td>0.456</td>   <td>4.345</td> <td>0.000</td>  <td>1.087</td>  <td>2.873</td>\n",
       "</tr>\n",
       "<tr>\n",
       "  <th>Interaction</th>                <td>-1.531</td>   <td>0.672</td>  <td>-2.278</td> <td>0.023</td> <td>-2.848</td> <td>-0.214</td>\n",
       "</tr>\n",
       "<tr>\n",
       "  <th>Participant Random Effects</th>  <td>2.550</td>   <td>0.285</td>     <td></td>      <td></td>       <td></td>       <td></td>   \n",
       "</tr>\n",
       "</table>"
      ],
      "text/plain": [
       "<class 'statsmodels.iolib.summary2.Summary'>\n",
       "\"\"\"\n",
       "                Mixed Linear Model Regression Results\n",
       "=====================================================================\n",
       "Model:             MixedLM  Dependent Variable:  Phantom Prices (All)\n",
       "No. Observations:  602      Method:              REML                \n",
       "No. Groups:        301      Scale:               11.8808             \n",
       "Min. group size:   2        Log-Likelihood:      -1651.7701          \n",
       "Max. group size:   2        Converged:           Yes                 \n",
       "Mean group size:   2.0                                               \n",
       "---------------------------------------------------------------------\n",
       "                           Coef.  Std.Err.   z    P>|z| [0.025 0.975]\n",
       "---------------------------------------------------------------------\n",
       "Intercept                   4.109    0.330 12.454 0.000  3.462  4.756\n",
       "Own: High vs. Low SD       -2.376    0.456 -5.214 0.000 -3.269 -1.483\n",
       "Other: High vs. Low SD      1.980    0.456  4.345 0.000  1.087  2.873\n",
       "Interaction                -1.531    0.672 -2.278 0.023 -2.848 -0.214\n",
       "Participant Random Effects  2.550    0.285                           \n",
       "=====================================================================\n",
       "\n",
       "\"\"\""
      ]
     },
     "execution_count": 10,
     "metadata": {},
     "output_type": "execute_result"
    }
   ],
   "source": [
    "model = smf.mixedlm(\n",
    "    \"phantom_total~C(sd_focal, Treatment(1))*C(sd_other, Treatment(1))\",\n",
    "    data=df_agg,\n",
    "    groups=df_agg.turkid,\n",
    ").fit()\n",
    "model.summary(\n",
    "    yname=\"Phantom Prices (All)\",\n",
    "    xname_fe=[\n",
    "        \"Intercept\",\n",
    "        \"Own: High vs. Low SD\",\n",
    "        \"Other: High vs. Low SD\",\n",
    "        \"Interaction\",\n",
    "    ],\n",
    "    xname_re=[\"Participant Random Effects\"],\n",
    ")"
   ]
  },
  {
   "cell_type": "code",
   "execution_count": 11,
   "metadata": {},
   "outputs": [
    {
     "data": {
      "text/html": [
       "<style  type=\"text/css\" >\n",
       "</style><table id=\"T_cd5a4000_8ecf_11ea_ae9d_448a5b2f88e1\" ><thead>    <tr>        <th class=\"blank level0\" ></th>        <th class=\"col_heading level0 col0\" >Standardized Betas</th>    </tr></thead><tbody>\n",
       "                <tr>\n",
       "                        <th id=\"T_cd5a4000_8ecf_11ea_ae9d_448a5b2f88e1level0_row0\" class=\"row_heading level0 row0\" >Intercept</th>\n",
       "                        <td id=\"T_cd5a4000_8ecf_11ea_ae9d_448a5b2f88e1row0_col0\" class=\"data row0 col0\" >0.99</td>\n",
       "            </tr>\n",
       "            <tr>\n",
       "                        <th id=\"T_cd5a4000_8ecf_11ea_ae9d_448a5b2f88e1level0_row1\" class=\"row_heading level0 row1\" >Given: High vs. Low</th>\n",
       "                        <td id=\"T_cd5a4000_8ecf_11ea_ae9d_448a5b2f88e1row1_col0\" class=\"data row1 col0\" >-0.57</td>\n",
       "            </tr>\n",
       "            <tr>\n",
       "                        <th id=\"T_cd5a4000_8ecf_11ea_ae9d_448a5b2f88e1level0_row2\" class=\"row_heading level0 row2\" >Other: High vs. Low</th>\n",
       "                        <td id=\"T_cd5a4000_8ecf_11ea_ae9d_448a5b2f88e1row2_col0\" class=\"data row2 col0\" >0.48</td>\n",
       "            </tr>\n",
       "            <tr>\n",
       "                        <th id=\"T_cd5a4000_8ecf_11ea_ae9d_448a5b2f88e1level0_row3\" class=\"row_heading level0 row3\" >Interaction</th>\n",
       "                        <td id=\"T_cd5a4000_8ecf_11ea_ae9d_448a5b2f88e1row3_col0\" class=\"data row3 col0\" >-0.37</td>\n",
       "            </tr>\n",
       "    </tbody></table>"
      ],
      "text/plain": [
       "<pandas.io.formats.style.Styler at 0x18239acff60>"
      ]
     },
     "execution_count": 11,
     "metadata": {},
     "output_type": "execute_result"
    }
   ],
   "source": [
    "stdbetas = model.params[:-1] / df_agg.phantom_total.std(ddof=1)\n",
    "stdbetas.index = [\n",
    "    \"Intercept\",\n",
    "    \"Given: High vs. Low\",\n",
    "    \"Other: High vs. Low\",\n",
    "    \"Interaction\",\n",
    "]\n",
    "table = pd.DataFrame(stdbetas, columns=[\"Standardized Betas\"])\n",
    "table.style.format(\"{:.2f}\")"
   ]
  },
  {
   "cell_type": "markdown",
   "metadata": {},
   "source": [
    "### Out-range only"
   ]
  },
  {
   "cell_type": "code",
   "execution_count": 12,
   "metadata": {},
   "outputs": [
    {
     "name": "stderr",
     "output_type": "stream",
     "text": [
      "C:\\Users\\Quentin ANDRE\\.conda\\envs\\researchshared\\lib\\site-packages\\statsmodels\\regression\\mixed_linear_model.py:2149: ConvergenceWarning: The MLE may be on the boundary of the parameter space.\n",
      "  warnings.warn(msg, ConvergenceWarning)\n"
     ]
    },
    {
     "data": {
      "text/html": [
       "<table class=\"simpletable\">\n",
       "<tr>\n",
       "       <td>Model:</td>       <td>MixedLM</td> <td>Dependent Variable:</td> <td>Phantom Prices (Exterior Only)</td>\n",
       "</tr>\n",
       "<tr>\n",
       "  <td>No. Observations:</td>   <td>602</td>         <td>Method:</td>                    <td>REML</td>             \n",
       "</tr>\n",
       "<tr>\n",
       "     <td>No. Groups:</td>      <td>301</td>         <td>Scale:</td>                    <td>3.1377</td>            \n",
       "</tr>\n",
       "<tr>\n",
       "  <td>Min. group size:</td>     <td>2</td>      <td>Log-Likelihood:</td>             <td>-1200.4531</td>          \n",
       "</tr>\n",
       "<tr>\n",
       "  <td>Max. group size:</td>     <td>2</td>        <td>Converged:</td>                    <td>Yes</td>             \n",
       "</tr>\n",
       "<tr>\n",
       "  <td>Mean group size:</td>    <td>2.0</td>            <td></td>                          <td></td>               \n",
       "</tr>\n",
       "</table>\n",
       "<table class=\"simpletable\">\n",
       "<tr>\n",
       "               <td></td>               <th>Coef.</th> <th>Std.Err.</th>    <th>z</th>   <th>P>|z|</th> <th>[0.025</th> <th>0.975]</th>\n",
       "</tr>\n",
       "<tr>\n",
       "  <th>Intercept</th>                   <td>0.801</td>   <td>0.142</td>   <td>5.650</td> <td>0.000</td>  <td>0.523</td>  <td>1.079</td>\n",
       "</tr>\n",
       "<tr>\n",
       "  <th>Own: High vs. Low SD</th>       <td>-0.431</td>   <td>0.204</td>  <td>-2.115</td> <td>0.034</td> <td>-0.831</td> <td>-0.032</td>\n",
       "</tr>\n",
       "<tr>\n",
       "  <th>Other: High vs. Low SD</th>      <td>0.445</td>   <td>0.204</td>   <td>2.183</td> <td>0.029</td>  <td>0.046</td>  <td>0.845</td>\n",
       "</tr>\n",
       "<tr>\n",
       "  <th>Interaction</th>                <td>-0.348</td>   <td>0.289</td>  <td>-1.203</td> <td>0.229</td> <td>-0.914</td>  <td>0.219</td>\n",
       "</tr>\n",
       "<tr>\n",
       "  <th>Participant Random Effects</th>  <td>0.000</td>   <td>0.114</td>     <td></td>      <td></td>       <td></td>       <td></td>   \n",
       "</tr>\n",
       "</table>"
      ],
      "text/plain": [
       "<class 'statsmodels.iolib.summary2.Summary'>\n",
       "\"\"\"\n",
       "                   Mixed Linear Model Regression Results\n",
       "============================================================================\n",
       "Model:            MixedLM Dependent Variable: Phantom Prices (Exterior Only)\n",
       "No. Observations: 602     Method:             REML                          \n",
       "No. Groups:       301     Scale:              3.1377                        \n",
       "Min. group size:  2       Log-Likelihood:     -1200.4531                    \n",
       "Max. group size:  2       Converged:          Yes                           \n",
       "Mean group size:  2.0                                                       \n",
       "-----------------------------------------------------------------------------\n",
       "                              Coef.   Std.Err.    z     P>|z|  [0.025  0.975]\n",
       "-----------------------------------------------------------------------------\n",
       "Intercept                      0.801     0.142   5.650  0.000   0.523   1.079\n",
       "Own: High vs. Low SD          -0.431     0.204  -2.115  0.034  -0.831  -0.032\n",
       "Other: High vs. Low SD         0.445     0.204   2.183  0.029   0.046   0.845\n",
       "Interaction                   -0.348     0.289  -1.203  0.229  -0.914   0.219\n",
       "Participant Random Effects     0.000     0.114                               \n",
       "============================================================================\n",
       "\n",
       "\"\"\""
      ]
     },
     "execution_count": 12,
     "metadata": {},
     "output_type": "execute_result"
    }
   ],
   "source": [
    "model = smf.mixedlm(\n",
    "    \"phantom_outside~C(sd_focal, Treatment(1))*C(sd_other, Treatment(1))\",\n",
    "    data=df_agg,\n",
    "    groups=df_agg.turkid,\n",
    ").fit()\n",
    "model.summary(\n",
    "    yname=\"Phantom Prices (Exterior Only)\",\n",
    "    xname_fe=[\n",
    "        \"Intercept\",\n",
    "        \"Own: High vs. Low SD\",\n",
    "        \"Other: High vs. Low SD\",\n",
    "        \"Interaction\",\n",
    "    ],\n",
    "    xname_re=[\"Participant Random Effects\"],\n",
    ")"
   ]
  },
  {
   "cell_type": "code",
   "execution_count": 13,
   "metadata": {},
   "outputs": [
    {
     "data": {
      "text/html": [
       "<style  type=\"text/css\" >\n",
       "</style><table id=\"T_ce1542ec_8ecf_11ea_89cc_448a5b2f88e1\" ><thead>    <tr>        <th class=\"blank level0\" ></th>        <th class=\"col_heading level0 col0\" >Standardized Betas</th>    </tr></thead><tbody>\n",
       "                <tr>\n",
       "                        <th id=\"T_ce1542ec_8ecf_11ea_89cc_448a5b2f88e1level0_row0\" class=\"row_heading level0 row0\" >Intercept</th>\n",
       "                        <td id=\"T_ce1542ec_8ecf_11ea_89cc_448a5b2f88e1row0_col0\" class=\"data row0 col0\" >0.45</td>\n",
       "            </tr>\n",
       "            <tr>\n",
       "                        <th id=\"T_ce1542ec_8ecf_11ea_89cc_448a5b2f88e1level0_row1\" class=\"row_heading level0 row1\" >Given: High vs. Low</th>\n",
       "                        <td id=\"T_ce1542ec_8ecf_11ea_89cc_448a5b2f88e1row1_col0\" class=\"data row1 col0\" >-0.24</td>\n",
       "            </tr>\n",
       "            <tr>\n",
       "                        <th id=\"T_ce1542ec_8ecf_11ea_89cc_448a5b2f88e1level0_row2\" class=\"row_heading level0 row2\" >Other: High vs. Low</th>\n",
       "                        <td id=\"T_ce1542ec_8ecf_11ea_89cc_448a5b2f88e1row2_col0\" class=\"data row2 col0\" >0.25</td>\n",
       "            </tr>\n",
       "            <tr>\n",
       "                        <th id=\"T_ce1542ec_8ecf_11ea_89cc_448a5b2f88e1level0_row3\" class=\"row_heading level0 row3\" >Interaction</th>\n",
       "                        <td id=\"T_ce1542ec_8ecf_11ea_89cc_448a5b2f88e1row3_col0\" class=\"data row3 col0\" >-0.19</td>\n",
       "            </tr>\n",
       "    </tbody></table>"
      ],
      "text/plain": [
       "<pandas.io.formats.style.Styler at 0x182395a7198>"
      ]
     },
     "execution_count": 13,
     "metadata": {},
     "output_type": "execute_result"
    }
   ],
   "source": [
    "stdbetas = model.params[:-1] / df_agg.phantom_outside.std(ddof=1)\n",
    "stdbetas.index = [\n",
    "    \"Intercept\",\n",
    "    \"Given: High vs. Low\",\n",
    "    \"Other: High vs. Low\",\n",
    "    \"Interaction\",\n",
    "]\n",
    "table = pd.DataFrame(stdbetas, columns=[\"Standardized Betas\"])\n",
    "table.style.format(\"{:.2f}\")"
   ]
  }
 ],
 "metadata": {
  "kernelspec": {
   "display_name": "Python 3",
   "language": "python",
   "name": "python3"
  },
  "language_info": {
   "codemirror_mode": {
    "name": "ipython",
    "version": 3
   },
   "file_extension": ".py",
   "mimetype": "text/x-python",
   "name": "python",
   "nbconvert_exporter": "python",
   "pygments_lexer": "ipython3",
   "version": "3.6.10"
  }
 },
 "nbformat": 4,
 "nbformat_minor": 4
}
