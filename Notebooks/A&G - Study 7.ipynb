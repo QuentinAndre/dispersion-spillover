{
 "cells": [
  {
   "cell_type": "markdown",
   "metadata": {},
   "source": [
    "This notebook presents all the analysis reported in Study 7 of the paper.\n",
    "\n",
    "Click the \"Show Code\" buttons to see the code associated with each output."
   ]
  },
  {
   "cell_type": "markdown",
   "metadata": {
    "toc-hr-collapsed": false
   },
   "source": [
    "# Preamble"
   ]
  },
  {
   "cell_type": "markdown",
   "metadata": {},
   "source": [
    "## Libraries"
   ]
  },
  {
   "cell_type": "code",
   "execution_count": 1,
   "metadata": {},
   "outputs": [],
   "source": [
    "# Misc\n",
    "import warnings\n",
    "\n",
    "warnings.filterwarnings(\"ignore\")\n",
    "from IPython.display import Markdown\n",
    "\n",
    "# Data libraries\n",
    "import pandas as pd\n",
    "import numpy as np\n",
    "\n",
    "# Plotting\n",
    "import matplotlib as mpl\n",
    "import matplotlib.pyplot as plt\n",
    "import seaborn as sns\n",
    "from matplotlib.patches import Patch\n",
    "from matplotlib.lines import Line2D\n",
    "\n",
    "sns.set_context(\"notebook\")\n",
    "\n",
    "# Statistics\n",
    "import statsmodels.formula.api as smf\n",
    "import scipy.stats as stats\n",
    "from scipy.stats import ks_2samp, zscore\n",
    "from statsmodels.stats.proportion import proportions_chisquare\n",
    "\n",
    "# Interface with R\n",
    "import rpy2\n",
    "\n",
    "%load_ext rpy2.ipython\n",
    "\n",
    "STUDY_NAME = \"Study 7\""
   ]
  },
  {
   "cell_type": "markdown",
   "metadata": {},
   "source": [
    "## Functions"
   ]
  },
  {
   "cell_type": "code",
   "execution_count": 2,
   "metadata": {},
   "outputs": [],
   "source": [
    "# fmt: off\n",
    "ARRAYS = {\n",
    "    \"Lower\": np.array(\n",
    "        [\n",
    "            30, 30,\n",
    "            31,  31,  31,  31,  31,  31,\n",
    "            32,  32,  32,  32,  32,  32,  32,  32,  32,\n",
    "            33,  33,  33,  33,  33,  33,\n",
    "            34,  34\n",
    "        ]\n",
    "    ),\n",
    "    \"Equal\": np.array(\n",
    "        [\n",
    "             27,\n",
    "             28,\n",
    "             29,  29,\n",
    "             30,  30, 30,\n",
    "             31,  31,  31,\n",
    "             32,  32,  32,  32, 32,  \n",
    "             33,  33,  33, \n",
    "             34,  34,  34,\n",
    "             35,  35,\n",
    "             36,\n",
    "             37\n",
    "        ]\n",
    "    ),\n",
    "    \"Higher\": np.array(\n",
    "        [\n",
    "            14,\n",
    "            18,\n",
    "            21,\n",
    "            22,\n",
    "            24,\n",
    "            25,\n",
    "            26,\n",
    "            27,\n",
    "            28,\n",
    "            29,\n",
    "            30,\n",
    "            31,\n",
    "            32,\n",
    "            33,\n",
    "            34,\n",
    "            35,\n",
    "            36,\n",
    "            37,\n",
    "            38,\n",
    "            39,\n",
    "            40,\n",
    "            42,\n",
    "            43,\n",
    "            46,\n",
    "            50,\n",
    "        ]\n",
    "    ),\n",
    "}\n",
    "# fmt: on\n",
    "\n",
    "\n",
    "def plot_design(\n",
    "    save=False, show=True, grayscale=False, figname=\"Study 4 - Design\",\n",
    "):\n",
    "\n",
    "    if grayscale:\n",
    "        pal = sns.color_palette(\"Greys\")[2::3]\n",
    "        pathname = \"Grayscale\"\n",
    "    else:\n",
    "        pal = sns.color_palette()[2:0:-1]\n",
    "        pathname = \"Color\"\n",
    "\n",
    "    if show:\n",
    "        sns.set_context(\"notebook\")\n",
    "    else:\n",
    "        sns.set_context(\"paper\")\n",
    "\n",
    "    sns.set_style(\"ticks\")\n",
    "    fig, axes = plt.subplots(2, 1, figsize=(6.38, 6.38))\n",
    "    axes = axes.flatten()\n",
    "    for i, (manip, common, title) in enumerate(\n",
    "        zip(\n",
    "            [ARRAYS[\"Lower\"], ARRAYS[\"Higher\"]],\n",
    "            [ARRAYS[\"Equal\"], ARRAYS[\"Equal\"]],\n",
    "            [\"Less Dispersion\", \"More Dispersion\"],\n",
    "        )\n",
    "    ):\n",
    "        ax = axes[i]\n",
    "        ax.annotate(title, (21, 5), size=12, va=\"center\", ha=\"center\")\n",
    "        bins = np.arange(0, 51, 1)\n",
    "        ax.hist(\n",
    "            common,\n",
    "            bins=bins,\n",
    "            label=\"Amazon Gift Card\",\n",
    "            color=pal[1],\n",
    "            density=False,\n",
    "            align=\"left\",\n",
    "            rwidth=0.7,\n",
    "            lw=0,\n",
    "        )\n",
    "        ax.hist(\n",
    "            manip,\n",
    "            bins=bins,\n",
    "            label=\"Whole Foods Gift Card\",\n",
    "            color=pal[0],\n",
    "            density=False,\n",
    "            align=\"left\",\n",
    "            rwidth=0.35,\n",
    "            lw=0,\n",
    "        )\n",
    "        leg = ax.legend()\n",
    "        han = leg.legendHandles\n",
    "        leg.remove()\n",
    "        ax.set_xticks(np.arange(10, 55, 5))\n",
    "        ax.set_xticklabels([f\"${i}\" for i in np.arange(10, 55, 5)])\n",
    "        ax.set_xlim(8, 52)\n",
    "        ax.set_ylim(0, 10)\n",
    "        ax.set_yticklabels(np.arange(0, 12, 2))\n",
    "        ax.set_ylabel(\"Number of Bids\")\n",
    "        sns.despine(ax=ax)\n",
    "    axes[0].legend(\n",
    "        handles=han,\n",
    "        loc=\"center left\",\n",
    "        title=\"Item\",\n",
    "        frameon=False,\n",
    "        bbox_to_anchor=(0.6, 0.75),\n",
    "    )\n",
    "\n",
    "    sns.despine()\n",
    "    plt.tight_layout()\n",
    "    plt.subplots_adjust(hspace=0.15, left=0)\n",
    "\n",
    "    if save:\n",
    "        plt.savefig(\n",
    "            f\"../Figures/{pathname}/{figname}.png\", dpi=100, bbox_inches=\"tight\"\n",
    "        )\n",
    "    if show:\n",
    "        plt.show()\n",
    "    else:\n",
    "        plt.close()\n",
    "\n",
    "\n",
    "def plot_cdf_memory_max_bid(\n",
    "    data,\n",
    "    save=False,\n",
    "    show=True,\n",
    "    grayscale=False,\n",
    "    figname=f\"Fig 12 - {STUDY_NAME} - CDF Max Bid\",\n",
    "):\n",
    "    if grayscale:\n",
    "        pal = sns.color_palette(\"Greys\")[1::2]\n",
    "        pathname = \"Grayscale\"\n",
    "    else:\n",
    "        pal = sns.color_palette(\"coolwarm\", 3)[::2]\n",
    "        pathname = \"Color\"\n",
    "\n",
    "    if show:\n",
    "        sns.set_context(\"notebook\")\n",
    "    else:\n",
    "        sns.set_context(\"paper\")\n",
    "    sns.set_style(\"ticks\")\n",
    "\n",
    "    g = sns.FacetGrid(\n",
    "        hue=\"condition\", data=data, palette=pal, height=6.38 / 1.5, aspect=1.5\n",
    "    )\n",
    "    g.map(\n",
    "        plt.hist,\n",
    "        \"memory_max_bid\",\n",
    "        cumulative=True,\n",
    "        histtype=\"step\",\n",
    "        bins=np.arange(30, 71, 1),\n",
    "        density=True,\n",
    "        align=\"mid\",\n",
    "        lw=2,\n",
    "    )\n",
    "    g.add_legend(title=\"Other gift card bids had...\", bbox_to_anchor=(0.9, 0.5))\n",
    "    g.set_xlabels(\"Memory for Highest Bid on Amazon Gift Card\")\n",
    "    g.set_ylabels(\"Cumulative Proportion of Participants\")\n",
    "    g.ax.axvline(37, ls=\":\", color=\"grey\")\n",
    "    g.ax.annotate(\"True Highest Bid\", (37.5, 0.475), ha=\"left\", color=\"grey\")\n",
    "    g.ax.set_xticks(np.arange(30, 65, 5))\n",
    "    g.ax.set_xticklabels([f\"${i}\" for i in np.arange(30, 65, 5)])\n",
    "    g.ax.set_xlim(28, 57)\n",
    "    plt.tight_layout()\n",
    "    if save:\n",
    "        plt.savefig(\n",
    "            f\"../Figures/{pathname}/{figname}.png\", dpi=100, bbox_inches=\"tight\"\n",
    "        )\n",
    "    if show:\n",
    "        plt.show()\n",
    "    else:\n",
    "        plt.close()\n",
    "\n",
    "        \n",
    "def plot_cdf_bid_placed(\n",
    "    data,\n",
    "    save=False,\n",
    "    show=True,\n",
    "    grayscale=False,\n",
    "    figname=f\"Fig 13 - {STUDY_NAME} - CDF Bid Placed\",\n",
    "):\n",
    "    if grayscale:\n",
    "        pal = sns.color_palette(\"Greys\")[1::2]\n",
    "        pathname = \"Grayscale\"\n",
    "    else:\n",
    "        pal = sns.color_palette(\"coolwarm\", 3)[::2]\n",
    "        pathname = \"Color\"\n",
    "\n",
    "    if show:\n",
    "        sns.set_context(\"notebook\")\n",
    "    else:\n",
    "        sns.set_context(\"paper\")\n",
    "    sns.set_style(\"ticks\")\n",
    "\n",
    "    g = sns.FacetGrid(\n",
    "        hue=\"condition\", data=data, palette=pal, height=6.38 / 1.5, aspect=1.5\n",
    "    )\n",
    "    g.map(\n",
    "        plt.hist,\n",
    "        \"bid_placed\",\n",
    "        cumulative=True,\n",
    "        histtype=\"step\",\n",
    "        bins=np.arange(0, 70, 1),\n",
    "        density=True,\n",
    "        align=\"mid\",\n",
    "        lw=2\n",
    "    )\n",
    "    g.add_legend(title=\"Other gift card bids had...\", bbox_to_anchor=(0.4, 0.5))\n",
    "    g.set_xlabels(\"Bid Placed for Amazon Gift Card\")\n",
    "    g.set_ylabels(\"Cumulative Proportion of Participants\")\n",
    "    g.ax.axvline(38, ls=\":\", color=\"grey\")\n",
    "    g.ax.annotate(\"Optimal Bid\", (37, 0.475), ha=\"right\", color=\"grey\")\n",
    "    g.ax.set_xticks(np.arange(0, 70, 10))\n",
    "    g.ax.set_xticklabels([f\"${i}\" for i in np.arange(0, 70, 10)])\n",
    "    g.ax.set_xlim(-5, 65)\n",
    "    plt.tight_layout()\n",
    "    if save:\n",
    "        plt.savefig(\n",
    "            f\"../Figures/{pathname}/{figname}.png\", dpi=100, bbox_inches=\"tight\"\n",
    "        )\n",
    "    if show:\n",
    "        plt.show()\n",
    "    else:\n",
    "        plt.close()\n",
    "\n",
    "\n",
    "\n",
    "def format_pvals(p):\n",
    "    if p < 0.001:\n",
    "        return \"p < .001\"\n",
    "    else:\n",
    "        return \"p = \" + f\"{p:.3f}\".lstrip(\"0\")"
   ]
  },
  {
   "cell_type": "markdown",
   "metadata": {},
   "source": [
    "## Data loading and preparation"
   ]
  },
  {
   "cell_type": "code",
   "execution_count": 3,
   "metadata": {},
   "outputs": [],
   "source": [
    "df = pd.read_csv(f\"../Data/{STUDY_NAME}/CleanData.csv\")\n",
    "df_clean = df[~df.excluded]"
   ]
  },
  {
   "cell_type": "markdown",
   "metadata": {
    "toc-hr-collapsed": false
   },
   "source": [
    "# Design"
   ]
  },
  {
   "cell_type": "markdown",
   "metadata": {},
   "source": [
    "## Independent variable"
   ]
  },
  {
   "cell_type": "markdown",
   "metadata": {},
   "source": [
    "Each participant sees two distribution of bids, one for a \\\\$100 \"Whole Foods\" gift card, one for a $100 \"Amazon\" gift card.\n",
    "* The bids for the Amazon gift card have a moderate amount of variance (SD = 2.4, Min = 27, Max = 37)\n",
    "* The bids for the Whole Foods gift card have a different variance, manipulated between subjects:\n",
    "    * \"Lower Dispersion\" (SD = 1.1, Min = 30, Max = 34)\n",
    "    * \"Higher Dispersion\" (SD = 8.7, Min = 14, Max = 50) "
   ]
  },
  {
   "cell_type": "code",
   "execution_count": 4,
   "metadata": {},
   "outputs": [
    {
     "data": {
      "image/png": "[encoded data removed]",
      "text/plain": [
       "<Figure size 459.36x459.36 with 2 Axes>"
      ]
     },
     "metadata": {},
     "output_type": "display_data"
    }
   ],
   "source": [
    "plot_design(show=True, save=False)"
   ]
  },
  {
   "cell_type": "markdown",
   "metadata": {},
   "source": [
    "## Dependent variable and hypothesis"
   ]
  },
  {
   "cell_type": "markdown",
   "metadata": {},
   "source": [
    "After reviewing the bids, the participants are informed that we are now auctioning one last item: a \\\\$100 Amazon gift card. We endow them with \\$60, and give them the opportunity to bid as much as they want from this amount in order to try and win the Amazon gift card. The amount of the bid constitutes our dependent variable. \n",
    "\n",
    "After participants placed and confirmed their bid, we asked them to report the maximum bid (excluding theirs) that they remember seeing for the Amazon gift card."
   ]
  },
  {
   "cell_type": "markdown",
   "metadata": {},
   "source": [
    "## Participants and exclusions"
   ]
  },
  {
   "cell_type": "code",
   "execution_count": 5,
   "metadata": {},
   "outputs": [
    {
     "data": {
      "text/markdown": [
       "\n",
       "We collected 502 participants. As pre-registered, we excluded any participant who:\n",
       "* Reported a maximum price that was smaller than the median bid (i.e., 32).\n",
       "* Failed at least one comprehension question testing their understanding of the auction mechanism.\n",
       "\n",
       "In total, we excluded 226 participants, and were left with 276 valid responses.\n"
      ],
      "text/plain": [
       "<IPython.core.display.Markdown object>"
      ]
     },
     "execution_count": 5,
     "metadata": {},
     "output_type": "execute_result"
    }
   ],
   "source": [
    "Markdown(\n",
    "    f\"\"\"\n",
    "We collected {df.shape[0]} participants. As pre-registered, we excluded any participant who:\n",
    "* Reported a maximum price that was smaller than the median bid (i.e., 32).\n",
    "* Failed at least one comprehension question testing their understanding of the auction mechanism.\n",
    "\n",
    "In total, we excluded {(df.shape[0] - df_clean.shape[0])} participants, and were left with {df_clean.shape[0]} valid responses.\n",
    "\"\"\"\n",
    ")"
   ]
  },
  {
   "cell_type": "markdown",
   "metadata": {
    "toc-hr-collapsed": false
   },
   "source": [
    "# Analysis"
   ]
  },
  {
   "cell_type": "markdown",
   "metadata": {},
   "source": [
    "## Memory for Maximum Bid"
   ]
  },
  {
   "cell_type": "code",
   "execution_count": 6,
   "metadata": {},
   "outputs": [
    {
     "data": {
      "text/markdown": [
       "\n",
       "We replicate the dispersion spillover: Participants reported seeing a maximum bid for the Amazon gift card that was on average $\\$$1.84 more when the dispersion of bids for the Whole Foods gift card was higher \n",
       "(vs. lower; t(274) = 5.46, p < .001, standardized b = 0.63).  Figure 12 shows the cumulative distribution of the responses: When the bids for the Whole Foods gift card had a larger amount of dispersion, \n",
       "27% of participants reported a maximum bid that was above the true maximum bid (i.e., $\\$$37). \n",
       "Only 3% of participants did so when the bids for the Whole Foods gift card had a smaller amount of dispersion \n",
       "(27% vs. 3%: $\\chi$(1) = 33.74, p < .001.\n",
       "    "
      ],
      "text/plain": [
       "<IPython.core.display.Markdown object>"
      ]
     },
     "execution_count": 6,
     "metadata": {},
     "output_type": "execute_result"
    }
   ],
   "source": [
    "ols = smf.ols(\n",
    "    \"memory_max_bid ~ C(dispersion, levels=['Lower', 'Higher'])\", data=df_clean\n",
    ").fit()\n",
    "dfd = ols.df_resid\n",
    "b = ols.params[1]\n",
    "pval = ols.pvalues[1]\n",
    "tstat = ols.tvalues[1]\n",
    "\n",
    "stdb = (\n",
    "    smf.ols(\n",
    "        \"zscore(memory_max_bid) ~ C(dispersion, levels=['Lower', 'Higher'])\",\n",
    "        data=df_clean,\n",
    "    )\n",
    "    .fit()\n",
    "    .params[1]\n",
    ")\n",
    "nobs = df_clean.groupby(\"dispersion\").above_actual_max.count()\n",
    "nsuc = df_clean.groupby(\"dispersion\").above_actual_max.sum()\n",
    "props = nsuc / nobs * 100\n",
    "chi, p = proportions_chisquare(nsuc[[0, 1]], nobs[[0, 1]])[0:2]\n",
    "\n",
    "Markdown(\n",
    "    f\"\"\"\n",
    "We replicate the dispersion spillover: Participants reported seeing a maximum bid for the Amazon gift card that was on average $\\\\$${b:.2f} more when the dispersion of bids for the Whole Foods gift card was higher \n",
    "(vs. lower; t({dfd:.0f}) = {tstat:.2f}, {format_pvals(pval)}, standardized b = {stdb:.2f}).  Figure 12 shows the cumulative distribution of the responses: When the bids for the Whole Foods gift card had a larger amount of dispersion, \n",
    "{props[0]:.0f}% of participants reported a maximum bid that was above the true maximum bid (i.e., $\\\\$$37). \n",
    "Only {props[1]:.0f}% of participants did so when the bids for the Whole Foods gift card had a smaller amount of dispersion \n",
    "({props[0]:.0f}% vs. {props[1]:.0f}%: $\\chi$(1) = {chi:.2f}, {format_pvals(p)}.\n",
    "    \"\"\"\n",
    ")"
   ]
  },
  {
   "cell_type": "code",
   "execution_count": 7,
   "metadata": {},
   "outputs": [
    {
     "data": {
      "image/png": "[encoded data removed]",
      "text/plain": [
       "<Figure size 586.46x306.24 with 1 Axes>"
      ]
     },
     "metadata": {},
     "output_type": "display_data"
    }
   ],
   "source": [
    "plot_cdf_memory_max_bid(data=df_clean, save=True)\n",
    "plot_cdf_memory_max_bid(data=df_clean, show=False, grayscale=True, save=True)"
   ]
  },
  {
   "cell_type": "markdown",
   "metadata": {},
   "source": [
    "## Bid Placed"
   ]
  },
  {
   "cell_type": "code",
   "execution_count": 8,
   "metadata": {},
   "outputs": [
    {
     "data": {
      "text/markdown": [
       "\n",
       "As predicted, we observed a similar pattern on the amount of the bid that participants submitted for the Amazon gift card. Participants submit a bid that is on average $\\$$2.60\n",
       "larger when the dispersion of bids for the Whole Foods gift card was high (vs. low; t(274) = 2.46, p = .014, standardized b = 0.30).  \n"
      ],
      "text/plain": [
       "<IPython.core.display.Markdown object>"
      ]
     },
     "execution_count": 8,
     "metadata": {},
     "output_type": "execute_result"
    }
   ],
   "source": [
    "ols = smf.ols(\n",
    "    \"bid_placed ~ C(dispersion, levels=['Lower', 'Higher'])\", data=df_clean\n",
    ").fit()\n",
    "dfd = ols.df_resid\n",
    "b = ols.params[1]\n",
    "pval = ols.pvalues[1]\n",
    "tstat = ols.tvalues[1]\n",
    "\n",
    "stdb = (\n",
    "    smf.ols(\n",
    "        \"zscore(bid_placed) ~ C(dispersion, levels=['Lower', 'Higher'])\", data=df_clean\n",
    "    )\n",
    "    .fit()\n",
    "    .params[1]\n",
    ")\n",
    "\n",
    "\n",
    "Markdown(\n",
    "    f\"\"\"\n",
    "As predicted, we observed a similar pattern on the amount of the bid that participants submitted for the Amazon gift card. Participants submit a bid that is on average $\\\\$${b:.2f}\n",
    "larger when the dispersion of bids for the Whole Foods gift card was high (vs. low; t({dfd:.0f}) = {tstat:.2f}, {format_pvals(pval)}, standardized b = {stdb:.2f}).  \n",
    "\"\"\"\n",
    ")"
   ]
  },
  {
   "cell_type": "code",
   "execution_count": 9,
   "metadata": {},
   "outputs": [
    {
     "data": {
      "image/png": "[encoded data removed]",
      "text/plain": [
       "<Figure size 586.46x306.24 with 1 Axes>"
      ]
     },
     "metadata": {},
     "output_type": "display_data"
    }
   ],
   "source": [
    "plot_cdf_bid_placed(data=df_clean, save=True)\n",
    "plot_cdf_bid_placed(df_clean, show=False, grayscale=True, save=True)"
   ]
  },
  {
   "cell_type": "markdown",
   "metadata": {},
   "source": [
    "# Robustness Checks on Full Data"
   ]
  },
  {
   "cell_type": "markdown",
   "metadata": {},
   "source": [
    "## Memory for Maximum Bid"
   ]
  },
  {
   "cell_type": "code",
   "execution_count": 10,
   "metadata": {},
   "outputs": [
    {
     "data": {
      "text/markdown": [
       "\n",
       "We replicate the dispersion spillover: Participants reported seeing a maximum bid for the Amazon gift card that was on average $\\$$2.17 more when the dispersion of bids for the Whole Foods gift card was higher \n",
       "(vs. lower; t(500) = 3.35, p < .001, standardized b = 0.30).  When the bids for the Whole Foods gift card had a larger amount of dispersion, \n",
       "37% of participants reported a maximum bid that was above the true maximum bid (i.e., $\\$$37). \n",
       "Only 11% of participants did so when the bids for the Whole Foods gift card had a smaller amount of dispersion \n",
       "(37% vs. 11%: $\\chi$(1) = 47.59, p < .001.\n",
       "    "
      ],
      "text/plain": [
       "<IPython.core.display.Markdown object>"
      ]
     },
     "execution_count": 10,
     "metadata": {},
     "output_type": "execute_result"
    }
   ],
   "source": [
    "ols = smf.ols(\n",
    "    \"memory_max_bid ~ C(dispersion, levels=['Lower', 'Higher'])\", data=df\n",
    ").fit()\n",
    "dfd = ols.df_resid\n",
    "b = ols.params[1]\n",
    "pval = ols.pvalues[1]\n",
    "tstat = ols.tvalues[1]\n",
    "\n",
    "stdb = (\n",
    "    smf.ols(\n",
    "        \"zscore(memory_max_bid) ~ C(dispersion, levels=['Lower', 'Higher'])\", data=df\n",
    "    )\n",
    "    .fit()\n",
    "    .params[1]\n",
    ")\n",
    "nobs = df.groupby(\"dispersion\").above_actual_max.count()\n",
    "nsuc = df.groupby(\"dispersion\").above_actual_max.sum()\n",
    "props = nsuc / nobs * 100\n",
    "chi, p = proportions_chisquare(nsuc[[0, 1]], nobs[[0, 1]])[0:2]\n",
    "\n",
    "Markdown(\n",
    "    f\"\"\"\n",
    "We replicate the dispersion spillover: Participants reported seeing a maximum bid for the Amazon gift card that was on average $\\\\$${b:.2f} more when the dispersion of bids for the Whole Foods gift card was higher \n",
    "(vs. lower; t({dfd:.0f}) = {tstat:.2f}, {format_pvals(pval)}, standardized b = {stdb:.2f}).  When the bids for the Whole Foods gift card had a larger amount of dispersion, \n",
    "{props[0]:.0f}% of participants reported a maximum bid that was above the true maximum bid (i.e., $\\\\$$37). \n",
    "Only {props[1]:.0f}% of participants did so when the bids for the Whole Foods gift card had a smaller amount of dispersion \n",
    "({props[0]:.0f}% vs. {props[1]:.0f}%: $\\chi$(1) = {chi:.2f}, {format_pvals(p)}.\n",
    "    \"\"\"\n",
    ")"
   ]
  },
  {
   "cell_type": "code",
   "execution_count": 11,
   "metadata": {},
   "outputs": [
    {
     "data": {
      "image/png": "[encoded data removed]",
      "text/plain": [
       "<Figure size 586.46x306.24 with 1 Axes>"
      ]
     },
     "metadata": {},
     "output_type": "display_data"
    }
   ],
   "source": [
    "plot_cdf_memory_max_bid(data=df, save=False)"
   ]
  },
  {
   "cell_type": "markdown",
   "metadata": {},
   "source": [
    "## Bid Placed"
   ]
  },
  {
   "cell_type": "code",
   "execution_count": 12,
   "metadata": {},
   "outputs": [
    {
     "data": {
      "text/markdown": [
       "\n",
       "As predicted, we observed a similar pattern on the amount of the bid that participants submitted for the Amazon gift card. Participants submit a bid that is on average $\\$$2.94\n",
       "larger when the dispersion of bids for the Whole Foods gift card was high (vs. low; t(500) = 3.11, p = .002, standardized b = 0.28).  \n"
      ],
      "text/plain": [
       "<IPython.core.display.Markdown object>"
      ]
     },
     "execution_count": 12,
     "metadata": {},
     "output_type": "execute_result"
    }
   ],
   "source": [
    "ols = smf.ols(\"bid_placed ~ C(dispersion, levels=['Lower', 'Higher'])\", data=df).fit()\n",
    "dfd = ols.df_resid\n",
    "b = ols.params[1]\n",
    "pval = ols.pvalues[1]\n",
    "tstat = ols.tvalues[1]\n",
    "\n",
    "stdb = (\n",
    "    smf.ols(\"zscore(bid_placed) ~ C(dispersion, levels=['Lower', 'Higher'])\", data=df)\n",
    "    .fit()\n",
    "    .params[1]\n",
    ")\n",
    "\n",
    "\n",
    "Markdown(\n",
    "    f\"\"\"\n",
    "As predicted, we observed a similar pattern on the amount of the bid that participants submitted for the Amazon gift card. Participants submit a bid that is on average $\\\\$${b:.2f}\n",
    "larger when the dispersion of bids for the Whole Foods gift card was high (vs. low; t({dfd:.0f}) = {tstat:.2f}, {format_pvals(pval)}, standardized b = {stdb:.2f}).  \n",
    "\"\"\"\n",
    ")"
   ]
  },
  {
   "cell_type": "code",
   "execution_count": 13,
   "metadata": {},
   "outputs": [
    {
     "data": {
      "image/png": "[encoded data removed]",
      "text/plain": [
       "<Figure size 586.46x306.24 with 1 Axes>"
      ]
     },
     "metadata": {},
     "output_type": "display_data"
    }
   ],
   "source": [
    "plot_cdf_bid_placed(data=df, save=False)"
   ]
  }
 ],
 "metadata": {
  "kernelspec": {
   "display_name": "Python 3",
   "language": "python",
   "name": "python3"
  },
  "language_info": {
   "codemirror_mode": {
    "name": "ipython",
    "version": 3
   },
   "file_extension": ".py",
   "mimetype": "text/x-python",
   "name": "python",
   "nbconvert_exporter": "python",
   "pygments_lexer": "ipython3",
   "version": "3.6.10"
  },
  "toc-autonumbering": false,
  "toc-showmarkdowntxt": true
 },
 "nbformat": 4,
 "nbformat_minor": 4
}
