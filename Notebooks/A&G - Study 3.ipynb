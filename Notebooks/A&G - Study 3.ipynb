{
 "cells": [
  {
   "cell_type": "markdown",
   "metadata": {},
   "source": [
    "This notebook presents all the analysis reported in Study 3 of the paper.\n",
    "\n",
    "Click the \"Show Code\" buttons to see the code associated with each output."
   ]
  },
  {
   "cell_type": "markdown",
   "metadata": {},
   "source": [
    "# Preamble"
   ]
  },
  {
   "cell_type": "markdown",
   "metadata": {},
   "source": [
    "## Libraries"
   ]
  },
  {
   "cell_type": "code",
   "execution_count": 1,
   "metadata": {
    "pycharm": {
     "is_executing": false
    }
   },
   "outputs": [],
   "source": [
    "# Misc\n",
    "import warnings\n",
    "\n",
    "warnings.filterwarnings(\"ignore\")\n",
    "from IPython.display import Markdown\n",
    "\n",
    "\n",
    "# Data libraries\n",
    "import pandas as pd\n",
    "import numpy as np\n",
    "\n",
    "# Plotting\n",
    "import matplotlib as mpl\n",
    "import matplotlib.pyplot as plt\n",
    "import seaborn as sns\n",
    "\n",
    "sns.set_context(\"notebook\")\n",
    "\n",
    "# Statistics\n",
    "import statsmodels.formula.api as smf\n",
    "import scipy.stats as stats\n",
    "\n",
    "# Interface with R\n",
    "import rpy2\n",
    "\n",
    "%load_ext rpy2.ipython\n",
    "\n",
    "%R library(sjstats); # For effect sizes of ANOVAs\n",
    "\n",
    "STUDY_NAME = \"Study 3\""
   ]
  },
  {
   "cell_type": "markdown",
   "metadata": {},
   "source": [
    "## Functions"
   ]
  },
  {
   "cell_type": "code",
   "execution_count": 2,
   "metadata": {
    "pycharm": {
     "is_executing": false
    }
   },
   "outputs": [],
   "source": [
    "def planned_contrasts(contrasts, names, model, use_t=False, alpha=0.05):\n",
    "    \"\"\"\n",
    "    Convenience functions for planned contrasts from a model.\n",
    "    \"\"\"\n",
    "    betas = model.params.values\n",
    "    vcv = model.cov_params().values\n",
    "    b = []\n",
    "    se = []\n",
    "    for c in contrasts:\n",
    "        b.append(betas @ c)\n",
    "        se.append(c @ vcv @ c)\n",
    "    b = np.array(b)\n",
    "    se = np.sqrt(se)\n",
    "    z = b / se\n",
    "    if use_t:\n",
    "        df_resid = model.df_resid\n",
    "        pvals = stats.t(df_resid).sf(np.abs(z)) * 2\n",
    "        ci_factor = stats.t(df_resid).isf(alpha / 2)\n",
    "        name_coeff = \"t-stats\"\n",
    "    else:\n",
    "        pvals = stats.norm.sf(np.abs(z)) * 2\n",
    "        ci_factor = stats.norm.isf(alpha / 2)\n",
    "        name_coeff = \"z-stats\"\n",
    "    llci, ulci = b - se * ci_factor, b + se * ci_factor\n",
    "    bstd = b / model.model.endog.std(ddof=1)\n",
    "    df_contrasts = pd.DataFrame(\n",
    "        {\n",
    "            \"Contrast\": names,\n",
    "            \"Beta\": b,\n",
    "            \"SE\": se,\n",
    "            name_coeff: z,\n",
    "            \"p-value\": pvals,\n",
    "            \"LLCI\": llci,\n",
    "            \"ULCI\": ulci,\n",
    "            \"Standardized B\": bstd,\n",
    "        }\n",
    "    )\n",
    "    return df_contrasts\n",
    "\n",
    "\n",
    "def plot_result(data, show=True, save=False, grayscale=False, figname=\"Sequential Learning\"):\n",
    "    if grayscale:\n",
    "        pal = sns.color_palette(\"Greys\")[1::2]\n",
    "        pathname = \"Grayscale\"\n",
    "    else:\n",
    "        pal = sns.color_palette(\"coolwarm\", 3)\n",
    "        pathname = \"Color\"\n",
    "\n",
    "    if show:\n",
    "        sns.set_context(\"notebook\")\n",
    "    else:\n",
    "        sns.set_context(\"paper\")\n",
    "\n",
    "    sns.set_style(\"white\")\n",
    "    g = sns.catplot(\n",
    "        x=\"is_manipulated\",\n",
    "        hue=\"sd_manipulated\",\n",
    "        hue_order=[\"Low\", \"Med\", \"High\"],\n",
    "        y=\"value_sd\",\n",
    "        data=data,\n",
    "        kind=\"bar\",\n",
    "        aspect=1.5,\n",
    "        height=6.38 / 1.5,\n",
    "        order=[True, False],\n",
    "        sharey=False,\n",
    "        sharex=False,\n",
    "        legend_out=False,\n",
    "        palette=pal,\n",
    "    )\n",
    "\n",
    "    g.set_titles(\"\")\n",
    "    g.set_xlabels(\"\")\n",
    "    leg = g.ax.legend()\n",
    "\n",
    "    han = leg.legendHandles\n",
    "    leg.remove()\n",
    "\n",
    "    g.ax.legend(\n",
    "        han,\n",
    "        [\"Low (SD = 1.1)\", \"Med (SD = 4.5)\", \"High (SD = 7.5)\"],\n",
    "        title=\"SD of Manipulated Category\",\n",
    "        loc=\"upper center\",\n",
    "        bbox_to_anchor=(0.75, 1.03),\n",
    "        frameon=False,\n",
    "    )\n",
    "    g.ax.set_ylim(2, 8)\n",
    "    g.ax.set_xticklabels([\"Manipulated Category\", \"Common Category (SD = 4.5)\"])\n",
    "    g.ax.set_ylabel(\"SD of Reported Prices\")\n",
    "    plt.tight_layout()\n",
    "    if save:\n",
    "        plt.savefig(\n",
    "            f\"../Figures/{pathname}/{figname}.png\", dpi=100, bbox_inches=\"tight\"\n",
    "        )\n",
    "    if show:\n",
    "        plt.show()\n",
    "    else:\n",
    "        plt.close()"
   ]
  },
  {
   "cell_type": "markdown",
   "metadata": {},
   "source": [
    "## Data loading and preparation"
   ]
  },
  {
   "cell_type": "code",
   "execution_count": 3,
   "metadata": {
    "pycharm": {
     "is_executing": false
    }
   },
   "outputs": [],
   "source": [
    "df = (\n",
    "    pd.read_csv(f\"../Data/{STUDY_NAME}/LongData.csv\")\n",
    "    .groupby(\n",
    "        [\"turkid\", \"name_manipulated\", \"is_manipulated\", \"sd_manipulated\", \"is_first\"]\n",
    "    )[\"value\"]\n",
    "    .agg(\n",
    "        **{\n",
    "            \"value_sd\": np.std,\n",
    "            \"value_range\": lambda x: np.max(x) - np.min(x),\n",
    "            \"value_min\": np.min,\n",
    "            \"value_max\": np.max,\n",
    "            \"value_mean\": np.mean,\n",
    "            \"value_var\": lambda x: np.std(x) ** 2,\n",
    "        }\n",
    "    )\n",
    "    .reset_index()\n",
    ")"
   ]
  },
  {
   "cell_type": "markdown",
   "metadata": {
    "toc-hr-collapsed": false
   },
   "source": [
    "# Design"
   ]
  },
  {
   "cell_type": "markdown",
   "metadata": {},
   "source": [
    "## Characteristics and distributions"
   ]
  },
  {
   "cell_type": "markdown",
   "metadata": {},
   "source": [
    "Replication of study 1b: Each participant sees two distributions, one \"manipulated\", one \"common\".\n",
    "* The \"common\" distribution always has a \"Medium\" amount of variance (SD = 4.5, Min = 17, Max = 34)\n",
    "* The \"manipulated\" distribution has a different variance, between subjects:\n",
    "    * \"Low\" (SD = 1.1, Min = 23, Max = 28)\n",
    "    * \"Medium\" (SD = 4.5, Min = 17, Max = 34)\n",
    "    * \"High\" (SD = 7.5, Min = 13, Max = 38)\n",
    "\n",
    "This time however, the prices were presented one category at a time."
   ]
  },
  {
   "cell_type": "markdown",
   "metadata": {
    "toc-hr-collapsed": true,
    "toc-nb-collapsed": true
   },
   "source": [
    "## Number of valid participants:"
   ]
  },
  {
   "cell_type": "code",
   "execution_count": 4,
   "metadata": {
    "pycharm": {
     "is_executing": false
    }
   },
   "outputs": [
    {
     "data": {
      "text/plain": [
       "290"
      ]
     },
     "execution_count": 4,
     "metadata": {},
     "output_type": "execute_result"
    }
   ],
   "source": [
    "df.turkid.unique().shape[0]"
   ]
  },
  {
   "cell_type": "markdown",
   "metadata": {
    "toc-hr-collapsed": false
   },
   "source": [
    "# Analysis"
   ]
  },
  {
   "cell_type": "markdown",
   "metadata": {},
   "source": [
    "## Perceived dispersion"
   ]
  },
  {
   "cell_type": "markdown",
   "metadata": {},
   "source": [
    "### SD"
   ]
  },
  {
   "cell_type": "code",
   "execution_count": 5,
   "metadata": {
    "pycharm": {
     "is_executing": false
    }
   },
   "outputs": [
    {
     "data": {
      "text/html": [
       "<style  type=\"text/css\" >\n",
       "</style><table id=\"T_56fa1042_8ecd_11ea_a21b_448a5b2f88e1\" ><thead>    <tr>        <th class=\"blank\" ></th>        <th class=\"blank level0\" ></th>        <th class=\"col_heading level0 col0\" >SD</th>    </tr>    <tr>        <th class=\"index_name level0\" >Manipulated?</th>        <th class=\"index_name level1\" >SD of Manipulated</th>        <th class=\"blank\" ></th>    </tr></thead><tbody>\n",
       "                <tr>\n",
       "                        <th id=\"T_56fa1042_8ecd_11ea_a21b_448a5b2f88e1level0_row0\" class=\"row_heading level0 row0\" rowspan=3>False</th>\n",
       "                        <th id=\"T_56fa1042_8ecd_11ea_a21b_448a5b2f88e1level1_row0\" class=\"row_heading level1 row0\" >Low</th>\n",
       "                        <td id=\"T_56fa1042_8ecd_11ea_a21b_448a5b2f88e1row0_col0\" class=\"data row0 col0\" >4.35</td>\n",
       "            </tr>\n",
       "            <tr>\n",
       "                                <th id=\"T_56fa1042_8ecd_11ea_a21b_448a5b2f88e1level1_row1\" class=\"row_heading level1 row1\" >Med</th>\n",
       "                        <td id=\"T_56fa1042_8ecd_11ea_a21b_448a5b2f88e1row1_col0\" class=\"data row1 col0\" >4.95</td>\n",
       "            </tr>\n",
       "            <tr>\n",
       "                                <th id=\"T_56fa1042_8ecd_11ea_a21b_448a5b2f88e1level1_row2\" class=\"row_heading level1 row2\" >High</th>\n",
       "                        <td id=\"T_56fa1042_8ecd_11ea_a21b_448a5b2f88e1row2_col0\" class=\"data row2 col0\" >5.71</td>\n",
       "            </tr>\n",
       "            <tr>\n",
       "                        <th id=\"T_56fa1042_8ecd_11ea_a21b_448a5b2f88e1level0_row3\" class=\"row_heading level0 row3\" rowspan=3>True</th>\n",
       "                        <th id=\"T_56fa1042_8ecd_11ea_a21b_448a5b2f88e1level1_row3\" class=\"row_heading level1 row3\" >Low</th>\n",
       "                        <td id=\"T_56fa1042_8ecd_11ea_a21b_448a5b2f88e1row3_col0\" class=\"data row3 col0\" >3.02</td>\n",
       "            </tr>\n",
       "            <tr>\n",
       "                                <th id=\"T_56fa1042_8ecd_11ea_a21b_448a5b2f88e1level1_row4\" class=\"row_heading level1 row4\" >Med</th>\n",
       "                        <td id=\"T_56fa1042_8ecd_11ea_a21b_448a5b2f88e1row4_col0\" class=\"data row4 col0\" >5.03</td>\n",
       "            </tr>\n",
       "            <tr>\n",
       "                                <th id=\"T_56fa1042_8ecd_11ea_a21b_448a5b2f88e1level1_row5\" class=\"row_heading level1 row5\" >High</th>\n",
       "                        <td id=\"T_56fa1042_8ecd_11ea_a21b_448a5b2f88e1row5_col0\" class=\"data row5 col0\" >6.56</td>\n",
       "            </tr>\n",
       "    </tbody></table>"
      ],
      "text/plain": [
       "<pandas.io.formats.style.Styler at 0x1888adbb128>"
      ]
     },
     "execution_count": 5,
     "metadata": {},
     "output_type": "execute_result"
    }
   ],
   "source": [
    "table = (\n",
    "    df.groupby([\"is_manipulated\", \"sd_manipulated\"])[[\"value_sd\"]]\n",
    "    .mean()\n",
    "    .reindex(\n",
    "        labels=[\n",
    "            [False, False, False, True, True, True],\n",
    "            [\"Low\", \"Med\", \"High\", \"Low\", \"Med\", \"High\"],\n",
    "        ]\n",
    "    )\n",
    ")\n",
    "table.index.names = [\"Manipulated?\", \"SD of Manipulated\"]\n",
    "table.columns = [\"SD\"]\n",
    "table.style.format(\"{:.2f}\")"
   ]
  },
  {
   "cell_type": "code",
   "execution_count": 6,
   "metadata": {
    "pycharm": {
     "is_executing": false
    }
   },
   "outputs": [
    {
     "data": {
      "image/png": "[encoded data removed]",
      "text/plain": [
       "<Figure size 459.36x306.24 with 1 Axes>"
      ]
     },
     "metadata": {},
     "output_type": "display_data"
    }
   ],
   "source": [
    "plot_result(df, save=False)"
   ]
  },
  {
   "cell_type": "code",
   "execution_count": 7,
   "metadata": {
    "pycharm": {
     "is_executing": false
    }
   },
   "outputs": [
    {
     "data": {
      "text/html": [
       "<table class=\"simpletable\">\n",
       "<tr>\n",
       "       <td>Model:</td>       <td>MixedLM</td> <td>Dependent Variable:</td> <td>SD of Reported Distribution</td>\n",
       "</tr>\n",
       "<tr>\n",
       "  <td>No. Observations:</td>   <td>580</td>         <td>Method:</td>                  <td>REML</td>            \n",
       "</tr>\n",
       "<tr>\n",
       "     <td>No. Groups:</td>      <td>290</td>         <td>Scale:</td>                  <td>19.6269</td>          \n",
       "</tr>\n",
       "<tr>\n",
       "  <td>Min. group size:</td>     <td>2</td>      <td>Log-Likelihood:</td>           <td>-1756.8876</td>         \n",
       "</tr>\n",
       "<tr>\n",
       "  <td>Max. group size:</td>     <td>2</td>        <td>Converged:</td>                  <td>Yes</td>            \n",
       "</tr>\n",
       "<tr>\n",
       "  <td>Mean group size:</td>    <td>2.0</td>            <td></td>                        <td></td>              \n",
       "</tr>\n",
       "</table>\n",
       "<table class=\"simpletable\">\n",
       "<tr>\n",
       "                  <td></td>                  <th>Coef.</th> <th>Std.Err.</th>    <th>z</th>   <th>P>|z|</th> <th>[0.025</th> <th>0.975]</th>\n",
       "</tr>\n",
       "<tr>\n",
       "  <th>Intercept</th>                        <td>33.840</td>   <td>0.513</td>  <td>66.002</td> <td>0.000</td> <td>32.835</td> <td>34.845</td>\n",
       "</tr>\n",
       "<tr>\n",
       "  <th>Dispersion: Low (vs. Medium)</th>     <td>-0.486</td>   <td>0.733</td>  <td>-0.663</td> <td>0.507</td> <td>-1.922</td>  <td>0.950</td>\n",
       "</tr>\n",
       "<tr>\n",
       "  <th>Dispersion: High (vs. Medium)</th>     <td>1.777</td>   <td>0.737</td>   <td>2.413</td> <td>0.016</td>  <td>0.333</td>  <td>3.221</td>\n",
       "</tr>\n",
       "<tr>\n",
       "  <th>Target: Manipulated (vs. Common)</th>  <td>0.420</td>   <td>0.627</td>   <td>0.670</td> <td>0.503</td> <td>-0.808</td>  <td>1.648</td>\n",
       "</tr>\n",
       "<tr>\n",
       "  <th>Dispersion: Low * Target</th>         <td>-3.170</td>   <td>0.895</td>  <td>-3.541</td> <td>0.000</td> <td>-4.925</td> <td>-1.415</td>\n",
       "</tr>\n",
       "<tr>\n",
       "  <th>Dispersion: High * Target</th>         <td>0.069</td>   <td>0.900</td>   <td>0.077</td> <td>0.939</td> <td>-1.695</td>  <td>1.833</td>\n",
       "</tr>\n",
       "<tr>\n",
       "  <th>Participants Random Effects</th>       <td>6.660</td>   <td>0.439</td>     <td></td>      <td></td>       <td></td>       <td></td>   \n",
       "</tr>\n",
       "</table>"
      ],
      "text/plain": [
       "<class 'statsmodels.iolib.summary2.Summary'>\n",
       "\"\"\"\n",
       "                   Mixed Linear Model Regression Results\n",
       "===========================================================================\n",
       "Model:              MixedLM Dependent Variable: SD of Reported Distribution\n",
       "No. Observations:   580     Method:             REML                       \n",
       "No. Groups:         290     Scale:              19.6269                    \n",
       "Min. group size:    2       Log-Likelihood:     -1756.8876                 \n",
       "Max. group size:    2       Converged:          Yes                        \n",
       "Mean group size:    2.0                                                    \n",
       "---------------------------------------------------------------------------\n",
       "                                 Coef.  Std.Err.   z    P>|z| [0.025 0.975]\n",
       "---------------------------------------------------------------------------\n",
       "Intercept                        33.840    0.513 66.002 0.000 32.835 34.845\n",
       "Dispersion: Low (vs. Medium)     -0.486    0.733 -0.663 0.507 -1.922  0.950\n",
       "Dispersion: High (vs. Medium)     1.777    0.737  2.413 0.016  0.333  3.221\n",
       "Target: Manipulated (vs. Common)  0.420    0.627  0.670 0.503 -0.808  1.648\n",
       "Dispersion: Low * Target         -3.170    0.895 -3.541 0.000 -4.925 -1.415\n",
       "Dispersion: High * Target         0.069    0.900  0.077 0.939 -1.695  1.833\n",
       "Participants Random Effects       6.660    0.439                           \n",
       "===========================================================================\n",
       "\n",
       "\"\"\""
      ]
     },
     "execution_count": 7,
     "metadata": {},
     "output_type": "execute_result"
    }
   ],
   "source": [
    "model = smf.mixedlm(\n",
    "    \"value_max ~ C(sd_manipulated, levels=['Med', 'Low', 'High'])\\\n",
    "*C(is_manipulated, Treatment(0))\",\n",
    "    data=df,\n",
    "    groups=df.turkid,\n",
    ").fit()\n",
    "model.summary(\n",
    "    yname=\"SD of Reported Distribution\",\n",
    "    xname_fe=[\n",
    "        \"Intercept\",\n",
    "        \"Dispersion: Low (vs. Medium)\",\n",
    "        \"Dispersion: High (vs. Medium)\",\n",
    "        \"Target: Manipulated (vs. Common)\",\n",
    "        \"Dispersion: Low * Target\",\n",
    "        \"Dispersion: High * Target\",\n",
    "    ],\n",
    "    xname_re=[\"Participants Random Effects\"],\n",
    ")"
   ]
  },
  {
   "cell_type": "markdown",
   "metadata": {},
   "source": [
    "Standardized betas:"
   ]
  },
  {
   "cell_type": "code",
   "execution_count": 8,
   "metadata": {
    "pycharm": {
     "is_executing": false
    }
   },
   "outputs": [
    {
     "data": {
      "text/html": [
       "<style  type=\"text/css\" >\n",
       "</style><table id=\"T_583b27de_8ecd_11ea_b953_448a5b2f88e1\" ><thead>    <tr>        <th class=\"blank level0\" ></th>        <th class=\"col_heading level0 col0\" >Standardized Betas</th>    </tr></thead><tbody>\n",
       "                <tr>\n",
       "                        <th id=\"T_583b27de_8ecd_11ea_b953_448a5b2f88e1level0_row0\" class=\"row_heading level0 row0\" >Intercept</th>\n",
       "                        <td id=\"T_583b27de_8ecd_11ea_b953_448a5b2f88e1row0_col0\" class=\"data row0 col0\" >15.52</td>\n",
       "            </tr>\n",
       "            <tr>\n",
       "                        <th id=\"T_583b27de_8ecd_11ea_b953_448a5b2f88e1level0_row1\" class=\"row_heading level0 row1\" >Dispersion: Low (vs. Medium)</th>\n",
       "                        <td id=\"T_583b27de_8ecd_11ea_b953_448a5b2f88e1row1_col0\" class=\"data row1 col0\" >-0.22</td>\n",
       "            </tr>\n",
       "            <tr>\n",
       "                        <th id=\"T_583b27de_8ecd_11ea_b953_448a5b2f88e1level0_row2\" class=\"row_heading level0 row2\" >Dispersion: High (vs. Medium)</th>\n",
       "                        <td id=\"T_583b27de_8ecd_11ea_b953_448a5b2f88e1row2_col0\" class=\"data row2 col0\" >0.81</td>\n",
       "            </tr>\n",
       "            <tr>\n",
       "                        <th id=\"T_583b27de_8ecd_11ea_b953_448a5b2f88e1level0_row3\" class=\"row_heading level0 row3\" >Target: Manipulated (vs. Common)</th>\n",
       "                        <td id=\"T_583b27de_8ecd_11ea_b953_448a5b2f88e1row3_col0\" class=\"data row3 col0\" >0.19</td>\n",
       "            </tr>\n",
       "            <tr>\n",
       "                        <th id=\"T_583b27de_8ecd_11ea_b953_448a5b2f88e1level0_row4\" class=\"row_heading level0 row4\" >Dispersion: Low * Target</th>\n",
       "                        <td id=\"T_583b27de_8ecd_11ea_b953_448a5b2f88e1row4_col0\" class=\"data row4 col0\" >-1.45</td>\n",
       "            </tr>\n",
       "            <tr>\n",
       "                        <th id=\"T_583b27de_8ecd_11ea_b953_448a5b2f88e1level0_row5\" class=\"row_heading level0 row5\" >Dispersion: High * Target</th>\n",
       "                        <td id=\"T_583b27de_8ecd_11ea_b953_448a5b2f88e1row5_col0\" class=\"data row5 col0\" >0.03</td>\n",
       "            </tr>\n",
       "            <tr>\n",
       "                        <th id=\"T_583b27de_8ecd_11ea_b953_448a5b2f88e1level0_row6\" class=\"row_heading level0 row6\" >Participants Random Effects</th>\n",
       "                        <td id=\"T_583b27de_8ecd_11ea_b953_448a5b2f88e1row6_col0\" class=\"data row6 col0\" >0.16</td>\n",
       "            </tr>\n",
       "    </tbody></table>"
      ],
      "text/plain": [
       "<pandas.io.formats.style.Styler at 0x188922c1e80>"
      ]
     },
     "execution_count": 8,
     "metadata": {},
     "output_type": "execute_result"
    }
   ],
   "source": [
    "stdbetas = model.params / df.value_sd.std(ddof=1)\n",
    "stdbetas.index = [\n",
    "    \"Intercept\",\n",
    "    \"Dispersion: Low (vs. Medium)\",\n",
    "    \"Dispersion: High (vs. Medium)\",\n",
    "    \"Target: Manipulated (vs. Common)\",\n",
    "    \"Dispersion: Low * Target\",\n",
    "    \"Dispersion: High * Target\",\n",
    "    \"Participants Random Effects\",\n",
    "]\n",
    "table = pd.DataFrame(stdbetas, columns=[\"Standardized Betas\"])\n",
    "table.style.format(\"{:.2f}\")"
   ]
  },
  {
   "cell_type": "code",
   "execution_count": 9,
   "metadata": {
    "pycharm": {
     "is_executing": false
    }
   },
   "outputs": [
    {
     "data": {
      "text/markdown": [
       "\n",
       "A mixed linear model with category type (common vs. manipulated) as a within-participant factor \n",
       "and the actual price dispersion of the manipulated category (low vs. medium vs. high) as a between-participant \n",
       "factor replicated the assimilation effect documented in study 2. \n",
       "\n",
       "Indeed, participants created a wider distribution \n",
       "for the common category when the manipulated category had a high (vs. medium) amount of dispersion: \n",
       "b = 1.777, z = 2.413, p = 0.016, standardized b = 0.815). \n",
       "\n",
       "\n",
       "However, they did not report a lower amount of dispersion for the common category when the manipulated distribution \n",
       "had a low (vs. medium) amount of dispersion: \n",
       "b = -0.486, z = -0.663, p = 0.507. \n",
       "This result also replicates the asymmetry that we had documented in study 2.\n"
      ],
      "text/plain": [
       "<IPython.core.display.Markdown object>"
      ]
     },
     "execution_count": 9,
     "metadata": {},
     "output_type": "execute_result"
    }
   ],
   "source": [
    "Markdown(\n",
    "    f\"\"\"\n",
    "A mixed linear model with category type (common vs. manipulated) as a within-participant factor \n",
    "and the actual price dispersion of the manipulated category (low vs. medium vs. high) as a between-participant \n",
    "factor replicated the assimilation effect documented in study 2. \n",
    "\n",
    "Indeed, participants created a wider distribution \n",
    "for the common category when the manipulated category had a high (vs. medium) amount of dispersion: \n",
    "b = {model.params[2]:.3f}, z = {model.tvalues[2]:.3f}, p = {model.pvalues[2]:.3f}, standardized b = {stdbetas[2]:.3f}). \n",
    "\n",
    "\n",
    "However, they did not report a lower amount of dispersion for the common category when the manipulated distribution \n",
    "had a low (vs. medium) amount of dispersion: \n",
    "b = {model.params[1]:.3f}, z = {model.tvalues[1]:.3f}, p = {model.pvalues[1]:.3f}. \n",
    "This result also replicates the asymmetry that we had documented in study 2.\n",
    "\"\"\"\n",
    ")"
   ]
  },
  {
   "cell_type": "markdown",
   "metadata": {},
   "source": [
    "### Range"
   ]
  },
  {
   "cell_type": "code",
   "execution_count": 10,
   "metadata": {},
   "outputs": [
    {
     "data": {
      "text/html": [
       "<table class=\"simpletable\">\n",
       "<tr>\n",
       "       <td>Model:</td>       <td>MixedLM</td> <td>Dependent Variable:</td> <td>Range of Reported Distribution</td>\n",
       "</tr>\n",
       "<tr>\n",
       "  <td>No. Observations:</td>   <td>580</td>         <td>Method:</td>                    <td>REML</td>             \n",
       "</tr>\n",
       "<tr>\n",
       "     <td>No. Groups:</td>      <td>290</td>         <td>Scale:</td>                    <td>21.9060</td>           \n",
       "</tr>\n",
       "<tr>\n",
       "  <td>Min. group size:</td>     <td>2</td>      <td>Log-Likelihood:</td>             <td>-1840.1068</td>          \n",
       "</tr>\n",
       "<tr>\n",
       "  <td>Max. group size:</td>     <td>2</td>        <td>Converged:</td>                    <td>Yes</td>             \n",
       "</tr>\n",
       "<tr>\n",
       "  <td>Mean group size:</td>    <td>2.0</td>            <td></td>                          <td></td>               \n",
       "</tr>\n",
       "</table>\n",
       "<table class=\"simpletable\">\n",
       "<tr>\n",
       "                  <td></td>                  <th>Coef.</th> <th>Std.Err.</th>    <th>z</th>   <th>P>|z|</th> <th>[0.025</th> <th>0.975]</th>\n",
       "</tr>\n",
       "<tr>\n",
       "  <th>Intercept</th>                        <td>16.820</td>   <td>0.611</td>  <td>27.536</td> <td>0.000</td> <td>15.623</td> <td>18.017</td>\n",
       "</tr>\n",
       "<tr>\n",
       "  <th>Dispersion: Low (vs. Medium)</th>     <td>-1.549</td>   <td>0.873</td>  <td>-1.775</td> <td>0.076</td> <td>-3.260</td>  <td>0.162</td>\n",
       "</tr>\n",
       "<tr>\n",
       "  <th>Dispersion: High (vs. Medium)</th>     <td>2.691</td>   <td>0.878</td>   <td>3.066</td> <td>0.002</td>  <td>0.971</td>  <td>4.411</td>\n",
       "</tr>\n",
       "<tr>\n",
       "  <th>Target: Manipulated (vs. Common)</th>  <td>0.460</td>   <td>0.662</td>   <td>0.695</td> <td>0.487</td> <td>-0.837</td>  <td>1.757</td>\n",
       "</tr>\n",
       "<tr>\n",
       "  <th>Dispersion: Low * Target</th>         <td>-5.523</td>   <td>0.946</td>  <td>-5.839</td> <td>0.000</td> <td>-7.376</td> <td>-3.669</td>\n",
       "</tr>\n",
       "<tr>\n",
       "  <th>Dispersion: High * Target</th>         <td>2.285</td>   <td>0.951</td>   <td>2.403</td> <td>0.016</td>  <td>0.421</td>  <td>4.148</td>\n",
       "</tr>\n",
       "<tr>\n",
       "  <th>Participants Random Effects</th>      <td>15.406</td>   <td>0.665</td>     <td></td>      <td></td>       <td></td>       <td></td>   \n",
       "</tr>\n",
       "</table>"
      ],
      "text/plain": [
       "<class 'statsmodels.iolib.summary2.Summary'>\n",
       "\"\"\"\n",
       "                   Mixed Linear Model Regression Results\n",
       "============================================================================\n",
       "Model:            MixedLM Dependent Variable: Range of Reported Distribution\n",
       "No. Observations: 580     Method:             REML                          \n",
       "No. Groups:       290     Scale:              21.9060                       \n",
       "Min. group size:  2       Log-Likelihood:     -1840.1068                    \n",
       "Max. group size:  2       Converged:          Yes                           \n",
       "Mean group size:  2.0                                                       \n",
       "----------------------------------------------------------------------------\n",
       "                                  Coef.  Std.Err.   z    P>|z| [0.025 0.975]\n",
       "----------------------------------------------------------------------------\n",
       "Intercept                         16.820    0.611 27.536 0.000 15.623 18.017\n",
       "Dispersion: Low (vs. Medium)      -1.549    0.873 -1.775 0.076 -3.260  0.162\n",
       "Dispersion: High (vs. Medium)      2.691    0.878  3.066 0.002  0.971  4.411\n",
       "Target: Manipulated (vs. Common)   0.460    0.662  0.695 0.487 -0.837  1.757\n",
       "Dispersion: Low * Target          -5.523    0.946 -5.839 0.000 -7.376 -3.669\n",
       "Dispersion: High * Target          2.285    0.951  2.403 0.016  0.421  4.148\n",
       "Participants Random Effects       15.406    0.665                           \n",
       "============================================================================\n",
       "\n",
       "\"\"\""
      ]
     },
     "execution_count": 10,
     "metadata": {},
     "output_type": "execute_result"
    }
   ],
   "source": [
    "model = smf.mixedlm(\n",
    "    \"value_range ~ C(sd_manipulated, levels=['Med', 'Low', 'High'])\\\n",
    "*C(is_manipulated, Treatment(0))\",\n",
    "    data=df,\n",
    "    groups=df.turkid,\n",
    ").fit()\n",
    "model.summary(\n",
    "    yname=\"Range of Reported Distribution\",\n",
    "    xname_fe=[\n",
    "        \"Intercept\",\n",
    "        \"Dispersion: Low (vs. Medium)\",\n",
    "        \"Dispersion: High (vs. Medium)\",\n",
    "        \"Target: Manipulated (vs. Common)\",\n",
    "        \"Dispersion: Low * Target\",\n",
    "        \"Dispersion: High * Target\",\n",
    "    ],\n",
    "    xname_re=[\"Participants Random Effects\"],\n",
    ")"
   ]
  },
  {
   "cell_type": "markdown",
   "metadata": {},
   "source": [
    "Standardized betas:"
   ]
  },
  {
   "cell_type": "code",
   "execution_count": 11,
   "metadata": {},
   "outputs": [
    {
     "data": {
      "text/html": [
       "<style  type=\"text/css\" >\n",
       "</style><table id=\"T_58cb4dca_8ecd_11ea_b41e_448a5b2f88e1\" ><thead>    <tr>        <th class=\"blank level0\" ></th>        <th class=\"col_heading level0 col0\" >Standardized Betas</th>    </tr></thead><tbody>\n",
       "                <tr>\n",
       "                        <th id=\"T_58cb4dca_8ecd_11ea_b41e_448a5b2f88e1level0_row0\" class=\"row_heading level0 row0\" >Intercept</th>\n",
       "                        <td id=\"T_58cb4dca_8ecd_11ea_b41e_448a5b2f88e1row0_col0\" class=\"data row0 col0\" >2.36</td>\n",
       "            </tr>\n",
       "            <tr>\n",
       "                        <th id=\"T_58cb4dca_8ecd_11ea_b41e_448a5b2f88e1level0_row1\" class=\"row_heading level0 row1\" >Dispersion: Low (vs. Medium)</th>\n",
       "                        <td id=\"T_58cb4dca_8ecd_11ea_b41e_448a5b2f88e1row1_col0\" class=\"data row1 col0\" >-0.22</td>\n",
       "            </tr>\n",
       "            <tr>\n",
       "                        <th id=\"T_58cb4dca_8ecd_11ea_b41e_448a5b2f88e1level0_row2\" class=\"row_heading level0 row2\" >Dispersion: High (vs. Medium)</th>\n",
       "                        <td id=\"T_58cb4dca_8ecd_11ea_b41e_448a5b2f88e1row2_col0\" class=\"data row2 col0\" >0.38</td>\n",
       "            </tr>\n",
       "            <tr>\n",
       "                        <th id=\"T_58cb4dca_8ecd_11ea_b41e_448a5b2f88e1level0_row3\" class=\"row_heading level0 row3\" >Target: Manipulated (vs. Common)</th>\n",
       "                        <td id=\"T_58cb4dca_8ecd_11ea_b41e_448a5b2f88e1row3_col0\" class=\"data row3 col0\" >0.06</td>\n",
       "            </tr>\n",
       "            <tr>\n",
       "                        <th id=\"T_58cb4dca_8ecd_11ea_b41e_448a5b2f88e1level0_row4\" class=\"row_heading level0 row4\" >Dispersion: Low * Target</th>\n",
       "                        <td id=\"T_58cb4dca_8ecd_11ea_b41e_448a5b2f88e1row4_col0\" class=\"data row4 col0\" >-0.78</td>\n",
       "            </tr>\n",
       "            <tr>\n",
       "                        <th id=\"T_58cb4dca_8ecd_11ea_b41e_448a5b2f88e1level0_row5\" class=\"row_heading level0 row5\" >Dispersion: High * Target</th>\n",
       "                        <td id=\"T_58cb4dca_8ecd_11ea_b41e_448a5b2f88e1row5_col0\" class=\"data row5 col0\" >0.32</td>\n",
       "            </tr>\n",
       "            <tr>\n",
       "                        <th id=\"T_58cb4dca_8ecd_11ea_b41e_448a5b2f88e1level0_row6\" class=\"row_heading level0 row6\" >Participants Random Effects</th>\n",
       "                        <td id=\"T_58cb4dca_8ecd_11ea_b41e_448a5b2f88e1row6_col0\" class=\"data row6 col0\" >0.10</td>\n",
       "            </tr>\n",
       "    </tbody></table>"
      ],
      "text/plain": [
       "<pandas.io.formats.style.Styler at 0x1889296be80>"
      ]
     },
     "execution_count": 11,
     "metadata": {},
     "output_type": "execute_result"
    }
   ],
   "source": [
    "stdbetas = model.params / df.value_range.std(ddof=1)\n",
    "stdbetas.index = [\n",
    "    \"Intercept\",\n",
    "    \"Dispersion: Low (vs. Medium)\",\n",
    "    \"Dispersion: High (vs. Medium)\",\n",
    "    \"Target: Manipulated (vs. Common)\",\n",
    "    \"Dispersion: Low * Target\",\n",
    "    \"Dispersion: High * Target\",\n",
    "    \"Participants Random Effects\",\n",
    "]\n",
    "table = pd.DataFrame(stdbetas, columns=[\"Standardized Betas\"])\n",
    "table.style.format(\"{:.2f}\")"
   ]
  },
  {
   "cell_type": "markdown",
   "metadata": {
    "toc-hr-collapsed": false
   },
   "source": [
    "# Robustness Checks"
   ]
  },
  {
   "cell_type": "markdown",
   "metadata": {},
   "source": [
    "## Counterbalancing Order - SD"
   ]
  },
  {
   "cell_type": "code",
   "execution_count": 12,
   "metadata": {},
   "outputs": [
    {
     "data": {
      "text/html": [
       "<table class=\"simpletable\">\n",
       "<tr>\n",
       "       <td>Model:</td>       <td>MixedLM</td> <td>Dependent Variable:</td> <td>SD of Reported Distribution</td>\n",
       "</tr>\n",
       "<tr>\n",
       "  <td>No. Observations:</td>   <td>580</td>         <td>Method:</td>                  <td>REML</td>            \n",
       "</tr>\n",
       "<tr>\n",
       "     <td>No. Groups:</td>      <td>290</td>         <td>Scale:</td>                  <td>2.0289</td>           \n",
       "</tr>\n",
       "<tr>\n",
       "  <td>Min. group size:</td>     <td>2</td>      <td>Log-Likelihood:</td>           <td>-1162.2711</td>         \n",
       "</tr>\n",
       "<tr>\n",
       "  <td>Max. group size:</td>     <td>2</td>        <td>Converged:</td>                  <td>Yes</td>            \n",
       "</tr>\n",
       "<tr>\n",
       "  <td>Mean group size:</td>    <td>2.0</td>            <td></td>                        <td></td>              \n",
       "</tr>\n",
       "</table>\n",
       "<table class=\"simpletable\">\n",
       "<tr>\n",
       "                  <td></td>                   <th>Coef.</th> <th>Std.Err.</th>    <th>z</th>   <th>P>|z|</th> <th>[0.025</th> <th>0.975]</th>\n",
       "</tr>\n",
       "<tr>\n",
       "  <th>Intercept</th>                          <td>5.093</td>   <td>0.276</td>  <td>18.436</td> <td>0.000</td>  <td>4.552</td>  <td>5.634</td>\n",
       "</tr>\n",
       "<tr>\n",
       "  <th>Dispersion: Low (vs. Medium)</th>      <td>-0.607</td>   <td>0.387</td>  <td>-1.569</td> <td>0.117</td> <td>-1.365</td>  <td>0.151</td>\n",
       "</tr>\n",
       "<tr>\n",
       "  <th>Dispersion: High (vs. Medium)</th>      <td>0.990</td>   <td>0.387</td>   <td>2.560</td> <td>0.010</td>  <td>0.232</td>  <td>1.748</td>\n",
       "</tr>\n",
       "<tr>\n",
       "  <th>Target: Manipulated (vs. Common)</th>  <td>-0.277</td>   <td>0.379</td>  <td>-0.730</td> <td>0.466</td> <td>-1.021</td>  <td>0.467</td>\n",
       "</tr>\n",
       "<tr>\n",
       "  <th>Counterbalancing Factor (Order)</th>   <td>-0.277</td>   <td>0.379</td>  <td>-0.730</td> <td>0.465</td> <td>-1.021</td>  <td>0.467</td>\n",
       "</tr>\n",
       "<tr>\n",
       "  <th>Dispersion: Low * Target</th>          <td>-1.156</td>   <td>0.542</td>  <td>-2.133</td> <td>0.033</td> <td>-2.217</td> <td>-0.094</td>\n",
       "</tr>\n",
       "<tr>\n",
       "  <th>Dispersion: High * Target</th>          <td>0.887</td>   <td>0.545</td>   <td>1.628</td> <td>0.104</td> <td>-0.181</td>  <td>1.955</td>\n",
       "</tr>\n",
       "<tr>\n",
       "  <th>Dispersion: Low * Order</th>           <td>-0.005</td>   <td>0.542</td>  <td>-0.010</td> <td>0.992</td> <td>-1.067</td>  <td>1.056</td>\n",
       "</tr>\n",
       "<tr>\n",
       "  <th>Dispersion: High * Order</th>          <td>-0.500</td>   <td>0.545</td>  <td>-0.917</td> <td>0.359</td> <td>-1.568</td>  <td>0.568</td>\n",
       "</tr>\n",
       "<tr>\n",
       "  <th>Target * Order</th>                     <td>0.741</td>   <td>0.643</td>   <td>1.153</td> <td>0.249</td> <td>-0.518</td>  <td>2.001</td>\n",
       "</tr>\n",
       "<tr>\n",
       "  <th>Dispersion: Low * Target * Order</th>  <td>-0.529</td>   <td>0.918</td>  <td>-0.577</td> <td>0.564</td> <td>-2.328</td>  <td>1.269</td>\n",
       "</tr>\n",
       "<tr>\n",
       "  <th>Dispersion: High * Target * Order</th> <td>-0.222</td>   <td>0.923</td>  <td>-0.240</td> <td>0.810</td> <td>-2.030</td>  <td>1.587</td>\n",
       "</tr>\n",
       "<tr>\n",
       "  <th>Group Var</th>                          <td>1.558</td>   <td>0.214</td>     <td></td>      <td></td>       <td></td>       <td></td>   \n",
       "</tr>\n",
       "</table>"
      ],
      "text/plain": [
       "<class 'statsmodels.iolib.summary2.Summary'>\n",
       "\"\"\"\n",
       "                   Mixed Linear Model Regression Results\n",
       "============================================================================\n",
       "Model:             MixedLM  Dependent Variable:  SD of Reported Distribution\n",
       "No. Observations:  580      Method:              REML                       \n",
       "No. Groups:        290      Scale:               2.0289                     \n",
       "Min. group size:   2        Log-Likelihood:      -1162.2711                 \n",
       "Max. group size:   2        Converged:           Yes                        \n",
       "Mean group size:   2.0                                                      \n",
       "----------------------------------------------------------------------------\n",
       "                                  Coef.  Std.Err.   z    P>|z| [0.025 0.975]\n",
       "----------------------------------------------------------------------------\n",
       "Intercept                          5.093    0.276 18.436 0.000  4.552  5.634\n",
       "Dispersion: Low (vs. Medium)      -0.607    0.387 -1.569 0.117 -1.365  0.151\n",
       "Dispersion: High (vs. Medium)      0.990    0.387  2.560 0.010  0.232  1.748\n",
       "Target: Manipulated (vs. Common)  -0.277    0.379 -0.730 0.466 -1.021  0.467\n",
       "Counterbalancing Factor (Order)   -0.277    0.379 -0.730 0.465 -1.021  0.467\n",
       "Dispersion: Low * Target          -1.156    0.542 -2.133 0.033 -2.217 -0.094\n",
       "Dispersion: High * Target          0.887    0.545  1.628 0.104 -0.181  1.955\n",
       "Dispersion: Low * Order           -0.005    0.542 -0.010 0.992 -1.067  1.056\n",
       "Dispersion: High * Order          -0.500    0.545 -0.917 0.359 -1.568  0.568\n",
       "Target * Order                     0.741    0.643  1.153 0.249 -0.518  2.001\n",
       "Dispersion: Low * Target * Order  -0.529    0.918 -0.577 0.564 -2.328  1.269\n",
       "Dispersion: High * Target * Order -0.222    0.923 -0.240 0.810 -2.030  1.587\n",
       "Group Var                          1.558    0.214                           \n",
       "============================================================================\n",
       "\n",
       "\"\"\""
      ]
     },
     "execution_count": 12,
     "metadata": {},
     "output_type": "execute_result"
    }
   ],
   "source": [
    "model = smf.mixedlm(\n",
    "    \"value_sd ~ C(sd_manipulated, levels=['Med', 'Low', 'High'])\\\n",
    "*C(is_manipulated)*C(is_first, Treatment(1))\",\n",
    "    data=df,\n",
    "    groups=df.turkid,\n",
    ").fit()\n",
    "model.summary(\n",
    "    yname=\"SD of Reported Distribution\",\n",
    "    xname_fe=[\n",
    "        \"Intercept\",\n",
    "        \"Dispersion: Low (vs. Medium)\",\n",
    "        \"Dispersion: High (vs. Medium)\",\n",
    "        \"Target: Manipulated (vs. Common)\",\n",
    "        \"Counterbalancing Factor (Order)\",\n",
    "        \"Dispersion: Low * Target\",\n",
    "        \"Dispersion: High * Target\",\n",
    "        \"Dispersion: Low * Order\",\n",
    "        \"Dispersion: High * Order\",\n",
    "        \"Target * Order\",\n",
    "        \"Dispersion: Low * Target * Order\",\n",
    "        \"Dispersion: High * Target * Order\",\n",
    "    ],\n",
    ")"
   ]
  },
  {
   "cell_type": "markdown",
   "metadata": {},
   "source": [
    "No significant impact."
   ]
  }
 ],
 "metadata": {
  "kernelspec": {
   "display_name": "Python 3",
   "language": "python",
   "name": "python3"
  },
  "language_info": {
   "codemirror_mode": {
    "name": "ipython",
    "version": 3
   },
   "file_extension": ".py",
   "mimetype": "text/x-python",
   "name": "python",
   "nbconvert_exporter": "python",
   "pygments_lexer": "ipython3",
   "version": "3.6.10"
  },
  "pycharm": {
   "stem_cell": {
    "cell_type": "raw",
    "metadata": {
     "collapsed": false
    },
    "source": []
   }
  }
 },
 "nbformat": 4,
 "nbformat_minor": 4
}
